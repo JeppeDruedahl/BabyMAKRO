{
 "cells": [
  {
   "cell_type": "code",
   "execution_count": null,
   "id": "4b9ffaa1-2f71-40c9-9ec0-2b1a66545d46",
   "metadata": {},
   "outputs": [],
   "source": [
    "%load_ext autoreload\n",
    "%autoreload 2\n",
    "\n",
    "import time\n",
    "import pickle\n",
    "import numpy as np\n",
    "from scipy import optimize\n",
    "\n",
    "import matplotlib.pyplot as plt   \n",
    "plt.style.use('seaborn-whitegrid')\n",
    "prop_cycle = plt.rcParams['axes.prop_cycle']\n",
    "colors = prop_cycle.by_key()['color']\n",
    "\n",
    "from BabyMAKROModel import BabyMAKROModelClass"
   ]
  },
  {
   "cell_type": "markdown",
   "id": "263e2c2f-b5b3-45a5-9f2d-e04f335c0900",
   "metadata": {
    "tags": []
   },
   "source": [
    "# Setup"
   ]
  },
  {
   "cell_type": "code",
   "execution_count": null,
   "id": "69981f4f-beca-4e00-8373-d7392662625b",
   "metadata": {},
   "outputs": [],
   "source": [
    "model = BabyMAKROModelClass(name='baseline') # create an instance of the model"
   ]
  },
  {
   "cell_type": "code",
   "execution_count": null,
   "id": "b6a42e14-a303-4d94-9afa-b5a6e9d98a48",
   "metadata": {},
   "outputs": [],
   "source": [
    "par = model.par\n",
    "ss = model.ss\n",
    "sol = model.sol"
   ]
  },
  {
   "cell_type": "markdown",
   "id": "ecfdc724-acd2-4d62-856a-af3e4fbc64e0",
   "metadata": {},
   "source": [
    "# Find steady state"
   ]
  },
  {
   "cell_type": "code",
   "execution_count": null,
   "id": "3c6630c8-ca58-4e1b-8dc2-d8816431d506",
   "metadata": {},
   "outputs": [],
   "source": [
    "model.find_ss(0.50,do_print=True)"
   ]
  },
  {
   "cell_type": "markdown",
   "id": "6e26879e-c520-4946-8b75-7717d7af8cfe",
   "metadata": {},
   "source": [
    "**Household behavior:**"
   ]
  },
  {
   "cell_type": "code",
   "execution_count": null,
   "id": "4ca59a53-77d1-4641-b887-6f7aadc8afac",
   "metadata": {},
   "outputs": [],
   "source": [
    "fig = plt.figure(figsize=(3*6,3*6/2.5))\n",
    "\n",
    "ax = fig.add_subplot(2,4,1)\n",
    "ax.plot(model.par.delta_L_a*100)\n",
    "ax.set_ylabel('%')\n",
    "ax.set_title('$\\delta^L_a$')\n",
    "\n",
    "ax = fig.add_subplot(2,4,2)\n",
    "ax.plot(model.ss.S_a)\n",
    "ax.set_title('$S_a$')\n",
    "\n",
    "ax = fig.add_subplot(2,4,3)\n",
    "ax.plot(model.ss.L_a)\n",
    "ax.set_title('$L_a$')\n",
    "\n",
    "ax = fig.add_subplot(2,4,4)\n",
    "ax.plot(model.ss.L_ubar_a)\n",
    "ax.set_title(r'$L\\underbar_a$')\n",
    "\n",
    "ax = fig.add_subplot(2,4,5)\n",
    "ax.plot(model.ss.B_a)\n",
    "ax.set_ylabel('')\n",
    "ax.set_title('$B_a$')\n",
    "\n",
    "ax = fig.add_subplot(2,4,6)\n",
    "ax.plot(model.ss.C_a)\n",
    "ax.set_ylabel('')\n",
    "ax.set_title('$C_a$')\n",
    "\n",
    "ax = fig.add_subplot(2,4,7)\n",
    "ax.plot(model.ss.C_R)\n",
    "ax.set_ylabel('')\n",
    "ax.set_title('$C^R_a$')\n",
    "\n",
    "ax = fig.add_subplot(2,4,8)\n",
    "ax.plot(model.ss.C_HTM)\n",
    "ax.set_ylabel('')\n",
    "ax.set_title('$C^{HTM}_a$');"
   ]
  },
  {
   "cell_type": "markdown",
   "id": "b51efb28-dfa3-4e1d-89cc-7fffaa4a53cd",
   "metadata": {},
   "source": [
    "# Speed and error tests"
   ]
  },
  {
   "cell_type": "code",
   "execution_count": null,
   "id": "cf9f7d25-b165-47da-9019-db87b56eeb18",
   "metadata": {},
   "outputs": [],
   "source": [
    "model.set_exo_ss()\n",
    "model.set_unknowns_ss()"
   ]
  },
  {
   "cell_type": "markdown",
   "id": "b57d0b23-f96b-41bc-96be-22871ee741db",
   "metadata": {},
   "source": [
    "**Python evaluation:**"
   ]
  },
  {
   "cell_type": "code",
   "execution_count": null,
   "id": "00944cf1-30aa-49bd-a5de-30d0bf40bc9d",
   "metadata": {},
   "outputs": [],
   "source": [
    "%time model.evaluate_blocks(py=True)"
   ]
  },
  {
   "cell_type": "markdown",
   "id": "a4a03dad-8ff7-433b-a102-d056347960be",
   "metadata": {},
   "source": [
    "**Check errors:**"
   ]
  },
  {
   "cell_type": "code",
   "execution_count": null,
   "id": "00c35c58-9a95-4e47-bb81-5bdccef9c2f6",
   "metadata": {},
   "outputs": [],
   "source": [
    "errors = model.get_errors(do_print=True)"
   ]
  },
  {
   "cell_type": "markdown",
   "id": "2388d71e-8088-4722-97cc-cf6276051313",
   "metadata": {},
   "source": [
    "**First numba evaluation:**"
   ]
  },
  {
   "cell_type": "code",
   "execution_count": null,
   "id": "cd1c0060-534a-4329-9d7f-4336d746e699",
   "metadata": {},
   "outputs": [],
   "source": [
    "%time model.evaluate_blocks()"
   ]
  },
  {
   "cell_type": "markdown",
   "id": "7d76c91e-051f-4a54-b143-5758dd7a3eaa",
   "metadata": {},
   "source": [
    "**Time:**"
   ]
  },
  {
   "cell_type": "code",
   "execution_count": null,
   "id": "876cc0fb-5f7b-413a-8cf8-e085d9256d3b",
   "metadata": {},
   "outputs": [],
   "source": [
    "%timeit model.evaluate_blocks()\n",
    "%timeit model.get_errors()"
   ]
  },
  {
   "cell_type": "code",
   "execution_count": null,
   "id": "65b6c0ac-41de-4c7d-9f71-f8222b933e88",
   "metadata": {},
   "outputs": [],
   "source": [
    "%timeit model.evaluate_blocks(py=True)"
   ]
  },
  {
   "cell_type": "markdown",
   "id": "6e6156fc-2c0b-462d-98c6-34bd5168197e",
   "metadata": {},
   "source": [
    "# Find an impulse-response"
   ]
  },
  {
   "cell_type": "markdown",
   "id": "5ab84de3-0ef6-493b-9a33-9f7a1b36adca",
   "metadata": {},
   "source": [
    "**Calculate Jacobian:**"
   ]
  },
  {
   "cell_type": "code",
   "execution_count": null,
   "id": "ec999c19-feb4-40a4-a233-8e4602274660",
   "metadata": {},
   "outputs": [],
   "source": [
    "model.calc_jac(do_print=True)"
   ]
  },
  {
   "cell_type": "markdown",
   "id": "7d69f200-af1e-4cbd-8da4-82ff424aba2f",
   "metadata": {},
   "source": [
    "Only needs to be calculated once."
   ]
  },
  {
   "cell_type": "markdown",
   "id": "ee4b60c5-97b9-4e39-8cbf-e0e2dd695f5d",
   "metadata": {},
   "source": [
    "**Set exogenous variables:**"
   ]
  },
  {
   "cell_type": "code",
   "execution_count": null,
   "id": "c8384bfc-725e-4c67-9bc2-3012b2230c12",
   "metadata": {},
   "outputs": [],
   "source": [
    "model.set_exo_ss()"
   ]
  },
  {
   "cell_type": "markdown",
   "id": "e19ed53a-1b00-410e-a483-c57ae8c50711",
   "metadata": {},
   "source": [
    "Here we shock export demand:"
   ]
  },
  {
   "cell_type": "code",
   "execution_count": null,
   "id": "6b757ecc-6b62-4e94-bab1-3d1cf48fc2e9",
   "metadata": {},
   "outputs": [],
   "source": [
    "Tshock = 50\n",
    "shock = 0.01*ss.chi\n",
    "persistence = 0.8**np.arange(Tshock)\n",
    "sol.chi[:Tshock] = ss.chi + shock*persistence"
   ]
  },
  {
   "cell_type": "markdown",
   "id": "9287183b-809e-414b-9a6e-efa1870555fd",
   "metadata": {},
   "source": [
    "Check errors when guessing at steady state -> excess demand"
   ]
  },
  {
   "cell_type": "code",
   "execution_count": null,
   "id": "a346b00c-1506-4fa6-acba-bcaadfd5f5a4",
   "metadata": {},
   "outputs": [],
   "source": [
    "model.set_unknowns_ss()\n",
    "model.evaluate_blocks()\n",
    "errors = model.get_errors(do_print=True)"
   ]
  },
  {
   "cell_type": "markdown",
   "id": "58f466f4-45e5-4e2c-838f-7bdd44042fb8",
   "metadata": {},
   "source": [
    "**Find IRF:**"
   ]
  },
  {
   "cell_type": "code",
   "execution_count": null,
   "id": "7fca48fb-f09c-4672-a410-980b798fa40c",
   "metadata": {},
   "outputs": [],
   "source": [
    "model.find_IRF()"
   ]
  },
  {
   "cell_type": "markdown",
   "id": "0d7d1aa3-1fee-4e41-8fb4-c2cf35acea88",
   "metadata": {},
   "source": [
    "**Plot:**"
   ]
  },
  {
   "cell_type": "code",
   "execution_count": null,
   "id": "072ac5f5-5548-48a0-9c52-bf795aaedd56",
   "metadata": {},
   "outputs": [],
   "source": [
    "T_IRF = 500\n",
    "\n",
    "fig = plt.figure(figsize=(3*6,3*6/1.5))\n",
    "\n",
    "ax = fig.add_subplot(4,4,1)\n",
    "ax.plot((sol.chi[:T_IRF]/ss.chi-1)*100)\n",
    "ax.set_ylabel('% of s.s.')\n",
    "ax.set_title('Export demand, $\\chi_t$')\n",
    "\n",
    "ax = fig.add_subplot(4,4,2)\n",
    "ax.plot((sol.Y[:T_IRF]/ss.Y-1)*100)\n",
    "ax.set_ylabel('% of s.s.')\n",
    "ax.set_title('Production, $Y_t$')\n",
    "\n",
    "ax = fig.add_subplot(4,4,3)\n",
    "ax.plot((sol.X[:T_IRF]/(ss.X)-1)*100)\n",
    "ax.set_ylabel('% of s.s.')\n",
    "ax.set_title('Export, $X_t$')\n",
    "\n",
    "ax = fig.add_subplot(4,4,4)\n",
    "ax.plot((sol.M[:T_IRF]/(ss.M)-1)*100)\n",
    "ax.set_ylabel('% of s.s.')\n",
    "ax.set_title('Import, $M_t$')\n",
    "\n",
    "ax = fig.add_subplot(4,4,5)\n",
    "ax.plot((sol.L[:T_IRF]/ss.L-1)*100)\n",
    "ax.set_ylabel('% of s.s.')\n",
    "ax.set_title('Employment, $L_t$')\n",
    "\n",
    "ax = fig.add_subplot(4,4,6)\n",
    "ax.plot((sol.ell[:T_IRF]/(ss.ell)-1)*100)\n",
    "ax.set_ylabel('% of s.s.')\n",
    "ax.set_title('$\\ell_t$')\n",
    "\n",
    "ax = fig.add_subplot(4,4,7)\n",
    "ax.plot((sol.w[:T_IRF]/(ss.w)-1)*100)\n",
    "ax.set_ylabel('% of s.s.')\n",
    "ax.set_title('$w_t$')\n",
    "\n",
    "ax = fig.add_subplot(4,4,8)\n",
    "ax.plot((sol.r_ell[:T_IRF]/(ss.r_ell)-1)*100)\n",
    "ax.set_ylabel('% of s.s.')\n",
    "ax.set_title('$r^{\\ell}_t$')\n",
    "\n",
    "ax = fig.add_subplot(4,4,9)\n",
    "ax.plot((sol.m_s[:T_IRF]/(ss.m_s)-1)*100)\n",
    "ax.set_ylabel('% of s.s.')\n",
    "ax.set_title('$m_s$')\n",
    "\n",
    "ax = fig.add_subplot(4,4,10)\n",
    "ax.plot((sol.S[:T_IRF]/(ss.S)-1)*100)\n",
    "ax.set_ylabel('% of s.s.')\n",
    "ax.set_title('$S_t$')\n",
    "\n",
    "ax = fig.add_subplot(4,4,11)\n",
    "ax.plot((sol.v[:T_IRF]/(ss.v)-1)*100)\n",
    "ax.set_ylabel('% of s.s.')\n",
    "ax.set_title('$v_t$')\n",
    "\n",
    "ax = fig.add_subplot(4,4,12)\n",
    "ax.plot((sol.K[:T_IRF]/ss.K-1)*100)\n",
    "ax.set_ylabel('% of s.s.')\n",
    "ax.set_title('Capital, $K_t$')\n",
    "\n",
    "ax = fig.add_subplot(4,4,13)\n",
    "ax.plot((sol.I[:T_IRF]/(ss.I)-1)*100)\n",
    "ax.set_ylabel('% of s.s.')\n",
    "ax.set_title('Investments, $I^R_t$')\n",
    "\n",
    "ax = fig.add_subplot(4,4,14)\n",
    "ax.plot((sol.C[:T_IRF]/ss.C-1)*100)\n",
    "ax.set_ylabel('% of s.s.')\n",
    "ax.set_title('Consumption, $C_t$')\n",
    "\n",
    "ax = fig.add_subplot(4,4,15)\n",
    "ax.plot((sol.Bq[:T_IRF]/(ss.Bq)-1)*100)\n",
    "ax.set_ylabel('% of s.s.')\n",
    "ax.set_title('Inheritance, $B^q_t$')\n",
    "\n",
    "ax = fig.add_subplot(4,4,16)\n",
    "ax.plot((sol.B[:T_IRF]/(ss.B)-1)*100)\n",
    "ax.set_ylabel('% of s.s.')\n",
    "ax.set_title('End-of-period savings, $B^R_t$');\n",
    "\n",
    "print('Note: resultater')"
   ]
  },
  {
   "cell_type": "code",
   "execution_count": null,
   "id": "de3ae96d-57f7-4d63-9f0a-8b168e36f734",
   "metadata": {},
   "outputs": [],
   "source": [
    "Periods = [0,1,20,40,80,100]\n",
    "\n",
    "fig = plt.figure(figsize=(12,8))\n",
    "ax = fig.add_subplot(2,2,1)\n",
    "for t in Periods:\n",
    "    L_a = np.zeros(par.A)\n",
    "    for a in range(par.A):\n",
    "        L_a[a] = sol.L_a[a,t+a]\n",
    "    ax.plot(L_a-ss.L_a,label=f'{t = }')\n",
    "ax.set_ylabel('% of s.s.')\n",
    "ax.set_title('$L_{a,t}$')\n",
    "\n",
    "ax = fig.add_subplot(2,2,2)\n",
    "for t in Periods:\n",
    "    S_a = np.zeros(par.A)\n",
    "    for a in range(par.A):\n",
    "        S_a[a] = sol.S_a[a,t+a]\n",
    "    ax.plot(S_a-ss.S_a,label=f'{t = }')\n",
    "ax.set_ylabel('% of s.s.')\n",
    "ax.set_title('$S_{a,t}$')\n",
    "\n",
    "ax = fig.add_subplot(2,2,3)\n",
    "for t in Periods:\n",
    "    C_a = np.zeros(par.A)\n",
    "    for a in range(par.A):\n",
    "        C_a[a] = sol.C_a[a,t+a]\n",
    "    ax.plot(C_a-ss.C_a,label=f'{t = }')\n",
    "ax.set_ylabel('% of s.s.')\n",
    "ax.set_title('$C_{a,t}$')\n",
    "\n",
    "ax = fig.add_subplot(2,2,4)\n",
    "for t in Periods:\n",
    "    B_a = np.zeros(par.A)\n",
    "    for a in range(par.A):\n",
    "        B_a[a] = sol.B_a[a,t+a]\n",
    "    ax.plot(B_a-ss.B_a,label=f'{t = }')\n",
    "ax.legend(frameon=True)\n",
    "ax.set_ylabel('% of s.s.')\n",
    "ax.set_title('$B_{a,t}$');\n",
    "\n"
   ]
  },
  {
   "cell_type": "code",
   "execution_count": null,
   "id": "6ca77863",
   "metadata": {},
   "outputs": [],
   "source": [
    "fig = plt.figure(figsize=(12,8))\n",
    "\n",
    "ax = fig.add_subplot(2,2,1)\n",
    "ax.plot((sol.P_Y[:T_IRF]/ss.P_Y-1)*100)\n",
    "ax.set_ylabel('% of s.s.')\n",
    "ax.set_title('$P^Y_t$')\n",
    "\n",
    "ax = fig.add_subplot(2,2,2)\n",
    "ax.plot((sol.P_C[:T_IRF]/ss.P_C-1)*100)\n",
    "ax.set_ylabel('% of s.s.')\n",
    "ax.set_title('$P^C_t$')\n",
    "\n",
    "ax = fig.add_subplot(2,2,3)\n",
    "ax.plot((sol.P_I[:T_IRF]/(ss.P_I)-1)*100)\n",
    "ax.set_ylabel('% of s.s.')\n",
    "ax.set_title('$P^I_t$')\n",
    "\n",
    "ax = fig.add_subplot(2,2,4)\n",
    "ax.plot((sol.P_X[:T_IRF]/(ss.P_X)-1)*100)\n",
    "ax.set_ylabel('% of s.s.')\n",
    "ax.set_title('$P^X_t$');"
   ]
  },
  {
   "cell_type": "markdown",
   "id": "480458a9-d00f-4365-846a-a448c6e5d282",
   "metadata": {},
   "source": [
    "# Comparison"
   ]
  },
  {
   "cell_type": "code",
   "execution_count": null,
   "id": "25af78d5-2efd-487b-bc3b-70a4eae09a68",
   "metadata": {},
   "outputs": [],
   "source": [
    "model_copy = model.copy()\n",
    "model_copy.par.Lambda = 0.01\n",
    "model_copy.find_ss(0.50)\n",
    "model_copy.calc_jac(do_print=True)"
   ]
  },
  {
   "cell_type": "code",
   "execution_count": null,
   "id": "acae569c-8b8d-4a07-ab42-73ac668a130d",
   "metadata": {},
   "outputs": [],
   "source": [
    "Tshock = 50\n",
    "shock = 0.01*ss.chi\n",
    "persistence = 0.8**np.arange(Tshock)\n",
    "model_copy.sol.chi[:Tshock] = model_copy.ss.chi + shock*persistence"
   ]
  },
  {
   "cell_type": "code",
   "execution_count": null,
   "id": "aa5ecaa9-1685-46cc-8a3b-ba6ff1672a4c",
   "metadata": {},
   "outputs": [],
   "source": [
    "model_copy.find_IRF()"
   ]
  },
  {
   "cell_type": "code",
   "execution_count": null,
   "id": "59a4534f-dfae-4406-83d2-2b80f898bfa3",
   "metadata": {},
   "outputs": [],
   "source": [
    "T_IRF = 500\n",
    "\n",
    "fig = plt.figure(figsize=(3*6,3*6/1.5))\n",
    "\n",
    "ax = fig.add_subplot(3,4,1)\n",
    "ax.plot((sol.chi[:T_IRF]/ss.chi-1)*100)\n",
    "ax.plot((model_copy.sol.chi[:T_IRF]/model_copy.ss.chi-1)*100,label='alt')\n",
    "ax.set_ylabel('% of s.s.')\n",
    "ax.set_title('Export demand, $\\chi_t$')\n",
    "ax.legend(frameon=True)\n",
    "\n",
    "ax = fig.add_subplot(3,4,2)\n",
    "ax.plot((sol.Y[:T_IRF]/ss.Y-1)*100)\n",
    "ax.plot((model_copy.sol.Y[:T_IRF]/model_copy.ss.Y-1)*100,label='alt')\n",
    "ax.set_ylabel('% of s.s.')\n",
    "ax.set_title('Production, $Y_t$')"
   ]
  }
 ],
 "metadata": {
  "kernelspec": {
   "display_name": "Python 3 (ipykernel)",
   "language": "python",
   "name": "python3"
  },
  "language_info": {
   "codemirror_mode": {
    "name": "ipython",
    "version": 3
   },
   "file_extension": ".py",
   "mimetype": "text/x-python",
   "name": "python",
   "nbconvert_exporter": "python",
   "pygments_lexer": "ipython3",
   "version": "3.9.10"
  },
  "toc-autonumbering": true,
  "vscode": {
   "interpreter": {
    "hash": "8e46095560128379321b1ce69ff92c6b7a45fc7d9b830ea022fe373b05aa9725"
   }
  }
 },
 "nbformat": 4,
 "nbformat_minor": 5
}
