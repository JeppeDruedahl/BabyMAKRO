{
 "cells": [
  {
   "cell_type": "markdown",
   "id": "5e5bb6e7",
   "metadata": {},
   "source": [
    "# Export shock"
   ]
  },
  {
   "cell_type": "markdown",
   "id": "bb701823",
   "metadata": {},
   "source": [
    "**Table of contents**<a id='toc0_'></a>    \n",
    "- 1. [Setup](#toc1_)    \n",
    "- 2. [Find steady state and Jacobian](#toc2_)    \n",
    "- 3. [Find IRF](#toc3_)    \n",
    "- 4. [Figures](#toc4_)    \n",
    "  - 4.1. [Effect on Foreign Economy and Prices](#toc4_1_)    \n",
    "  - 4.2. [Effect on Production firms, Phillips-curve and Investments](#toc4_2_)    \n",
    "    - 4.2.1. [Production firms](#toc4_2_1_)    \n",
    "    - 4.2.2. [Phillips-curve](#toc4_2_2_)    \n",
    "    - 4.2.3. [Investments](#toc4_2_3_)    \n",
    "  - 4.3. [Labor market](#toc4_3_)    \n",
    "  - 4.4. [Government](#toc4_4_)    \n",
    "  - 4.5. [Effect on consumption](#toc4_5_)    \n",
    "    - 4.5.1. [Effect on bequest and savings](#toc4_5_1_)    \n",
    "  - 4.6. [Other](#toc4_6_)    \n",
    "    - 4.6.1. [Households - life-cycle](#toc4_6_1_)    \n",
    "\n",
    "<!-- vscode-jupyter-toc-config\n",
    "\tnumbering=true\n",
    "\tanchor=true\n",
    "\tflat=false\n",
    "\tminLevel=2\n",
    "\tmaxLevel=6\n",
    "\t/vscode-jupyter-toc-config -->\n",
    "<!-- THIS CELL WILL BE REPLACED ON TOC UPDATE. DO NOT WRITE YOUR TEXT IN THIS CELL -->"
   ]
  },
  {
   "cell_type": "code",
   "execution_count": 1,
   "id": "4b9ffaa1-2f71-40c9-9ec0-2b1a66545d46",
   "metadata": {
    "execution": {
     "iopub.execute_input": "2023-02-28T10:48:40.344658Z",
     "iopub.status.busy": "2023-02-28T10:48:40.344658Z",
     "iopub.status.idle": "2023-02-28T10:48:41.724453Z",
     "shell.execute_reply": "2023-02-28T10:48:41.724453Z"
    }
   },
   "outputs": [],
   "source": [
    "%load_ext autoreload\n",
    "%autoreload 2\n",
    "\n",
    "import numpy as np\n",
    "import matplotlib.pyplot as plt   \n",
    "plt.rcParams.update({\"axes.grid\":True,\"grid.color\":\"black\",\"grid.alpha\":\"0.25\",\"grid.linestyle\":\"--\"})\n",
    "prop_cycle = plt.rcParams['axes.prop_cycle']\n",
    "colors = prop_cycle.by_key()['color']\n",
    "\n",
    "from BabyMAKROModel import BabyMAKROModelClass"
   ]
  },
  {
   "cell_type": "markdown",
   "id": "f68589ca",
   "metadata": {},
   "source": [
    "## 1. <a id='toc1_'></a>[Setup](#toc0_)"
   ]
  },
  {
   "cell_type": "code",
   "execution_count": 2,
   "id": "69981f4f-beca-4e00-8373-d7392662625b",
   "metadata": {
    "execution": {
     "iopub.execute_input": "2023-02-28T10:48:41.727464Z",
     "iopub.status.busy": "2023-02-28T10:48:41.727464Z",
     "iopub.status.idle": "2023-02-28T10:48:41.856470Z",
     "shell.execute_reply": "2023-02-28T10:48:41.856470Z"
    }
   },
   "outputs": [],
   "source": [
    "model = BabyMAKROModelClass(name='baseline')            # create baseline model"
   ]
  },
  {
   "cell_type": "code",
   "execution_count": 3,
   "id": "b6a42e14-a303-4d94-9afa-b5a6e9d98a48",
   "metadata": {
    "execution": {
     "iopub.execute_input": "2023-02-28T10:48:41.860488Z",
     "iopub.status.busy": "2023-02-28T10:48:41.860488Z",
     "iopub.status.idle": "2023-02-28T10:48:41.983867Z",
     "shell.execute_reply": "2023-02-28T10:48:41.983867Z"
    }
   },
   "outputs": [],
   "source": [
    "par = model.par                 # set model parameters\n",
    "ss = model.ss                   # create namespace for steady state\n",
    "sol = model.sol                 # create namespace for solution"
   ]
  },
  {
   "cell_type": "code",
   "execution_count": 4,
   "id": "458e1251",
   "metadata": {
    "execution": {
     "iopub.execute_input": "2023-02-28T10:48:41.986869Z",
     "iopub.status.busy": "2023-02-28T10:48:41.986869Z",
     "iopub.status.idle": "2023-02-28T10:48:42.111803Z",
     "shell.execute_reply": "2023-02-28T10:48:42.110787Z"
    }
   },
   "outputs": [],
   "source": [
    "par.t_b = 0                     # flexible tax rate\n",
    "par.delta_B = 0                 # flexible tax rate"
   ]
  },
  {
   "cell_type": "markdown",
   "id": "391ceb6b",
   "metadata": {},
   "source": [
    "## 2. <a id='toc2_'></a>[Find steady state and Jacobian](#toc0_)"
   ]
  },
  {
   "cell_type": "code",
   "execution_count": 5,
   "id": "a73219e8",
   "metadata": {
    "execution": {
     "iopub.execute_input": "2023-02-28T10:48:42.114800Z",
     "iopub.status.busy": "2023-02-28T10:48:42.113801Z",
     "iopub.status.idle": "2023-02-28T10:48:42.887107Z",
     "shell.execute_reply": "2023-02-28T10:48:42.887107Z"
    }
   },
   "outputs": [],
   "source": [
    "model.find_ss()                 # find steady state "
   ]
  },
  {
   "cell_type": "code",
   "execution_count": 6,
   "id": "a24622a5",
   "metadata": {
    "execution": {
     "iopub.execute_input": "2023-02-28T10:48:42.891145Z",
     "iopub.status.busy": "2023-02-28T10:48:42.890110Z",
     "iopub.status.idle": "2023-02-28T10:50:00.274390Z",
     "shell.execute_reply": "2023-02-28T10:50:00.274390Z"
    }
   },
   "outputs": [
    {
     "name": "stderr",
     "output_type": "stream",
     "text": [
      "Traceback (most recent call last):\n",
      "  File \"c:\\Users\\gmf123\\Dropbox\\Repositories\\BabyMAKRO\\BabyMAKROModel.py\", line 395, in evaluate_block\n",
      "    func(model.par,model.ini,model.ss,model.sol)\n",
      "  File \"c:\\Users\\gmf123\\Anaconda3\\lib\\site-packages\\numba\\core\\dispatcher.py\", line 468, in _compile_for_args\n",
      "    error_rewrite(e, 'typing')\n",
      "  File \"c:\\Users\\gmf123\\Anaconda3\\lib\\site-packages\\numba\\core\\dispatcher.py\", line 409, in error_rewrite\n",
      "    raise e.with_traceback(None)\n",
      "numba.core.errors.TypingError: Failed in nopython mode pipeline (step: nopython frontend)\n",
      "\u001b[1m\u001b[1mUnknown attribute 'real_MPK' of type SolClass(array(float64, 1d, C), array(float64, 1d, C), array(float64, 1d, C), array(float64, 1d, C), array(float64, 1d, C), array(float64, 1d, C), array(float64, 1d, C), array(float64, 1d, C), array(float64, 1d, C), array(float64, 1d, C), array(float64, 1d, C), array(float64, 1d, C), array(float64, 1d, C), array(float64, 1d, C), array(float64, 1d, C), array(float64, 1d, C), array(float64, 1d, C), array(float64, 1d, C), array(float64, 1d, C), array(float64, 1d, C), array(float64, 1d, C), array(float64, 1d, C), array(float64, 1d, C), array(float64, 1d, C), array(float64, 1d, C), array(float64, 1d, C), array(float64, 1d, C), array(float64, 1d, C), array(float64, 1d, C), array(float64, 1d, C), array(float64, 1d, C), array(float64, 1d, C), array(float64, 1d, C), array(float64, 1d, C), array(float64, 1d, C), array(float64, 1d, C), array(float64, 1d, C), array(float64, 1d, C), array(float64, 1d, C), array(float64, 1d, C), array(float64, 1d, C), array(float64, 1d, C), array(float64, 1d, C), array(float64, 1d, C), array(float64, 1d, C), array(float64, 1d, C), array(float64, 1d, C), array(float64, 1d, C), array(float64, 1d, C), array(float64, 1d, C), array(float64, 1d, C), array(float64, 1d, C), array(float64, 1d, C), array(float64, 1d, C), array(float64, 1d, C), array(float64, 1d, C), array(float64, 1d, C), array(float64, 1d, C), array(float64, 1d, C), array(float64, 1d, C), array(float64, 1d, C), array(float64, 1d, C), array(float64, 1d, C), array(float64, 1d, C), array(float64, 1d, C), array(float64, 1d, C), array(float64, 2d, C), array(float64, 2d, C), array(float64, 2d, C), array(float64, 2d, C), array(float64, 2d, C), array(float64, 2d, C), array(float64, 2d, C), array(float64, 2d, C), array(float64, 2d, C), array(float64, 2d, C), array(float64, 2d, C))\n",
      "\u001b[1m\n",
      "File \"blocks.py\", line 549:\u001b[0m\n",
      "\u001b[1mdef real_productivity(par,ini,ss,sol):\n",
      "    <source elided>\n",
      "    # outputs\n",
      "\u001b[1m    real_r_K = sol.real_MPK\n",
      "\u001b[0m    \u001b[1m^\u001b[0m\u001b[0m\n",
      "\u001b[0m\n",
      "\u001b[0m\u001b[1mDuring: typing of get attribute at c:\\Users\\gmf123\\Dropbox\\Repositories\\BabyMAKRO\\blocks.py (549)\u001b[0m\n",
      "\u001b[1m\n",
      "File \"blocks.py\", line 549:\u001b[0m\n",
      "\u001b[1mdef real_productivity(par,ini,ss,sol):\n",
      "    <source elided>\n",
      "    # outputs\n",
      "\u001b[1m    real_r_K = sol.real_MPK\n",
      "\u001b[0m    \u001b[1m^\u001b[0m\u001b[0m\n",
      "\n"
     ]
    },
    {
     "ename": "TypingError",
     "evalue": "Failed in nopython mode pipeline (step: nopython frontend)\n\u001b[1m\u001b[1mUnknown attribute 'real_MPK' of type SolClass(array(float64, 1d, C), array(float64, 1d, C), array(float64, 1d, C), array(float64, 1d, C), array(float64, 1d, C), array(float64, 1d, C), array(float64, 1d, C), array(float64, 1d, C), array(float64, 1d, C), array(float64, 1d, C), array(float64, 1d, C), array(float64, 1d, C), array(float64, 1d, C), array(float64, 1d, C), array(float64, 1d, C), array(float64, 1d, C), array(float64, 1d, C), array(float64, 1d, C), array(float64, 1d, C), array(float64, 1d, C), array(float64, 1d, C), array(float64, 1d, C), array(float64, 1d, C), array(float64, 1d, C), array(float64, 1d, C), array(float64, 1d, C), array(float64, 1d, C), array(float64, 1d, C), array(float64, 1d, C), array(float64, 1d, C), array(float64, 1d, C), array(float64, 1d, C), array(float64, 1d, C), array(float64, 1d, C), array(float64, 1d, C), array(float64, 1d, C), array(float64, 1d, C), array(float64, 1d, C), array(float64, 1d, C), array(float64, 1d, C), array(float64, 1d, C), array(float64, 1d, C), array(float64, 1d, C), array(float64, 1d, C), array(float64, 1d, C), array(float64, 1d, C), array(float64, 1d, C), array(float64, 1d, C), array(float64, 1d, C), array(float64, 1d, C), array(float64, 1d, C), array(float64, 1d, C), array(float64, 1d, C), array(float64, 1d, C), array(float64, 1d, C), array(float64, 1d, C), array(float64, 1d, C), array(float64, 1d, C), array(float64, 1d, C), array(float64, 1d, C), array(float64, 1d, C), array(float64, 1d, C), array(float64, 1d, C), array(float64, 1d, C), array(float64, 1d, C), array(float64, 1d, C), array(float64, 2d, C), array(float64, 2d, C), array(float64, 2d, C), array(float64, 2d, C), array(float64, 2d, C), array(float64, 2d, C), array(float64, 2d, C), array(float64, 2d, C), array(float64, 2d, C), array(float64, 2d, C), array(float64, 2d, C))\n\u001b[1m\nFile \"blocks.py\", line 549:\u001b[0m\n\u001b[1mdef real_productivity(par,ini,ss,sol):\n    <source elided>\n    # outputs\n\u001b[1m    real_r_K = sol.real_MPK\n\u001b[0m    \u001b[1m^\u001b[0m\u001b[0m\n\u001b[0m\n\u001b[0m\u001b[1mDuring: typing of get attribute at c:\\Users\\gmf123\\Dropbox\\Repositories\\BabyMAKRO\\blocks.py (549)\u001b[0m\n\u001b[1m\nFile \"blocks.py\", line 549:\u001b[0m\n\u001b[1mdef real_productivity(par,ini,ss,sol):\n    <source elided>\n    # outputs\n\u001b[1m    real_r_K = sol.real_MPK\n\u001b[0m    \u001b[1m^\u001b[0m\u001b[0m\n",
     "output_type": "error",
     "traceback": [
      "\u001b[1;31m---------------------------------------------------------------------------\u001b[0m",
      "\u001b[1;31mTypingError\u001b[0m                               Traceback (most recent call last)",
      "\u001b[1;32m~\\AppData\\Local\\Temp\\ipykernel_23048\\3174374842.py\u001b[0m in \u001b[0;36m<module>\u001b[1;34m\u001b[0m\n\u001b[1;32m----> 1\u001b[1;33m \u001b[0mmodel\u001b[0m\u001b[1;33m.\u001b[0m\u001b[0mcalc_jac\u001b[0m\u001b[1;33m(\u001b[0m\u001b[0mdo_print\u001b[0m\u001b[1;33m=\u001b[0m\u001b[1;32mTrue\u001b[0m\u001b[1;33m)\u001b[0m   \u001b[1;31m# calculate jacobian\u001b[0m\u001b[1;33m\u001b[0m\u001b[1;33m\u001b[0m\u001b[0m\n\u001b[0m",
      "\u001b[1;32mc:\\Users\\gmf123\\Dropbox\\Repositories\\BabyMAKRO\\BabyMAKROModel.py\u001b[0m in \u001b[0;36mcalc_jac\u001b[1;34m(self, do_print, dx)\u001b[0m\n\u001b[0;32m    426\u001b[0m         \u001b[0mself\u001b[0m\u001b[1;33m.\u001b[0m\u001b[0mset_exo_ss\u001b[0m\u001b[1;33m(\u001b[0m\u001b[1;33m)\u001b[0m\u001b[1;33m\u001b[0m\u001b[1;33m\u001b[0m\u001b[0m\n\u001b[0;32m    427\u001b[0m         \u001b[0mself\u001b[0m\u001b[1;33m.\u001b[0m\u001b[0mset_unknowns_ss\u001b[0m\u001b[1;33m(\u001b[0m\u001b[1;33m)\u001b[0m\u001b[1;33m\u001b[0m\u001b[1;33m\u001b[0m\u001b[0m\n\u001b[1;32m--> 428\u001b[1;33m         \u001b[0mself\u001b[0m\u001b[1;33m.\u001b[0m\u001b[0mevaluate_blocks\u001b[0m\u001b[1;33m(\u001b[0m\u001b[1;33m)\u001b[0m\u001b[1;33m\u001b[0m\u001b[1;33m\u001b[0m\u001b[0m\n\u001b[0m\u001b[0;32m    429\u001b[0m \u001b[1;33m\u001b[0m\u001b[0m\n\u001b[0;32m    430\u001b[0m         \u001b[0mbase\u001b[0m \u001b[1;33m=\u001b[0m \u001b[0mself\u001b[0m\u001b[1;33m.\u001b[0m\u001b[0mget_errors\u001b[0m\u001b[1;33m(\u001b[0m\u001b[1;33m)\u001b[0m\u001b[1;33m\u001b[0m\u001b[1;33m\u001b[0m\u001b[0m\n",
      "\u001b[1;32mc:\\Users\\gmf123\\Dropbox\\Repositories\\BabyMAKRO\\BabyMAKROModel.py\u001b[0m in \u001b[0;36mevaluate_blocks\u001b[1;34m(self, ini, do_print, py)\u001b[0m\n\u001b[0;32m    409\u001b[0m         \u001b[1;32mfor\u001b[0m \u001b[0mblock\u001b[0m \u001b[1;32min\u001b[0m \u001b[0mself\u001b[0m\u001b[1;33m.\u001b[0m\u001b[0mblocks\u001b[0m\u001b[1;33m:\u001b[0m\u001b[1;33m\u001b[0m\u001b[1;33m\u001b[0m\u001b[0m\n\u001b[0;32m    410\u001b[0m \u001b[1;33m\u001b[0m\u001b[0m\n\u001b[1;32m--> 411\u001b[1;33m             \u001b[0mself\u001b[0m\u001b[1;33m.\u001b[0m\u001b[0mevaluate_block\u001b[0m\u001b[1;33m(\u001b[0m\u001b[0mblock\u001b[0m\u001b[1;33m,\u001b[0m\u001b[0mpy\u001b[0m\u001b[1;33m=\u001b[0m\u001b[0mpy\u001b[0m\u001b[1;33m)\u001b[0m\u001b[1;33m\u001b[0m\u001b[1;33m\u001b[0m\u001b[0m\n\u001b[0m\u001b[0;32m    412\u001b[0m             \u001b[1;32mif\u001b[0m \u001b[0mdo_print\u001b[0m\u001b[1;33m:\u001b[0m \u001b[0mprint\u001b[0m\u001b[1;33m(\u001b[0m\u001b[1;34mf'{block} evaluated'\u001b[0m\u001b[1;33m)\u001b[0m\u001b[1;33m\u001b[0m\u001b[1;33m\u001b[0m\u001b[0m\n\u001b[0;32m    413\u001b[0m \u001b[1;33m\u001b[0m\u001b[0m\n",
      "\u001b[1;32mc:\\Users\\gmf123\\Dropbox\\Repositories\\BabyMAKRO\\BabyMAKROModel.py\u001b[0m in \u001b[0;36mevaluate_block\u001b[1;34m(self, block, py)\u001b[0m\n\u001b[0;32m    393\u001b[0m                 \u001b[0mfunc\u001b[0m\u001b[1;33m.\u001b[0m\u001b[0mpy_func\u001b[0m\u001b[1;33m(\u001b[0m\u001b[0mmodel\u001b[0m\u001b[1;33m.\u001b[0m\u001b[0mpar\u001b[0m\u001b[1;33m,\u001b[0m\u001b[0mmodel\u001b[0m\u001b[1;33m.\u001b[0m\u001b[0mini\u001b[0m\u001b[1;33m,\u001b[0m\u001b[0mmodel\u001b[0m\u001b[1;33m.\u001b[0m\u001b[0mss\u001b[0m\u001b[1;33m,\u001b[0m\u001b[0mmodel\u001b[0m\u001b[1;33m.\u001b[0m\u001b[0msol\u001b[0m\u001b[1;33m)\u001b[0m\u001b[1;33m\u001b[0m\u001b[1;33m\u001b[0m\u001b[0m\n\u001b[0;32m    394\u001b[0m             \u001b[1;32melse\u001b[0m\u001b[1;33m:\u001b[0m\u001b[1;33m\u001b[0m\u001b[1;33m\u001b[0m\u001b[0m\n\u001b[1;32m--> 395\u001b[1;33m                 \u001b[0mfunc\u001b[0m\u001b[1;33m(\u001b[0m\u001b[0mmodel\u001b[0m\u001b[1;33m.\u001b[0m\u001b[0mpar\u001b[0m\u001b[1;33m,\u001b[0m\u001b[0mmodel\u001b[0m\u001b[1;33m.\u001b[0m\u001b[0mini\u001b[0m\u001b[1;33m,\u001b[0m\u001b[0mmodel\u001b[0m\u001b[1;33m.\u001b[0m\u001b[0mss\u001b[0m\u001b[1;33m,\u001b[0m\u001b[0mmodel\u001b[0m\u001b[1;33m.\u001b[0m\u001b[0msol\u001b[0m\u001b[1;33m)\u001b[0m\u001b[1;33m\u001b[0m\u001b[1;33m\u001b[0m\u001b[0m\n\u001b[0m\u001b[0;32m    396\u001b[0m \u001b[1;33m\u001b[0m\u001b[0m\n\u001b[0;32m    397\u001b[0m     \u001b[1;32mdef\u001b[0m \u001b[0mevaluate_blocks\u001b[0m\u001b[1;33m(\u001b[0m\u001b[0mself\u001b[0m\u001b[1;33m,\u001b[0m\u001b[0mini\u001b[0m\u001b[1;33m=\u001b[0m\u001b[1;32mNone\u001b[0m\u001b[1;33m,\u001b[0m\u001b[0mdo_print\u001b[0m\u001b[1;33m=\u001b[0m\u001b[1;32mFalse\u001b[0m\u001b[1;33m,\u001b[0m\u001b[0mpy\u001b[0m\u001b[1;33m=\u001b[0m\u001b[1;32mFalse\u001b[0m\u001b[1;33m)\u001b[0m\u001b[1;33m:\u001b[0m\u001b[1;33m\u001b[0m\u001b[1;33m\u001b[0m\u001b[0m\n",
      "\u001b[1;32mc:\\Users\\gmf123\\Anaconda3\\lib\\site-packages\\numba\\core\\dispatcher.py\u001b[0m in \u001b[0;36m_compile_for_args\u001b[1;34m(self, *args, **kws)\u001b[0m\n\u001b[0;32m    466\u001b[0m                 \u001b[0me\u001b[0m\u001b[1;33m.\u001b[0m\u001b[0mpatch_message\u001b[0m\u001b[1;33m(\u001b[0m\u001b[0mmsg\u001b[0m\u001b[1;33m)\u001b[0m\u001b[1;33m\u001b[0m\u001b[1;33m\u001b[0m\u001b[0m\n\u001b[0;32m    467\u001b[0m \u001b[1;33m\u001b[0m\u001b[0m\n\u001b[1;32m--> 468\u001b[1;33m             \u001b[0merror_rewrite\u001b[0m\u001b[1;33m(\u001b[0m\u001b[0me\u001b[0m\u001b[1;33m,\u001b[0m \u001b[1;34m'typing'\u001b[0m\u001b[1;33m)\u001b[0m\u001b[1;33m\u001b[0m\u001b[1;33m\u001b[0m\u001b[0m\n\u001b[0m\u001b[0;32m    469\u001b[0m         \u001b[1;32mexcept\u001b[0m \u001b[0merrors\u001b[0m\u001b[1;33m.\u001b[0m\u001b[0mUnsupportedError\u001b[0m \u001b[1;32mas\u001b[0m \u001b[0me\u001b[0m\u001b[1;33m:\u001b[0m\u001b[1;33m\u001b[0m\u001b[1;33m\u001b[0m\u001b[0m\n\u001b[0;32m    470\u001b[0m             \u001b[1;31m# Something unsupported is present in the user code, add help info\u001b[0m\u001b[1;33m\u001b[0m\u001b[1;33m\u001b[0m\u001b[0m\n",
      "\u001b[1;32mc:\\Users\\gmf123\\Anaconda3\\lib\\site-packages\\numba\\core\\dispatcher.py\u001b[0m in \u001b[0;36merror_rewrite\u001b[1;34m(e, issue_type)\u001b[0m\n\u001b[0;32m    407\u001b[0m                 \u001b[1;32mraise\u001b[0m \u001b[0me\u001b[0m\u001b[1;33m\u001b[0m\u001b[1;33m\u001b[0m\u001b[0m\n\u001b[0;32m    408\u001b[0m             \u001b[1;32melse\u001b[0m\u001b[1;33m:\u001b[0m\u001b[1;33m\u001b[0m\u001b[1;33m\u001b[0m\u001b[0m\n\u001b[1;32m--> 409\u001b[1;33m                 \u001b[1;32mraise\u001b[0m \u001b[0me\u001b[0m\u001b[1;33m.\u001b[0m\u001b[0mwith_traceback\u001b[0m\u001b[1;33m(\u001b[0m\u001b[1;32mNone\u001b[0m\u001b[1;33m)\u001b[0m\u001b[1;33m\u001b[0m\u001b[1;33m\u001b[0m\u001b[0m\n\u001b[0m\u001b[0;32m    410\u001b[0m \u001b[1;33m\u001b[0m\u001b[0m\n\u001b[0;32m    411\u001b[0m         \u001b[0margtypes\u001b[0m \u001b[1;33m=\u001b[0m \u001b[1;33m[\u001b[0m\u001b[1;33m]\u001b[0m\u001b[1;33m\u001b[0m\u001b[1;33m\u001b[0m\u001b[0m\n",
      "\u001b[1;31mTypingError\u001b[0m: Failed in nopython mode pipeline (step: nopython frontend)\n\u001b[1m\u001b[1mUnknown attribute 'real_MPK' of type SolClass(array(float64, 1d, C), array(float64, 1d, C), array(float64, 1d, C), array(float64, 1d, C), array(float64, 1d, C), array(float64, 1d, C), array(float64, 1d, C), array(float64, 1d, C), array(float64, 1d, C), array(float64, 1d, C), array(float64, 1d, C), array(float64, 1d, C), array(float64, 1d, C), array(float64, 1d, C), array(float64, 1d, C), array(float64, 1d, C), array(float64, 1d, C), array(float64, 1d, C), array(float64, 1d, C), array(float64, 1d, C), array(float64, 1d, C), array(float64, 1d, C), array(float64, 1d, C), array(float64, 1d, C), array(float64, 1d, C), array(float64, 1d, C), array(float64, 1d, C), array(float64, 1d, C), array(float64, 1d, C), array(float64, 1d, C), array(float64, 1d, C), array(float64, 1d, C), array(float64, 1d, C), array(float64, 1d, C), array(float64, 1d, C), array(float64, 1d, C), array(float64, 1d, C), array(float64, 1d, C), array(float64, 1d, C), array(float64, 1d, C), array(float64, 1d, C), array(float64, 1d, C), array(float64, 1d, C), array(float64, 1d, C), array(float64, 1d, C), array(float64, 1d, C), array(float64, 1d, C), array(float64, 1d, C), array(float64, 1d, C), array(float64, 1d, C), array(float64, 1d, C), array(float64, 1d, C), array(float64, 1d, C), array(float64, 1d, C), array(float64, 1d, C), array(float64, 1d, C), array(float64, 1d, C), array(float64, 1d, C), array(float64, 1d, C), array(float64, 1d, C), array(float64, 1d, C), array(float64, 1d, C), array(float64, 1d, C), array(float64, 1d, C), array(float64, 1d, C), array(float64, 1d, C), array(float64, 2d, C), array(float64, 2d, C), array(float64, 2d, C), array(float64, 2d, C), array(float64, 2d, C), array(float64, 2d, C), array(float64, 2d, C), array(float64, 2d, C), array(float64, 2d, C), array(float64, 2d, C), array(float64, 2d, C))\n\u001b[1m\nFile \"blocks.py\", line 549:\u001b[0m\n\u001b[1mdef real_productivity(par,ini,ss,sol):\n    <source elided>\n    # outputs\n\u001b[1m    real_r_K = sol.real_MPK\n\u001b[0m    \u001b[1m^\u001b[0m\u001b[0m\n\u001b[0m\n\u001b[0m\u001b[1mDuring: typing of get attribute at c:\\Users\\gmf123\\Dropbox\\Repositories\\BabyMAKRO\\blocks.py (549)\u001b[0m\n\u001b[1m\nFile \"blocks.py\", line 549:\u001b[0m\n\u001b[1mdef real_productivity(par,ini,ss,sol):\n    <source elided>\n    # outputs\n\u001b[1m    real_r_K = sol.real_MPK\n\u001b[0m    \u001b[1m^\u001b[0m\u001b[0m\n"
     ]
    }
   ],
   "source": [
    "model.calc_jac(do_print=True)   # calculate jacobian"
   ]
  },
  {
   "cell_type": "markdown",
   "id": "38d0fe22",
   "metadata": {},
   "source": [
    "## 3. <a id='toc3_'></a>[Find IRF](#toc0_)"
   ]
  },
  {
   "cell_type": "code",
   "execution_count": null,
   "id": "e325a3c3",
   "metadata": {
    "execution": {
     "iopub.execute_input": "2023-02-28T10:50:00.277343Z",
     "iopub.status.busy": "2023-02-28T10:50:00.277343Z",
     "iopub.status.idle": "2023-02-28T10:50:00.400375Z",
     "shell.execute_reply": "2023-02-28T10:50:00.400375Z"
    }
   },
   "outputs": [],
   "source": [
    "model.set_exo_ss()              # set steady state exogenous variables"
   ]
  },
  {
   "cell_type": "code",
   "execution_count": null,
   "id": "bb91b86f",
   "metadata": {
    "execution": {
     "iopub.execute_input": "2023-02-28T10:50:00.404342Z",
     "iopub.status.busy": "2023-02-28T10:50:00.403328Z",
     "iopub.status.idle": "2023-02-28T10:50:00.526499Z",
     "shell.execute_reply": "2023-02-28T10:50:00.526499Z"
    }
   },
   "outputs": [],
   "source": [
    "Tshock = 50                             # length of shock\n",
    "persistence = 0.80**np.arange(Tshock)   # persistence of shock\n",
    "Priceshock = 0.005                      # size of the price shock\n",
    "\n",
    "sol.chi[:Tshock] = ss.chi*(1 + 2*Priceshock*persistence)    # the shock to chi is twice as large as the price shock \n",
    "sol.P_F[:Tshock] = ss.P_F*(1 + Priceshock*persistence)      # shock to the foreign price\n",
    "sol.P_M_C[:Tshock] = ss.P_M_C*(1 + Priceshock*persistence)  # shock to the consumption import price \n",
    "sol.P_M_G[:Tshock] = ss.P_M_G*(1 + Priceshock*persistence)  # shock to the government consumption import price  \n",
    "sol.P_M_I[:Tshock] = ss.P_M_I*(1 + Priceshock*persistence)  # shock to the investment import price  \n",
    "sol.P_M_X[:Tshock] = ss.P_M_X*(1 + Priceshock*persistence)  # shock to the export import price  "
   ]
  },
  {
   "cell_type": "code",
   "execution_count": null,
   "id": "75b43103",
   "metadata": {
    "execution": {
     "iopub.execute_input": "2023-02-28T10:50:00.529483Z",
     "iopub.status.busy": "2023-02-28T10:50:00.529483Z",
     "iopub.status.idle": "2023-02-28T10:50:01.871730Z",
     "shell.execute_reply": "2023-02-28T10:50:01.871730Z"
    }
   },
   "outputs": [],
   "source": [
    "model.find_IRF()                # find impulse response functions "
   ]
  },
  {
   "cell_type": "markdown",
   "id": "d6400978",
   "metadata": {},
   "source": [
    "## 4. <a id='toc4_'></a>[Figures](#toc0_)"
   ]
  },
  {
   "cell_type": "markdown",
   "id": "dcbe9113",
   "metadata": {},
   "source": [
    "### 4.1. <a id='toc4_1_'></a>[Effect on Foreign Economy and Prices](#toc0_)"
   ]
  },
  {
   "cell_type": "code",
   "execution_count": null,
   "id": "0d77c2d7",
   "metadata": {
    "execution": {
     "iopub.execute_input": "2023-02-28T10:50:01.875729Z",
     "iopub.status.busy": "2023-02-28T10:50:01.874729Z",
     "iopub.status.idle": "2023-02-28T10:50:03.661738Z",
     "shell.execute_reply": "2023-02-28T10:50:03.661738Z"
    }
   },
   "outputs": [],
   "source": [
    "model.plot_IRF(varlist=['chi','P_F','P_M_C','P_X','P_Y','P_C', 'X', 'Y', 'M'])"
   ]
  },
  {
   "cell_type": "code",
   "execution_count": null,
   "id": "5a3d1297",
   "metadata": {
    "execution": {
     "iopub.execute_input": "2023-02-28T10:50:03.665705Z",
     "iopub.status.busy": "2023-02-28T10:50:03.664711Z",
     "iopub.status.idle": "2023-02-28T10:50:05.418801Z",
     "shell.execute_reply": "2023-02-28T10:50:05.417798Z"
    }
   },
   "outputs": [],
   "source": [
    "model.plot_IRF(varlist=['X_Y','C_Y','I_Y','G_Y','Y','X_M','C_M','I_M','G_M','M'], ncol = 5)"
   ]
  },
  {
   "cell_type": "markdown",
   "id": "9604d5ed",
   "metadata": {},
   "source": [
    "### 4.2. <a id='toc4_2_'></a>[Effect on Production firms, Phillips-curve and Investments](#toc0_)"
   ]
  },
  {
   "cell_type": "markdown",
   "id": "2bc6cff3",
   "metadata": {},
   "source": [
    "#### 4.2.1. <a id='toc4_2_1_'></a>[Production firms](#toc0_)"
   ]
  },
  {
   "cell_type": "code",
   "execution_count": null,
   "id": "92fe920e",
   "metadata": {
    "execution": {
     "iopub.execute_input": "2023-02-28T10:50:05.421798Z",
     "iopub.status.busy": "2023-02-28T10:50:05.421798Z",
     "iopub.status.idle": "2023-02-28T10:50:06.908172Z",
     "shell.execute_reply": "2023-02-28T10:50:06.908172Z"
    }
   },
   "outputs": [],
   "source": [
    "model.plot_IRF(varlist=['Y','K','ell','r_K','r_ell','real_MPK','real_MPL'])"
   ]
  },
  {
   "cell_type": "markdown",
   "id": "47f78aa9",
   "metadata": {},
   "source": [
    "#### 4.2.2. <a id='toc4_2_2_'></a>[Phillips-curve](#toc0_)"
   ]
  },
  {
   "cell_type": "code",
   "execution_count": null,
   "id": "3fd290f2",
   "metadata": {
    "execution": {
     "iopub.execute_input": "2023-02-28T10:50:06.912182Z",
     "iopub.status.busy": "2023-02-28T10:50:06.912182Z",
     "iopub.status.idle": "2023-02-28T10:50:07.570594Z",
     "shell.execute_reply": "2023-02-28T10:50:07.570594Z"
    }
   },
   "outputs": [],
   "source": [
    "model.plot_IRF(varlist=['Y','P_Y_0','P_Y'])"
   ]
  },
  {
   "cell_type": "markdown",
   "id": "e4c8aed8",
   "metadata": {},
   "source": [
    "#### 4.2.3. <a id='toc4_2_3_'></a>[Investments](#toc0_)"
   ]
  },
  {
   "cell_type": "code",
   "execution_count": null,
   "id": "305d70d0",
   "metadata": {
    "execution": {
     "iopub.execute_input": "2023-02-28T10:50:07.573594Z",
     "iopub.status.busy": "2023-02-28T10:50:07.573594Z",
     "iopub.status.idle": "2023-02-28T10:50:08.365531Z",
     "shell.execute_reply": "2023-02-28T10:50:08.365531Z"
    }
   },
   "outputs": [],
   "source": [
    "model.plot_IRF(varlist=['I','K','P_I','r_K'],ncol=2)"
   ]
  },
  {
   "cell_type": "markdown",
   "id": "70ee1366",
   "metadata": {},
   "source": [
    "### 4.3. <a id='toc4_3_'></a>[Labor market](#toc0_)"
   ]
  },
  {
   "cell_type": "code",
   "execution_count": null,
   "id": "81797df4",
   "metadata": {
    "execution": {
     "iopub.execute_input": "2023-02-28T10:50:08.369546Z",
     "iopub.status.busy": "2023-02-28T10:50:08.369546Z",
     "iopub.status.idle": "2023-02-28T10:50:10.073659Z",
     "shell.execute_reply": "2023-02-28T10:50:10.073659Z"
    }
   },
   "outputs": [],
   "source": [
    "model.plot_IRF(varlist=['S','L_ubar','v','curlyM','m_v','m_s','delta_L','W','real_W'],abs=['m_v','m_s'])"
   ]
  },
  {
   "cell_type": "markdown",
   "id": "711d5a78",
   "metadata": {},
   "source": [
    "### 4.4. <a id='toc4_4_'></a>[Government](#toc0_)"
   ]
  },
  {
   "cell_type": "code",
   "execution_count": null,
   "id": "09816992",
   "metadata": {
    "execution": {
     "iopub.execute_input": "2023-02-28T10:50:10.076660Z",
     "iopub.status.busy": "2023-02-28T10:50:10.076660Z",
     "iopub.status.idle": "2023-02-28T10:50:10.851234Z",
     "shell.execute_reply": "2023-02-28T10:50:10.851234Z"
    }
   },
   "outputs": [],
   "source": [
    "model.plot_IRF(varlist=['G','B','P_G','tau'],abs=['tau'],Y_share=['B'], ncol=2)"
   ]
  },
  {
   "cell_type": "markdown",
   "id": "cfc252d6",
   "metadata": {},
   "source": [
    "### 4.5. <a id='toc4_5_'></a>[Effect on consumption](#toc0_)"
   ]
  },
  {
   "cell_type": "code",
   "execution_count": null,
   "id": "23fc9155",
   "metadata": {
    "execution": {
     "iopub.execute_input": "2023-02-28T10:50:10.855267Z",
     "iopub.status.busy": "2023-02-28T10:50:10.854247Z",
     "iopub.status.idle": "2023-02-28T10:50:11.887680Z",
     "shell.execute_reply": "2023-02-28T10:50:11.887680Z"
    }
   },
   "outputs": [],
   "source": [
    "model.plot_IRF(varlist=['C','C_HtM','C_R','P_C','inc','real_inc'],ncol=3,abs=['real_r_hh'])"
   ]
  },
  {
   "cell_type": "markdown",
   "id": "37ed7aaa",
   "metadata": {},
   "source": [
    "#### 4.5.1. <a id='toc4_5_1_'></a>[Effect on bequest and savings](#toc0_)"
   ]
  },
  {
   "cell_type": "code",
   "execution_count": null,
   "id": "7c503796",
   "metadata": {
    "execution": {
     "iopub.execute_input": "2023-02-28T10:50:11.891682Z",
     "iopub.status.busy": "2023-02-28T10:50:11.891682Z",
     "iopub.status.idle": "2023-02-28T10:50:12.522337Z",
     "shell.execute_reply": "2023-02-28T10:50:12.522337Z"
    }
   },
   "outputs": [],
   "source": [
    "model.plot_IRF(varlist=['real_r_hh','A','Aq'],ncol=3,abs=['real_r_hh'])"
   ]
  },
  {
   "cell_type": "markdown",
   "id": "3712a4d7",
   "metadata": {},
   "source": [
    "### 4.6. <a id='toc4_6_'></a>[Other](#toc0_)"
   ]
  },
  {
   "cell_type": "markdown",
   "id": "8e1a0dcd",
   "metadata": {},
   "source": [
    "#### 4.6.1. <a id='toc4_6_1_'></a>[Households - life-cycle](#toc0_)"
   ]
  },
  {
   "cell_type": "code",
   "execution_count": null,
   "id": "ac73c54d-1f8e-46c0-91ea-8a680266db48",
   "metadata": {
    "execution": {
     "iopub.execute_input": "2023-02-28T10:50:12.525351Z",
     "iopub.status.busy": "2023-02-28T10:50:12.525351Z",
     "iopub.status.idle": "2023-02-28T10:50:13.870968Z",
     "shell.execute_reply": "2023-02-28T10:50:13.870968Z"
    }
   },
   "outputs": [],
   "source": [
    "model.plot_IRF_hh(varlist=['L_a','L_ubar_a','S_a','inc_a','C_a','A_a'],t0_list=[-20,-10,0,10,20])"
   ]
  }
 ],
 "metadata": {
  "kernelspec": {
   "display_name": "base",
   "language": "python",
   "name": "python3"
  },
  "language_info": {
   "codemirror_mode": {
    "name": "ipython",
    "version": 3
   },
   "file_extension": ".py",
   "mimetype": "text/x-python",
   "name": "python",
   "nbconvert_exporter": "python",
   "pygments_lexer": "ipython3",
   "version": "3.9.15"
  },
  "toc-autonumbering": true,
  "vscode": {
   "interpreter": {
    "hash": "47ef90cdf3004d3f859f1fb202523c65c07ba7c22eefd261b181f4744e2d0403"
   }
  }
 },
 "nbformat": 4,
 "nbformat_minor": 5
}
