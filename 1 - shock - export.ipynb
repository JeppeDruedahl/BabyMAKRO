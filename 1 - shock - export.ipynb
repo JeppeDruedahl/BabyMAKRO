{
 "cells": [
  {
   "cell_type": "markdown",
   "id": "b561008c",
   "metadata": {},
   "source": [
    "# Export shock"
   ]
  },
  {
   "cell_type": "markdown",
   "id": "0b562a38",
   "metadata": {},
   "source": [
    "**Table of contents**<a id='toc0_'></a>    \n",
    "- 1. [Setup](#toc1_)    \n",
    "- 2. [Find steady state and Jacobian](#toc2_)    \n",
    "- 3. [Find IRF](#toc3_)    \n",
    "- 4. [Figures](#toc4_)    \n",
    "  - 4.1. [Long-view](#toc4_1_)    \n",
    "  - 4.2. [National accouting - quantities](#toc4_2_)    \n",
    "  - 4.3. [National accouting - prices](#toc4_3_)    \n",
    "  - 4.4. [Import Prices](#toc4_4_)    \n",
    "  - 4.5. [Labor market](#toc4_5_)    \n",
    "  - 4.6. [Capital accumulation](#toc4_6_)    \n",
    "  - 4.7. [Production firms](#toc4_7_)    \n",
    "  - 4.8. [Phillips curve](#toc4_8_)    \n",
    "  - 4.9. [Government](#toc4_9_)    \n",
    "  - 4.10. [Households - aggregate](#toc4_10_)    \n",
    "  - 4.11. [Households - life-cycle](#toc4_11_)    \n",
    "\n",
    "<!-- vscode-jupyter-toc-config\n",
    "\tnumbering=true\n",
    "\tanchor=true\n",
    "\tflat=false\n",
    "\tminLevel=2\n",
    "\tmaxLevel=6\n",
    "\t/vscode-jupyter-toc-config -->\n",
    "<!-- THIS CELL WILL BE REPLACED ON TOC UPDATE. DO NOT WRITE YOUR TEXT IN THIS CELL -->"
   ]
  },
  {
   "cell_type": "code",
   "execution_count": 10,
   "id": "4b9ffaa1-2f71-40c9-9ec0-2b1a66545d46",
   "metadata": {},
   "outputs": [
    {
     "name": "stdout",
     "output_type": "stream",
     "text": [
      "The autoreload extension is already loaded. To reload it, use:\n",
      "  %reload_ext autoreload\n"
     ]
    },
    {
     "name": "stderr",
     "output_type": "stream",
     "text": [
      "C:\\Users\\nbk863\\AppData\\Local\\Temp\\ipykernel_2028\\2007051729.py:6: MatplotlibDeprecationWarning: The seaborn styles shipped by Matplotlib are deprecated since 3.6, as they no longer correspond to the styles shipped by seaborn. However, they will remain available as 'seaborn-v0_8-<style>'. Alternatively, directly use the seaborn API instead.\n",
      "  plt.style.use('seaborn-whitegrid')\n"
     ]
    }
   ],
   "source": [
    "%load_ext autoreload\n",
    "%autoreload 2\n",
    "\n",
    "import numpy as np\n",
    "import matplotlib.pyplot as plt   \n",
    "plt.style.use('seaborn-whitegrid')\n",
    "prop_cycle = plt.rcParams['axes.prop_cycle']\n",
    "colors = prop_cycle.by_key()['color']\n",
    "\n",
    "from BabyMAKROModel import BabyMAKROModelClass"
   ]
  },
  {
   "cell_type": "markdown",
   "id": "3c1b7c1a",
   "metadata": {},
   "source": [
    "## 1. <a id='toc1_'></a>[Setup](#toc0_)"
   ]
  },
  {
   "cell_type": "code",
   "execution_count": 11,
   "id": "69981f4f-beca-4e00-8373-d7392662625b",
   "metadata": {},
   "outputs": [],
   "source": [
    "model = BabyMAKROModelClass(name='baseline')            #create baseline model"
   ]
  },
  {
   "cell_type": "code",
   "execution_count": 12,
   "id": "b6a42e14-a303-4d94-9afa-b5a6e9d98a48",
   "metadata": {},
   "outputs": [],
   "source": [
    "par = model.par                 #set model parameters\n",
    "ss = model.ss                   #create namespace for steady state\n",
    "sol = model.sol                 #create namespace for solution"
   ]
  },
  {
   "cell_type": "code",
   "execution_count": 13,
   "id": "458e1251",
   "metadata": {},
   "outputs": [],
   "source": [
    "par.t_b = 0\n",
    "par.delta_B = 0\n",
    "model.set_constant_wage(True)"
   ]
  },
  {
   "cell_type": "markdown",
   "id": "b51e62ad",
   "metadata": {},
   "source": [
    "## 2. <a id='toc2_'></a>[Find steady state and Jacobian](#toc0_)"
   ]
  },
  {
   "cell_type": "code",
   "execution_count": 14,
   "id": "a73219e8",
   "metadata": {},
   "outputs": [],
   "source": [
    "model.find_ss()                 #find steady state "
   ]
  },
  {
   "cell_type": "code",
   "execution_count": 15,
   "id": "a24622a5",
   "metadata": {},
   "outputs": [
    {
     "ename": "KeyboardInterrupt",
     "evalue": "",
     "output_type": "error",
     "traceback": [
      "\u001b[1;31m---------------------------------------------------------------------------\u001b[0m",
      "\u001b[1;31mKeyboardInterrupt\u001b[0m                         Traceback (most recent call last)",
      "Cell \u001b[1;32mIn [15], line 1\u001b[0m\n\u001b[1;32m----> 1\u001b[0m model\u001b[39m.\u001b[39;49mcalc_jac(do_print\u001b[39m=\u001b[39;49m\u001b[39mTrue\u001b[39;49;00m)\n",
      "File \u001b[1;32mc:\\Users\\nbk863\\Documents\\Repositories\\BabyMAKRO\\BabyMAKROModel.py:487\u001b[0m, in \u001b[0;36mcalc_jac\u001b[1;34m(self, do_print, dx)\u001b[0m\n\u001b[0;32m    485\u001b[0m     \u001b[39mself\u001b[39m\u001b[39m.\u001b[39mset_unknowns(x)\n\u001b[0;32m    486\u001b[0m     \u001b[39mself\u001b[39m\u001b[39m.\u001b[39mevaluate_blocks()\n\u001b[1;32m--> 487\u001b[0m     alt \u001b[39m=\u001b[39m \u001b[39mself\u001b[39m\u001b[39m.\u001b[39mget_errors()\n\u001b[0;32m    488\u001b[0m     jac[:,i] \u001b[39m=\u001b[39m (alt\u001b[39m-\u001b[39mbase)\u001b[39m/\u001b[39mdx\n\u001b[0;32m    490\u001b[0m \u001b[39mif\u001b[39;00m do_print: \u001b[39mprint\u001b[39m(\u001b[39mf\u001b[39m\u001b[39m'\u001b[39m\u001b[39mJacobian calculated in \u001b[39m\u001b[39m{\u001b[39;00melapsed(t0)\u001b[39m}\u001b[39;00m\u001b[39m'\u001b[39m)\n",
      "\u001b[1;31mKeyboardInterrupt\u001b[0m: "
     ]
    }
   ],
   "source": [
    "model.calc_jac(do_print=True)   #calculate jacobian"
   ]
  },
  {
   "cell_type": "markdown",
   "id": "e93c5451",
   "metadata": {},
   "source": [
    "## 3. <a id='toc3_'></a>[Find IRF](#toc0_)"
   ]
  },
  {
   "cell_type": "code",
   "execution_count": null,
   "id": "e325a3c3",
   "metadata": {},
   "outputs": [],
   "source": [
    "model.set_exo_ss()              #set steady state exogenous variables"
   ]
  },
  {
   "cell_type": "code",
   "execution_count": null,
   "id": "bb91b86f",
   "metadata": {},
   "outputs": [],
   "source": [
    "Tshock = 50                             #length of shock\n",
    "persistence = 0.80**np.arange(Tshock)   #persistence of shock\n",
    "Priceshock = 0.005                      #size of the price shock\n",
    "\n",
    "sol.chi[:Tshock] = ss.chi*(1 + 2*Priceshock*persistence)    #The shock to chi is twice as large as the price shock \n",
    "sol.P_F[:Tshock] = ss.P_F*(1 + Priceshock*persistence)      #Shock to the foreign price\n",
    "sol.P_M_C[:Tshock] = ss.P_M_C*(1 + Priceshock*persistence)  #Shock to the consumption import price \n",
    "sol.P_M_G[:Tshock] = ss.P_M_G*(1 + Priceshock*persistence)  #Shock to the government consumption import price  \n",
    "sol.P_M_I[:Tshock] = ss.P_M_I*(1 + Priceshock*persistence)  #Shock to the investment import price  \n",
    "sol.P_M_X[:Tshock] = ss.P_M_X*(1 + Priceshock*persistence)  #Shock to the export import price  "
   ]
  },
  {
   "cell_type": "code",
   "execution_count": null,
   "id": "75b43103",
   "metadata": {},
   "outputs": [],
   "source": [
    "model.find_IRF()                #find impulse response functions "
   ]
  },
  {
   "cell_type": "markdown",
   "id": "be1bda6e",
   "metadata": {},
   "source": [
    "## 4. <a id='toc4_'></a>[Figures](#toc0_)"
   ]
  },
  {
   "cell_type": "markdown",
   "id": "bf76c779",
   "metadata": {},
   "source": [
    "### 4.1. <a id='toc4_1_'></a>[Long-view](#toc0_)"
   ]
  },
  {
   "cell_type": "code",
   "execution_count": null,
   "id": "0d77c2d7",
   "metadata": {},
   "outputs": [],
   "source": [
    "model.plot_IRF(varlist=['chi','P_M_C','K','A','B'],ncol=3,T_IRF=par.T)"
   ]
  },
  {
   "cell_type": "markdown",
   "metadata": {},
   "source": [
    "### 4.2. <a id='toc4_2_'></a>[National accouting - quantities](#toc0_)"
   ]
  },
  {
   "cell_type": "code",
   "execution_count": null,
   "id": "72f0b0b7",
   "metadata": {},
   "outputs": [],
   "source": [
    "model.plot_IRF(varlist=['Y','C','G','I','X','M'])"
   ]
  },
  {
   "cell_type": "markdown",
   "metadata": {},
   "source": [
    "### 4.3. <a id='toc4_3_'></a>[National accouting - prices](#toc0_)"
   ]
  },
  {
   "cell_type": "code",
   "execution_count": null,
   "id": "92fe920e",
   "metadata": {},
   "outputs": [],
   "source": [
    "model.plot_IRF(varlist=['P_Y','P_C','P_G','P_I','P_X'])"
   ]
  },
  {
   "cell_type": "markdown",
   "metadata": {},
   "source": [
    "### 4.4. <a id='toc4_4_'></a>[Import Prices](#toc0_)"
   ]
  },
  {
   "cell_type": "code",
   "execution_count": null,
   "id": "3fd290f2",
   "metadata": {},
   "outputs": [],
   "source": [
    "model.plot_IRF(varlist=['P_M_C','P_M_G','P_M_I','P_M_X','P_F'])"
   ]
  },
  {
   "cell_type": "markdown",
   "metadata": {},
   "source": [
    "### 4.5. <a id='toc4_5_'></a>[Labor market](#toc0_)"
   ]
  },
  {
   "cell_type": "code",
   "execution_count": null,
   "id": "81797df4",
   "metadata": {},
   "outputs": [],
   "source": [
    "model.plot_IRF(varlist=['S','L_ubar','v','curlyM','m_v','m_s','delta_L','W','real_W'],abs=['m_v','m_s'])"
   ]
  },
  {
   "cell_type": "markdown",
   "metadata": {},
   "source": [
    "### 4.6. <a id='toc4_6_'></a>[Capital accumulation](#toc0_)"
   ]
  },
  {
   "cell_type": "code",
   "execution_count": null,
   "id": "09816992",
   "metadata": {},
   "outputs": [],
   "source": [
    "model.plot_IRF(varlist=['K','I','r_K','P_I'],ncol=2)"
   ]
  },
  {
   "cell_type": "markdown",
   "metadata": {},
   "source": [
    "### 4.7. <a id='toc4_7_'></a>[Production firms](#toc0_)"
   ]
  },
  {
   "cell_type": "code",
   "execution_count": null,
   "id": "23fc9155",
   "metadata": {},
   "outputs": [],
   "source": [
    "model.plot_IRF(varlist=['K','ell','Gamma','Y','r_K','r_ell'],ncol=2)"
   ]
  },
  {
   "cell_type": "markdown",
   "metadata": {},
   "source": [
    "### 4.8. <a id='toc4_8_'></a>[Phillips curve](#toc0_)"
   ]
  },
  {
   "cell_type": "code",
   "execution_count": null,
   "id": "dce16db9",
   "metadata": {},
   "outputs": [],
   "source": [
    "model.plot_IRF(varlist=['Y','P_Y_0','P_Y'],ncol=2)"
   ]
  },
  {
   "cell_type": "markdown",
   "metadata": {},
   "source": [
    "### 4.9. <a id='toc4_9_'></a>[Government](#toc0_)"
   ]
  },
  {
   "cell_type": "code",
   "execution_count": null,
   "id": "0133f280",
   "metadata": {},
   "outputs": [],
   "source": [
    "model.plot_IRF(varlist=['G','B','tau'],abs=['tau'],Y_share=['B'])"
   ]
  },
  {
   "cell_type": "markdown",
   "metadata": {},
   "source": [
    "### 4.10. <a id='toc4_10_'></a>[Households - aggregate](#toc0_)"
   ]
  },
  {
   "cell_type": "code",
   "execution_count": null,
   "id": "20b18a45-d15c-4b90-b3b1-c820fad862cf",
   "metadata": {},
   "outputs": [],
   "source": [
    "model.plot_IRF(varlist=['L','U','inc','W','real_W','real_r_hh','C','A','Aq'],ncol=3,abs=['real_r_hh'])"
   ]
  },
  {
   "cell_type": "code",
   "execution_count": null,
   "id": "c0f28fbf",
   "metadata": {},
   "outputs": [],
   "source": [
    "model.plot_IRF(varlist=['C_HtM','C_R'],ncol=2)"
   ]
  },
  {
   "cell_type": "markdown",
   "metadata": {},
   "source": [
    "### 4.11. <a id='toc4_11_'></a>[Households - life-cycle](#toc0_)"
   ]
  },
  {
   "cell_type": "code",
   "execution_count": null,
   "id": "ac73c54d-1f8e-46c0-91ea-8a680266db48",
   "metadata": {},
   "outputs": [],
   "source": [
    "model.plot_IRF_hh(varlist=['L_a','L_ubar_a','S_a','inc_a','C_a','A_a'],t0_list=[-20,-10,0,10,20])"
   ]
  },
  {
   "cell_type": "code",
   "execution_count": null,
   "id": "4bb30896",
   "metadata": {},
   "outputs": [],
   "source": []
  }
 ],
 "metadata": {
  "kernelspec": {
   "display_name": "Python 3 (ipykernel)",
   "language": "python",
   "name": "python3"
  },
  "language_info": {
   "codemirror_mode": {
    "name": "ipython",
    "version": 3
   },
   "file_extension": ".py",
   "mimetype": "text/x-python",
   "name": "python",
   "nbconvert_exporter": "python",
   "pygments_lexer": "ipython3",
   "version": "3.9.15"
  },
  "toc-autonumbering": true,
  "vscode": {
   "interpreter": {
    "hash": "8e46095560128379321b1ce69ff92c6b7a45fc7d9b830ea022fe373b05aa9725"
   }
  }
 },
 "nbformat": 4,
 "nbformat_minor": 5
}
