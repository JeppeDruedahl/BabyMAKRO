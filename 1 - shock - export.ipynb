{
 "cells": [
  {
   "cell_type": "markdown",
   "id": "ad379ab4",
   "metadata": {},
   "source": [
    "# Export shock"
   ]
  },
  {
   "cell_type": "markdown",
   "id": "95973735",
   "metadata": {},
   "source": [
    "**Table of contents**<a id='toc0_'></a>    \n",
    "- 1. [Setup](#toc1_)    \n",
    "- 2. [Find steady state and Jacobian](#toc2_)    \n",
    "- 3. [Find IRF](#toc3_)    \n",
    "- 4. [Figures](#toc4_)    \n",
    "  - 4.1. [Effect on Foreign Economy and Prices](#toc4_1_)    \n",
    "  - 4.2. [Effect on Production firms, Phillips-curve and Investments](#toc4_2_)    \n",
    "    - 4.2.1. [Production firms](#toc4_2_1_)    \n",
    "    - 4.2.2. [Phillips-curve](#toc4_2_2_)    \n",
    "    - 4.2.3. [Investments](#toc4_2_3_)    \n",
    "  - 4.3. [Labor market](#toc4_3_)    \n",
    "  - 4.4. [Government](#toc4_4_)    \n",
    "  - 4.5. [Effect on consumption](#toc4_5_)    \n",
    "    - 4.5.1. [Effect on bequest and savings](#toc4_5_1_)    \n",
    "  - 4.6. [Other](#toc4_6_)    \n",
    "    - 4.6.1. [Households - life-cycle](#toc4_6_1_)    \n",
    "    - 4.6.2. [Long-term](#toc4_6_2_)    \n",
    "    - 4.6.3. [National accouting - quantities](#toc4_6_3_)    \n",
    "\n",
    "<!-- vscode-jupyter-toc-config\n",
    "\tnumbering=true\n",
    "\tanchor=true\n",
    "\tflat=false\n",
    "\tminLevel=2\n",
    "\tmaxLevel=6\n",
    "\t/vscode-jupyter-toc-config -->\n",
    "<!-- THIS CELL WILL BE REPLACED ON TOC UPDATE. DO NOT WRITE YOUR TEXT IN THIS CELL -->"
   ]
  },
  {
   "cell_type": "code",
   "execution_count": 1,
   "id": "4b9ffaa1-2f71-40c9-9ec0-2b1a66545d46",
   "metadata": {
    "execution": {
     "iopub.execute_input": "2023-03-02T12:01:44.804389Z",
     "iopub.status.busy": "2023-03-02T12:01:44.804389Z",
     "iopub.status.idle": "2023-03-02T12:01:45.964935Z",
     "shell.execute_reply": "2023-03-02T12:01:45.964935Z"
    }
   },
   "outputs": [],
   "source": [
    "%load_ext autoreload\n",
    "%autoreload 2\n",
    "\n",
    "import numpy as np\n",
    "import matplotlib.pyplot as plt   \n",
    "plt.rcParams.update({\"axes.grid\":True,\"grid.color\":\"black\",\"grid.alpha\":\"0.25\",\"grid.linestyle\":\"--\"})\n",
    "prop_cycle = plt.rcParams['axes.prop_cycle']\n",
    "colors = prop_cycle.by_key()['color']\n",
    "\n",
    "from BabyMAKROModel import BabyMAKROModelClass"
   ]
  },
  {
   "cell_type": "markdown",
   "id": "a2b60238",
   "metadata": {},
   "source": [
    "## 1. <a id='toc1_'></a>[Setup](#toc0_)"
   ]
  },
  {
   "cell_type": "code",
   "execution_count": 2,
   "id": "69981f4f-beca-4e00-8373-d7392662625b",
   "metadata": {
    "execution": {
     "iopub.execute_input": "2023-03-02T12:01:45.967884Z",
     "iopub.status.busy": "2023-03-02T12:01:45.967884Z",
     "iopub.status.idle": "2023-03-02T12:01:46.058981Z",
     "shell.execute_reply": "2023-03-02T12:01:46.058981Z"
    }
   },
   "outputs": [],
   "source": [
    "model = BabyMAKROModelClass(name='baseline')           "
   ]
  },
  {
   "attachments": {},
   "cell_type": "markdown",
   "id": "d3601eca",
   "metadata": {},
   "source": [
    "**Unpack namespaces:**"
   ]
  },
  {
   "cell_type": "code",
   "execution_count": 3,
   "id": "b6a42e14-a303-4d94-9afa-b5a6e9d98a48",
   "metadata": {
    "execution": {
     "iopub.execute_input": "2023-03-02T12:01:46.061976Z",
     "iopub.status.busy": "2023-03-02T12:01:46.061976Z",
     "iopub.status.idle": "2023-03-02T12:01:46.153554Z",
     "shell.execute_reply": "2023-03-02T12:01:46.152499Z"
    }
   },
   "outputs": [],
   "source": [
    "par = model.par                 \n",
    "ss = model.ss                   \n",
    "sol = model.sol                "
   ]
  },
  {
   "cell_type": "markdown",
   "id": "07701d57",
   "metadata": {},
   "source": [
    "## 2. <a id='toc2_'></a>[Find steady state and Jacobian](#toc0_)"
   ]
  },
  {
   "attachments": {},
   "cell_type": "markdown",
   "id": "72006ecb",
   "metadata": {},
   "source": [
    "**Find SS:**"
   ]
  },
  {
   "cell_type": "code",
   "execution_count": 4,
   "id": "a73219e8",
   "metadata": {
    "execution": {
     "iopub.execute_input": "2023-03-02T12:01:46.155550Z",
     "iopub.status.busy": "2023-03-02T12:01:46.155550Z",
     "iopub.status.idle": "2023-03-02T12:01:46.787475Z",
     "shell.execute_reply": "2023-03-02T12:01:46.785470Z"
    }
   },
   "outputs": [],
   "source": [
    "model.find_ss()                 "
   ]
  },
  {
   "attachments": {},
   "cell_type": "markdown",
   "id": "d376b1f5",
   "metadata": {},
   "source": [
    "**Jacobian:**"
   ]
  },
  {
   "cell_type": "code",
   "execution_count": 5,
   "id": "1a7716ca",
   "metadata": {},
   "outputs": [
    {
     "name": "stdout",
     "output_type": "stream",
     "text": [
      "model compiled, 37.0 secs\n"
     ]
    }
   ],
   "source": [
    "model.compile(do_print=True)"
   ]
  },
  {
   "cell_type": "code",
   "execution_count": 6,
   "id": "a24622a5",
   "metadata": {
    "execution": {
     "iopub.execute_input": "2023-03-02T12:01:46.793486Z",
     "iopub.status.busy": "2023-03-02T12:01:46.792486Z",
     "iopub.status.idle": "2023-03-02T12:02:48.451572Z",
     "shell.execute_reply": "2023-03-02T12:02:48.451572Z"
    }
   },
   "outputs": [
    {
     "name": "stdout",
     "output_type": "stream",
     "text": [
      "Jacobian calculated in 2.0 secs\n"
     ]
    }
   ],
   "source": [
    "model.calc_jac(do_print=True)   "
   ]
  },
  {
   "cell_type": "markdown",
   "id": "9c5d0b98",
   "metadata": {},
   "source": [
    "## 3. <a id='toc3_'></a>[Find IRF](#toc0_)"
   ]
  },
  {
   "attachments": {},
   "cell_type": "markdown",
   "id": "7e48796c",
   "metadata": {},
   "source": [
    "**Set exogenous variables:**"
   ]
  },
  {
   "cell_type": "code",
   "execution_count": 7,
   "id": "e325a3c3",
   "metadata": {
    "execution": {
     "iopub.execute_input": "2023-03-02T12:02:48.454596Z",
     "iopub.status.busy": "2023-03-02T12:02:48.454596Z",
     "iopub.status.idle": "2023-03-02T12:02:48.547458Z",
     "shell.execute_reply": "2023-03-02T12:02:48.547458Z"
    }
   },
   "outputs": [],
   "source": [
    "model.set_exo_ss()              "
   ]
  },
  {
   "attachments": {},
   "cell_type": "markdown",
   "id": "823262e3",
   "metadata": {},
   "source": [
    "**Define shock:**"
   ]
  },
  {
   "cell_type": "code",
   "execution_count": 8,
   "id": "bb91b86f",
   "metadata": {
    "execution": {
     "iopub.execute_input": "2023-03-02T12:02:48.550482Z",
     "iopub.status.busy": "2023-03-02T12:02:48.550482Z",
     "iopub.status.idle": "2023-03-02T12:02:48.643053Z",
     "shell.execute_reply": "2023-03-02T12:02:48.642052Z"
    }
   },
   "outputs": [],
   "source": [
    "Tshock = 50                                                                 # length of shock\n",
    "persistence = np.array([0.80**np.arange(Tshock)])                           # persistence of shock       \n",
    "persistence = persistence.reshape((50,1)) \n",
    "Priceshock = 0.05                                                           # size of priceshock \n",
    "model.sol.chi[0:Tshock,:] = model.ss.chi*(1 + 2*Priceshock*persistence)     # the shock to chi is twice as large as the price shock   \n",
    "model.sol.P_F[0:Tshock,:] = model.ss.P_F*(1 + Priceshock*persistence)       # shock to the foreign price\n",
    "model.sol.P_M_C[0:Tshock,:] = model.ss.P_M_C*(1 + Priceshock*persistence)   # shock to the consumption import price \n",
    "model.sol.P_M_G[0:Tshock,:] = model.ss.P_M_G*(1 + Priceshock*persistence)   # shock to the government consumption import price  \n",
    "model.sol.P_M_I[0:Tshock,:] = model.ss.P_M_I*(1 + Priceshock*persistence)   # shock to the investment import price  \n",
    "model.sol.P_M_X[0:Tshock,:] = model.ss.P_M_X*(1 + Priceshock*persistence)   # shock to the export import price  "
   ]
  },
  {
   "attachments": {},
   "cell_type": "markdown",
   "id": "31c2b3fa",
   "metadata": {},
   "source": [
    "**Find IRF:**"
   ]
  },
  {
   "cell_type": "code",
   "execution_count": 9,
   "id": "75b43103",
   "metadata": {
    "execution": {
     "iopub.execute_input": "2023-03-02T12:02:48.645047Z",
     "iopub.status.busy": "2023-03-02T12:02:48.645047Z",
     "iopub.status.idle": "2023-03-02T12:02:49.430848Z",
     "shell.execute_reply": "2023-03-02T12:02:49.430848Z"
    }
   },
   "outputs": [
    {
     "name": "stdout",
     "output_type": "stream",
     "text": [
      "initial:\n",
      "t1-t0 = 0.03600 secs\n",
      "it = 99\r"
     ]
    },
    {
     "ename": "ValueError",
     "evalue": "no convergence after 100 iterations",
     "output_type": "error",
     "traceback": [
      "\u001b[1;31m---------------------------------------------------------------------------\u001b[0m",
      "\u001b[1;31mValueError\u001b[0m                                Traceback (most recent call last)",
      "Cell \u001b[1;32mIn[9], line 1\u001b[0m\n\u001b[1;32m----> 1\u001b[0m model\u001b[39m.\u001b[39;49mfind_IRF()\n",
      "File \u001b[1;32mc:\\Users\\nbk863\\Documents\\BabyMAKRO\\BabyMAKROModel.py:530\u001b[0m, in \u001b[0;36mBabyMAKROModelClass.find_IRF\u001b[1;34m(self, ini, do_print)\u001b[0m\n\u001b[0;32m    527\u001b[0m     \u001b[39mreturn\u001b[39;00m \u001b[39mself\u001b[39m\u001b[39m.\u001b[39mget_errors()\n\u001b[0;32m    529\u001b[0m \u001b[39m# c. solver\u001b[39;00m\n\u001b[1;32m--> 530\u001b[0m broyden_solver(obj,x0,\u001b[39mself\u001b[39;49m\u001b[39m.\u001b[39;49mjac,tol\u001b[39m=\u001b[39;49m\u001b[39m1e-10\u001b[39;49m,maxiter\u001b[39m=\u001b[39;49m\u001b[39m100\u001b[39;49m,do_print\u001b[39m=\u001b[39;49mdo_print,model\u001b[39m=\u001b[39;49m\u001b[39mself\u001b[39;49m)\n",
      "File \u001b[1;32mc:\\Users\\nbk863\\Documents\\BabyMAKRO\\broyden_solver.py:65\u001b[0m, in \u001b[0;36mbroyden_solver\u001b[1;34m(f, x0, jac, tol, maxiter, do_print, model)\u001b[0m\n\u001b[0;32m     61\u001b[0m     \u001b[39mif\u001b[39;00m converged: \u001b[39mreturn\u001b[39;00m x\n\u001b[0;32m     63\u001b[0m \u001b[39melse\u001b[39;00m:\n\u001b[1;32m---> 65\u001b[0m     \u001b[39mraise\u001b[39;00m \u001b[39mValueError\u001b[39;00m(\u001b[39mf\u001b[39m\u001b[39m'\u001b[39m\u001b[39mno convergence after \u001b[39m\u001b[39m{\u001b[39;00mmaxiter\u001b[39m}\u001b[39;00m\u001b[39m iterations\u001b[39m\u001b[39m'\u001b[39m)\n",
      "\u001b[1;31mValueError\u001b[0m: no convergence after 100 iterations"
     ]
    }
   ],
   "source": [
    "model.find_IRF()              "
   ]
  },
  {
   "cell_type": "markdown",
   "id": "5018b6dc",
   "metadata": {},
   "source": [
    "## 4. <a id='toc4_'></a>[Figures](#toc0_)"
   ]
  },
  {
   "cell_type": "markdown",
   "id": "45f7499a",
   "metadata": {},
   "source": [
    "### 4.1. <a id='toc4_1_'></a>[Effect on Foreign Economy and Prices](#toc0_)"
   ]
  },
  {
   "cell_type": "code",
   "execution_count": null,
   "id": "0d77c2d7",
   "metadata": {
    "execution": {
     "iopub.execute_input": "2023-03-02T12:02:49.433839Z",
     "iopub.status.busy": "2023-03-02T12:02:49.433839Z",
     "iopub.status.idle": "2023-03-02T12:02:50.920189Z",
     "shell.execute_reply": "2023-03-02T12:02:50.918185Z"
    }
   },
   "outputs": [],
   "source": [
    "model.plot_IRF(varlist=['chi','P_F','P_M_C','P_X','P_Y','P_C', 'X', 'Y', 'M'])"
   ]
  },
  {
   "cell_type": "code",
   "execution_count": null,
   "id": "5a3d1297",
   "metadata": {
    "execution": {
     "iopub.execute_input": "2023-03-02T12:02:50.926173Z",
     "iopub.status.busy": "2023-03-02T12:02:50.925173Z",
     "iopub.status.idle": "2023-03-02T12:02:52.470608Z",
     "shell.execute_reply": "2023-03-02T12:02:52.470608Z"
    }
   },
   "outputs": [],
   "source": [
    "model.plot_IRF(varlist=['X_Y','C_Y','I_Y','G_Y','Y','X_M','C_M','I_M','G_M','M'], ncol = 5)"
   ]
  },
  {
   "cell_type": "markdown",
   "id": "b370f28e",
   "metadata": {},
   "source": [
    "### 4.2. <a id='toc4_2_'></a>[Effect on Production firms, Phillips-curve and Investments](#toc0_)"
   ]
  },
  {
   "cell_type": "markdown",
   "id": "5f7ac59f",
   "metadata": {},
   "source": [
    "#### 4.2.1. <a id='toc4_2_1_'></a>[Production firms](#toc0_)"
   ]
  },
  {
   "cell_type": "code",
   "execution_count": null,
   "id": "92fe920e",
   "metadata": {
    "execution": {
     "iopub.execute_input": "2023-03-02T12:02:52.473602Z",
     "iopub.status.busy": "2023-03-02T12:02:52.473602Z",
     "iopub.status.idle": "2023-03-02T12:02:53.697688Z",
     "shell.execute_reply": "2023-03-02T12:02:53.697020Z"
    }
   },
   "outputs": [],
   "source": [
    "model.plot_IRF(varlist=['Y','K','ell','r_K','r_ell','real_r_K','real_r_ell'])"
   ]
  },
  {
   "cell_type": "markdown",
   "id": "d5ace8e7",
   "metadata": {},
   "source": [
    "#### 4.2.2. <a id='toc4_2_2_'></a>[Phillips-curve](#toc0_)"
   ]
  },
  {
   "cell_type": "code",
   "execution_count": null,
   "id": "3fd290f2",
   "metadata": {
    "execution": {
     "iopub.execute_input": "2023-03-02T12:02:53.699725Z",
     "iopub.status.busy": "2023-03-02T12:02:53.699725Z",
     "iopub.status.idle": "2023-03-02T12:02:54.233407Z",
     "shell.execute_reply": "2023-03-02T12:02:54.233407Z"
    }
   },
   "outputs": [],
   "source": [
    "model.plot_IRF(varlist=['Y','P_Y_0','P_Y'])"
   ]
  },
  {
   "cell_type": "markdown",
   "id": "638e3b71",
   "metadata": {},
   "source": [
    "#### 4.2.3. <a id='toc4_2_3_'></a>[Investments](#toc0_)"
   ]
  },
  {
   "cell_type": "code",
   "execution_count": null,
   "id": "305d70d0",
   "metadata": {
    "execution": {
     "iopub.execute_input": "2023-03-02T12:02:54.236430Z",
     "iopub.status.busy": "2023-03-02T12:02:54.236430Z",
     "iopub.status.idle": "2023-03-02T12:02:54.915530Z",
     "shell.execute_reply": "2023-03-02T12:02:54.915530Z"
    }
   },
   "outputs": [],
   "source": [
    "model.plot_IRF(varlist=['I','K','P_I','r_K'],ncol=2)"
   ]
  },
  {
   "cell_type": "markdown",
   "id": "6cac6ad4",
   "metadata": {},
   "source": [
    "### 4.3. <a id='toc4_3_'></a>[Labor market](#toc0_)"
   ]
  },
  {
   "cell_type": "code",
   "execution_count": null,
   "id": "81797df4",
   "metadata": {
    "execution": {
     "iopub.execute_input": "2023-03-02T12:02:54.918522Z",
     "iopub.status.busy": "2023-03-02T12:02:54.918522Z",
     "iopub.status.idle": "2023-03-02T12:02:56.279113Z",
     "shell.execute_reply": "2023-03-02T12:02:56.279113Z"
    }
   },
   "outputs": [],
   "source": [
    "model.plot_IRF(varlist=['S','L_ubar','v','curlyM','m_v','m_s','delta_L','W','real_W'],abs=['m_v','m_s'])"
   ]
  },
  {
   "cell_type": "markdown",
   "id": "0cd2e1b8",
   "metadata": {},
   "source": [
    "### 4.4. <a id='toc4_4_'></a>[Government](#toc0_)"
   ]
  },
  {
   "cell_type": "code",
   "execution_count": null,
   "id": "09816992",
   "metadata": {
    "execution": {
     "iopub.execute_input": "2023-03-02T12:02:56.282111Z",
     "iopub.status.busy": "2023-03-02T12:02:56.282111Z",
     "iopub.status.idle": "2023-03-02T12:02:57.010824Z",
     "shell.execute_reply": "2023-03-02T12:02:57.009824Z"
    }
   },
   "outputs": [],
   "source": [
    "model.plot_IRF(varlist=['G','B','P_G','tau'],abs=['tau'],Y_share=['B'], ncol=2)"
   ]
  },
  {
   "cell_type": "markdown",
   "id": "0b0d5cbe",
   "metadata": {},
   "source": [
    "### 4.5. <a id='toc4_5_'></a>[Effect on consumption](#toc0_)"
   ]
  },
  {
   "cell_type": "code",
   "execution_count": null,
   "id": "23fc9155",
   "metadata": {
    "execution": {
     "iopub.execute_input": "2023-03-02T12:02:57.012851Z",
     "iopub.status.busy": "2023-03-02T12:02:57.012851Z",
     "iopub.status.idle": "2023-03-02T12:02:57.962240Z",
     "shell.execute_reply": "2023-03-02T12:02:57.961274Z"
    }
   },
   "outputs": [],
   "source": [
    "model.plot_IRF(varlist=['C','C_HtM','C_R','P_C','inc','real_inc'],ncol=3,abs=['real_r_hh'])"
   ]
  },
  {
   "cell_type": "markdown",
   "id": "e9dc1c77",
   "metadata": {},
   "source": [
    "#### 4.5.1. <a id='toc4_5_1_'></a>[Effect on bequest and savings](#toc0_)"
   ]
  },
  {
   "cell_type": "code",
   "execution_count": null,
   "id": "7c503796",
   "metadata": {
    "execution": {
     "iopub.execute_input": "2023-03-02T12:02:57.964238Z",
     "iopub.status.busy": "2023-03-02T12:02:57.964238Z",
     "iopub.status.idle": "2023-03-02T12:02:58.501119Z",
     "shell.execute_reply": "2023-03-02T12:02:58.500433Z"
    }
   },
   "outputs": [],
   "source": [
    "model.plot_IRF(varlist=['real_r_hh','A','Aq'],ncol=3,abs=['real_r_hh'])"
   ]
  },
  {
   "cell_type": "markdown",
   "id": "f3cade77",
   "metadata": {},
   "source": [
    "### 4.6. <a id='toc4_6_'></a>[Other](#toc0_)"
   ]
  },
  {
   "cell_type": "markdown",
   "id": "1f88d36d",
   "metadata": {},
   "source": [
    "#### 4.6.1. <a id='toc4_6_1_'></a>[Households - life-cycle](#toc0_)"
   ]
  },
  {
   "cell_type": "code",
   "execution_count": null,
   "id": "ac73c54d-1f8e-46c0-91ea-8a680266db48",
   "metadata": {
    "execution": {
     "iopub.execute_input": "2023-03-02T12:02:58.503146Z",
     "iopub.status.busy": "2023-03-02T12:02:58.503146Z",
     "iopub.status.idle": "2023-03-02T12:02:59.752145Z",
     "shell.execute_reply": "2023-03-02T12:02:59.752145Z"
    }
   },
   "outputs": [],
   "source": [
    "model.plot_IRF_hh(varlist=['L_a','L_ubar_a','S_a','inc_a','C_a','A_a'],t0_list=[-20,-10,0,10,20])"
   ]
  },
  {
   "cell_type": "markdown",
   "id": "0427d090",
   "metadata": {},
   "source": [
    "#### 4.6.2. <a id='toc4_6_2_'></a>[Long-term](#toc0_)"
   ]
  },
  {
   "cell_type": "code",
   "execution_count": null,
   "id": "f4846b5a",
   "metadata": {
    "execution": {
     "iopub.execute_input": "2023-03-02T12:02:59.755173Z",
     "iopub.status.busy": "2023-03-02T12:02:59.755173Z",
     "iopub.status.idle": "2023-03-02T12:03:00.792179Z",
     "shell.execute_reply": "2023-03-02T12:03:00.792179Z"
    }
   },
   "outputs": [],
   "source": [
    "model.plot_IRF(varlist=['chi','K','Y','C','A','B'],T_IRF=par.T)"
   ]
  },
  {
   "cell_type": "markdown",
   "id": "39f92f6c",
   "metadata": {},
   "source": [
    "#### 4.6.3. <a id='toc4_6_3_'></a>[National accouting - quantities](#toc0_)"
   ]
  },
  {
   "cell_type": "code",
   "execution_count": null,
   "id": "f6506c56",
   "metadata": {
    "execution": {
     "iopub.execute_input": "2023-03-02T12:03:00.795202Z",
     "iopub.status.busy": "2023-03-02T12:03:00.795202Z",
     "iopub.status.idle": "2023-03-02T12:03:01.731018Z",
     "shell.execute_reply": "2023-03-02T12:03:01.729013Z"
    }
   },
   "outputs": [],
   "source": [
    "model.plot_IRF(varlist=['Y','C','G','I','X','M'])"
   ]
  }
 ],
 "metadata": {
  "kernelspec": {
   "display_name": "base",
   "language": "python",
   "name": "python3"
  },
  "language_info": {
   "codemirror_mode": {
    "name": "ipython",
    "version": 3
   },
   "file_extension": ".py",
   "mimetype": "text/x-python",
   "name": "python",
   "nbconvert_exporter": "python",
   "pygments_lexer": "ipython3",
   "version": "3.9.16"
  },
  "toc-autonumbering": true,
  "vscode": {
   "interpreter": {
    "hash": "8e46095560128379321b1ce69ff92c6b7a45fc7d9b830ea022fe373b05aa9725"
   }
  }
 },
 "nbformat": 4,
 "nbformat_minor": 5
}
