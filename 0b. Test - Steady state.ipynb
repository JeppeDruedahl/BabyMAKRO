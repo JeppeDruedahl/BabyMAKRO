{
 "cells": [
  {
   "cell_type": "code",
   "execution_count": 1,
   "id": "4b9ffaa1-2f71-40c9-9ec0-2b1a66545d46",
   "metadata": {},
   "outputs": [],
   "source": [
    "%load_ext autoreload\n",
    "%autoreload 2\n",
    "\n",
    "import time\n",
    "import pickle\n",
    "import numpy as np\n",
    "from scipy import optimize\n",
    "\n",
    "import matplotlib.pyplot as plt   \n",
    "plt.style.use('seaborn-whitegrid')\n",
    "prop_cycle = plt.rcParams['axes.prop_cycle']\n",
    "colors = prop_cycle.by_key()['color']\n",
    "\n",
    "from BabyMAKROModel import BabyMAKROModelClass"
   ]
  },
  {
   "cell_type": "markdown",
   "id": "263e2c2f-b5b3-45a5-9f2d-e04f335c0900",
   "metadata": {
    "tags": []
   },
   "source": [
    "# Setup"
   ]
  },
  {
   "cell_type": "code",
   "execution_count": 2,
   "id": "69981f4f-beca-4e00-8373-d7392662625b",
   "metadata": {},
   "outputs": [],
   "source": [
    "model = BabyMAKROModelClass(name='baseline') # create an instance of the model"
   ]
  },
  {
   "cell_type": "code",
   "execution_count": 3,
   "id": "b6a42e14-a303-4d94-9afa-b5a6e9d98a48",
   "metadata": {},
   "outputs": [],
   "source": [
    "par = model.par\n",
    "ss = model.ss\n",
    "sol = model.sol"
   ]
  },
  {
   "cell_type": "markdown",
   "id": "ecfdc724-acd2-4d62-856a-af3e4fbc64e0",
   "metadata": {},
   "source": [
    "# Find steady state"
   ]
  },
  {
   "cell_type": "code",
   "execution_count": 4,
   "id": "3c6630c8-ca58-4e1b-8dc2-d8816431d506",
   "metadata": {},
   "outputs": [
    {
     "name": "stdout",
     "output_type": "stream",
     "text": [
      "\u001b[1m\u001b[94mLabor supply, search and matching:\u001b[0m\n",
      "ss.S/par.N_work = 0.15, ss.L/par.N_work = 0.96, ss.U/par.N_work = 0.04\n",
      "ss.delta_L = 0.12, ss.m_s = 0.75, ss.m_v = 0.75, ss.v = 7.58\n",
      "\u001b[1m\u001b[94mCapital agency FOC:\u001b[0m\n",
      "ss.r_K = 0.14\n",
      "\u001b[1m\u001b[94mLabor agency FOC:\u001b[0m\n",
      "ss.r_ell = 1.01, (ss.L-ss.ell)/par.N_work*100 = 0.76\n",
      "\u001b[1m\u001b[94mProduction firm:\u001b[0m\n",
      "ss.Gamma = 0.57, ss.Y = 80.09, ss.K = 175.64\n",
      "\u001b[1m\u001b[94mCapital accumulation:\u001b[0m\n",
      "ss.iota = 17.56, ss.I = 17.56\n",
      "\u001b[1m\u001b[94mGovernment:\u001b[0m\n",
      "ss.B = 0.00, ss.G = 24.03, ss.tau = 0.58\n",
      "\u001b[1m\u001b[94mHouseholds:\u001b[0m\n",
      "ss.Aq/par.N = 0.04, ss.C = 26.28, ss.A = 55.00\n",
      "\u001b[1m\u001b[94mRe-packing firms:\u001b[0m\n",
      "\u001b[1m\u001b[94mMarket clearing:\u001b[0m\n",
      "ss.C_Y/ss.C = 0.70, ss.G_Y/ss.G = 0.90, ss.I_Y/ss.I = 0.65, ss.X_Y/ss.X = 0.60\n",
      "ss.X/ss.Y = 0.60, ss.M/ss.Y = 0.44\n",
      "\u001b[1m\u001b[94mBargaining:\u001b[0m\n",
      "par.phi = 0.643\n"
     ]
    }
   ],
   "source": [
    "model.find_ss(do_print=True)"
   ]
  },
  {
   "cell_type": "markdown",
   "id": "b51efb28-dfa3-4e1d-89cc-7fffaa4a53cd",
   "metadata": {},
   "source": [
    "# Speed and error tests"
   ]
  },
  {
   "cell_type": "code",
   "execution_count": 5,
   "id": "cf9f7d25-b165-47da-9019-db87b56eeb18",
   "metadata": {},
   "outputs": [],
   "source": [
    "model.set_exo_ss()\n",
    "model.set_unknowns_ss()"
   ]
  },
  {
   "cell_type": "markdown",
   "id": "b57d0b23-f96b-41bc-96be-22871ee741db",
   "metadata": {},
   "source": [
    "**Python evaluation:**"
   ]
  },
  {
   "cell_type": "code",
   "execution_count": 6,
   "id": "00944cf1-30aa-49bd-a5de-30d0bf40bc9d",
   "metadata": {},
   "outputs": [
    {
     "name": "stdout",
     "output_type": "stream",
     "text": [
      "Wall time: 3.71 s\n"
     ]
    }
   ],
   "source": [
    "%time model.evaluate_blocks(py=True)"
   ]
  },
  {
   "cell_type": "markdown",
   "id": "a4a03dad-8ff7-433b-a102-d056347960be",
   "metadata": {},
   "source": [
    "**Check errors:**"
   ]
  },
  {
   "cell_type": "code",
   "execution_count": 7,
   "id": "00c35c58-9a95-4e47-bb81-5bdccef9c2f6",
   "metadata": {},
   "outputs": [
    {
     "name": "stdout",
     "output_type": "stream",
     "text": [
      "A_R_ini_error       : abs. max = 5.34e-15\n",
      "Aq_diff             : abs. max = 5.33e-14\n",
      "bargaining_cond     : abs. max = 0.00e+00\n",
      "FOC_capital_agency  : abs. max = 4.44e-16\n",
      "FOC_K_ell           : abs. max = 1.78e-15\n",
      "mkt_clearing        : abs. max = 1.42e-14\n",
      "PC                  : abs. max = 1.11e-16\n"
     ]
    }
   ],
   "source": [
    "errors = model.get_errors(do_print=True)"
   ]
  },
  {
   "cell_type": "code",
   "execution_count": 8,
   "id": "5091fc38-ae2c-42cf-a9dc-35da2ac13f5f",
   "metadata": {},
   "outputs": [
    {
     "name": "stdout",
     "output_type": "stream",
     "text": [
      "errors are zero\n"
     ]
    }
   ],
   "source": [
    "if np.allclose(errors,0.0):\n",
    "    print('errors are zero')\n",
    "else:\n",
    "    raise ValueError('errors are NOT zero')"
   ]
  },
  {
   "cell_type": "markdown",
   "id": "2388d71e-8088-4722-97cc-cf6276051313",
   "metadata": {},
   "source": [
    "**First numba evaluation:**"
   ]
  },
  {
   "cell_type": "code",
   "execution_count": 9,
   "id": "cd1c0060-534a-4329-9d7f-4336d746e699",
   "metadata": {},
   "outputs": [
    {
     "name": "stdout",
     "output_type": "stream",
     "text": [
      "Wall time: 1min 8s\n"
     ]
    }
   ],
   "source": [
    "%time model.evaluate_blocks()"
   ]
  },
  {
   "cell_type": "markdown",
   "id": "7d76c91e-051f-4a54-b143-5758dd7a3eaa",
   "metadata": {},
   "source": [
    "**Time:**"
   ]
  },
  {
   "cell_type": "code",
   "execution_count": 10,
   "id": "876cc0fb-5f7b-413a-8cf8-e085d9256d3b",
   "metadata": {},
   "outputs": [
    {
     "name": "stdout",
     "output_type": "stream",
     "text": [
      "20.4 ms ± 2.23 ms per loop (mean ± std. dev. of 7 runs, 100 loops each)\n",
      "55.5 µs ± 3.02 µs per loop (mean ± std. dev. of 7 runs, 10000 loops each)\n"
     ]
    }
   ],
   "source": [
    "%timeit model.evaluate_blocks()\n",
    "%timeit model.get_errors()"
   ]
  },
  {
   "cell_type": "code",
   "execution_count": 11,
   "id": "65b6c0ac-41de-4c7d-9f71-f8222b933e88",
   "metadata": {},
   "outputs": [
    {
     "name": "stdout",
     "output_type": "stream",
     "text": [
      "347 ms ± 34.2 ms per loop (mean ± std. dev. of 7 runs, 1 loop each)\n"
     ]
    }
   ],
   "source": [
    "%timeit model.evaluate_blocks(py=True)"
   ]
  }
 ],
 "metadata": {
  "kernelspec": {
   "display_name": "Python 3 (ipykernel)",
   "language": "python",
   "name": "python3"
  },
  "language_info": {
   "codemirror_mode": {
    "name": "ipython",
    "version": 3
   },
   "file_extension": ".py",
   "mimetype": "text/x-python",
   "name": "python",
   "nbconvert_exporter": "python",
   "pygments_lexer": "ipython3",
   "version": "3.9.10"
  },
  "toc-autonumbering": true,
  "vscode": {
   "interpreter": {
    "hash": "8e46095560128379321b1ce69ff92c6b7a45fc7d9b830ea022fe373b05aa9725"
   }
  }
 },
 "nbformat": 4,
 "nbformat_minor": 5
}
