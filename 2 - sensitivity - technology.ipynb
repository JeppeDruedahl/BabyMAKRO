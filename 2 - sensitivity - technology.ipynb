{
 "cells": [
  {
   "cell_type": "markdown",
   "id": "cf1c9840",
   "metadata": {},
   "source": [
    "# Technology shock - Further comments"
   ]
  },
  {
   "cell_type": "markdown",
   "id": "ca7ab939",
   "metadata": {},
   "source": [
    "**Table of contents**<a id='toc0_'></a>    \n",
    "- 1. [Setup](#toc1_)    \n",
    "- 2. [Find IRF](#toc2_)    \n",
    "- 3. [Figures](#toc3_)    \n",
    "  - 3.1. [Sensitivity analysis wrt price-flexibility](#toc3_1_)    \n",
    "    - 3.1.1. [Production firms](#toc3_1_1_)    \n",
    "    - 3.1.2. [Phillips-curve](#toc3_1_2_)    \n",
    "    - 3.1.3. [Investments](#toc3_1_3_)    \n",
    "\n",
    "<!-- vscode-jupyter-toc-config\n",
    "\tnumbering=true\n",
    "\tanchor=true\n",
    "\tflat=false\n",
    "\tminLevel=2\n",
    "\tmaxLevel=6\n",
    "\t/vscode-jupyter-toc-config -->\n",
    "<!-- THIS CELL WILL BE REPLACED ON TOC UPDATE. DO NOT WRITE YOUR TEXT IN THIS CELL -->"
   ]
  },
  {
   "cell_type": "code",
   "execution_count": null,
   "id": "4b9ffaa1-2f71-40c9-9ec0-2b1a66545d46",
   "metadata": {
    "execution": {
     "iopub.execute_input": "2023-03-02T12:13:31.243914Z",
     "iopub.status.busy": "2023-03-02T12:13:31.243914Z",
     "iopub.status.idle": "2023-03-02T12:13:32.384182Z",
     "shell.execute_reply": "2023-03-02T12:13:32.383145Z"
    }
   },
   "outputs": [],
   "source": [
    "%load_ext autoreload\n",
    "%autoreload 2\n",
    "\n",
    "import time\n",
    "import pickle\n",
    "import numpy as np\n",
    "from scipy import optimize\n",
    "\n",
    "import matplotlib.pyplot as plt   \n",
    "plt.rcParams.update({\"axes.grid\":True,\"grid.color\":\"black\",\"grid.alpha\":\"0.25\",\"grid.linestyle\":\"--\"})\n",
    "prop_cycle = plt.rcParams['axes.prop_cycle']\n",
    "colors = prop_cycle.by_key()['color']\n",
    "\n",
    "from BabyMAKROModel import BabyMAKROModelClass"
   ]
  },
  {
   "cell_type": "markdown",
   "id": "6c350b68",
   "metadata": {},
   "source": [
    "## 1. <a id='toc1_'></a>[Setup](#toc0_)"
   ]
  },
  {
   "cell_type": "code",
   "execution_count": null,
   "id": "69981f4f-beca-4e00-8373-d7392662625b",
   "metadata": {
    "execution": {
     "iopub.execute_input": "2023-03-02T12:13:32.391170Z",
     "iopub.status.busy": "2023-03-02T12:13:32.390133Z",
     "iopub.status.idle": "2023-03-02T12:13:32.477371Z",
     "shell.execute_reply": "2023-03-02T12:13:32.477371Z"
    }
   },
   "outputs": [],
   "source": [
    "model = BabyMAKROModelClass(name='baseline') "
   ]
  },
  {
   "attachments": {},
   "cell_type": "markdown",
   "id": "3da3bc29",
   "metadata": {},
   "source": [
    "**Unpack namespaces:**"
   ]
  },
  {
   "cell_type": "code",
   "execution_count": null,
   "id": "64b53c6c",
   "metadata": {
    "execution": {
     "iopub.execute_input": "2023-03-02T12:13:32.480395Z",
     "iopub.status.busy": "2023-03-02T12:13:32.480395Z",
     "iopub.status.idle": "2023-03-02T12:13:32.572782Z",
     "shell.execute_reply": "2023-03-02T12:13:32.571780Z"
    }
   },
   "outputs": [],
   "source": [
    "par = model.par                 \n",
    "ss = model.ss                  \n",
    "sol = model.sol                "
   ]
  },
  {
   "attachments": {},
   "cell_type": "markdown",
   "id": "99ee9c81",
   "metadata": {},
   "source": [
    "**Define sensitivity parameter and values:**"
   ]
  },
  {
   "cell_type": "code",
   "execution_count": null,
   "id": "f6b17a0b",
   "metadata": {
    "execution": {
     "iopub.execute_input": "2023-03-02T12:13:32.575801Z",
     "iopub.status.busy": "2023-03-02T12:13:32.575801Z",
     "iopub.status.idle": "2023-03-02T12:15:27.772691Z",
     "shell.execute_reply": "2023-03-02T12:15:27.772246Z"
    }
   },
   "outputs": [],
   "source": [
    "parameter= 'gamma'                                         # set parameter \n",
    "parameter_values = [1.,100.0]                          # set parameter values\n",
    "models = model.multi_model(parameter,parameter_values)   # create one model for each value"
   ]
  },
  {
   "cell_type": "markdown",
   "id": "a6607add",
   "metadata": {},
   "source": [
    "## 2. <a id='toc2_'></a>[Find IRF](#toc0_)"
   ]
  },
  {
   "attachments": {},
   "cell_type": "markdown",
   "id": "9172ab72",
   "metadata": {},
   "source": [
    "**Define shock:**"
   ]
  },
  {
   "cell_type": "code",
   "execution_count": null,
   "id": "cf9f7d25-b165-47da-9019-db87b56eeb18",
   "metadata": {
    "execution": {
     "iopub.execute_input": "2023-03-02T12:15:27.774717Z",
     "iopub.status.busy": "2023-03-02T12:15:27.774717Z",
     "iopub.status.idle": "2023-03-02T12:15:27.868157Z",
     "shell.execute_reply": "2023-03-02T12:15:27.867168Z"
    }
   },
   "outputs": [],
   "source": [
    "Tshock = 50                                                 # length of shock\n",
    "persistence = 0.80**np.arange(Tshock)                       # persistence of shock   "
   ]
  },
  {
   "cell_type": "code",
   "execution_count": null,
   "id": "57f34455",
   "metadata": {
    "execution": {
     "iopub.execute_input": "2023-03-02T12:15:27.870184Z",
     "iopub.status.busy": "2023-03-02T12:15:27.870184Z",
     "iopub.status.idle": "2023-03-02T12:15:31.104646Z",
     "shell.execute_reply": "2023-03-02T12:15:31.104646Z"
    }
   },
   "outputs": [],
   "source": [
    "for model_ in models:\n",
    "    model_.set_exo_ss()                                                  \n",
    "    model_.set_unknowns_ss()                                             \n",
    "    model_.sol.Gamma[:Tshock] = model_.ss.Gamma*(1 + 0.01*persistence)   # shock to technology parameter\n",
    "    model_.find_IRF()                                                    "
   ]
  },
  {
   "cell_type": "markdown",
   "id": "106d8cf7",
   "metadata": {},
   "source": [
    "## 3. <a id='toc3_'></a>[Figures](#toc0_)"
   ]
  },
  {
   "cell_type": "markdown",
   "id": "f6ac675f",
   "metadata": {},
   "source": [
    "### 3.1. <a id='toc3_1_'></a>[Sensitivity analysis wrt price-flexibility](#toc0_)"
   ]
  },
  {
   "cell_type": "markdown",
   "id": "cae23ac1",
   "metadata": {},
   "source": [
    "#### 3.1.1. <a id='toc3_1_1_'></a>[Production firms](#toc0_)"
   ]
  },
  {
   "cell_type": "code",
   "execution_count": null,
   "id": "43d16885",
   "metadata": {
    "execution": {
     "iopub.execute_input": "2023-03-02T12:15:31.107562Z",
     "iopub.status.busy": "2023-03-02T12:15:31.107562Z",
     "iopub.status.idle": "2023-03-02T12:15:32.671656Z",
     "shell.execute_reply": "2023-03-02T12:15:32.670655Z"
    }
   },
   "outputs": [],
   "source": [
    "model.plot_IRF_models(models,parameter,varlist=['Gamma','r_K','r_ell','Y','K','ell','real_r_K','real_r_ell'])"
   ]
  },
  {
   "cell_type": "markdown",
   "id": "73b3d874",
   "metadata": {},
   "source": [
    "#### 3.1.2. <a id='toc3_1_2_'></a>[Phillips-curve](#toc0_)"
   ]
  },
  {
   "cell_type": "code",
   "execution_count": null,
   "id": "ec77930a",
   "metadata": {
    "execution": {
     "iopub.execute_input": "2023-03-02T12:15:32.674683Z",
     "iopub.status.busy": "2023-03-02T12:15:32.674683Z",
     "iopub.status.idle": "2023-03-02T12:15:33.258137Z",
     "shell.execute_reply": "2023-03-02T12:15:33.257276Z"
    }
   },
   "outputs": [],
   "source": [
    "model.plot_IRF_models(models,parameter,varlist=['Y','P_Y_0','P_Y'])"
   ]
  },
  {
   "cell_type": "markdown",
   "id": "b4e6a8b8",
   "metadata": {},
   "source": [
    "#### 3.1.3. <a id='toc3_1_3_'></a>[Investments](#toc0_)"
   ]
  },
  {
   "cell_type": "code",
   "execution_count": null,
   "id": "45ecf321",
   "metadata": {
    "execution": {
     "iopub.execute_input": "2023-03-02T12:15:33.260159Z",
     "iopub.status.busy": "2023-03-02T12:15:33.260159Z",
     "iopub.status.idle": "2023-03-02T12:15:33.998202Z",
     "shell.execute_reply": "2023-03-02T12:15:33.998202Z"
    }
   },
   "outputs": [],
   "source": [
    "model.plot_IRF_models(models,parameter,varlist=['I','K','P_I','r_K'],ncol=2)"
   ]
  }
 ],
 "metadata": {
  "kernelspec": {
   "display_name": "Python 3 (ipykernel)",
   "language": "python",
   "name": "python3"
  },
  "language_info": {
   "codemirror_mode": {
    "name": "ipython",
    "version": 3
   },
   "file_extension": ".py",
   "mimetype": "text/x-python",
   "name": "python",
   "nbconvert_exporter": "python",
   "pygments_lexer": "ipython3",
   "version": "3.9.16"
  },
  "toc-autonumbering": true,
  "vscode": {
   "interpreter": {
    "hash": "8e46095560128379321b1ce69ff92c6b7a45fc7d9b830ea022fe373b05aa9725"
   }
  }
 },
 "nbformat": 4,
 "nbformat_minor": 5
}
