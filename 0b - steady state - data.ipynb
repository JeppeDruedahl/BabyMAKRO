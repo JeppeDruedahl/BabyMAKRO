{
 "cells": [
  {
   "cell_type": "markdown",
   "id": "dffb9946",
   "metadata": {
    "papermill": {
     "duration": 0.016993,
     "end_time": "2023-10-23T12:54:51.585065",
     "exception": false,
     "start_time": "2023-10-23T12:54:51.568072",
     "status": "completed"
    },
    "tags": []
   },
   "source": [
    "# Data for calibration\n"
   ]
  },
  {
   "cell_type": "markdown",
   "id": "ddd87a2d",
   "metadata": {
    "papermill": {
     "duration": 0.018488,
     "end_time": "2023-10-23T12:54:51.621236",
     "exception": false,
     "start_time": "2023-10-23T12:54:51.602748",
     "status": "completed"
    },
    "tags": []
   },
   "source": [
    "**Table of contents**<a id='toc0_'></a>    \n",
    "- 1. [Download data](#toc1_)    \n",
    "- 2. [National accounts](#toc2_)    \n",
    "- 3. [Capital, employment and population](#toc3_)    \n",
    "- 4. [Unemployment rate](#toc4_)    \n",
    "- 5. [Steady state - aggregate](#toc5_)    \n",
    "  - 5.1. [Save to disc](#toc5_1_)    \n",
    "- 6. [Income and wealth over life-cycle](#toc6_)    \n",
    "- 7. [Life-cyle profile of income](#toc7_)    \n",
    "  - 7.1. [Predicted vs. observed income in year](#toc7_1_)    \n",
    "  - 7.2. [Save to disc](#toc7_2_)    \n",
    "  - 7.3. [Predicted vs. observed income for cohort 1983](#toc7_3_)    \n",
    "- 8. [Wealth-income ratio:](#toc8_)    \n",
    "  - 8.1. [Save to disc](#toc8_1_)    \n",
    "\n",
    "<!-- vscode-jupyter-toc-config\n",
    "\tnumbering=true\n",
    "\tanchor=true\n",
    "\tflat=false\n",
    "\tminLevel=2\n",
    "\tmaxLevel=6\n",
    "\t/vscode-jupyter-toc-config -->\n",
    "<!-- THIS CELL WILL BE REPLACED ON TOC UPDATE. DO NOT WRITE YOUR TEXT IN THIS CELL -->"
   ]
  },
  {
   "cell_type": "code",
   "execution_count": 1,
   "id": "08d9e43a",
   "metadata": {
    "execution": {
     "iopub.execute_input": "2023-10-23T12:54:51.664469Z",
     "iopub.status.busy": "2023-10-23T12:54:51.664469Z",
     "iopub.status.idle": "2023-10-23T12:54:55.896083Z",
     "shell.execute_reply": "2023-10-23T12:54:55.896083Z"
    },
    "papermill": {
     "duration": 4.258377,
     "end_time": "2023-10-23T12:54:55.896083",
     "exception": false,
     "start_time": "2023-10-23T12:54:51.637706",
     "status": "completed"
    },
    "tags": []
   },
   "outputs": [],
   "source": [
    "%load_ext autoreload\n",
    "%autoreload 2\n",
    "\n",
    "\n",
    "import warnings\n",
    "\n",
    "import numpy as np\n",
    "import pandas as pd\n",
    "import pickle\n",
    "\n",
    "import statsmodels.api as sm # pip install statsmodels\n",
    "from linearmodels import PanelOLS # pip install linearmodels\n",
    "from IPython.display import display\n",
    "\n",
    "from dstapi import DstApi # the helper class. pip install git+https://github.com/alemartinello/dstapi\n",
    "\n",
    "import matplotlib.pyplot as plt   \n",
    "plt.rcParams.update({\"axes.grid\":True,\"grid.color\":\"black\",\"grid.alpha\":\"0.25\",\"grid.linestyle\":\"--\"})\n",
    "prop_cycle = plt.rcParams['axes.prop_cycle']\n",
    "colors = prop_cycle.by_key()['color']\n",
    "\n",
    "from BabyMAKROModel import BabyMAKROModelClass"
   ]
  },
  {
   "cell_type": "markdown",
   "id": "0d4d96c2",
   "metadata": {
    "papermill": {
     "duration": 0.026749,
     "end_time": "2023-10-23T12:54:55.941314",
     "exception": false,
     "start_time": "2023-10-23T12:54:55.914565",
     "status": "completed"
    },
    "tags": []
   },
   "source": [
    "## 1. <a id='toc1_'></a>[Download data](#toc0_)"
   ]
  },
  {
   "cell_type": "code",
   "execution_count": 2,
   "id": "4e76803d",
   "metadata": {
    "execution": {
     "iopub.execute_input": "2023-10-23T12:54:55.978437Z",
     "iopub.status.busy": "2023-10-23T12:54:55.977427Z",
     "iopub.status.idle": "2023-10-23T12:54:56.270683Z",
     "shell.execute_reply": "2023-10-23T12:54:56.270683Z"
    },
    "papermill": {
     "duration": 0.314586,
     "end_time": "2023-10-23T12:54:56.273681",
     "exception": false,
     "start_time": "2023-10-23T12:54:55.959095",
     "status": "completed"
    },
    "tags": []
   },
   "outputs": [],
   "source": [
    "NationalAccounts = DstApi('NAN1')        # Unit : current prices, bill. DKK\n",
    "EmploymentPopuplation = DstApi('NAHB')   # Unit : total number of people\n",
    "PopulationAge   = DstApi('BEFOLK1')      # Unit: total number of people by age\n",
    "Unemployment = DstApi('AULAAR')          # Unit : % of labour force\n",
    "Capital = DstApi('NABK10')               # Unit : current prices, bill. DKK\n",
    "\n",
    "Income = DstApi('INDKP201')              # Unit : fixed and current prices, DKK\n",
    "Wealth = DstApi('FORMUE11')              # Unit : current prices, DKK / Using 2014-defintion of net-wealth\n",
    "\n",
    "FirstYear = 2000                         # Define first year of data (in cases where prior data exists)"
   ]
  },
  {
   "cell_type": "code",
   "execution_count": 3,
   "id": "0eaa5b21",
   "metadata": {
    "execution": {
     "iopub.execute_input": "2023-10-23T12:54:56.311284Z",
     "iopub.status.busy": "2023-10-23T12:54:56.310284Z",
     "iopub.status.idle": "2023-10-23T12:54:56.545747Z",
     "shell.execute_reply": "2023-10-23T12:54:56.545747Z"
    },
    "papermill": {
     "duration": 0.255076,
     "end_time": "2023-10-23T12:54:56.545747",
     "exception": false,
     "start_time": "2023-10-23T12:54:56.290671",
     "status": "completed"
    },
    "tags": []
   },
   "outputs": [],
   "source": [
    "model = BabyMAKROModelClass(name='baseline') # create an instance of the model\n",
    "par = model.par     # unpack model parameters\n"
   ]
  },
  {
   "cell_type": "markdown",
   "id": "966d3707",
   "metadata": {
    "papermill": {
     "duration": 0.020941,
     "end_time": "2023-10-23T12:54:56.580751",
     "exception": false,
     "start_time": "2023-10-23T12:54:56.559810",
     "status": "completed"
    },
    "tags": []
   },
   "source": [
    "## 2. <a id='toc2_'></a>[National accounts](#toc0_)"
   ]
  },
  {
   "cell_type": "code",
   "execution_count": 4,
   "id": "0123b390",
   "metadata": {
    "execution": {
     "iopub.execute_input": "2023-10-23T12:54:56.619798Z",
     "iopub.status.busy": "2023-10-23T12:54:56.618806Z",
     "iopub.status.idle": "2023-10-23T12:54:57.241467Z",
     "shell.execute_reply": "2023-10-23T12:54:57.239503Z"
    },
    "papermill": {
     "duration": 0.652925,
     "end_time": "2023-10-23T12:54:57.243675",
     "exception": false,
     "start_time": "2023-10-23T12:54:56.590750",
     "status": "completed"
    },
    "tags": []
   },
   "outputs": [
    {
     "name": "stdout",
     "output_type": "stream",
     "text": [
      "Table NAN1: Demand and supply by transaction, price unit and time\n",
      "Last update: 2023-06-30T08:00:00\n"
     ]
    },
    {
     "data": {
      "text/html": [
       "<div>\n",
       "<style scoped>\n",
       "    .dataframe tbody tr th:only-of-type {\n",
       "        vertical-align: middle;\n",
       "    }\n",
       "\n",
       "    .dataframe tbody tr th {\n",
       "        vertical-align: top;\n",
       "    }\n",
       "\n",
       "    .dataframe thead th {\n",
       "        text-align: right;\n",
       "    }\n",
       "</style>\n",
       "<table border=\"1\" class=\"dataframe\">\n",
       "  <thead>\n",
       "    <tr style=\"text-align: right;\">\n",
       "      <th></th>\n",
       "      <th>variable name</th>\n",
       "      <th># values</th>\n",
       "      <th>First value</th>\n",
       "      <th>First value label</th>\n",
       "      <th>Last value</th>\n",
       "      <th>Last value label</th>\n",
       "      <th>Time variable</th>\n",
       "    </tr>\n",
       "  </thead>\n",
       "  <tbody>\n",
       "    <tr>\n",
       "      <th>0</th>\n",
       "      <td>TRANSAKT</td>\n",
       "      <td>31</td>\n",
       "      <td>B1GQK</td>\n",
       "      <td>B.1*g Gross domestic product</td>\n",
       "      <td>EMPM_DC</td>\n",
       "      <td>Total employment (1,000 persons)</td>\n",
       "      <td>False</td>\n",
       "    </tr>\n",
       "    <tr>\n",
       "      <th>1</th>\n",
       "      <td>PRISENHED</td>\n",
       "      <td>6</td>\n",
       "      <td>V_M</td>\n",
       "      <td>Current prices, (bill. DKK.)</td>\n",
       "      <td>LAN_C</td>\n",
       "      <td>Pr. capita, 2010-prices, chained values, (1000...</td>\n",
       "      <td>False</td>\n",
       "    </tr>\n",
       "    <tr>\n",
       "      <th>2</th>\n",
       "      <td>Tid</td>\n",
       "      <td>57</td>\n",
       "      <td>1966</td>\n",
       "      <td>1966</td>\n",
       "      <td>2022</td>\n",
       "      <td>2022</td>\n",
       "      <td>True</td>\n",
       "    </tr>\n",
       "  </tbody>\n",
       "</table>\n",
       "</div>"
      ],
      "text/plain": [
       "  variable name  # values First value             First value label  \\\n",
       "0      TRANSAKT        31       B1GQK  B.1*g Gross domestic product   \n",
       "1     PRISENHED         6         V_M  Current prices, (bill. DKK.)   \n",
       "2           Tid        57        1966                          1966   \n",
       "\n",
       "  Last value                                   Last value label  Time variable  \n",
       "0    EMPM_DC                   Total employment (1,000 persons)          False  \n",
       "1      LAN_C  Pr. capita, 2010-prices, chained values, (1000...          False  \n",
       "2       2022                                               2022           True  "
      ]
     },
     "metadata": {},
     "output_type": "display_data"
    }
   ],
   "source": [
    "display(NationalAccounts.tablesummary(language='en'))\n",
    "# display(NationalAccounts.variable_levels('PRISENHED', language='en'))\n",
    "# display(NationalAccounts.variable_levels('TRANSAKT', language='en'))"
   ]
  },
  {
   "attachments": {},
   "cell_type": "markdown",
   "id": "acec2c97",
   "metadata": {
    "papermill": {
     "duration": 0.015629,
     "end_time": "2023-10-23T12:54:57.274944",
     "exception": false,
     "start_time": "2023-10-23T12:54:57.259315",
     "status": "completed"
    },
    "tags": []
   },
   "source": [
    "**Create dataframe:**"
   ]
  },
  {
   "cell_type": "code",
   "execution_count": 5,
   "id": "05e62e9a",
   "metadata": {
    "execution": {
     "iopub.execute_input": "2023-10-23T12:54:57.323924Z",
     "iopub.status.busy": "2023-10-23T12:54:57.323924Z",
     "iopub.status.idle": "2023-10-23T12:54:57.775526Z",
     "shell.execute_reply": "2023-10-23T12:54:57.775526Z"
    },
    "papermill": {
     "duration": 0.472125,
     "end_time": "2023-10-23T12:54:57.775526",
     "exception": false,
     "start_time": "2023-10-23T12:54:57.303401",
     "status": "completed"
    },
    "tags": []
   },
   "outputs": [],
   "source": [
    "params = {\n",
    "    'table': 'NAN1',\n",
    "    'format': 'BULK',\n",
    "    'lang': 'en',\n",
    "    'variables': [\n",
    "        {'code': 'TRANSAKT', 'values': ['B1GQK','P7K','P6D','P31S1MD','P3S13D','P5GD']},    # variables of interest\n",
    "        {'code': 'PRISENHED', 'values': ['V_M']},                                           # current prices\n",
    "        {'code': 'Tid', 'values': [f'>={FirstYear}<']}                                      # specified years    \n",
    "        ]\n",
    "    }\n",
    "SupplyBalanceVar = NationalAccounts.get_data(params=params).set_index(['TID']).sort_values(['TID'])"
   ]
  },
  {
   "cell_type": "code",
   "execution_count": 6,
   "id": "06dac04b",
   "metadata": {
    "execution": {
     "iopub.execute_input": "2023-10-23T12:54:57.814136Z",
     "iopub.status.busy": "2023-10-23T12:54:57.814136Z",
     "iopub.status.idle": "2023-10-23T12:54:58.061208Z",
     "shell.execute_reply": "2023-10-23T12:54:58.060005Z"
    },
    "papermill": {
     "duration": 0.272054,
     "end_time": "2023-10-23T12:54:58.063206",
     "exception": false,
     "start_time": "2023-10-23T12:54:57.791152",
     "status": "completed"
    },
    "tags": []
   },
   "outputs": [
    {
     "data": {
      "text/html": [
       "<div>\n",
       "<style scoped>\n",
       "    .dataframe tbody tr th:only-of-type {\n",
       "        vertical-align: middle;\n",
       "    }\n",
       "\n",
       "    .dataframe tbody tr th {\n",
       "        vertical-align: top;\n",
       "    }\n",
       "\n",
       "    .dataframe thead th {\n",
       "        text-align: right;\n",
       "    }\n",
       "</style>\n",
       "<table border=\"1\" class=\"dataframe\">\n",
       "  <thead>\n",
       "    <tr style=\"text-align: right;\">\n",
       "      <th></th>\n",
       "      <th>M_ratio</th>\n",
       "      <th>X_ratio</th>\n",
       "      <th>C_ratio</th>\n",
       "      <th>G_ratio</th>\n",
       "      <th>I_ratio</th>\n",
       "    </tr>\n",
       "    <tr>\n",
       "      <th>TID</th>\n",
       "      <th></th>\n",
       "      <th></th>\n",
       "      <th></th>\n",
       "      <th></th>\n",
       "      <th></th>\n",
       "    </tr>\n",
       "  </thead>\n",
       "  <tbody>\n",
       "    <tr>\n",
       "      <th>2000</th>\n",
       "      <td>0.381792</td>\n",
       "      <td>0.448866</td>\n",
       "      <td>0.470646</td>\n",
       "      <td>0.238752</td>\n",
       "      <td>0.223529</td>\n",
       "    </tr>\n",
       "    <tr>\n",
       "      <th>2001</th>\n",
       "      <td>0.384542</td>\n",
       "      <td>0.455997</td>\n",
       "      <td>0.467080</td>\n",
       "      <td>0.243237</td>\n",
       "      <td>0.218228</td>\n",
       "    </tr>\n",
       "    <tr>\n",
       "      <th>2002</th>\n",
       "      <td>0.388924</td>\n",
       "      <td>0.457420</td>\n",
       "      <td>0.469333</td>\n",
       "      <td>0.248670</td>\n",
       "      <td>0.213430</td>\n",
       "    </tr>\n",
       "    <tr>\n",
       "      <th>2003</th>\n",
       "      <td>0.370824</td>\n",
       "      <td>0.438753</td>\n",
       "      <td>0.472439</td>\n",
       "      <td>0.250348</td>\n",
       "      <td>0.209215</td>\n",
       "    </tr>\n",
       "    <tr>\n",
       "      <th>2004</th>\n",
       "      <td>0.383134</td>\n",
       "      <td>0.439641</td>\n",
       "      <td>0.477224</td>\n",
       "      <td>0.249336</td>\n",
       "      <td>0.216932</td>\n",
       "    </tr>\n",
       "  </tbody>\n",
       "</table>\n",
       "</div>"
      ],
      "text/plain": [
       "       M_ratio   X_ratio   C_ratio   G_ratio   I_ratio\n",
       "TID                                                   \n",
       "2000  0.381792  0.448866  0.470646  0.238752  0.223529\n",
       "2001  0.384542  0.455997  0.467080  0.243237  0.218228\n",
       "2002  0.388924  0.457420  0.469333  0.248670  0.213430\n",
       "2003  0.370824  0.438753  0.472439  0.250348  0.209215\n",
       "2004  0.383134  0.439641  0.477224  0.249336  0.216932"
      ]
     },
     "metadata": {},
     "output_type": "display_data"
    }
   ],
   "source": [
    "# a. components of GDP\n",
    "C = SupplyBalanceVar[['INDHOLD']].loc[SupplyBalanceVar['TRANSAKT'] == 'P.31 Private consumption'].apply(pd.to_numeric)\n",
    "Y = SupplyBalanceVar[['INDHOLD']].loc[SupplyBalanceVar['TRANSAKT'] == 'B.1*g Gross domestic product'].apply(pd.to_numeric)\n",
    "M = SupplyBalanceVar[['INDHOLD']].loc[SupplyBalanceVar['TRANSAKT'] == 'P.7 Imports of goods and services'].apply(pd.to_numeric)\n",
    "X = SupplyBalanceVar[['INDHOLD']].loc[SupplyBalanceVar['TRANSAKT'] == 'P.6 Exports of goods and services'].apply(pd.to_numeric)\n",
    "G = SupplyBalanceVar[['INDHOLD']].loc[SupplyBalanceVar['TRANSAKT'] == 'P.3 Government consumption expenditure'].apply(pd.to_numeric)\n",
    "I = SupplyBalanceVar[['INDHOLD']].loc[SupplyBalanceVar['TRANSAKT'] == 'P.5g Gross capital formation'].apply(pd.to_numeric)\n",
    "\n",
    "# b. ratio of each component to GDP\n",
    "SupplyBalanceDF = pd.DataFrame()\n",
    "SupplyBalanceDF['M_ratio'] = M/Y\n",
    "SupplyBalanceDF['X_ratio'] = X/Y\n",
    "SupplyBalanceDF['C_ratio'] = C/Y\n",
    "SupplyBalanceDF['G_ratio'] = G/Y\n",
    "SupplyBalanceDF['I_ratio'] = I/Y\n",
    "\n",
    "display(SupplyBalanceDF.head())"
   ]
  },
  {
   "cell_type": "markdown",
   "id": "6e95ab21",
   "metadata": {
    "papermill": {
     "duration": 0.02834,
     "end_time": "2023-10-23T12:54:58.093602",
     "exception": false,
     "start_time": "2023-10-23T12:54:58.065262",
     "status": "completed"
    },
    "tags": []
   },
   "source": [
    "## 3. <a id='toc3_'></a>[Capital, employment and population](#toc0_)"
   ]
  },
  {
   "attachments": {},
   "cell_type": "markdown",
   "id": "46f29697",
   "metadata": {
    "papermill": {
     "duration": 0.017975,
     "end_time": "2023-10-23T12:54:58.126723",
     "exception": false,
     "start_time": "2023-10-23T12:54:58.108748",
     "status": "completed"
    },
    "tags": []
   },
   "source": [
    "**Employment and population:**"
   ]
  },
  {
   "cell_type": "code",
   "execution_count": 7,
   "id": "8a3a7741",
   "metadata": {
    "execution": {
     "iopub.execute_input": "2023-10-23T12:54:58.166952Z",
     "iopub.status.busy": "2023-10-23T12:54:58.165953Z",
     "iopub.status.idle": "2023-10-23T12:54:58.659942Z",
     "shell.execute_reply": "2023-10-23T12:54:58.659942Z"
    },
    "papermill": {
     "duration": 0.520447,
     "end_time": "2023-10-23T12:54:58.661976",
     "exception": false,
     "start_time": "2023-10-23T12:54:58.141529",
     "status": "completed"
    },
    "tags": []
   },
   "outputs": [
    {
     "name": "stdout",
     "output_type": "stream",
     "text": [
      "Table NAHB: Beskæftigelse og befolkning efter socioøkonomisk status og tid\n",
      "Last update: 2023-06-30T08:00:00\n"
     ]
    },
    {
     "data": {
      "text/html": [
       "<div>\n",
       "<style scoped>\n",
       "    .dataframe tbody tr th:only-of-type {\n",
       "        vertical-align: middle;\n",
       "    }\n",
       "\n",
       "    .dataframe tbody tr th {\n",
       "        vertical-align: top;\n",
       "    }\n",
       "\n",
       "    .dataframe thead th {\n",
       "        text-align: right;\n",
       "    }\n",
       "</style>\n",
       "<table border=\"1\" class=\"dataframe\">\n",
       "  <thead>\n",
       "    <tr style=\"text-align: right;\">\n",
       "      <th></th>\n",
       "      <th>variable name</th>\n",
       "      <th># values</th>\n",
       "      <th>First value</th>\n",
       "      <th>First value label</th>\n",
       "      <th>Last value</th>\n",
       "      <th>Last value label</th>\n",
       "      <th>Time variable</th>\n",
       "    </tr>\n",
       "  </thead>\n",
       "  <tbody>\n",
       "    <tr>\n",
       "      <th>0</th>\n",
       "      <td>SOCIO</td>\n",
       "      <td>3</td>\n",
       "      <td>EMPM_DC</td>\n",
       "      <td>Samlet antal beskæftigede (antal)</td>\n",
       "      <td>POP</td>\n",
       "      <td>Gennemsnitsbefolkning</td>\n",
       "      <td>False</td>\n",
       "    </tr>\n",
       "    <tr>\n",
       "      <th>1</th>\n",
       "      <td>Tid</td>\n",
       "      <td>57</td>\n",
       "      <td>1966</td>\n",
       "      <td>1966</td>\n",
       "      <td>2022</td>\n",
       "      <td>2022</td>\n",
       "      <td>True</td>\n",
       "    </tr>\n",
       "  </tbody>\n",
       "</table>\n",
       "</div>"
      ],
      "text/plain": [
       "  variable name  # values First value                  First value label  \\\n",
       "0         SOCIO         3     EMPM_DC  Samlet antal beskæftigede (antal)   \n",
       "1           Tid        57        1966                               1966   \n",
       "\n",
       "  Last value       Last value label  Time variable  \n",
       "0        POP  Gennemsnitsbefolkning          False  \n",
       "1       2022                   2022           True  "
      ]
     },
     "metadata": {},
     "output_type": "display_data"
    },
    {
     "data": {
      "text/html": [
       "<div>\n",
       "<style scoped>\n",
       "    .dataframe tbody tr th:only-of-type {\n",
       "        vertical-align: middle;\n",
       "    }\n",
       "\n",
       "    .dataframe tbody tr th {\n",
       "        vertical-align: top;\n",
       "    }\n",
       "\n",
       "    .dataframe thead th {\n",
       "        text-align: right;\n",
       "    }\n",
       "</style>\n",
       "<table border=\"1\" class=\"dataframe\">\n",
       "  <thead>\n",
       "    <tr style=\"text-align: right;\">\n",
       "      <th></th>\n",
       "      <th>id</th>\n",
       "      <th>text</th>\n",
       "    </tr>\n",
       "  </thead>\n",
       "  <tbody>\n",
       "    <tr>\n",
       "      <th>0</th>\n",
       "      <td>EMPM_DC</td>\n",
       "      <td>Samlet antal beskæftigede (antal)</td>\n",
       "    </tr>\n",
       "    <tr>\n",
       "      <th>1</th>\n",
       "      <td>EMPM_NC</td>\n",
       "      <td>Beskæftigede med bopæl i Danmark</td>\n",
       "    </tr>\n",
       "    <tr>\n",
       "      <th>2</th>\n",
       "      <td>POP</td>\n",
       "      <td>Gennemsnitsbefolkning</td>\n",
       "    </tr>\n",
       "  </tbody>\n",
       "</table>\n",
       "</div>"
      ],
      "text/plain": [
       "        id                               text\n",
       "0  EMPM_DC  Samlet antal beskæftigede (antal)\n",
       "1  EMPM_NC   Beskæftigede med bopæl i Danmark\n",
       "2      POP              Gennemsnitsbefolkning"
      ]
     },
     "metadata": {},
     "output_type": "display_data"
    }
   ],
   "source": [
    "display(EmploymentPopuplation.tablesummary())\n",
    "display(EmploymentPopuplation.variable_levels('SOCIO', language='en'))"
   ]
  },
  {
   "cell_type": "code",
   "execution_count": 8,
   "id": "e4ee1bbd",
   "metadata": {
    "execution": {
     "iopub.execute_input": "2023-10-23T12:54:58.700844Z",
     "iopub.status.busy": "2023-10-23T12:54:58.700844Z",
     "iopub.status.idle": "2023-10-23T12:54:59.191856Z",
     "shell.execute_reply": "2023-10-23T12:54:59.191856Z"
    },
    "papermill": {
     "duration": 0.509729,
     "end_time": "2023-10-23T12:54:59.191856",
     "exception": false,
     "start_time": "2023-10-23T12:54:58.682127",
     "status": "completed"
    },
    "tags": []
   },
   "outputs": [],
   "source": [
    "params = {\n",
    "    'table': 'NAHB',\n",
    "    'format': 'BULK',\n",
    "    'lang': 'en',\n",
    "    'variables': [\n",
    "        {'code': 'SOCIO', 'values': ['EMPM_DC','POP']},     # variables of interest\n",
    "        {'code': 'Tid', 'values': [f'>={FirstYear}<']}      # specified years\n",
    "        ]\n",
    "    }\n",
    "EmploymentPopuplationVar = EmploymentPopuplation.get_data(params=params).sort_values(['TID'])"
   ]
  },
  {
   "cell_type": "markdown",
   "id": "4b77d0eb",
   "metadata": {
    "papermill": {
     "duration": 0.003052,
     "end_time": "2023-10-23T12:54:59.214085",
     "exception": false,
     "start_time": "2023-10-23T12:54:59.211033",
     "status": "completed"
    },
    "tags": []
   },
   "source": [
    "**Population older than 22 but younger than 78:**"
   ]
  },
  {
   "cell_type": "code",
   "execution_count": 9,
   "id": "395d9ad5",
   "metadata": {
    "execution": {
     "iopub.execute_input": "2023-10-23T12:54:59.276057Z",
     "iopub.status.busy": "2023-10-23T12:54:59.275059Z",
     "iopub.status.idle": "2023-10-23T12:54:59.807899Z",
     "shell.execute_reply": "2023-10-23T12:54:59.806893Z"
    },
    "papermill": {
     "duration": 0.567667,
     "end_time": "2023-10-23T12:54:59.810688",
     "exception": false,
     "start_time": "2023-10-23T12:54:59.243021",
     "status": "completed"
    },
    "tags": []
   },
   "outputs": [
    {
     "name": "stdout",
     "output_type": "stream",
     "text": [
      "Table BEFOLK1: Befolkningen 1. januar efter køn, alder, civilstand og tid\n",
      "Last update: 2023-03-01T08:00:00\n"
     ]
    },
    {
     "data": {
      "text/html": [
       "<div>\n",
       "<style scoped>\n",
       "    .dataframe tbody tr th:only-of-type {\n",
       "        vertical-align: middle;\n",
       "    }\n",
       "\n",
       "    .dataframe tbody tr th {\n",
       "        vertical-align: top;\n",
       "    }\n",
       "\n",
       "    .dataframe thead th {\n",
       "        text-align: right;\n",
       "    }\n",
       "</style>\n",
       "<table border=\"1\" class=\"dataframe\">\n",
       "  <thead>\n",
       "    <tr style=\"text-align: right;\">\n",
       "      <th></th>\n",
       "      <th>variable name</th>\n",
       "      <th># values</th>\n",
       "      <th>First value</th>\n",
       "      <th>First value label</th>\n",
       "      <th>Last value</th>\n",
       "      <th>Last value label</th>\n",
       "      <th>Time variable</th>\n",
       "    </tr>\n",
       "  </thead>\n",
       "  <tbody>\n",
       "    <tr>\n",
       "      <th>0</th>\n",
       "      <td>KØN</td>\n",
       "      <td>3</td>\n",
       "      <td>TOT</td>\n",
       "      <td>I alt</td>\n",
       "      <td>2</td>\n",
       "      <td>Kvinder</td>\n",
       "      <td>False</td>\n",
       "    </tr>\n",
       "    <tr>\n",
       "      <th>1</th>\n",
       "      <td>ALDER</td>\n",
       "      <td>101</td>\n",
       "      <td>TOT</td>\n",
       "      <td>Alder i alt</td>\n",
       "      <td>99-</td>\n",
       "      <td>99 år og derover</td>\n",
       "      <td>False</td>\n",
       "    </tr>\n",
       "    <tr>\n",
       "      <th>2</th>\n",
       "      <td>CIVILSTAND</td>\n",
       "      <td>5</td>\n",
       "      <td>TOT</td>\n",
       "      <td>I alt</td>\n",
       "      <td>F</td>\n",
       "      <td>Fraskilt</td>\n",
       "      <td>False</td>\n",
       "    </tr>\n",
       "    <tr>\n",
       "      <th>3</th>\n",
       "      <td>Tid</td>\n",
       "      <td>53</td>\n",
       "      <td>1971</td>\n",
       "      <td>1971</td>\n",
       "      <td>2023</td>\n",
       "      <td>2023</td>\n",
       "      <td>True</td>\n",
       "    </tr>\n",
       "  </tbody>\n",
       "</table>\n",
       "</div>"
      ],
      "text/plain": [
       "  variable name  # values First value First value label Last value  \\\n",
       "0           KØN         3         TOT             I alt          2   \n",
       "1         ALDER       101         TOT       Alder i alt        99-   \n",
       "2    CIVILSTAND         5         TOT             I alt          F   \n",
       "3           Tid        53        1971              1971       2023   \n",
       "\n",
       "   Last value label  Time variable  \n",
       "0           Kvinder          False  \n",
       "1  99 år og derover          False  \n",
       "2          Fraskilt          False  \n",
       "3              2023           True  "
      ]
     },
     "metadata": {},
     "output_type": "display_data"
    }
   ],
   "source": [
    "display(PopulationAge.tablesummary())"
   ]
  },
  {
   "cell_type": "code",
   "execution_count": 10,
   "id": "86afea3a",
   "metadata": {
    "execution": {
     "iopub.execute_input": "2023-10-23T12:54:59.851249Z",
     "iopub.status.busy": "2023-10-23T12:54:59.851249Z",
     "iopub.status.idle": "2023-10-23T12:55:00.644024Z",
     "shell.execute_reply": "2023-10-23T12:55:00.644024Z"
    },
    "papermill": {
     "duration": 0.817305,
     "end_time": "2023-10-23T12:55:00.644024",
     "exception": false,
     "start_time": "2023-10-23T12:54:59.826719",
     "status": "completed"
    },
    "tags": []
   },
   "outputs": [
    {
     "data": {
      "text/html": [
       "<div>\n",
       "<style scoped>\n",
       "    .dataframe tbody tr th:only-of-type {\n",
       "        vertical-align: middle;\n",
       "    }\n",
       "\n",
       "    .dataframe tbody tr th {\n",
       "        vertical-align: top;\n",
       "    }\n",
       "\n",
       "    .dataframe thead th {\n",
       "        text-align: right;\n",
       "    }\n",
       "</style>\n",
       "<table border=\"1\" class=\"dataframe\">\n",
       "  <thead>\n",
       "    <tr style=\"text-align: right;\">\n",
       "      <th></th>\n",
       "      <th>KØN</th>\n",
       "      <th>ALDER</th>\n",
       "      <th>CIVILSTAND</th>\n",
       "      <th>TID</th>\n",
       "      <th>INDHOLD</th>\n",
       "    </tr>\n",
       "  </thead>\n",
       "  <tbody>\n",
       "    <tr>\n",
       "      <th>0</th>\n",
       "      <td>Total</td>\n",
       "      <td>25 years</td>\n",
       "      <td>Total</td>\n",
       "      <td>2001</td>\n",
       "      <td>76210</td>\n",
       "    </tr>\n",
       "    <tr>\n",
       "      <th>1</th>\n",
       "      <td>Total</td>\n",
       "      <td>26 years</td>\n",
       "      <td>Total</td>\n",
       "      <td>2001</td>\n",
       "      <td>75418</td>\n",
       "    </tr>\n",
       "    <tr>\n",
       "      <th>2</th>\n",
       "      <td>Total</td>\n",
       "      <td>27 years</td>\n",
       "      <td>Total</td>\n",
       "      <td>2001</td>\n",
       "      <td>75624</td>\n",
       "    </tr>\n",
       "    <tr>\n",
       "      <th>3</th>\n",
       "      <td>Total</td>\n",
       "      <td>28 years</td>\n",
       "      <td>Total</td>\n",
       "      <td>2001</td>\n",
       "      <td>79210</td>\n",
       "    </tr>\n",
       "    <tr>\n",
       "      <th>4</th>\n",
       "      <td>Total</td>\n",
       "      <td>29 years</td>\n",
       "      <td>Total</td>\n",
       "      <td>2001</td>\n",
       "      <td>78456</td>\n",
       "    </tr>\n",
       "  </tbody>\n",
       "</table>\n",
       "</div>"
      ],
      "text/plain": [
       "     KØN     ALDER CIVILSTAND   TID  INDHOLD\n",
       "0  Total  25 years      Total  2001    76210\n",
       "1  Total  26 years      Total  2001    75418\n",
       "2  Total  27 years      Total  2001    75624\n",
       "3  Total  28 years      Total  2001    79210\n",
       "4  Total  29 years      Total  2001    78456"
      ]
     },
     "metadata": {},
     "output_type": "display_data"
    }
   ],
   "source": [
    "age_ini = par.age_ini\n",
    "life_span = par.life_span\n",
    "\n",
    "params = {\n",
    "    'table': 'BEFOLK1',\n",
    "    'format': 'BULK',\n",
    "    'lang': 'en',\n",
    "    'variables': [\n",
    "        {'code': 'KØN', 'values': ['TOT']},\n",
    "        {'code': 'ALDER', 'values': [f'>={age_ini}<={age_ini+life_span}']},     # variables of interest\n",
    "        {'code': 'CIVILSTAND', 'values': ['TOT']},\n",
    "        {'code': 'Tid', 'values': [f'>={FirstYear}<']}      # specified years\n",
    "        ]\n",
    "    }\n",
    "PopulationAgeVar = PopulationAge.get_data(params=params)\n",
    "display(PopulationAgeVar.head())"
   ]
  },
  {
   "attachments": {},
   "cell_type": "markdown",
   "id": "5921561c",
   "metadata": {
    "papermill": {
     "duration": 0.030598,
     "end_time": "2023-10-23T12:55:00.694752",
     "exception": false,
     "start_time": "2023-10-23T12:55:00.664154",
     "status": "completed"
    },
    "tags": []
   },
   "source": [
    "**Capital:**"
   ]
  },
  {
   "cell_type": "code",
   "execution_count": 11,
   "id": "662c89e7",
   "metadata": {
    "execution": {
     "iopub.execute_input": "2023-10-23T12:55:00.815515Z",
     "iopub.status.busy": "2023-10-23T12:55:00.814515Z",
     "iopub.status.idle": "2023-10-23T12:55:01.479911Z",
     "shell.execute_reply": "2023-10-23T12:55:01.479911Z"
    },
    "papermill": {
     "duration": 0.71573,
     "end_time": "2023-10-23T12:55:01.479911",
     "exception": false,
     "start_time": "2023-10-23T12:55:00.764181",
     "status": "completed"
    },
    "tags": []
   },
   "outputs": [
    {
     "name": "stdout",
     "output_type": "stream",
     "text": [
      "Table NABK10: Accumulation account and balance sheets, fixed assets (10a3-grouping) by stock / flow, assets, industry, price unit and time\n",
      "Last update: 2023-06-30T08:00:00\n"
     ]
    },
    {
     "data": {
      "text/html": [
       "<div>\n",
       "<style scoped>\n",
       "    .dataframe tbody tr th:only-of-type {\n",
       "        vertical-align: middle;\n",
       "    }\n",
       "\n",
       "    .dataframe tbody tr th {\n",
       "        vertical-align: top;\n",
       "    }\n",
       "\n",
       "    .dataframe thead th {\n",
       "        text-align: right;\n",
       "    }\n",
       "</style>\n",
       "<table border=\"1\" class=\"dataframe\">\n",
       "  <thead>\n",
       "    <tr style=\"text-align: right;\">\n",
       "      <th></th>\n",
       "      <th>variable name</th>\n",
       "      <th># values</th>\n",
       "      <th>First value</th>\n",
       "      <th>First value label</th>\n",
       "      <th>Last value</th>\n",
       "      <th>Last value label</th>\n",
       "      <th>Time variable</th>\n",
       "    </tr>\n",
       "  </thead>\n",
       "  <tbody>\n",
       "    <tr>\n",
       "      <th>0</th>\n",
       "      <td>BEHOLD</td>\n",
       "      <td>9</td>\n",
       "      <td>LSN</td>\n",
       "      <td>AN.11 Fixed assets, net capital stock, opening...</td>\n",
       "      <td>LEG</td>\n",
       "      <td>Fixed assets, gross capital stock, closing bal...</td>\n",
       "      <td>False</td>\n",
       "    </tr>\n",
       "    <tr>\n",
       "      <th>1</th>\n",
       "      <td>AKTIV</td>\n",
       "      <td>8</td>\n",
       "      <td>N11</td>\n",
       "      <td>Fixed assets</td>\n",
       "      <td>N117</td>\n",
       "      <td>Intellectual property products</td>\n",
       "      <td>False</td>\n",
       "    </tr>\n",
       "    <tr>\n",
       "      <th>2</th>\n",
       "      <td>BRANCHE</td>\n",
       "      <td>15</td>\n",
       "      <td>V</td>\n",
       "      <td>Total</td>\n",
       "      <td>VR_S</td>\n",
       "      <td>R_S Arts, entertainment and other services</td>\n",
       "      <td>False</td>\n",
       "    </tr>\n",
       "    <tr>\n",
       "      <th>3</th>\n",
       "      <td>PRISENHED</td>\n",
       "      <td>2</td>\n",
       "      <td>V</td>\n",
       "      <td>Current prices</td>\n",
       "      <td>LAN</td>\n",
       "      <td>2010-prices, chained values</td>\n",
       "      <td>False</td>\n",
       "    </tr>\n",
       "    <tr>\n",
       "      <th>4</th>\n",
       "      <td>Tid</td>\n",
       "      <td>57</td>\n",
       "      <td>1966</td>\n",
       "      <td>1966</td>\n",
       "      <td>2022</td>\n",
       "      <td>2022</td>\n",
       "      <td>True</td>\n",
       "    </tr>\n",
       "  </tbody>\n",
       "</table>\n",
       "</div>"
      ],
      "text/plain": [
       "  variable name  # values First value  \\\n",
       "0        BEHOLD         9         LSN   \n",
       "1         AKTIV         8         N11   \n",
       "2       BRANCHE        15           V   \n",
       "3     PRISENHED         2           V   \n",
       "4           Tid        57        1966   \n",
       "\n",
       "                                   First value label Last value  \\\n",
       "0  AN.11 Fixed assets, net capital stock, opening...        LEG   \n",
       "1                                       Fixed assets       N117   \n",
       "2                                              Total       VR_S   \n",
       "3                                     Current prices        LAN   \n",
       "4                                               1966       2022   \n",
       "\n",
       "                                    Last value label  Time variable  \n",
       "0  Fixed assets, gross capital stock, closing bal...          False  \n",
       "1                     Intellectual property products          False  \n",
       "2         R_S Arts, entertainment and other services          False  \n",
       "3                        2010-prices, chained values          False  \n",
       "4                                               2022           True  "
      ]
     },
     "metadata": {},
     "output_type": "display_data"
    }
   ],
   "source": [
    "display(Capital.tablesummary(language='en'))\n",
    "# display(Capital.variable_levels('BEHOLD', language='en'))\n",
    "# display(Capital.variable_levels('AKTIV', language='en'))"
   ]
  },
  {
   "cell_type": "code",
   "execution_count": 12,
   "id": "94a13cf1",
   "metadata": {
    "execution": {
     "iopub.execute_input": "2023-10-23T12:55:01.516077Z",
     "iopub.status.busy": "2023-10-23T12:55:01.516077Z",
     "iopub.status.idle": "2023-10-23T12:55:02.012925Z",
     "shell.execute_reply": "2023-10-23T12:55:02.012925Z"
    },
    "papermill": {
     "duration": 0.517403,
     "end_time": "2023-10-23T12:55:02.012925",
     "exception": false,
     "start_time": "2023-10-23T12:55:01.495522",
     "status": "completed"
    },
    "tags": []
   },
   "outputs": [],
   "source": [
    "params = {\n",
    "    'table': 'NABK10',\n",
    "    'format': 'BULK',\n",
    "    'lang': 'en',\n",
    "    'variables': [\n",
    "        {'code': 'BEHOLD', 'values': ['LSG']},          # gross capital => before depreciation\n",
    "        {'code': 'AKTIV', 'values': ['N11']},           # fixed assets\n",
    "        {'code': 'BRANCHE', 'values': ['V']},           # total level\n",
    "        {'code': 'PRISENHED', 'values': ['V']},         # current prices\n",
    "        {'code': 'Tid', 'values': [f'>={FirstYear}<']}  # specified years    \n",
    "        ]\n",
    "    }\n",
    "CapitalVar = Capital.get_data(params=params).sort_values(['TID'])"
   ]
  },
  {
   "attachments": {},
   "cell_type": "markdown",
   "id": "00e627ea",
   "metadata": {
    "papermill": {
     "duration": 0.018068,
     "end_time": "2023-10-23T12:55:02.049836",
     "exception": false,
     "start_time": "2023-10-23T12:55:02.031768",
     "status": "completed"
    },
    "tags": []
   },
   "source": [
    "**Create dataframe:**"
   ]
  },
  {
   "cell_type": "code",
   "execution_count": 13,
   "id": "372c4643",
   "metadata": {
    "execution": {
     "iopub.execute_input": "2023-10-23T12:55:02.091223Z",
     "iopub.status.busy": "2023-10-23T12:55:02.090215Z",
     "iopub.status.idle": "2023-10-23T12:55:02.345636Z",
     "shell.execute_reply": "2023-10-23T12:55:02.345636Z"
    },
    "papermill": {
     "duration": 0.274413,
     "end_time": "2023-10-23T12:55:02.345636",
     "exception": false,
     "start_time": "2023-10-23T12:55:02.071223",
     "status": "completed"
    },
    "tags": []
   },
   "outputs": [
    {
     "data": {
      "text/html": [
       "<div>\n",
       "<style scoped>\n",
       "    .dataframe tbody tr th:only-of-type {\n",
       "        vertical-align: middle;\n",
       "    }\n",
       "\n",
       "    .dataframe tbody tr th {\n",
       "        vertical-align: top;\n",
       "    }\n",
       "\n",
       "    .dataframe thead th {\n",
       "        text-align: right;\n",
       "    }\n",
       "</style>\n",
       "<table border=\"1\" class=\"dataframe\">\n",
       "  <thead>\n",
       "    <tr style=\"text-align: right;\">\n",
       "      <th></th>\n",
       "      <th>K_ratio</th>\n",
       "      <th>L_ratio</th>\n",
       "    </tr>\n",
       "    <tr>\n",
       "      <th>TID</th>\n",
       "      <th></th>\n",
       "      <th></th>\n",
       "    </tr>\n",
       "  </thead>\n",
       "  <tbody>\n",
       "    <tr>\n",
       "      <th>2000</th>\n",
       "      <td>5.233344</td>\n",
       "      <td>0.743627</td>\n",
       "    </tr>\n",
       "    <tr>\n",
       "      <th>2001</th>\n",
       "      <td>5.253046</td>\n",
       "      <td>0.746857</td>\n",
       "    </tr>\n",
       "    <tr>\n",
       "      <th>2002</th>\n",
       "      <td>5.398142</td>\n",
       "      <td>0.744421</td>\n",
       "    </tr>\n",
       "    <tr>\n",
       "      <th>2003</th>\n",
       "      <td>5.459494</td>\n",
       "      <td>0.735591</td>\n",
       "    </tr>\n",
       "    <tr>\n",
       "      <th>2004</th>\n",
       "      <td>5.400718</td>\n",
       "      <td>0.729688</td>\n",
       "    </tr>\n",
       "    <tr>\n",
       "      <th>2005</th>\n",
       "      <td>5.304156</td>\n",
       "      <td>0.738290</td>\n",
       "    </tr>\n",
       "    <tr>\n",
       "      <th>2006</th>\n",
       "      <td>5.223147</td>\n",
       "      <td>0.753100</td>\n",
       "    </tr>\n",
       "    <tr>\n",
       "      <th>2007</th>\n",
       "      <td>5.433788</td>\n",
       "      <td>0.769135</td>\n",
       "    </tr>\n",
       "    <tr>\n",
       "      <th>2008</th>\n",
       "      <td>5.530440</td>\n",
       "      <td>0.775481</td>\n",
       "    </tr>\n",
       "    <tr>\n",
       "      <th>2009</th>\n",
       "      <td>5.927325</td>\n",
       "      <td>0.747830</td>\n",
       "    </tr>\n",
       "    <tr>\n",
       "      <th>2010</th>\n",
       "      <td>5.340092</td>\n",
       "      <td>0.728353</td>\n",
       "    </tr>\n",
       "    <tr>\n",
       "      <th>2011</th>\n",
       "      <td>5.466945</td>\n",
       "      <td>0.725130</td>\n",
       "    </tr>\n",
       "    <tr>\n",
       "      <th>2012</th>\n",
       "      <td>5.521566</td>\n",
       "      <td>0.717301</td>\n",
       "    </tr>\n",
       "    <tr>\n",
       "      <th>2013</th>\n",
       "      <td>5.562851</td>\n",
       "      <td>0.713800</td>\n",
       "    </tr>\n",
       "    <tr>\n",
       "      <th>2014</th>\n",
       "      <td>5.508139</td>\n",
       "      <td>0.715232</td>\n",
       "    </tr>\n",
       "    <tr>\n",
       "      <th>2015</th>\n",
       "      <td>5.446217</td>\n",
       "      <td>0.719098</td>\n",
       "    </tr>\n",
       "    <tr>\n",
       "      <th>2016</th>\n",
       "      <td>5.416257</td>\n",
       "      <td>0.723525</td>\n",
       "    </tr>\n",
       "    <tr>\n",
       "      <th>2017</th>\n",
       "      <td>5.399998</td>\n",
       "      <td>0.727683</td>\n",
       "    </tr>\n",
       "    <tr>\n",
       "      <th>2018</th>\n",
       "      <td>5.445289</td>\n",
       "      <td>0.731877</td>\n",
       "    </tr>\n",
       "    <tr>\n",
       "      <th>2019</th>\n",
       "      <td>5.504567</td>\n",
       "      <td>0.736565</td>\n",
       "    </tr>\n",
       "  </tbody>\n",
       "</table>\n",
       "</div>"
      ],
      "text/plain": [
       "       K_ratio   L_ratio\n",
       "TID                     \n",
       "2000  5.233344  0.743627\n",
       "2001  5.253046  0.746857\n",
       "2002  5.398142  0.744421\n",
       "2003  5.459494  0.735591\n",
       "2004  5.400718  0.729688\n",
       "2005  5.304156  0.738290\n",
       "2006  5.223147  0.753100\n",
       "2007  5.433788  0.769135\n",
       "2008  5.530440  0.775481\n",
       "2009  5.927325  0.747830\n",
       "2010  5.340092  0.728353\n",
       "2011  5.466945  0.725130\n",
       "2012  5.521566  0.717301\n",
       "2013  5.562851  0.713800\n",
       "2014  5.508139  0.715232\n",
       "2015  5.446217  0.719098\n",
       "2016  5.416257  0.723525\n",
       "2017  5.399998  0.727683\n",
       "2018  5.445289  0.731877\n",
       "2019  5.504567  0.736565"
      ]
     },
     "metadata": {},
     "output_type": "display_data"
    }
   ],
   "source": [
    "# a. employment and population\n",
    "L = EmploymentPopuplationVar[['TID','INDHOLD']].loc[EmploymentPopuplationVar['SOCIO'] == 'Employment (number)'].copy().set_index(['TID']).apply(pd.to_numeric)\n",
    "N_all = EmploymentPopuplationVar[['TID','INDHOLD']].loc[EmploymentPopuplationVar['SOCIO'] == 'Population'].copy().set_index(['TID']).apply(pd.to_numeric)\n",
    "N_adult = PopulationAgeVar[['TID','INDHOLD']].copy().groupby('TID').sum()\n",
    "K = CapitalVar[['TID','INDHOLD']].copy().set_index(['TID']).apply(pd.to_numeric)\n",
    "\n",
    "\n",
    "# b. capital and employment ratio\n",
    "CapitalEmploymentPopuplationDF = pd.DataFrame()\n",
    "CapitalEmploymentPopuplationDF['K_ratio'] = K/Y/1000\n",
    "CapitalEmploymentPopuplationDF['L_ratio'] = L/N_adult\n",
    "\n",
    "display(CapitalEmploymentPopuplationDF.head(20))\n"
   ]
  },
  {
   "cell_type": "markdown",
   "id": "ed1748cf",
   "metadata": {
    "papermill": {
     "duration": 0.022908,
     "end_time": "2023-10-23T12:55:02.388171",
     "exception": false,
     "start_time": "2023-10-23T12:55:02.365263",
     "status": "completed"
    },
    "tags": []
   },
   "source": [
    "## 4. <a id='toc4_'></a>[Unemployment rate](#toc0_)"
   ]
  },
  {
   "cell_type": "code",
   "execution_count": 14,
   "id": "14ed1178",
   "metadata": {
    "execution": {
     "iopub.execute_input": "2023-10-23T12:55:02.429765Z",
     "iopub.status.busy": "2023-10-23T12:55:02.429765Z",
     "iopub.status.idle": "2023-10-23T12:55:02.860037Z",
     "shell.execute_reply": "2023-10-23T12:55:02.860037Z"
    },
    "papermill": {
     "duration": 0.452959,
     "end_time": "2023-10-23T12:55:02.860037",
     "exception": false,
     "start_time": "2023-10-23T12:55:02.407078",
     "status": "completed"
    },
    "tags": []
   },
   "outputs": [],
   "source": [
    "params = {\n",
    "    'table': 'AULAAR',\n",
    "    'format': 'BULK',\n",
    "    'lang': 'en',\n",
    "    'variables': [\n",
    "        {'code': 'KØN', 'values': ['TOT']},                # men and women in total\n",
    "        {'code': 'PERPCT', 'values': ['L10']},             # percent of the labour force \n",
    "        {'code': 'Tid', 'values':[f'>={FirstYear}<']}      # specified years\n",
    "        ]\n",
    "    }\n",
    "UnemploymentVar = Unemployment.get_data(params=params).set_index(['TID']).sort_values(['TID'])"
   ]
  },
  {
   "cell_type": "code",
   "execution_count": 15,
   "id": "2de255c6",
   "metadata": {
    "execution": {
     "iopub.execute_input": "2023-10-23T12:55:02.913495Z",
     "iopub.status.busy": "2023-10-23T12:55:02.912472Z",
     "iopub.status.idle": "2023-10-23T12:55:03.179376Z",
     "shell.execute_reply": "2023-10-23T12:55:03.178819Z"
    },
    "papermill": {
     "duration": 0.298701,
     "end_time": "2023-10-23T12:55:03.179376",
     "exception": false,
     "start_time": "2023-10-23T12:55:02.880675",
     "status": "completed"
    },
    "tags": []
   },
   "outputs": [
    {
     "data": {
      "text/html": [
       "<div>\n",
       "<style scoped>\n",
       "    .dataframe tbody tr th:only-of-type {\n",
       "        vertical-align: middle;\n",
       "    }\n",
       "\n",
       "    .dataframe tbody tr th {\n",
       "        vertical-align: top;\n",
       "    }\n",
       "\n",
       "    .dataframe thead th {\n",
       "        text-align: right;\n",
       "    }\n",
       "</style>\n",
       "<table border=\"1\" class=\"dataframe\">\n",
       "  <thead>\n",
       "    <tr style=\"text-align: right;\">\n",
       "      <th></th>\n",
       "      <th>U</th>\n",
       "    </tr>\n",
       "    <tr>\n",
       "      <th>TID</th>\n",
       "      <th></th>\n",
       "    </tr>\n",
       "  </thead>\n",
       "  <tbody>\n",
       "    <tr>\n",
       "      <th>2000</th>\n",
       "      <td>4.9</td>\n",
       "    </tr>\n",
       "    <tr>\n",
       "      <th>2001</th>\n",
       "      <td>4.7</td>\n",
       "    </tr>\n",
       "    <tr>\n",
       "      <th>2002</th>\n",
       "      <td>4.8</td>\n",
       "    </tr>\n",
       "    <tr>\n",
       "      <th>2003</th>\n",
       "      <td>5.8</td>\n",
       "    </tr>\n",
       "    <tr>\n",
       "      <th>2004</th>\n",
       "      <td>5.8</td>\n",
       "    </tr>\n",
       "  </tbody>\n",
       "</table>\n",
       "</div>"
      ],
      "text/plain": [
       "        U\n",
       "TID      \n",
       "2000  4.9\n",
       "2001  4.7\n",
       "2002  4.8\n",
       "2003  5.8\n",
       "2004  5.8"
      ]
     },
     "metadata": {},
     "output_type": "display_data"
    }
   ],
   "source": [
    "UnemploymentDF = pd.DataFrame()\n",
    "UnemploymentDF['U'] = UnemploymentVar[['INDHOLD']].loc[UnemploymentVar['PERPCT'] == 'Per cent of the labour force'].copy()\n",
    "UnemploymentDF = UnemploymentDF.apply(pd.to_numeric)\n",
    "\n",
    "display(UnemploymentDF.head())"
   ]
  },
  {
   "cell_type": "markdown",
   "id": "3ca8b813",
   "metadata": {
    "papermill": {
     "duration": 0.028214,
     "end_time": "2023-10-23T12:55:03.230382",
     "exception": false,
     "start_time": "2023-10-23T12:55:03.202168",
     "status": "completed"
    },
    "tags": []
   },
   "source": [
    "## 5. <a id='toc5_'></a>[Steady state - aggregate](#toc0_)"
   ]
  },
  {
   "cell_type": "code",
   "execution_count": 16,
   "id": "64641aeb",
   "metadata": {
    "execution": {
     "iopub.execute_input": "2023-10-23T12:55:03.276552Z",
     "iopub.status.busy": "2023-10-23T12:55:03.275553Z",
     "iopub.status.idle": "2023-10-23T12:55:03.553976Z",
     "shell.execute_reply": "2023-10-23T12:55:03.552989Z"
    },
    "papermill": {
     "duration": 0.299938,
     "end_time": "2023-10-23T12:55:03.556991",
     "exception": false,
     "start_time": "2023-10-23T12:55:03.257053",
     "status": "completed"
    },
    "tags": []
   },
   "outputs": [],
   "source": [
    "frames = [SupplyBalanceDF, CapitalEmploymentPopuplationDF, UnemploymentDF]"
   ]
  },
  {
   "cell_type": "code",
   "execution_count": 17,
   "id": "efc432d7",
   "metadata": {
    "execution": {
     "iopub.execute_input": "2023-10-23T12:55:03.597282Z",
     "iopub.status.busy": "2023-10-23T12:55:03.597282Z",
     "iopub.status.idle": "2023-10-23T12:55:03.896484Z",
     "shell.execute_reply": "2023-10-23T12:55:03.894238Z"
    },
    "papermill": {
     "duration": 0.32481,
     "end_time": "2023-10-23T12:55:03.900500",
     "exception": false,
     "start_time": "2023-10-23T12:55:03.575690",
     "status": "completed"
    },
    "tags": []
   },
   "outputs": [
    {
     "data": {
      "text/html": [
       "<div>\n",
       "<style scoped>\n",
       "    .dataframe tbody tr th:only-of-type {\n",
       "        vertical-align: middle;\n",
       "    }\n",
       "\n",
       "    .dataframe tbody tr th {\n",
       "        vertical-align: top;\n",
       "    }\n",
       "\n",
       "    .dataframe thead th {\n",
       "        text-align: right;\n",
       "    }\n",
       "</style>\n",
       "<table border=\"1\" class=\"dataframe\">\n",
       "  <thead>\n",
       "    <tr style=\"text-align: right;\">\n",
       "      <th></th>\n",
       "      <th>M_ratio</th>\n",
       "      <th>X_ratio</th>\n",
       "      <th>C_ratio</th>\n",
       "      <th>G_ratio</th>\n",
       "      <th>I_ratio</th>\n",
       "      <th>K_ratio</th>\n",
       "      <th>L_ratio</th>\n",
       "      <th>U</th>\n",
       "    </tr>\n",
       "    <tr>\n",
       "      <th>TID</th>\n",
       "      <th></th>\n",
       "      <th></th>\n",
       "      <th></th>\n",
       "      <th></th>\n",
       "      <th></th>\n",
       "      <th></th>\n",
       "      <th></th>\n",
       "      <th></th>\n",
       "    </tr>\n",
       "  </thead>\n",
       "  <tbody>\n",
       "    <tr>\n",
       "      <th>2000</th>\n",
       "      <td>0.381792</td>\n",
       "      <td>0.448866</td>\n",
       "      <td>0.470646</td>\n",
       "      <td>0.238752</td>\n",
       "      <td>0.223529</td>\n",
       "      <td>5.233344</td>\n",
       "      <td>0.743627</td>\n",
       "      <td>4.9</td>\n",
       "    </tr>\n",
       "    <tr>\n",
       "      <th>2001</th>\n",
       "      <td>0.384542</td>\n",
       "      <td>0.455997</td>\n",
       "      <td>0.467080</td>\n",
       "      <td>0.243237</td>\n",
       "      <td>0.218228</td>\n",
       "      <td>5.253046</td>\n",
       "      <td>0.746857</td>\n",
       "      <td>4.7</td>\n",
       "    </tr>\n",
       "    <tr>\n",
       "      <th>2002</th>\n",
       "      <td>0.388924</td>\n",
       "      <td>0.457420</td>\n",
       "      <td>0.469333</td>\n",
       "      <td>0.248670</td>\n",
       "      <td>0.213430</td>\n",
       "      <td>5.398142</td>\n",
       "      <td>0.744421</td>\n",
       "      <td>4.8</td>\n",
       "    </tr>\n",
       "    <tr>\n",
       "      <th>2003</th>\n",
       "      <td>0.370824</td>\n",
       "      <td>0.438753</td>\n",
       "      <td>0.472439</td>\n",
       "      <td>0.250348</td>\n",
       "      <td>0.209215</td>\n",
       "      <td>5.459494</td>\n",
       "      <td>0.735591</td>\n",
       "      <td>5.8</td>\n",
       "    </tr>\n",
       "    <tr>\n",
       "      <th>2004</th>\n",
       "      <td>0.383134</td>\n",
       "      <td>0.439641</td>\n",
       "      <td>0.477224</td>\n",
       "      <td>0.249336</td>\n",
       "      <td>0.216932</td>\n",
       "      <td>5.400718</td>\n",
       "      <td>0.729688</td>\n",
       "      <td>5.8</td>\n",
       "    </tr>\n",
       "  </tbody>\n",
       "</table>\n",
       "</div>"
      ],
      "text/plain": [
       "       M_ratio   X_ratio   C_ratio   G_ratio   I_ratio   K_ratio   L_ratio  \\\n",
       "TID                                                                          \n",
       "2000  0.381792  0.448866  0.470646  0.238752  0.223529  5.233344  0.743627   \n",
       "2001  0.384542  0.455997  0.467080  0.243237  0.218228  5.253046  0.746857   \n",
       "2002  0.388924  0.457420  0.469333  0.248670  0.213430  5.398142  0.744421   \n",
       "2003  0.370824  0.438753  0.472439  0.250348  0.209215  5.459494  0.735591   \n",
       "2004  0.383134  0.439641  0.477224  0.249336  0.216932  5.400718  0.729688   \n",
       "\n",
       "        U  \n",
       "TID        \n",
       "2000  4.9  \n",
       "2001  4.7  \n",
       "2002  4.8  \n",
       "2003  5.8  \n",
       "2004  5.8  "
      ]
     },
     "metadata": {},
     "output_type": "display_data"
    }
   ],
   "source": [
    "all_variables =  pd.concat(frames, axis=1)\n",
    "display(all_variables.head())"
   ]
  },
  {
   "cell_type": "markdown",
   "id": "6af5a4ff",
   "metadata": {
    "papermill": {
     "duration": 0.028896,
     "end_time": "2023-10-23T12:55:03.955277",
     "exception": false,
     "start_time": "2023-10-23T12:55:03.926381",
     "status": "completed"
    },
    "tags": []
   },
   "source": [
    "### 5.1. <a id='toc5_1_'></a>[Save to disc](#toc0_)"
   ]
  },
  {
   "cell_type": "code",
   "execution_count": 18,
   "id": "1ceb01b9",
   "metadata": {
    "execution": {
     "iopub.execute_input": "2023-10-23T12:55:04.010856Z",
     "iopub.status.busy": "2023-10-23T12:55:04.009857Z",
     "iopub.status.idle": "2023-10-23T12:55:04.313410Z",
     "shell.execute_reply": "2023-10-23T12:55:04.312402Z"
    },
    "papermill": {
     "duration": 0.330553,
     "end_time": "2023-10-23T12:55:04.316424",
     "exception": false,
     "start_time": "2023-10-23T12:55:03.985871",
     "status": "completed"
    },
    "tags": []
   },
   "outputs": [
    {
     "name": "stdout",
     "output_type": "stream",
     "text": [
      "M_ratio: 0.46\n",
      "X_ratio: 0.52\n",
      "C_ratio: 0.47\n",
      "G_ratio: 0.25\n",
      "I_ratio: 0.22\n",
      "K_ratio: 5.44\n",
      "L_ratio: 0.74\n",
      "U: 3.93\n"
     ]
    }
   ],
   "source": [
    "# a. aggregate steady state values\n",
    "ss_aggregate = {}\n",
    "means = all_variables.mean()\n",
    "for i,mean in enumerate(means):\n",
    "    print(f'{means.index[i]}: {mean:.2f}')\n",
    "    ss_aggregate[str(means.index[i])] = mean\n",
    "\n",
    "# b. save to dsic\n",
    "with open('data/ss_aggregate.pickle', 'wb') as fp:\n",
    "    pickle.dump(ss_aggregate, fp)"
   ]
  },
  {
   "cell_type": "markdown",
   "id": "22bdf54a",
   "metadata": {
    "papermill": {
     "duration": 0.031062,
     "end_time": "2023-10-23T12:55:04.365146",
     "exception": false,
     "start_time": "2023-10-23T12:55:04.334084",
     "status": "completed"
    },
    "tags": []
   },
   "source": [
    "## 6. <a id='toc6_'></a>[Income and wealth over life-cycle](#toc0_)"
   ]
  },
  {
   "attachments": {},
   "cell_type": "markdown",
   "id": "b872b835",
   "metadata": {
    "papermill": {
     "duration": 0.01799,
     "end_time": "2023-10-23T12:55:04.406821",
     "exception": false,
     "start_time": "2023-10-23T12:55:04.388831",
     "status": "completed"
    },
    "tags": []
   },
   "source": [
    "**Income:**"
   ]
  },
  {
   "cell_type": "code",
   "execution_count": 19,
   "id": "6421f64e",
   "metadata": {
    "execution": {
     "iopub.execute_input": "2023-10-23T12:55:04.449954Z",
     "iopub.status.busy": "2023-10-23T12:55:04.449954Z",
     "iopub.status.idle": "2023-10-23T12:55:05.144795Z",
     "shell.execute_reply": "2023-10-23T12:55:05.143788Z"
    },
    "papermill": {
     "duration": 0.735555,
     "end_time": "2023-10-23T12:55:05.148806",
     "exception": false,
     "start_time": "2023-10-23T12:55:04.413251",
     "status": "completed"
    },
    "tags": []
   },
   "outputs": [
    {
     "name": "stdout",
     "output_type": "stream",
     "text": [
      "Table INDKP201: Main table for personal income statistics by type of income, sex, age, population, price unit, unit and time\n",
      "Last update: 2023-09-18T08:00:00\n"
     ]
    },
    {
     "data": {
      "text/html": [
       "<div>\n",
       "<style scoped>\n",
       "    .dataframe tbody tr th:only-of-type {\n",
       "        vertical-align: middle;\n",
       "    }\n",
       "\n",
       "    .dataframe tbody tr th {\n",
       "        vertical-align: top;\n",
       "    }\n",
       "\n",
       "    .dataframe thead th {\n",
       "        text-align: right;\n",
       "    }\n",
       "</style>\n",
       "<table border=\"1\" class=\"dataframe\">\n",
       "  <thead>\n",
       "    <tr style=\"text-align: right;\">\n",
       "      <th></th>\n",
       "      <th>variable name</th>\n",
       "      <th># values</th>\n",
       "      <th>First value</th>\n",
       "      <th>First value label</th>\n",
       "      <th>Last value</th>\n",
       "      <th>Last value label</th>\n",
       "      <th>Time variable</th>\n",
       "    </tr>\n",
       "  </thead>\n",
       "  <tbody>\n",
       "    <tr>\n",
       "      <th>0</th>\n",
       "      <td>INDKOMSTTYPE</td>\n",
       "      <td>39</td>\n",
       "      <td>100</td>\n",
       "      <td>1 Disposable income (2+30-31-32-35)</td>\n",
       "      <td>290</td>\n",
       "      <td>Taxable income</td>\n",
       "      <td>False</td>\n",
       "    </tr>\n",
       "    <tr>\n",
       "      <th>1</th>\n",
       "      <td>KOEN</td>\n",
       "      <td>3</td>\n",
       "      <td>MOK</td>\n",
       "      <td>Men and women, total</td>\n",
       "      <td>K</td>\n",
       "      <td>Women</td>\n",
       "      <td>False</td>\n",
       "    </tr>\n",
       "    <tr>\n",
       "      <th>2</th>\n",
       "      <td>ALDER</td>\n",
       "      <td>15</td>\n",
       "      <td>14TOT</td>\n",
       "      <td>Total, 15 years and over</td>\n",
       "      <td>80-00</td>\n",
       "      <td>80 years and over</td>\n",
       "      <td>False</td>\n",
       "    </tr>\n",
       "    <tr>\n",
       "      <th>3</th>\n",
       "      <td>POPU</td>\n",
       "      <td>2</td>\n",
       "      <td>5000</td>\n",
       "      <td>All regardless of having the type of income</td>\n",
       "      <td>5020</td>\n",
       "      <td>Only people with the type of income</td>\n",
       "      <td>False</td>\n",
       "    </tr>\n",
       "    <tr>\n",
       "      <th>4</th>\n",
       "      <td>PRISENHED</td>\n",
       "      <td>2</td>\n",
       "      <td>005</td>\n",
       "      <td>Constant prices</td>\n",
       "      <td>006</td>\n",
       "      <td>Nominal prices</td>\n",
       "      <td>False</td>\n",
       "    </tr>\n",
       "    <tr>\n",
       "      <th>5</th>\n",
       "      <td>ENHED</td>\n",
       "      <td>5</td>\n",
       "      <td>0050</td>\n",
       "      <td>Mean (DKK)</td>\n",
       "      <td>105</td>\n",
       "      <td>People (Number)</td>\n",
       "      <td>False</td>\n",
       "    </tr>\n",
       "    <tr>\n",
       "      <th>6</th>\n",
       "      <td>Tid</td>\n",
       "      <td>27</td>\n",
       "      <td>1996</td>\n",
       "      <td>1996</td>\n",
       "      <td>2022</td>\n",
       "      <td>2022</td>\n",
       "      <td>True</td>\n",
       "    </tr>\n",
       "  </tbody>\n",
       "</table>\n",
       "</div>"
      ],
      "text/plain": [
       "  variable name  # values First value  \\\n",
       "0  INDKOMSTTYPE        39         100   \n",
       "1          KOEN         3         MOK   \n",
       "2         ALDER        15       14TOT   \n",
       "3          POPU         2        5000   \n",
       "4     PRISENHED         2         005   \n",
       "5         ENHED         5        0050   \n",
       "6           Tid        27        1996   \n",
       "\n",
       "                             First value label Last value  \\\n",
       "0          1 Disposable income (2+30-31-32-35)        290   \n",
       "1                         Men and women, total          K   \n",
       "2                     Total, 15 years and over      80-00   \n",
       "3  All regardless of having the type of income       5020   \n",
       "4                              Constant prices        006   \n",
       "5                                   Mean (DKK)        105   \n",
       "6                                         1996       2022   \n",
       "\n",
       "                      Last value label  Time variable  \n",
       "0                       Taxable income          False  \n",
       "1                                Women          False  \n",
       "2                    80 years and over          False  \n",
       "3  Only people with the type of income          False  \n",
       "4                       Nominal prices          False  \n",
       "5                      People (Number)          False  \n",
       "6                                 2022           True  "
      ]
     },
     "execution_count": 19,
     "metadata": {},
     "output_type": "execute_result"
    }
   ],
   "source": [
    "Income.tablesummary(language='en')"
   ]
  },
  {
   "attachments": {},
   "cell_type": "markdown",
   "id": "eaf98146",
   "metadata": {
    "papermill": {
     "duration": 0.083272,
     "end_time": "2023-10-23T12:55:05.261285",
     "exception": false,
     "start_time": "2023-10-23T12:55:05.178013",
     "status": "completed"
    },
    "tags": []
   },
   "source": [
    "**Income in fixed prices (for income profile):**"
   ]
  },
  {
   "cell_type": "code",
   "execution_count": 20,
   "id": "11650948",
   "metadata": {
    "execution": {
     "iopub.execute_input": "2023-10-23T12:55:05.343894Z",
     "iopub.status.busy": "2023-10-23T12:55:05.343894Z",
     "iopub.status.idle": "2023-10-23T12:55:05.981599Z",
     "shell.execute_reply": "2023-10-23T12:55:05.980439Z"
    },
    "papermill": {
     "duration": 0.674666,
     "end_time": "2023-10-23T12:55:05.981599",
     "exception": false,
     "start_time": "2023-10-23T12:55:05.306933",
     "status": "completed"
    },
    "tags": []
   },
   "outputs": [],
   "source": [
    "params = {\n",
    "    'table': 'INDKP201',\n",
    "    'format': 'BULK',\n",
    "    'lang': 'en',\n",
    "    'variables': [\n",
    "        {'code': 'INDKOMSTTYPE', 'values': ['100']},                        # disposable income (pre-tax income is 105) \n",
    "        {'code': 'KOEN', 'values': ['MOK']},                                # men and women in total\n",
    "        {'code': 'ALDER', 'values': ['*']},\t                                # all ages\n",
    "        {'code': 'POPU', 'values': ['5000']},\t                            # all regardless of having the type of income\n",
    "        {'code': 'PRISENHED', 'values': ['005']},                           # fixed prices\n",
    "        {'code': 'ENHED', 'values': ['0050']},                              # average DKK\n",
    "        {'code': 'Tid', 'values':[f'>={FirstYear}<']}\n",
    "        ]\n",
    "    }\n",
    "DisposableIncomeVar = Income.get_data(params=params).sort_values(['TID'])\n",
    "DisposableIncomeVar = DisposableIncomeVar[DisposableIncomeVar['INDHOLD'] != 0]"
   ]
  },
  {
   "attachments": {},
   "cell_type": "markdown",
   "id": "fb9ea88f",
   "metadata": {
    "papermill": {
     "duration": 0.024049,
     "end_time": "2023-10-23T12:55:06.024880",
     "exception": false,
     "start_time": "2023-10-23T12:55:06.000831",
     "status": "completed"
    },
    "tags": []
   },
   "source": [
    "**Income in nominal prices (for wealth-income ratio):**"
   ]
  },
  {
   "cell_type": "code",
   "execution_count": 21,
   "id": "b17407c5",
   "metadata": {
    "execution": {
     "iopub.execute_input": "2023-10-23T12:55:06.082055Z",
     "iopub.status.busy": "2023-10-23T12:55:06.081055Z",
     "iopub.status.idle": "2023-10-23T12:55:06.631923Z",
     "shell.execute_reply": "2023-10-23T12:55:06.631923Z"
    },
    "papermill": {
     "duration": 0.573854,
     "end_time": "2023-10-23T12:55:06.631923",
     "exception": false,
     "start_time": "2023-10-23T12:55:06.058069",
     "status": "completed"
    },
    "tags": []
   },
   "outputs": [],
   "source": [
    "params = {\n",
    "    'table': 'INDKP201',\n",
    "    'format': 'BULK',\n",
    "    'lang': 'en',\n",
    "    'variables': [\n",
    "        {'code': 'INDKOMSTTYPE', 'values': ['100']},                        # disposable income (pre-tax income is 105) \n",
    "        {'code': 'KOEN', 'values': ['MOK']},                                # men and women in total\n",
    "        {'code': 'ALDER', 'values': ['*']},\t                                # all ages\n",
    "        {'code': 'POPU', 'values': ['5000']},\t                            # all regardless of having the type of income\n",
    "        {'code': 'PRISENHED', 'values': ['006']},                           # current prices\n",
    "        {'code': 'ENHED', 'values': ['0050']},                              # average DKK\n",
    "        {'code': 'Tid', 'values':[f'>={FirstYear}<']}\n",
    "        ]\n",
    "    }\n",
    "DisposableIncomeVar_cprice = Income.get_data(params=params).sort_values(['TID']) # cprice = current prices\n",
    "DisposableIncomeVar_cprice = DisposableIncomeVar_cprice[DisposableIncomeVar_cprice['INDHOLD'] != 0]"
   ]
  },
  {
   "attachments": {},
   "cell_type": "markdown",
   "id": "f9168702",
   "metadata": {
    "papermill": {
     "duration": 0.01799,
     "end_time": "2023-10-23T12:55:06.686410",
     "exception": false,
     "start_time": "2023-10-23T12:55:06.668420",
     "status": "completed"
    },
    "tags": []
   },
   "source": [
    "**Wealth:**"
   ]
  },
  {
   "cell_type": "code",
   "execution_count": 22,
   "id": "490098f6",
   "metadata": {
    "execution": {
     "iopub.execute_input": "2023-10-23T12:55:06.742111Z",
     "iopub.status.busy": "2023-10-23T12:55:06.742111Z",
     "iopub.status.idle": "2023-10-23T12:55:07.382809Z",
     "shell.execute_reply": "2023-10-23T12:55:07.381338Z"
    },
    "papermill": {
     "duration": 0.661685,
     "end_time": "2023-10-23T12:55:07.382809",
     "exception": false,
     "start_time": "2023-10-23T12:55:06.721124",
     "status": "completed"
    },
    "tags": []
   },
   "outputs": [
    {
     "name": "stdout",
     "output_type": "stream",
     "text": [
      "Table FORMUE11: Wealth by type of wealth, unit, age, sex, population and time\n",
      "Last update: 2022-12-20T08:00:00\n"
     ]
    },
    {
     "data": {
      "text/html": [
       "<div>\n",
       "<style scoped>\n",
       "    .dataframe tbody tr th:only-of-type {\n",
       "        vertical-align: middle;\n",
       "    }\n",
       "\n",
       "    .dataframe tbody tr th {\n",
       "        vertical-align: top;\n",
       "    }\n",
       "\n",
       "    .dataframe thead th {\n",
       "        text-align: right;\n",
       "    }\n",
       "</style>\n",
       "<table border=\"1\" class=\"dataframe\">\n",
       "  <thead>\n",
       "    <tr style=\"text-align: right;\">\n",
       "      <th></th>\n",
       "      <th>variable name</th>\n",
       "      <th># values</th>\n",
       "      <th>First value</th>\n",
       "      <th>First value label</th>\n",
       "      <th>Last value</th>\n",
       "      <th>Last value label</th>\n",
       "      <th>Time variable</th>\n",
       "    </tr>\n",
       "  </thead>\n",
       "  <tbody>\n",
       "    <tr>\n",
       "      <th>0</th>\n",
       "      <td>FORM1</td>\n",
       "      <td>46</td>\n",
       "      <td>FGNF2020</td>\n",
       "      <td>Net Wealth, (2020-definition A+B+CX-D-E-F)</td>\n",
       "      <td>FGF4</td>\n",
       "      <td>F.4. Other debt to the public sector</td>\n",
       "      <td>False</td>\n",
       "    </tr>\n",
       "    <tr>\n",
       "      <th>1</th>\n",
       "      <td>ENHED</td>\n",
       "      <td>9</td>\n",
       "      <td>200</td>\n",
       "      <td>Median (Constant prices 2021-level)</td>\n",
       "      <td>240</td>\n",
       "      <td>Number of people in population 31.12</td>\n",
       "      <td>False</td>\n",
       "    </tr>\n",
       "    <tr>\n",
       "      <th>2</th>\n",
       "      <td>ALDER</td>\n",
       "      <td>16</td>\n",
       "      <td>1802</td>\n",
       "      <td>18 years and over</td>\n",
       "      <td>9099</td>\n",
       "      <td>90 years and over</td>\n",
       "      <td>False</td>\n",
       "    </tr>\n",
       "    <tr>\n",
       "      <th>3</th>\n",
       "      <td>KØN</td>\n",
       "      <td>3</td>\n",
       "      <td>MOK</td>\n",
       "      <td>Men and women, total</td>\n",
       "      <td>K</td>\n",
       "      <td>Women</td>\n",
       "      <td>False</td>\n",
       "    </tr>\n",
       "    <tr>\n",
       "      <th>4</th>\n",
       "      <td>POPU</td>\n",
       "      <td>2</td>\n",
       "      <td>5005</td>\n",
       "      <td>Entire population</td>\n",
       "      <td>5025</td>\n",
       "      <td>Only people with the selected type of wealth</td>\n",
       "      <td>False</td>\n",
       "    </tr>\n",
       "    <tr>\n",
       "      <th>5</th>\n",
       "      <td>Tid</td>\n",
       "      <td>8</td>\n",
       "      <td>2014</td>\n",
       "      <td>2014</td>\n",
       "      <td>2021</td>\n",
       "      <td>2021</td>\n",
       "      <td>True</td>\n",
       "    </tr>\n",
       "  </tbody>\n",
       "</table>\n",
       "</div>"
      ],
      "text/plain": [
       "  variable name  # values First value  \\\n",
       "0         FORM1        46    FGNF2020   \n",
       "1         ENHED         9         200   \n",
       "2         ALDER        16        1802   \n",
       "3           KØN         3         MOK   \n",
       "4          POPU         2        5005   \n",
       "5           Tid         8        2014   \n",
       "\n",
       "                            First value label Last value  \\\n",
       "0  Net Wealth, (2020-definition A+B+CX-D-E-F)       FGF4   \n",
       "1         Median (Constant prices 2021-level)        240   \n",
       "2                           18 years and over       9099   \n",
       "3                        Men and women, total          K   \n",
       "4                           Entire population       5025   \n",
       "5                                        2014       2021   \n",
       "\n",
       "                               Last value label  Time variable  \n",
       "0          F.4. Other debt to the public sector          False  \n",
       "1          Number of people in population 31.12          False  \n",
       "2                             90 years and over          False  \n",
       "3                                         Women          False  \n",
       "4  Only people with the selected type of wealth          False  \n",
       "5                                          2021           True  "
      ]
     },
     "execution_count": 22,
     "metadata": {},
     "output_type": "execute_result"
    }
   ],
   "source": [
    "Wealth.tablesummary(language='en')"
   ]
  },
  {
   "cell_type": "code",
   "execution_count": 23,
   "id": "1a1c3ff5",
   "metadata": {
    "execution": {
     "iopub.execute_input": "2023-10-23T12:55:07.449143Z",
     "iopub.status.busy": "2023-10-23T12:55:07.448143Z",
     "iopub.status.idle": "2023-10-23T12:55:07.711508Z",
     "shell.execute_reply": "2023-10-23T12:55:07.711508Z"
    },
    "papermill": {
     "duration": 0.302492,
     "end_time": "2023-10-23T12:55:07.713507",
     "exception": false,
     "start_time": "2023-10-23T12:55:07.411015",
     "status": "completed"
    },
    "tags": []
   },
   "outputs": [
    {
     "data": {
      "text/html": [
       "<div>\n",
       "<style scoped>\n",
       "    .dataframe tbody tr th:only-of-type {\n",
       "        vertical-align: middle;\n",
       "    }\n",
       "\n",
       "    .dataframe tbody tr th {\n",
       "        vertical-align: top;\n",
       "    }\n",
       "\n",
       "    .dataframe thead th {\n",
       "        text-align: right;\n",
       "    }\n",
       "</style>\n",
       "<table border=\"1\" class=\"dataframe\">\n",
       "  <thead>\n",
       "    <tr style=\"text-align: right;\">\n",
       "      <th></th>\n",
       "      <th>id</th>\n",
       "      <th>text</th>\n",
       "    </tr>\n",
       "  </thead>\n",
       "  <tbody>\n",
       "    <tr>\n",
       "      <th>0</th>\n",
       "      <td>200</td>\n",
       "      <td>Median (Constant prices 2021-level)</td>\n",
       "    </tr>\n",
       "    <tr>\n",
       "      <th>1</th>\n",
       "      <td>205</td>\n",
       "      <td>Lower quartile (Constant prices 2021-leel)</td>\n",
       "    </tr>\n",
       "    <tr>\n",
       "      <th>2</th>\n",
       "      <td>210</td>\n",
       "      <td>Upper quartile (Constant prices 2021-level)</td>\n",
       "    </tr>\n",
       "    <tr>\n",
       "      <th>3</th>\n",
       "      <td>215</td>\n",
       "      <td>Average (Constant prices 2021-level)</td>\n",
       "    </tr>\n",
       "    <tr>\n",
       "      <th>4</th>\n",
       "      <td>220</td>\n",
       "      <td>Median (Nominal prices)</td>\n",
       "    </tr>\n",
       "    <tr>\n",
       "      <th>5</th>\n",
       "      <td>225</td>\n",
       "      <td>Lower quartile (Nominal prices)</td>\n",
       "    </tr>\n",
       "    <tr>\n",
       "      <th>6</th>\n",
       "      <td>230</td>\n",
       "      <td>Upper quartile (Nominal prices)</td>\n",
       "    </tr>\n",
       "    <tr>\n",
       "      <th>7</th>\n",
       "      <td>235</td>\n",
       "      <td>Average (Nominal prices)</td>\n",
       "    </tr>\n",
       "    <tr>\n",
       "      <th>8</th>\n",
       "      <td>240</td>\n",
       "      <td>Number of people in population 31.12</td>\n",
       "    </tr>\n",
       "  </tbody>\n",
       "</table>\n",
       "</div>"
      ],
      "text/plain": [
       "    id                                         text\n",
       "0  200          Median (Constant prices 2021-level)\n",
       "1  205   Lower quartile (Constant prices 2021-leel)\n",
       "2  210  Upper quartile (Constant prices 2021-level)\n",
       "3  215         Average (Constant prices 2021-level)\n",
       "4  220                      Median (Nominal prices)\n",
       "5  225              Lower quartile (Nominal prices)\n",
       "6  230              Upper quartile (Nominal prices)\n",
       "7  235                     Average (Nominal prices)\n",
       "8  240         Number of people in population 31.12"
      ]
     },
     "metadata": {},
     "output_type": "display_data"
    }
   ],
   "source": [
    "display(Wealth.variable_levels('ENHED', language='en'))"
   ]
  },
  {
   "cell_type": "code",
   "execution_count": 24,
   "id": "57250fd0",
   "metadata": {
    "execution": {
     "iopub.execute_input": "2023-10-23T12:55:07.759734Z",
     "iopub.status.busy": "2023-10-23T12:55:07.758733Z",
     "iopub.status.idle": "2023-10-23T12:55:08.280753Z",
     "shell.execute_reply": "2023-10-23T12:55:08.279752Z"
    },
    "papermill": {
     "duration": 0.547755,
     "end_time": "2023-10-23T12:55:08.283751",
     "exception": false,
     "start_time": "2023-10-23T12:55:07.735996",
     "status": "completed"
    },
    "tags": []
   },
   "outputs": [],
   "source": [
    "params = {\n",
    "    'table': 'FORMUE11',\n",
    "    'format': 'BULK',\n",
    "    'lang': 'en',\n",
    "    'variables': [\n",
    "        {'code': 'FORM1', 'values': ['FGNF2014']},              # net wealth (2014 definition)\n",
    "        {'code': 'ENHED', 'values': ['235']},                   # current prices\n",
    "        {'code': 'ALDER', 'values': ['*']},\t                    # all ages\n",
    "        {'code': 'KØN', 'values': ['MOK']},                     # men and women\n",
    "        {'code': 'POPU', 'values': ['5005']},\t                # entire population\t\n",
    "        {'code': 'Tid', 'values':[f'>=2014<']}                  # first year for the data set is 2014\n",
    "        ]\n",
    "    }\n",
    "WealthVar = Wealth.get_data(params=params).sort_values(['TID'])"
   ]
  },
  {
   "attachments": {},
   "cell_type": "markdown",
   "id": "3e745bd3",
   "metadata": {
    "papermill": {
     "duration": 0.02573,
     "end_time": "2023-10-23T12:55:08.331252",
     "exception": false,
     "start_time": "2023-10-23T12:55:08.305522",
     "status": "completed"
    },
    "tags": []
   },
   "source": [
    "**Create dataframes:**"
   ]
  },
  {
   "cell_type": "code",
   "execution_count": 25,
   "id": "a3408b64",
   "metadata": {
    "execution": {
     "iopub.execute_input": "2023-10-23T12:55:08.376553Z",
     "iopub.status.busy": "2023-10-23T12:55:08.376553Z",
     "iopub.status.idle": "2023-10-23T12:55:08.677295Z",
     "shell.execute_reply": "2023-10-23T12:55:08.676327Z"
    },
    "papermill": {
     "duration": 0.32306,
     "end_time": "2023-10-23T12:55:08.679297",
     "exception": false,
     "start_time": "2023-10-23T12:55:08.356237",
     "status": "completed"
    },
    "tags": []
   },
   "outputs": [],
   "source": [
    "# a. income data - current prices\n",
    "IncomeDF_cprice = pd.crosstab(index=[DisposableIncomeVar_cprice['TID']],\n",
    "                              values = DisposableIncomeVar_cprice['INDHOLD'], \n",
    "                              aggfunc = sum, columns = str('DisInc: ') + DisposableIncomeVar_cprice['ALDER'])  # convert unique ages as columns for income\n",
    "\n",
    "# b. income data - fixed prices\n",
    "IncomeDF = pd.crosstab(index=[DisposableIncomeVar['TID']],\n",
    "                       values = DisposableIncomeVar['INDHOLD'], \n",
    "                       aggfunc = sum, columns = str('DisInc: ') + DisposableIncomeVar['ALDER'])  # convert unique ages as columns for income\n",
    "\n",
    "# c. wealth data - current prices\n",
    "WealthDF = pd.crosstab(index=[WealthVar['TID']],\n",
    "                       values = WealthVar['INDHOLD'], \n",
    "                       aggfunc = sum, columns = str('Wealth: ') + WealthVar['ALDER']) # convert unique ages as columns for wealth\n",
    "\n",
    "IncomeWealthDF =  pd.concat([IncomeDF,WealthDF], axis=1)                # concatenate dataframes - fixed prices\n",
    "IncomeWealthDF_cprice =  pd.concat([IncomeDF_cprice,WealthDF], axis=1)  # concatenate dataframes - current prices"
   ]
  },
  {
   "cell_type": "markdown",
   "id": "f153125b",
   "metadata": {
    "papermill": {
     "duration": 0.018042,
     "end_time": "2023-10-23T12:55:08.720819",
     "exception": false,
     "start_time": "2023-10-23T12:55:08.702777",
     "status": "completed"
    },
    "tags": []
   },
   "source": [
    "## 7. <a id='toc7_'></a>[Life-cyle profile of income](#toc0_)"
   ]
  },
  {
   "attachments": {},
   "cell_type": "markdown",
   "id": "af696d56",
   "metadata": {
    "papermill": {
     "duration": 0.018364,
     "end_time": "2023-10-23T12:55:08.763187",
     "exception": false,
     "start_time": "2023-10-23T12:55:08.744823",
     "status": "completed"
    },
    "tags": []
   },
   "source": [
    "**Set up data for regression:**"
   ]
  },
  {
   "cell_type": "code",
   "execution_count": 26,
   "id": "f0019d88",
   "metadata": {
    "execution": {
     "iopub.execute_input": "2023-10-23T12:55:08.810557Z",
     "iopub.status.busy": "2023-10-23T12:55:08.809557Z",
     "iopub.status.idle": "2023-10-23T12:55:09.098366Z",
     "shell.execute_reply": "2023-10-23T12:55:09.098366Z"
    },
    "papermill": {
     "duration": 0.322209,
     "end_time": "2023-10-23T12:55:09.100711",
     "exception": false,
     "start_time": "2023-10-23T12:55:08.778502",
     "status": "completed"
    },
    "tags": []
   },
   "outputs": [],
   "source": [
    "# a. log income for regression\n",
    "log_IncomeDF = np.log(IncomeDF)\n",
    "\n",
    "# b. drop total income column\n",
    "log_IncomeDF.drop('DisInc: Total, 15 years and over', axis=1, inplace=True)\n",
    "\n",
    "# c. rename columns\n",
    "col_dict = {f'DisInc: {i}-{i+4} years' : f'age{i}-{i+4}' for i in range(15,75+1,5)}\n",
    "log_IncomeDF = log_IncomeDF.rename(columns = {'DisInc: 80 years and over':'age80>='})\n",
    "log_IncomeDF.rename(columns = col_dict, inplace=True)"
   ]
  },
  {
   "attachments": {},
   "cell_type": "markdown",
   "id": "6a363a4f",
   "metadata": {
    "papermill": {
     "duration": 0.018993,
     "end_time": "2023-10-23T12:55:09.156801",
     "exception": false,
     "start_time": "2023-10-23T12:55:09.137808",
     "status": "completed"
    },
    "tags": []
   },
   "source": [
    "**Long format:**"
   ]
  },
  {
   "cell_type": "code",
   "execution_count": 27,
   "id": "bd31e86a",
   "metadata": {
    "execution": {
     "iopub.execute_input": "2023-10-23T12:55:09.236048Z",
     "iopub.status.busy": "2023-10-23T12:55:09.234049Z",
     "iopub.status.idle": "2023-10-23T12:55:09.527616Z",
     "shell.execute_reply": "2023-10-23T12:55:09.526586Z"
    },
    "papermill": {
     "duration": 0.337765,
     "end_time": "2023-10-23T12:55:09.527616",
     "exception": false,
     "start_time": "2023-10-23T12:55:09.189851",
     "status": "completed"
    },
    "tags": []
   },
   "outputs": [],
   "source": [
    "log_IncomeDF = log_IncomeDF.reset_index()\n",
    "long_df = pd.melt(log_IncomeDF, id_vars=\"TID\", var_name=\"age_group\", value_name=\"log_income\")"
   ]
  },
  {
   "attachments": {},
   "cell_type": "markdown",
   "id": "f5e41688",
   "metadata": {
    "papermill": {
     "duration": 0.025986,
     "end_time": "2023-10-23T12:55:09.586823",
     "exception": false,
     "start_time": "2023-10-23T12:55:09.560837",
     "status": "completed"
    },
    "tags": []
   },
   "source": [
    "**Add variables:**\n",
    "- Age \n",
    "- Birth year\n",
    "- Age squared  "
   ]
  },
  {
   "cell_type": "code",
   "execution_count": 28,
   "id": "4f3bcc26",
   "metadata": {
    "execution": {
     "iopub.execute_input": "2023-10-23T12:55:09.649868Z",
     "iopub.status.busy": "2023-10-23T12:55:09.649868Z",
     "iopub.status.idle": "2023-10-23T12:55:09.978860Z",
     "shell.execute_reply": "2023-10-23T12:55:09.978860Z"
    },
    "papermill": {
     "duration": 0.368969,
     "end_time": "2023-10-23T12:55:09.981858",
     "exception": false,
     "start_time": "2023-10-23T12:55:09.612889",
     "status": "completed"
    },
    "tags": []
   },
   "outputs": [],
   "source": [
    "# new variables\n",
    "long_df['median_birth_year'] = 0\n",
    "long_df['median_age_squared'] = 0\n",
    "long_df['median_age'] = 0\n",
    "long_df['id'] = 0\n",
    "\n",
    "a = range(0,308+22,22)\n",
    "b = range(17,82+5,5)\n",
    "\n",
    "# the age of a group is the median age of that group, i.e. 17 for group age15-19\n",
    "for i,j in zip(a,b):\n",
    "    long_df.loc[i:i+22,['median_birth_year']] = long_df['TID'] - j\n",
    "    long_df.loc[i:i+22,['median_age_squared']] = j**2\n",
    "    long_df.loc[i:i+22,['median_age']] = j\n",
    "    long_df.loc[i:i+22,['id']] = j\n",
    "\n",
    "long_df.set_index(['id', 'TID'], inplace=True)"
   ]
  },
  {
   "attachments": {},
   "cell_type": "markdown",
   "id": "d392eb94",
   "metadata": {
    "papermill": {
     "duration": 0.033054,
     "end_time": "2023-10-23T12:55:10.037900",
     "exception": false,
     "start_time": "2023-10-23T12:55:10.004846",
     "status": "completed"
    },
    "tags": []
   },
   "source": [
    "**Run regression:**"
   ]
  },
  {
   "cell_type": "code",
   "execution_count": 29,
   "id": "3c0d0602",
   "metadata": {
    "execution": {
     "iopub.execute_input": "2023-10-23T12:55:10.095868Z",
     "iopub.status.busy": "2023-10-23T12:55:10.095868Z",
     "iopub.status.idle": "2023-10-23T12:55:10.423565Z",
     "shell.execute_reply": "2023-10-23T12:55:10.422564Z"
    },
    "papermill": {
     "duration": 0.354679,
     "end_time": "2023-10-23T12:55:10.427560",
     "exception": false,
     "start_time": "2023-10-23T12:55:10.072881",
     "status": "completed"
    },
    "tags": []
   },
   "outputs": [],
   "source": [
    "# dependent variable\n",
    "dependent = long_df.log_income\n",
    "\n",
    "# exogenous variables\n",
    "exog = sm.add_constant(long_df[['median_birth_year','median_age_squared','median_age']])"
   ]
  },
  {
   "cell_type": "code",
   "execution_count": 30,
   "id": "a4b54ea1",
   "metadata": {
    "execution": {
     "iopub.execute_input": "2023-10-23T12:55:10.491402Z",
     "iopub.status.busy": "2023-10-23T12:55:10.490402Z",
     "iopub.status.idle": "2023-10-23T12:55:10.850236Z",
     "shell.execute_reply": "2023-10-23T12:55:10.849236Z"
    },
    "papermill": {
     "duration": 0.400685,
     "end_time": "2023-10-23T12:55:10.853234",
     "exception": false,
     "start_time": "2023-10-23T12:55:10.452549",
     "status": "completed"
    },
    "tags": []
   },
   "outputs": [
    {
     "data": {
      "text/html": [
       "<table class=\"simpletable\">\n",
       "<caption>PanelOLS Estimation Summary</caption>\n",
       "<tr>\n",
       "  <th>Dep. Variable:</th>       <td>log_income</td>    <th>  R-squared:         </th>    <td>0.7842</td> \n",
       "</tr>\n",
       "<tr>\n",
       "  <th>Estimator:</th>            <td>PanelOLS</td>     <th>  R-squared (Between):</th>   <td>0.7893</td> \n",
       "</tr>\n",
       "<tr>\n",
       "  <th>No. Observations:</th>        <td>308</td>       <th>  R-squared (Within):</th>    <td>0.6605</td> \n",
       "</tr>\n",
       "<tr>\n",
       "  <th>Date:</th>             <td>Mon, Oct 23 2023</td> <th>  R-squared (Overall):</th>   <td>0.7842</td> \n",
       "</tr>\n",
       "<tr>\n",
       "  <th>Time:</th>                 <td>14:55:10</td>     <th>  Log-likelihood     </th>    <td>-10.148</td>\n",
       "</tr>\n",
       "<tr>\n",
       "  <th>Cov. Estimator:</th>      <td>Unadjusted</td>    <th>                     </th>       <td></td>    \n",
       "</tr>\n",
       "<tr>\n",
       "  <th></th>                          <td></td>         <th>  F-statistic:       </th>    <td>368.16</td> \n",
       "</tr>\n",
       "<tr>\n",
       "  <th>Entities:</th>                <td>14</td>        <th>  P-value            </th>    <td>0.0000</td> \n",
       "</tr>\n",
       "<tr>\n",
       "  <th>Avg Obs:</th>               <td>22.000</td>      <th>  Distribution:      </th>   <td>F(3,304)</td>\n",
       "</tr>\n",
       "<tr>\n",
       "  <th>Min Obs:</th>               <td>22.000</td>      <th>                     </th>       <td></td>    \n",
       "</tr>\n",
       "<tr>\n",
       "  <th>Max Obs:</th>               <td>22.000</td>      <th>  F-statistic (robust):</th>  <td>368.16</td> \n",
       "</tr>\n",
       "<tr>\n",
       "  <th></th>                          <td></td>         <th>  P-value            </th>    <td>0.0000</td> \n",
       "</tr>\n",
       "<tr>\n",
       "  <th>Time periods:</th>            <td>22</td>        <th>  Distribution:      </th>   <td>F(3,304)</td>\n",
       "</tr>\n",
       "<tr>\n",
       "  <th>Avg Obs:</th>               <td>14.000</td>      <th>                     </th>       <td></td>    \n",
       "</tr>\n",
       "<tr>\n",
       "  <th>Min Obs:</th>               <td>14.000</td>      <th>                     </th>       <td></td>    \n",
       "</tr>\n",
       "<tr>\n",
       "  <th>Max Obs:</th>               <td>14.000</td>      <th>                     </th>       <td></td>    \n",
       "</tr>\n",
       "<tr>\n",
       "  <th></th>                          <td></td>         <th>                     </th>       <td></td>    \n",
       "</tr>\n",
       "</table>\n",
       "<table class=\"simpletable\">\n",
       "<caption>Parameter Estimates</caption>\n",
       "<tr>\n",
       "           <td></td>          <th>Parameter</th> <th>Std. Err.</th> <th>T-stat</th>  <th>P-value</th> <th>Lower CI</th> <th>Upper CI</th>\n",
       "</tr>\n",
       "<tr>\n",
       "  <th>const</th>               <td>-18.365</td>   <td>4.5461</td>   <td>-4.0396</td> <td>0.0001</td>   <td>-27.310</td>  <td>-9.4187</td>\n",
       "</tr>\n",
       "<tr>\n",
       "  <th>median_birth_year</th>   <td>0.0138</td>    <td>0.0023</td>   <td>6.1025</td>  <td>0.0000</td>   <td>0.0093</td>   <td>0.0182</td> \n",
       "</tr>\n",
       "<tr>\n",
       "  <th>median_age_squared</th>  <td>-0.0011</td>  <td>3.978e-05</td> <td>-28.375</td> <td>0.0000</td>   <td>-0.0012</td>  <td>-0.0011</td>\n",
       "</tr>\n",
       "<tr>\n",
       "  <th>median_age</th>          <td>0.1371</td>    <td>0.0046</td>   <td>29.820</td>  <td>0.0000</td>   <td>0.1280</td>   <td>0.1461</td> \n",
       "</tr>\n",
       "</table><br/><br/><br/>id: 0x20e08e36560"
      ],
      "text/plain": [
       "                          PanelOLS Estimation Summary                           \n",
       "================================================================================\n",
       "Dep. Variable:             log_income   R-squared:                        0.7842\n",
       "Estimator:                   PanelOLS   R-squared (Between):              0.7893\n",
       "No. Observations:                 308   R-squared (Within):               0.6605\n",
       "Date:                Mon, Oct 23 2023   R-squared (Overall):              0.7842\n",
       "Time:                        14:55:10   Log-likelihood                   -10.148\n",
       "Cov. Estimator:            Unadjusted                                           \n",
       "                                        F-statistic:                      368.16\n",
       "Entities:                          14   P-value                           0.0000\n",
       "Avg Obs:                       22.000   Distribution:                   F(3,304)\n",
       "Min Obs:                       22.000                                           \n",
       "Max Obs:                       22.000   F-statistic (robust):             368.16\n",
       "                                        P-value                           0.0000\n",
       "Time periods:                      22   Distribution:                   F(3,304)\n",
       "Avg Obs:                       14.000                                           \n",
       "Min Obs:                       14.000                                           \n",
       "Max Obs:                       14.000                                           \n",
       "                                                                                \n",
       "                                 Parameter Estimates                                  \n",
       "======================================================================================\n",
       "                    Parameter  Std. Err.     T-stat    P-value    Lower CI    Upper CI\n",
       "--------------------------------------------------------------------------------------\n",
       "const                 -18.365     4.5461    -4.0396     0.0001     -27.310     -9.4187\n",
       "median_birth_year      0.0138     0.0023     6.1025     0.0000      0.0093      0.0182\n",
       "median_age_squared    -0.0011  3.978e-05    -28.375     0.0000     -0.0012     -0.0011\n",
       "median_age             0.1371     0.0046     29.820     0.0000      0.1280      0.1461\n",
       "======================================================================================\n",
       "\n",
       "\n",
       "PanelEffectsResults, id: 0x20e08e36560"
      ]
     },
     "execution_count": 30,
     "metadata": {},
     "output_type": "execute_result"
    }
   ],
   "source": [
    "mod = PanelOLS(dependent, exog, drop_absorbed=True)\n",
    "res = mod.fit(cov_type='unadjusted')\n",
    "res"
   ]
  },
  {
   "cell_type": "markdown",
   "id": "a8960fe4",
   "metadata": {
    "papermill": {
     "duration": 0.019666,
     "end_time": "2023-10-23T12:55:10.901320",
     "exception": false,
     "start_time": "2023-10-23T12:55:10.881654",
     "status": "completed"
    },
    "tags": []
   },
   "source": [
    "### 7.1. <a id='toc7_1_'></a>[Predicted vs. observed income in year](#toc0_)"
   ]
  },
  {
   "cell_type": "code",
   "execution_count": 31,
   "id": "c49de2dd",
   "metadata": {
    "execution": {
     "iopub.execute_input": "2023-10-23T12:55:10.961502Z",
     "iopub.status.busy": "2023-10-23T12:55:10.960503Z",
     "iopub.status.idle": "2023-10-23T12:55:11.254308Z",
     "shell.execute_reply": "2023-10-23T12:55:11.252307Z"
    },
    "papermill": {
     "duration": 0.330685,
     "end_time": "2023-10-23T12:55:11.257304",
     "exception": false,
     "start_time": "2023-10-23T12:55:10.926619",
     "status": "completed"
    },
    "tags": []
   },
   "outputs": [],
   "source": [
    "year = 2010 # must be a year in the data, i.e. 2000-2021"
   ]
  },
  {
   "attachments": {},
   "cell_type": "markdown",
   "id": "2d008ccf",
   "metadata": {
    "papermill": {
     "duration": 0.024221,
     "end_time": "2023-10-23T12:55:11.306206",
     "exception": false,
     "start_time": "2023-10-23T12:55:11.281985",
     "status": "completed"
    },
    "tags": []
   },
   "source": [
    "**Predicted income:**"
   ]
  },
  {
   "cell_type": "code",
   "execution_count": 32,
   "id": "e07448eb",
   "metadata": {
    "execution": {
     "iopub.execute_input": "2023-10-23T12:55:11.358805Z",
     "iopub.status.busy": "2023-10-23T12:55:11.358805Z",
     "iopub.status.idle": "2023-10-23T12:55:11.716427Z",
     "shell.execute_reply": "2023-10-23T12:55:11.716427Z"
    },
    "papermill": {
     "duration": 0.384778,
     "end_time": "2023-10-23T12:55:11.720426",
     "exception": false,
     "start_time": "2023-10-23T12:55:11.335648",
     "status": "completed"
    },
    "tags": []
   },
   "outputs": [],
   "source": [
    "pred_income = []\n",
    "age = []\n",
    "\n",
    "# loop over years with income\n",
    "for i in range(15,82+1):\n",
    "    age.append(i)\n",
    "    pred_income.append(np.exp((year-i)*res.params.median_birth_year + \n",
    "                              res.params.const + \n",
    "                              res.params.median_age*i + \n",
    "                              res.params.median_age_squared*i**2))"
   ]
  },
  {
   "attachments": {},
   "cell_type": "markdown",
   "id": "5df9a737",
   "metadata": {
    "papermill": {
     "duration": 0.023002,
     "end_time": "2023-10-23T12:55:11.764049",
     "exception": false,
     "start_time": "2023-10-23T12:55:11.741047",
     "status": "completed"
    },
    "tags": []
   },
   "source": [
    "**Observed income:**"
   ]
  },
  {
   "cell_type": "code",
   "execution_count": 33,
   "id": "5f54092f",
   "metadata": {
    "execution": {
     "iopub.execute_input": "2023-10-23T12:55:11.818020Z",
     "iopub.status.busy": "2023-10-23T12:55:11.818020Z",
     "iopub.status.idle": "2023-10-23T12:55:12.097417Z",
     "shell.execute_reply": "2023-10-23T12:55:12.097417Z"
    },
    "papermill": {
     "duration": 0.305383,
     "end_time": "2023-10-23T12:55:12.097417",
     "exception": false,
     "start_time": "2023-10-23T12:55:11.792034",
     "status": "completed"
    },
    "tags": []
   },
   "outputs": [
    {
     "data": {
      "text/html": [
       "<div>\n",
       "<style scoped>\n",
       "    .dataframe tbody tr th:only-of-type {\n",
       "        vertical-align: middle;\n",
       "    }\n",
       "\n",
       "    .dataframe tbody tr th {\n",
       "        vertical-align: top;\n",
       "    }\n",
       "\n",
       "    .dataframe thead th {\n",
       "        text-align: right;\n",
       "    }\n",
       "</style>\n",
       "<table border=\"1\" class=\"dataframe\">\n",
       "  <thead>\n",
       "    <tr style=\"text-align: right;\">\n",
       "      <th></th>\n",
       "      <th></th>\n",
       "      <th>age_group</th>\n",
       "      <th>log_income</th>\n",
       "      <th>median_birth_year</th>\n",
       "      <th>median_age_squared</th>\n",
       "      <th>median_age</th>\n",
       "      <th>income</th>\n",
       "    </tr>\n",
       "    <tr>\n",
       "      <th>id</th>\n",
       "      <th>TID</th>\n",
       "      <th></th>\n",
       "      <th></th>\n",
       "      <th></th>\n",
       "      <th></th>\n",
       "      <th></th>\n",
       "      <th></th>\n",
       "    </tr>\n",
       "  </thead>\n",
       "  <tbody>\n",
       "    <tr>\n",
       "      <th>17</th>\n",
       "      <th>2010</th>\n",
       "      <td>age15-19</td>\n",
       "      <td>10.534759</td>\n",
       "      <td>1993</td>\n",
       "      <td>289</td>\n",
       "      <td>17</td>\n",
       "      <td>37600.0</td>\n",
       "    </tr>\n",
       "    <tr>\n",
       "      <th>22</th>\n",
       "      <th>2010</th>\n",
       "      <td>age20-24</td>\n",
       "      <td>11.776827</td>\n",
       "      <td>1988</td>\n",
       "      <td>484</td>\n",
       "      <td>22</td>\n",
       "      <td>130200.0</td>\n",
       "    </tr>\n",
       "    <tr>\n",
       "      <th>27</th>\n",
       "      <th>2010</th>\n",
       "      <td>age25-29</td>\n",
       "      <td>12.183827</td>\n",
       "      <td>1983</td>\n",
       "      <td>729</td>\n",
       "      <td>27</td>\n",
       "      <td>195600.0</td>\n",
       "    </tr>\n",
       "    <tr>\n",
       "      <th>32</th>\n",
       "      <th>2010</th>\n",
       "      <td>age30-34</td>\n",
       "      <td>12.449803</td>\n",
       "      <td>1978</td>\n",
       "      <td>1024</td>\n",
       "      <td>32</td>\n",
       "      <td>255200.0</td>\n",
       "    </tr>\n",
       "    <tr>\n",
       "      <th>37</th>\n",
       "      <th>2010</th>\n",
       "      <td>age35-39</td>\n",
       "      <td>12.581766</td>\n",
       "      <td>1973</td>\n",
       "      <td>1369</td>\n",
       "      <td>37</td>\n",
       "      <td>291200.0</td>\n",
       "    </tr>\n",
       "    <tr>\n",
       "      <th>42</th>\n",
       "      <th>2010</th>\n",
       "      <td>age40-44</td>\n",
       "      <td>12.635580</td>\n",
       "      <td>1968</td>\n",
       "      <td>1764</td>\n",
       "      <td>42</td>\n",
       "      <td>307300.0</td>\n",
       "    </tr>\n",
       "    <tr>\n",
       "      <th>47</th>\n",
       "      <th>2010</th>\n",
       "      <td>age45-49</td>\n",
       "      <td>12.643359</td>\n",
       "      <td>1963</td>\n",
       "      <td>2209</td>\n",
       "      <td>47</td>\n",
       "      <td>309700.0</td>\n",
       "    </tr>\n",
       "    <tr>\n",
       "      <th>52</th>\n",
       "      <th>2010</th>\n",
       "      <td>age50-54</td>\n",
       "      <td>12.630032</td>\n",
       "      <td>1958</td>\n",
       "      <td>2704</td>\n",
       "      <td>52</td>\n",
       "      <td>305600.0</td>\n",
       "    </tr>\n",
       "    <tr>\n",
       "      <th>57</th>\n",
       "      <th>2010</th>\n",
       "      <td>age55-59</td>\n",
       "      <td>12.607195</td>\n",
       "      <td>1953</td>\n",
       "      <td>3249</td>\n",
       "      <td>57</td>\n",
       "      <td>298700.0</td>\n",
       "    </tr>\n",
       "    <tr>\n",
       "      <th>62</th>\n",
       "      <th>2010</th>\n",
       "      <td>age60-64</td>\n",
       "      <td>12.505807</td>\n",
       "      <td>1948</td>\n",
       "      <td>3844</td>\n",
       "      <td>62</td>\n",
       "      <td>269900.0</td>\n",
       "    </tr>\n",
       "    <tr>\n",
       "      <th>67</th>\n",
       "      <th>2010</th>\n",
       "      <td>age65-69</td>\n",
       "      <td>12.317614</td>\n",
       "      <td>1943</td>\n",
       "      <td>4489</td>\n",
       "      <td>67</td>\n",
       "      <td>223600.0</td>\n",
       "    </tr>\n",
       "    <tr>\n",
       "      <th>72</th>\n",
       "      <th>2010</th>\n",
       "      <td>age70-74</td>\n",
       "      <td>12.233201</td>\n",
       "      <td>1938</td>\n",
       "      <td>5184</td>\n",
       "      <td>72</td>\n",
       "      <td>205500.0</td>\n",
       "    </tr>\n",
       "    <tr>\n",
       "      <th>77</th>\n",
       "      <th>2010</th>\n",
       "      <td>age75-79</td>\n",
       "      <td>12.191974</td>\n",
       "      <td>1933</td>\n",
       "      <td>5929</td>\n",
       "      <td>77</td>\n",
       "      <td>197200.0</td>\n",
       "    </tr>\n",
       "    <tr>\n",
       "      <th>82</th>\n",
       "      <th>2010</th>\n",
       "      <td>age80&gt;=</td>\n",
       "      <td>12.207572</td>\n",
       "      <td>1928</td>\n",
       "      <td>6724</td>\n",
       "      <td>82</td>\n",
       "      <td>200300.0</td>\n",
       "    </tr>\n",
       "  </tbody>\n",
       "</table>\n",
       "</div>"
      ],
      "text/plain": [
       "        age_group  log_income  median_birth_year  median_age_squared  \\\n",
       "id TID                                                                 \n",
       "17 2010  age15-19   10.534759               1993                 289   \n",
       "22 2010  age20-24   11.776827               1988                 484   \n",
       "27 2010  age25-29   12.183827               1983                 729   \n",
       "32 2010  age30-34   12.449803               1978                1024   \n",
       "37 2010  age35-39   12.581766               1973                1369   \n",
       "42 2010  age40-44   12.635580               1968                1764   \n",
       "47 2010  age45-49   12.643359               1963                2209   \n",
       "52 2010  age50-54   12.630032               1958                2704   \n",
       "57 2010  age55-59   12.607195               1953                3249   \n",
       "62 2010  age60-64   12.505807               1948                3844   \n",
       "67 2010  age65-69   12.317614               1943                4489   \n",
       "72 2010  age70-74   12.233201               1938                5184   \n",
       "77 2010  age75-79   12.191974               1933                5929   \n",
       "82 2010   age80>=   12.207572               1928                6724   \n",
       "\n",
       "         median_age    income  \n",
       "id TID                         \n",
       "17 2010          17   37600.0  \n",
       "22 2010          22  130200.0  \n",
       "27 2010          27  195600.0  \n",
       "32 2010          32  255200.0  \n",
       "37 2010          37  291200.0  \n",
       "42 2010          42  307300.0  \n",
       "47 2010          47  309700.0  \n",
       "52 2010          52  305600.0  \n",
       "57 2010          57  298700.0  \n",
       "62 2010          62  269900.0  \n",
       "67 2010          67  223600.0  \n",
       "72 2010          72  205500.0  \n",
       "77 2010          77  197200.0  \n",
       "82 2010          82  200300.0  "
      ]
     },
     "metadata": {},
     "output_type": "display_data"
    }
   ],
   "source": [
    "warnings.filterwarnings('ignore')\n",
    "\n",
    "obs_income = long_df.loc[long_df.index.get_level_values(1) == year, :]\n",
    "obs_income['income'] = np.exp(obs_income['log_income'])\n",
    "display(obs_income)\n",
    "\n",
    "warnings.filterwarnings('default')"
   ]
  },
  {
   "attachments": {},
   "cell_type": "markdown",
   "id": "20989b42",
   "metadata": {
    "papermill": {
     "duration": 0.02022,
     "end_time": "2023-10-23T12:55:12.145024",
     "exception": false,
     "start_time": "2023-10-23T12:55:12.124804",
     "status": "completed"
    },
    "tags": []
   },
   "source": [
    "**Plot:**"
   ]
  },
  {
   "cell_type": "code",
   "execution_count": 34,
   "id": "c83258a2",
   "metadata": {
    "execution": {
     "iopub.execute_input": "2023-10-23T12:55:12.192728Z",
     "iopub.status.busy": "2023-10-23T12:55:12.192728Z",
     "iopub.status.idle": "2023-10-23T12:55:12.827596Z",
     "shell.execute_reply": "2023-10-23T12:55:12.826037Z"
    },
    "papermill": {
     "duration": 0.657861,
     "end_time": "2023-10-23T12:55:12.829614",
     "exception": false,
     "start_time": "2023-10-23T12:55:12.171753",
     "status": "completed"
    },
    "tags": []
   },
   "outputs": [
    {
     "data": {
      "image/png": "[encoded data removed]",
      "text/plain": [
       "<Figure size 600x400 with 1 Axes>"
      ]
     },
     "metadata": {},
     "output_type": "display_data"
    }
   ],
   "source": [
    "fig, ax = plt.subplots(figsize=(6,4))\n",
    "\n",
    "ax.plot(age, pred_income, label='Predicted')\n",
    "obs_income.plot(kind='scatter', x='median_age', y='income', label='Observed', color='red', ax=ax)\n",
    "\n",
    "ax.set_title('Life cycle income in year ' + str(year))\n",
    "ax.set_ylabel('income')\n",
    "ax.set_xlabel('age')\n",
    "ax.legend()\n",
    "\n",
    "fig.tight_layout()\n",
    "fig.savefig('figs/life_cycle_income.pdf')"
   ]
  },
  {
   "cell_type": "markdown",
   "id": "9bc88fe3",
   "metadata": {
    "papermill": {
     "duration": 0.030355,
     "end_time": "2023-10-23T12:55:12.887994",
     "exception": false,
     "start_time": "2023-10-23T12:55:12.857639",
     "status": "completed"
    },
    "tags": []
   },
   "source": [
    "### 7.2. <a id='toc7_2_'></a>[Save to disc](#toc0_)"
   ]
  },
  {
   "cell_type": "code",
   "execution_count": 35,
   "id": "38653e17",
   "metadata": {
    "execution": {
     "iopub.execute_input": "2023-10-23T12:55:12.951539Z",
     "iopub.status.busy": "2023-10-23T12:55:12.951539Z",
     "iopub.status.idle": "2023-10-23T12:55:13.218914Z",
     "shell.execute_reply": "2023-10-23T12:55:13.217913Z"
    },
    "papermill": {
     "duration": 0.296657,
     "end_time": "2023-10-23T12:55:13.221232",
     "exception": false,
     "start_time": "2023-10-23T12:55:12.924575",
     "status": "completed"
    },
    "tags": []
   },
   "outputs": [],
   "source": [
    "## a. household income\n",
    "ss_households_income = {}\n",
    "ss_households_income['age'] = obs_income['median_age'].to_numpy()[1:13] # drop the first element and last element\n",
    "ss_households_income['income'] = obs_income['income'].to_numpy()[1:13] # drop the first element and last element\n",
    "ss_households_income['income'] /= ss_households_income['income'][0] # normalization\n",
    "\n",
    "# b. save to disc\n",
    "with open('data/ss_households_income.pickle', 'wb') as f:\n",
    "    pickle.dump(ss_households_income, f)"
   ]
  },
  {
   "cell_type": "markdown",
   "id": "35d31a37",
   "metadata": {
    "papermill": {
     "duration": 0.037022,
     "end_time": "2023-10-23T12:55:13.276064",
     "exception": false,
     "start_time": "2023-10-23T12:55:13.239042",
     "status": "completed"
    },
    "tags": []
   },
   "source": [
    "### 7.3. <a id='toc7_3_'></a>[Predicted vs. observed income for cohort 1983](#toc0_)"
   ]
  },
  {
   "attachments": {},
   "cell_type": "markdown",
   "id": "84bd3d8c",
   "metadata": {
    "papermill": {
     "duration": 0.025107,
     "end_time": "2023-10-23T12:55:13.332127",
     "exception": false,
     "start_time": "2023-10-23T12:55:13.307020",
     "status": "completed"
    },
    "tags": []
   },
   "source": [
    "**Predicted income for cohort 1983:**"
   ]
  },
  {
   "cell_type": "code",
   "execution_count": 36,
   "id": "07769335",
   "metadata": {
    "execution": {
     "iopub.execute_input": "2023-10-23T12:55:13.383252Z",
     "iopub.status.busy": "2023-10-23T12:55:13.382252Z",
     "iopub.status.idle": "2023-10-23T12:55:13.723197Z",
     "shell.execute_reply": "2023-10-23T12:55:13.722222Z"
    },
    "papermill": {
     "duration": 0.368972,
     "end_time": "2023-10-23T12:55:13.725212",
     "exception": false,
     "start_time": "2023-10-23T12:55:13.356240",
     "status": "completed"
    },
    "tags": []
   },
   "outputs": [],
   "source": [
    "pred_income = []\n",
    "age = []\n",
    "\n",
    "# loop over years with income\n",
    "for i in range(15,82+1):\n",
    "    age.append(i)\n",
    "    pred_income.append(np.exp((1983)*res.params.median_birth_year + \n",
    "                              res.params.const + \n",
    "                              res.params.median_age*i + \n",
    "                              res.params.median_age_squared*i**2)) # birth year, 1983, remains constant"
   ]
  },
  {
   "attachments": {},
   "cell_type": "markdown",
   "id": "b6c077c7",
   "metadata": {
    "papermill": {
     "duration": 0.025944,
     "end_time": "2023-10-23T12:55:13.772129",
     "exception": false,
     "start_time": "2023-10-23T12:55:13.746185",
     "status": "completed"
    },
    "tags": []
   },
   "source": [
    "**Observed income for cohort 1983:**"
   ]
  },
  {
   "cell_type": "code",
   "execution_count": 37,
   "id": "04cbd202",
   "metadata": {
    "execution": {
     "iopub.execute_input": "2023-10-23T12:55:13.821953Z",
     "iopub.status.busy": "2023-10-23T12:55:13.820953Z",
     "iopub.status.idle": "2023-10-23T12:55:14.086927Z",
     "shell.execute_reply": "2023-10-23T12:55:14.085927Z"
    },
    "papermill": {
     "duration": 0.29289,
     "end_time": "2023-10-23T12:55:14.089957",
     "exception": false,
     "start_time": "2023-10-23T12:55:13.797067",
     "status": "completed"
    },
    "tags": []
   },
   "outputs": [
    {
     "data": {
      "text/html": [
       "<div>\n",
       "<style scoped>\n",
       "    .dataframe tbody tr th:only-of-type {\n",
       "        vertical-align: middle;\n",
       "    }\n",
       "\n",
       "    .dataframe tbody tr th {\n",
       "        vertical-align: top;\n",
       "    }\n",
       "\n",
       "    .dataframe thead th {\n",
       "        text-align: right;\n",
       "    }\n",
       "</style>\n",
       "<table border=\"1\" class=\"dataframe\">\n",
       "  <thead>\n",
       "    <tr style=\"text-align: right;\">\n",
       "      <th></th>\n",
       "      <th></th>\n",
       "      <th>age_group</th>\n",
       "      <th>log_income</th>\n",
       "      <th>median_birth_year</th>\n",
       "      <th>median_age_squared</th>\n",
       "      <th>median_age</th>\n",
       "      <th>income</th>\n",
       "    </tr>\n",
       "    <tr>\n",
       "      <th>id</th>\n",
       "      <th>TID</th>\n",
       "      <th></th>\n",
       "      <th></th>\n",
       "      <th></th>\n",
       "      <th></th>\n",
       "      <th></th>\n",
       "      <th></th>\n",
       "    </tr>\n",
       "  </thead>\n",
       "  <tbody>\n",
       "    <tr>\n",
       "      <th>17</th>\n",
       "      <th>2000</th>\n",
       "      <td>age15-19</td>\n",
       "      <td>10.594132</td>\n",
       "      <td>1983</td>\n",
       "      <td>289</td>\n",
       "      <td>17</td>\n",
       "      <td>39900.0</td>\n",
       "    </tr>\n",
       "    <tr>\n",
       "      <th>22</th>\n",
       "      <th>2005</th>\n",
       "      <td>age20-24</td>\n",
       "      <td>11.795092</td>\n",
       "      <td>1983</td>\n",
       "      <td>484</td>\n",
       "      <td>22</td>\n",
       "      <td>132600.0</td>\n",
       "    </tr>\n",
       "    <tr>\n",
       "      <th>27</th>\n",
       "      <th>2010</th>\n",
       "      <td>age25-29</td>\n",
       "      <td>12.183827</td>\n",
       "      <td>1983</td>\n",
       "      <td>729</td>\n",
       "      <td>27</td>\n",
       "      <td>195600.0</td>\n",
       "    </tr>\n",
       "    <tr>\n",
       "      <th>32</th>\n",
       "      <th>2015</th>\n",
       "      <td>age30-34</td>\n",
       "      <td>12.443908</td>\n",
       "      <td>1983</td>\n",
       "      <td>1024</td>\n",
       "      <td>32</td>\n",
       "      <td>253700.0</td>\n",
       "    </tr>\n",
       "    <tr>\n",
       "      <th>37</th>\n",
       "      <th>2020</th>\n",
       "      <td>age35-39</td>\n",
       "      <td>12.697715</td>\n",
       "      <td>1983</td>\n",
       "      <td>1369</td>\n",
       "      <td>37</td>\n",
       "      <td>327000.0</td>\n",
       "    </tr>\n",
       "  </tbody>\n",
       "</table>\n",
       "</div>"
      ],
      "text/plain": [
       "        age_group  log_income  median_birth_year  median_age_squared  \\\n",
       "id TID                                                                 \n",
       "17 2000  age15-19   10.594132               1983                 289   \n",
       "22 2005  age20-24   11.795092               1983                 484   \n",
       "27 2010  age25-29   12.183827               1983                 729   \n",
       "32 2015  age30-34   12.443908               1983                1024   \n",
       "37 2020  age35-39   12.697715               1983                1369   \n",
       "\n",
       "         median_age    income  \n",
       "id TID                         \n",
       "17 2000          17   39900.0  \n",
       "22 2005          22  132600.0  \n",
       "27 2010          27  195600.0  \n",
       "32 2015          32  253700.0  \n",
       "37 2020          37  327000.0  "
      ]
     },
     "metadata": {},
     "output_type": "display_data"
    }
   ],
   "source": [
    "warnings.filterwarnings('ignore')\n",
    "\n",
    "obs_income = long_df.loc[long_df['median_birth_year'] == 1983, :]\n",
    "obs_income['income'] = np.exp(obs_income['log_income'])\n",
    "display(obs_income)\n",
    "\n",
    "warnings.filterwarnings('default')"
   ]
  },
  {
   "attachments": {},
   "cell_type": "markdown",
   "id": "915a0538",
   "metadata": {
    "papermill": {
     "duration": 0.022952,
     "end_time": "2023-10-23T12:55:14.136202",
     "exception": false,
     "start_time": "2023-10-23T12:55:14.113250",
     "status": "completed"
    },
    "tags": []
   },
   "source": [
    "**Plot:**"
   ]
  },
  {
   "cell_type": "code",
   "execution_count": 38,
   "id": "db5f4a93",
   "metadata": {
    "execution": {
     "iopub.execute_input": "2023-10-23T12:55:14.241297Z",
     "iopub.status.busy": "2023-10-23T12:55:14.240298Z",
     "iopub.status.idle": "2023-10-23T12:55:14.820402Z",
     "shell.execute_reply": "2023-10-23T12:55:14.819389Z"
    },
    "papermill": {
     "duration": 0.660212,
     "end_time": "2023-10-23T12:55:14.824399",
     "exception": false,
     "start_time": "2023-10-23T12:55:14.164187",
     "status": "completed"
    },
    "tags": []
   },
   "outputs": [
    {
     "data": {
      "image/png": "[encoded data removed]",
      "text/plain": [
       "<Figure size 600x400 with 1 Axes>"
      ]
     },
     "metadata": {},
     "output_type": "display_data"
    }
   ],
   "source": [
    "fig, ax = plt.subplots(figsize=(6,4))\n",
    "\n",
    "ax.plot(age, pred_income, label='Predicted')\n",
    "obs_income.plot(kind='scatter', x='median_age', y='income', label='Observed', color='red', ax=ax)\n",
    "\n",
    "ax.set_title('Life cycle income for cohort 1983')\n",
    "ax.set_ylabel('Income')\n",
    "ax.set_xlabel('Age')\n",
    "ax.legend()\n",
    "\n",
    "fig.tight_layout()\n",
    "fig.savefig('figs/Life_cycle_income_cohort.pdf')"
   ]
  },
  {
   "cell_type": "markdown",
   "id": "22025f33",
   "metadata": {
    "papermill": {
     "duration": 0.039025,
     "end_time": "2023-10-23T12:55:14.898771",
     "exception": false,
     "start_time": "2023-10-23T12:55:14.859746",
     "status": "completed"
    },
    "tags": []
   },
   "source": [
    "## 8. <a id='toc8_'></a>[Wealth-income ratio:](#toc0_)"
   ]
  },
  {
   "attachments": {},
   "cell_type": "markdown",
   "id": "4347fbcf",
   "metadata": {
    "papermill": {
     "duration": 0.040618,
     "end_time": "2023-10-23T12:55:14.964374",
     "exception": false,
     "start_time": "2023-10-23T12:55:14.923756",
     "status": "completed"
    },
    "tags": []
   },
   "source": [
    "**Calculate the wealth-income ratio based on the raw data:**"
   ]
  },
  {
   "cell_type": "code",
   "execution_count": 39,
   "id": "8f21bb0d",
   "metadata": {
    "execution": {
     "iopub.execute_input": "2023-10-23T12:55:15.027785Z",
     "iopub.status.busy": "2023-10-23T12:55:15.027785Z",
     "iopub.status.idle": "2023-10-23T12:55:15.322388Z",
     "shell.execute_reply": "2023-10-23T12:55:15.321385Z"
    },
    "papermill": {
     "duration": 0.325644,
     "end_time": "2023-10-23T12:55:15.325385",
     "exception": false,
     "start_time": "2023-10-23T12:55:14.999741",
     "status": "completed"
    },
    "tags": []
   },
   "outputs": [
    {
     "name": "stdout",
     "output_type": "stream",
     "text": [
      "ALDER\n",
      "age_20-24     0.766505\n",
      "age_25-29     0.890354\n",
      "age_30-34     1.353119\n",
      "age_35-39     2.105508\n",
      "age_40-44     3.002049\n",
      "age_45-49     3.944616\n",
      "age_50-54     5.090512\n",
      "age_55-59     6.610468\n",
      "age_60-64     8.626078\n",
      "age_65-69    10.807956\n",
      "age_70-74    10.705477\n",
      "age_75-79     9.617599\n",
      "dtype: float64\n"
     ]
    }
   ],
   "source": [
    "# a. get the relevant data frame\n",
    "IncomeWealthDF =  pd.concat([IncomeDF_cprice,WealthDF], axis=1)\n",
    "\n",
    "ages = []\n",
    "\n",
    "# b. loop over age groups common to income and wealth data\n",
    "for i in range(25,75+1,5):\n",
    "    IncomeWealthDF['age_'+str(i)+'-'+str(i+4)] = IncomeWealthDF['Wealth: '+str(i)+'-'+str(i+4)+' years']/IncomeWealthDF['DisInc: '+str(i)+'-'+str(i+4)+' years']\n",
    "    ages.append(i+2)\n",
    "\n",
    "# c. the first age group, age_15-24. Assuming no wealth for 15-17 years - no data ...\n",
    "IncomeWealthDF['age_20-24'] = IncomeWealthDF['Wealth: 18-24 years']/IncomeWealthDF['DisInc: 20-24 years']\n",
    "ages = [22] + ages\n",
    "\n",
    "# d. wealth-income ratio for all age groups\n",
    "IncomeWealthDF = IncomeWealthDF[['age_' + str(i) + '-' + str(i+4) for i in range(20,75+1,5)]]\n",
    "IncomeWealthDF = IncomeWealthDF.dropna() # drop NANs - wealth data only available for 2014-2021\n",
    "\n",
    "# e. take the mean over time for each age group\n",
    "wealth_income_ratio = IncomeWealthDF.mean()\n",
    "print(wealth_income_ratio)"
   ]
  },
  {
   "attachments": {},
   "cell_type": "markdown",
   "id": "0815dc00",
   "metadata": {
    "papermill": {
     "duration": 0.022986,
     "end_time": "2023-10-23T12:55:15.370362",
     "exception": false,
     "start_time": "2023-10-23T12:55:15.347376",
     "status": "completed"
    },
    "tags": []
   },
   "source": [
    "**Linear interpolation of the observed wealth-income ratio:**"
   ]
  },
  {
   "cell_type": "code",
   "execution_count": 40,
   "id": "408f0087",
   "metadata": {
    "execution": {
     "iopub.execute_input": "2023-10-23T12:55:15.428823Z",
     "iopub.status.busy": "2023-10-23T12:55:15.428823Z",
     "iopub.status.idle": "2023-10-23T12:55:15.855172Z",
     "shell.execute_reply": "2023-10-23T12:55:15.854085Z"
    },
    "papermill": {
     "duration": 0.459885,
     "end_time": "2023-10-23T12:55:15.858172",
     "exception": false,
     "start_time": "2023-10-23T12:55:15.398287",
     "status": "completed"
    },
    "tags": []
   },
   "outputs": [
    {
     "data": {
      "text/plain": [
       "Text(0.5, 0, 'Age')"
      ]
     },
     "execution_count": 40,
     "metadata": {},
     "output_type": "execute_result"
    },
    {
     "data": {
      "image/png": "[encoded data removed]",
      "text/plain": [
       "<Figure size 600x400 with 1 Axes>"
      ]
     },
     "metadata": {},
     "output_type": "display_data"
    }
   ],
   "source": [
    "wealth_income_ratio_list = wealth_income_ratio.tolist()\n",
    "\n",
    "ages_ = min(ages) + np.arange(max(ages)-min(ages)+1)\n",
    "wealth_inc_interp = np.interp(ages_,ages,wealth_income_ratio_list)\n",
    "\n",
    "fig,ax = plt.subplots(figsize=(6,4))\n",
    "\n",
    "ax.set_title('Wealth-income ratio interpolated')\n",
    "ax.plot(ages,wealth_income_ratio_list,'bo')\n",
    "ax.plot(ages_,wealth_inc_interp)\n",
    "ax.set_xlabel('Age')"
   ]
  },
  {
   "cell_type": "markdown",
   "id": "9c7ecaf1",
   "metadata": {
    "papermill": {
     "duration": 0.025549,
     "end_time": "2023-10-23T12:55:15.915497",
     "exception": false,
     "start_time": "2023-10-23T12:55:15.889948",
     "status": "completed"
    },
    "tags": []
   },
   "source": [
    "### 8.1. <a id='toc8_1_'></a>[Save to disc](#toc0_)"
   ]
  },
  {
   "cell_type": "code",
   "execution_count": 41,
   "id": "15d874f4",
   "metadata": {
    "execution": {
     "iopub.execute_input": "2023-10-23T12:55:15.971048Z",
     "iopub.status.busy": "2023-10-23T12:55:15.971048Z",
     "iopub.status.idle": "2023-10-23T12:55:16.227411Z",
     "shell.execute_reply": "2023-10-23T12:55:16.225425Z"
    },
    "papermill": {
     "duration": 0.281873,
     "end_time": "2023-10-23T12:55:16.229429",
     "exception": false,
     "start_time": "2023-10-23T12:55:15.947556",
     "status": "completed"
    },
    "tags": []
   },
   "outputs": [],
   "source": [
    "## a. household income\n",
    "ss_households_wealth = {}\n",
    "ss_households_wealth['age'] = ages_[2:]\n",
    "ss_households_wealth['wealth_income_ratio'] = wealth_inc_interp[2:]\n",
    "\n",
    "# b. save to disc\n",
    "with open('data/ss_households_wealth.pickle', 'wb') as f:\n",
    "    pickle.dump(ss_households_wealth, f)"
   ]
  }
 ],
 "metadata": {
  "kernelspec": {
   "display_name": "base",
   "language": "python",
   "name": "python3"
  },
  "language_info": {
   "codemirror_mode": {
    "name": "ipython",
    "version": 3
   },
   "file_extension": ".py",
   "mimetype": "text/x-python",
   "name": "python",
   "nbconvert_exporter": "python",
   "pygments_lexer": "ipython3",
   "version": "3.10.11"
  },
  "papermill": {
   "default_parameters": {},
   "duration": 27.872282,
   "end_time": "2023-10-23T12:55:17.041753",
   "environment_variables": {},
   "exception": null,
   "input_path": "0b - steady state - data.ipynb",
   "output_path": "temp_notebooks/0b - steady state - data.ipynb",
   "parameters": {},
   "start_time": "2023-10-23T12:54:49.169471",
   "version": "2.4.0"
  },
  "vscode": {
   "interpreter": {
    "hash": "9c70007ae2ab7a7a37fedd7506c3ac6922537c13d0b7541085c8698d1f7946d8"
   }
  }
 },
 "nbformat": 4,
 "nbformat_minor": 5
}