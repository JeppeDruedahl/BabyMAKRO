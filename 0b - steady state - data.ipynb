{
 "cells": [
  {
   "attachments": {},
   "cell_type": "markdown",
   "metadata": {},
   "source": [
    "# Data for calibration\n"
   ]
  },
  {
   "attachments": {},
   "cell_type": "markdown",
   "metadata": {},
   "source": [
    "**Table of contents**<a id='toc0_'></a>    \n",
    "- 1. [Download data](#toc1_)    \n",
    "- 2. [National account](#toc2_)    \n",
    "- 3. [Capital, employment and population](#toc3_)    \n",
    "- 4. [Unemployment rate](#toc4_)    \n",
    "- 5. [Steady state - aggregate](#toc5_)    \n",
    "  - 5.1. [Save to disc](#toc5_1_)    \n",
    "- 6. [Income and wealth over life-cycle](#toc6_)    \n",
    "- 7. [Life-cyle profile of income](#toc7_)    \n",
    "  - 7.1. [Predicted vs. observed income in year](#toc7_1_)    \n",
    "  - 7.2. [Save to disc](#toc7_2_)    \n",
    "  - 7.3. [Predicted vs. observed income for cohort 1983](#toc7_3_)    \n",
    "- 8. [Wealth-income ratio:](#toc8_)    \n",
    "  - 8.1. [Save to disc](#toc8_1_)    \n",
    "\n",
    "<!-- vscode-jupyter-toc-config\n",
    "\tnumbering=true\n",
    "\tanchor=true\n",
    "\tflat=false\n",
    "\tminLevel=2\n",
    "\tmaxLevel=6\n",
    "\t/vscode-jupyter-toc-config -->\n",
    "<!-- THIS CELL WILL BE REPLACED ON TOC UPDATE. DO NOT WRITE YOUR TEXT IN THIS CELL -->"
   ]
  },
  {
   "cell_type": "code",
   "execution_count": 1,
   "metadata": {
    "execution": {
     "iopub.execute_input": "2023-09-04T12:55:11.144256Z",
     "iopub.status.busy": "2023-09-04T12:55:11.144256Z",
     "iopub.status.idle": "2023-09-04T12:55:15.135561Z",
     "shell.execute_reply": "2023-09-04T12:55:15.135561Z"
    }
   },
   "outputs": [],
   "source": [
    "import warnings\n",
    "\n",
    "import numpy as np\n",
    "import pandas as pd\n",
    "import pickle\n",
    "\n",
    "import statsmodels.api as sm # pip install statsmodels\n",
    "from linearmodels import PanelOLS # pip install linearmodels\n",
    "from IPython.display import display\n",
    "\n",
    "from dstapi import DstApi # the helper class. pip install git+https://github.com/alemartinello/dstapi\n",
    "\n",
    "import matplotlib.pyplot as plt   \n",
    "plt.rcParams.update({\"axes.grid\":True,\"grid.color\":\"black\",\"grid.alpha\":\"0.25\",\"grid.linestyle\":\"--\"})\n",
    "prop_cycle = plt.rcParams['axes.prop_cycle']\n",
    "colors = prop_cycle.by_key()['color']\n",
    "\n",
    "from BabyMAKROModel import BabyMAKROModelClass"
   ]
  },
  {
   "attachments": {},
   "cell_type": "markdown",
   "metadata": {},
   "source": [
    "## 1. <a id='toc1_'></a>[Download data](#toc0_)"
   ]
  },
  {
   "cell_type": "code",
   "execution_count": 2,
   "metadata": {
    "execution": {
     "iopub.execute_input": "2023-09-04T12:55:15.137558Z",
     "iopub.status.busy": "2023-09-04T12:55:15.137558Z",
     "iopub.status.idle": "2023-09-04T12:55:15.139921Z",
     "shell.execute_reply": "2023-09-04T12:55:15.139921Z"
    }
   },
   "outputs": [],
   "source": [
    "NationalAccounts = DstApi('NAN1')        # Unit : current prices, bill. DKK\n",
    "EmploymentPopuplation = DstApi('NAHB')   # Unit : total number of people\n",
    "PopulationAge   = DstApi('BEFOLK1')      # Unit: total number of people by age\n",
    "Unemployment = DstApi('AULAAR')          # Unit : % of labour force\n",
    "Capital = DstApi('NABK10')               # Unit : current prices, bill. DKK\n",
    "\n",
    "Income = DstApi('INDKP201')              # Unit : fixed and current prices, DKK\n",
    "Wealth = DstApi('FORMUE11')              # Unit : current prices, DKK / Using 2014-defintion of net-wealth\n",
    "\n",
    "FirstYear = 2000                         # Define first year of data (in cases where prior data exists)"
   ]
  },
  {
   "cell_type": "code",
   "execution_count": 3,
   "metadata": {},
   "outputs": [],
   "source": [
    "model = BabyMAKROModelClass(name='baseline') # create an instance of the model\n",
    "par = model.par # unpack model parameters"
   ]
  },
  {
   "attachments": {},
   "cell_type": "markdown",
   "metadata": {},
   "source": [
    "## 2. <a id='toc2_'></a>[National accounts](#toc0_)"
   ]
  },
  {
   "cell_type": "code",
   "execution_count": 4,
   "metadata": {
    "execution": {
     "iopub.execute_input": "2023-09-04T12:55:15.141916Z",
     "iopub.status.busy": "2023-09-04T12:55:15.141916Z",
     "iopub.status.idle": "2023-09-04T12:55:15.414821Z",
     "shell.execute_reply": "2023-09-04T12:55:15.414821Z"
    }
   },
   "outputs": [
    {
     "name": "stdout",
     "output_type": "stream",
     "text": [
      "Table NAN1: Demand and supply by transaction, price unit and time\n",
      "Last update: 2023-06-30T08:00:00\n"
     ]
    },
    {
     "data": {
      "text/html": [
       "<div>\n",
       "<style scoped>\n",
       "    .dataframe tbody tr th:only-of-type {\n",
       "        vertical-align: middle;\n",
       "    }\n",
       "\n",
       "    .dataframe tbody tr th {\n",
       "        vertical-align: top;\n",
       "    }\n",
       "\n",
       "    .dataframe thead th {\n",
       "        text-align: right;\n",
       "    }\n",
       "</style>\n",
       "<table border=\"1\" class=\"dataframe\">\n",
       "  <thead>\n",
       "    <tr style=\"text-align: right;\">\n",
       "      <th></th>\n",
       "      <th>variable name</th>\n",
       "      <th># values</th>\n",
       "      <th>First value</th>\n",
       "      <th>First value label</th>\n",
       "      <th>Last value</th>\n",
       "      <th>Last value label</th>\n",
       "      <th>Time variable</th>\n",
       "    </tr>\n",
       "  </thead>\n",
       "  <tbody>\n",
       "    <tr>\n",
       "      <th>0</th>\n",
       "      <td>TRANSAKT</td>\n",
       "      <td>31</td>\n",
       "      <td>B1GQK</td>\n",
       "      <td>B.1*g Gross domestic product</td>\n",
       "      <td>EMPM_DC</td>\n",
       "      <td>Total employment (1,000 persons)</td>\n",
       "      <td>False</td>\n",
       "    </tr>\n",
       "    <tr>\n",
       "      <th>1</th>\n",
       "      <td>PRISENHED</td>\n",
       "      <td>6</td>\n",
       "      <td>V_M</td>\n",
       "      <td>Current prices, (bill. DKK.)</td>\n",
       "      <td>LAN_C</td>\n",
       "      <td>Pr. capita, 2010-prices, chained values, (1000...</td>\n",
       "      <td>False</td>\n",
       "    </tr>\n",
       "    <tr>\n",
       "      <th>2</th>\n",
       "      <td>Tid</td>\n",
       "      <td>57</td>\n",
       "      <td>1966</td>\n",
       "      <td>1966</td>\n",
       "      <td>2022</td>\n",
       "      <td>2022</td>\n",
       "      <td>True</td>\n",
       "    </tr>\n",
       "  </tbody>\n",
       "</table>\n",
       "</div>"
      ],
      "text/plain": [
       "  variable name  # values First value             First value label  \\\n",
       "0      TRANSAKT        31       B1GQK  B.1*g Gross domestic product   \n",
       "1     PRISENHED         6         V_M  Current prices, (bill. DKK.)   \n",
       "2           Tid        57        1966                          1966   \n",
       "\n",
       "  Last value                                   Last value label  Time variable  \n",
       "0    EMPM_DC                   Total employment (1,000 persons)          False  \n",
       "1      LAN_C  Pr. capita, 2010-prices, chained values, (1000...          False  \n",
       "2       2022                                               2022           True  "
      ]
     },
     "metadata": {},
     "output_type": "display_data"
    }
   ],
   "source": [
    "display(NationalAccounts.tablesummary(language='en'))\n",
    "# display(NationalAccounts.variable_levels('PRISENHED', language='en'))\n",
    "# display(NationalAccounts.variable_levels('TRANSAKT', language='en'))"
   ]
  },
  {
   "attachments": {},
   "cell_type": "markdown",
   "metadata": {},
   "source": [
    "**Create dataframe:**"
   ]
  },
  {
   "cell_type": "code",
   "execution_count": 5,
   "metadata": {
    "execution": {
     "iopub.execute_input": "2023-09-04T12:55:15.456519Z",
     "iopub.status.busy": "2023-09-04T12:55:15.456519Z",
     "iopub.status.idle": "2023-09-04T12:55:15.630971Z",
     "shell.execute_reply": "2023-09-04T12:55:15.630971Z"
    }
   },
   "outputs": [],
   "source": [
    "params = {\n",
    "    'table': 'NAN1',\n",
    "    'format': 'BULK',\n",
    "    'lang': 'en',\n",
    "    'variables': [\n",
    "        {'code': 'TRANSAKT', 'values': ['B1GQK','P7K','P6D','P31S1MD','P3S13D','P5GD']},    # variables of interest\n",
    "        {'code': 'PRISENHED', 'values': ['V_M']},                                           # current prices\n",
    "        {'code': 'Tid', 'values': [f'>={FirstYear}<']}                                      # specified years    \n",
    "        ]\n",
    "    }\n",
    "SupplyBalanceVar = NationalAccounts.get_data(params=params).set_index(['TID']).sort_values(['TID'])"
   ]
  },
  {
   "cell_type": "code",
   "execution_count": 6,
   "metadata": {
    "execution": {
     "iopub.execute_input": "2023-09-04T12:55:15.633965Z",
     "iopub.status.busy": "2023-09-04T12:55:15.633965Z",
     "iopub.status.idle": "2023-09-04T12:55:15.655985Z",
     "shell.execute_reply": "2023-09-04T12:55:15.655570Z"
    }
   },
   "outputs": [
    {
     "data": {
      "text/html": [
       "<div>\n",
       "<style scoped>\n",
       "    .dataframe tbody tr th:only-of-type {\n",
       "        vertical-align: middle;\n",
       "    }\n",
       "\n",
       "    .dataframe tbody tr th {\n",
       "        vertical-align: top;\n",
       "    }\n",
       "\n",
       "    .dataframe thead th {\n",
       "        text-align: right;\n",
       "    }\n",
       "</style>\n",
       "<table border=\"1\" class=\"dataframe\">\n",
       "  <thead>\n",
       "    <tr style=\"text-align: right;\">\n",
       "      <th></th>\n",
       "      <th>M_ratio</th>\n",
       "      <th>X_ratio</th>\n",
       "      <th>C_ratio</th>\n",
       "      <th>G_ratio</th>\n",
       "      <th>I_ratio</th>\n",
       "    </tr>\n",
       "    <tr>\n",
       "      <th>TID</th>\n",
       "      <th></th>\n",
       "      <th></th>\n",
       "      <th></th>\n",
       "      <th></th>\n",
       "      <th></th>\n",
       "    </tr>\n",
       "  </thead>\n",
       "  <tbody>\n",
       "    <tr>\n",
       "      <th>2000</th>\n",
       "      <td>0.381792</td>\n",
       "      <td>0.448866</td>\n",
       "      <td>0.470646</td>\n",
       "      <td>0.238752</td>\n",
       "      <td>0.223529</td>\n",
       "    </tr>\n",
       "    <tr>\n",
       "      <th>2001</th>\n",
       "      <td>0.384542</td>\n",
       "      <td>0.455997</td>\n",
       "      <td>0.467080</td>\n",
       "      <td>0.243237</td>\n",
       "      <td>0.218228</td>\n",
       "    </tr>\n",
       "    <tr>\n",
       "      <th>2002</th>\n",
       "      <td>0.388924</td>\n",
       "      <td>0.457420</td>\n",
       "      <td>0.469333</td>\n",
       "      <td>0.248670</td>\n",
       "      <td>0.213430</td>\n",
       "    </tr>\n",
       "    <tr>\n",
       "      <th>2003</th>\n",
       "      <td>0.370824</td>\n",
       "      <td>0.438753</td>\n",
       "      <td>0.472439</td>\n",
       "      <td>0.250348</td>\n",
       "      <td>0.209215</td>\n",
       "    </tr>\n",
       "    <tr>\n",
       "      <th>2004</th>\n",
       "      <td>0.383134</td>\n",
       "      <td>0.439641</td>\n",
       "      <td>0.477224</td>\n",
       "      <td>0.249336</td>\n",
       "      <td>0.216932</td>\n",
       "    </tr>\n",
       "  </tbody>\n",
       "</table>\n",
       "</div>"
      ],
      "text/plain": [
       "       M_ratio   X_ratio   C_ratio   G_ratio   I_ratio\n",
       "TID                                                   \n",
       "2000  0.381792  0.448866  0.470646  0.238752  0.223529\n",
       "2001  0.384542  0.455997  0.467080  0.243237  0.218228\n",
       "2002  0.388924  0.457420  0.469333  0.248670  0.213430\n",
       "2003  0.370824  0.438753  0.472439  0.250348  0.209215\n",
       "2004  0.383134  0.439641  0.477224  0.249336  0.216932"
      ]
     },
     "metadata": {},
     "output_type": "display_data"
    }
   ],
   "source": [
    "# a. components of GDP\n",
    "C = SupplyBalanceVar[['INDHOLD']].loc[SupplyBalanceVar['TRANSAKT'] == 'P.31 Private consumption'].apply(pd.to_numeric)\n",
    "Y = SupplyBalanceVar[['INDHOLD']].loc[SupplyBalanceVar['TRANSAKT'] == 'B.1*g Gross domestic product'].apply(pd.to_numeric)\n",
    "M = SupplyBalanceVar[['INDHOLD']].loc[SupplyBalanceVar['TRANSAKT'] == 'P.7 Imports of goods and services'].apply(pd.to_numeric)\n",
    "X = SupplyBalanceVar[['INDHOLD']].loc[SupplyBalanceVar['TRANSAKT'] == 'P.6 Exports of goods and services'].apply(pd.to_numeric)\n",
    "G = SupplyBalanceVar[['INDHOLD']].loc[SupplyBalanceVar['TRANSAKT'] == 'P.3 Government consumption expenditure'].apply(pd.to_numeric)\n",
    "I = SupplyBalanceVar[['INDHOLD']].loc[SupplyBalanceVar['TRANSAKT'] == 'P.5g Gross capital formation'].apply(pd.to_numeric)\n",
    "\n",
    "# b. ratio of each component to GDP\n",
    "SupplyBalanceDF = pd.DataFrame()\n",
    "SupplyBalanceDF['M_ratio'] = M/Y\n",
    "SupplyBalanceDF['X_ratio'] = X/Y\n",
    "SupplyBalanceDF['C_ratio'] = C/Y\n",
    "SupplyBalanceDF['G_ratio'] = G/Y\n",
    "SupplyBalanceDF['I_ratio'] = I/Y\n",
    "\n",
    "display(SupplyBalanceDF.head())"
   ]
  },
  {
   "attachments": {},
   "cell_type": "markdown",
   "metadata": {},
   "source": [
    "## 3. <a id='toc3_'></a>[Capital, employment and population](#toc0_)"
   ]
  },
  {
   "attachments": {},
   "cell_type": "markdown",
   "metadata": {},
   "source": [
    "**Employment and population:**"
   ]
  },
  {
   "cell_type": "code",
   "execution_count": 7,
   "metadata": {
    "execution": {
     "iopub.execute_input": "2023-09-04T12:55:15.656989Z",
     "iopub.status.busy": "2023-09-04T12:55:15.656989Z",
     "iopub.status.idle": "2023-09-04T12:55:15.893689Z",
     "shell.execute_reply": "2023-09-04T12:55:15.893689Z"
    }
   },
   "outputs": [
    {
     "name": "stdout",
     "output_type": "stream",
     "text": [
      "Table NAHB: Beskæftigelse og befolkning efter socioøkonomisk status og tid\n",
      "Last update: 2023-06-30T08:00:00\n"
     ]
    },
    {
     "data": {
      "text/html": [
       "<div>\n",
       "<style scoped>\n",
       "    .dataframe tbody tr th:only-of-type {\n",
       "        vertical-align: middle;\n",
       "    }\n",
       "\n",
       "    .dataframe tbody tr th {\n",
       "        vertical-align: top;\n",
       "    }\n",
       "\n",
       "    .dataframe thead th {\n",
       "        text-align: right;\n",
       "    }\n",
       "</style>\n",
       "<table border=\"1\" class=\"dataframe\">\n",
       "  <thead>\n",
       "    <tr style=\"text-align: right;\">\n",
       "      <th></th>\n",
       "      <th>variable name</th>\n",
       "      <th># values</th>\n",
       "      <th>First value</th>\n",
       "      <th>First value label</th>\n",
       "      <th>Last value</th>\n",
       "      <th>Last value label</th>\n",
       "      <th>Time variable</th>\n",
       "    </tr>\n",
       "  </thead>\n",
       "  <tbody>\n",
       "    <tr>\n",
       "      <th>0</th>\n",
       "      <td>SOCIO</td>\n",
       "      <td>3</td>\n",
       "      <td>EMPM_DC</td>\n",
       "      <td>Samlet antal beskæftigede (antal)</td>\n",
       "      <td>POP</td>\n",
       "      <td>Gennemsnitsbefolkning</td>\n",
       "      <td>False</td>\n",
       "    </tr>\n",
       "    <tr>\n",
       "      <th>1</th>\n",
       "      <td>Tid</td>\n",
       "      <td>57</td>\n",
       "      <td>1966</td>\n",
       "      <td>1966</td>\n",
       "      <td>2022</td>\n",
       "      <td>2022</td>\n",
       "      <td>True</td>\n",
       "    </tr>\n",
       "  </tbody>\n",
       "</table>\n",
       "</div>"
      ],
      "text/plain": [
       "  variable name  # values First value                  First value label  \\\n",
       "0         SOCIO         3     EMPM_DC  Samlet antal beskæftigede (antal)   \n",
       "1           Tid        57        1966                               1966   \n",
       "\n",
       "  Last value       Last value label  Time variable  \n",
       "0        POP  Gennemsnitsbefolkning          False  \n",
       "1       2022                   2022           True  "
      ]
     },
     "metadata": {},
     "output_type": "display_data"
    },
    {
     "data": {
      "text/html": [
       "<div>\n",
       "<style scoped>\n",
       "    .dataframe tbody tr th:only-of-type {\n",
       "        vertical-align: middle;\n",
       "    }\n",
       "\n",
       "    .dataframe tbody tr th {\n",
       "        vertical-align: top;\n",
       "    }\n",
       "\n",
       "    .dataframe thead th {\n",
       "        text-align: right;\n",
       "    }\n",
       "</style>\n",
       "<table border=\"1\" class=\"dataframe\">\n",
       "  <thead>\n",
       "    <tr style=\"text-align: right;\">\n",
       "      <th></th>\n",
       "      <th>id</th>\n",
       "      <th>text</th>\n",
       "    </tr>\n",
       "  </thead>\n",
       "  <tbody>\n",
       "    <tr>\n",
       "      <th>0</th>\n",
       "      <td>EMPM_DC</td>\n",
       "      <td>Samlet antal beskæftigede (antal)</td>\n",
       "    </tr>\n",
       "    <tr>\n",
       "      <th>1</th>\n",
       "      <td>EMPM_NC</td>\n",
       "      <td>Beskæftigede med bopæl i Danmark</td>\n",
       "    </tr>\n",
       "    <tr>\n",
       "      <th>2</th>\n",
       "      <td>POP</td>\n",
       "      <td>Gennemsnitsbefolkning</td>\n",
       "    </tr>\n",
       "  </tbody>\n",
       "</table>\n",
       "</div>"
      ],
      "text/plain": [
       "        id                               text\n",
       "0  EMPM_DC  Samlet antal beskæftigede (antal)\n",
       "1  EMPM_NC   Beskæftigede med bopæl i Danmark\n",
       "2      POP              Gennemsnitsbefolkning"
      ]
     },
     "metadata": {},
     "output_type": "display_data"
    }
   ],
   "source": [
    "display(EmploymentPopuplation.tablesummary())\n",
    "display(EmploymentPopuplation.variable_levels('SOCIO', language='en'))"
   ]
  },
  {
   "cell_type": "code",
   "execution_count": 8,
   "metadata": {
    "execution": {
     "iopub.execute_input": "2023-09-04T12:55:15.896684Z",
     "iopub.status.busy": "2023-09-04T12:55:15.895688Z",
     "iopub.status.idle": "2023-09-04T12:55:16.140171Z",
     "shell.execute_reply": "2023-09-04T12:55:16.140171Z"
    }
   },
   "outputs": [],
   "source": [
    "params = {\n",
    "    'table': 'NAHB',\n",
    "    'format': 'BULK',\n",
    "    'lang': 'en',\n",
    "    'variables': [\n",
    "        {'code': 'SOCIO', 'values': ['EMPM_DC','POP']},     # variables of interest\n",
    "        {'code': 'Tid', 'values': [f'>={FirstYear}<']}      # specified years\n",
    "        ]\n",
    "    }\n",
    "EmploymentPopuplationVar = EmploymentPopuplation.get_data(params=params).sort_values(['TID'])"
   ]
  },
  {
   "cell_type": "markdown",
   "metadata": {},
   "source": [
    "**Population older than 22 but younger than 78:**"
   ]
  },
  {
   "cell_type": "code",
   "execution_count": 9,
   "metadata": {},
   "outputs": [
    {
     "name": "stdout",
     "output_type": "stream",
     "text": [
      "Table BEFOLK1: Befolkningen 1. januar efter køn, alder, civilstand og tid\n",
      "Last update: 2023-03-01T08:00:00\n"
     ]
    },
    {
     "data": {
      "text/html": [
       "<div>\n",
       "<style scoped>\n",
       "    .dataframe tbody tr th:only-of-type {\n",
       "        vertical-align: middle;\n",
       "    }\n",
       "\n",
       "    .dataframe tbody tr th {\n",
       "        vertical-align: top;\n",
       "    }\n",
       "\n",
       "    .dataframe thead th {\n",
       "        text-align: right;\n",
       "    }\n",
       "</style>\n",
       "<table border=\"1\" class=\"dataframe\">\n",
       "  <thead>\n",
       "    <tr style=\"text-align: right;\">\n",
       "      <th></th>\n",
       "      <th>variable name</th>\n",
       "      <th># values</th>\n",
       "      <th>First value</th>\n",
       "      <th>First value label</th>\n",
       "      <th>Last value</th>\n",
       "      <th>Last value label</th>\n",
       "      <th>Time variable</th>\n",
       "    </tr>\n",
       "  </thead>\n",
       "  <tbody>\n",
       "    <tr>\n",
       "      <th>0</th>\n",
       "      <td>KØN</td>\n",
       "      <td>3</td>\n",
       "      <td>TOT</td>\n",
       "      <td>I alt</td>\n",
       "      <td>2</td>\n",
       "      <td>Kvinder</td>\n",
       "      <td>False</td>\n",
       "    </tr>\n",
       "    <tr>\n",
       "      <th>1</th>\n",
       "      <td>ALDER</td>\n",
       "      <td>101</td>\n",
       "      <td>TOT</td>\n",
       "      <td>Alder i alt</td>\n",
       "      <td>99-</td>\n",
       "      <td>99 år og derover</td>\n",
       "      <td>False</td>\n",
       "    </tr>\n",
       "    <tr>\n",
       "      <th>2</th>\n",
       "      <td>CIVILSTAND</td>\n",
       "      <td>5</td>\n",
       "      <td>TOT</td>\n",
       "      <td>I alt</td>\n",
       "      <td>F</td>\n",
       "      <td>Fraskilt</td>\n",
       "      <td>False</td>\n",
       "    </tr>\n",
       "    <tr>\n",
       "      <th>3</th>\n",
       "      <td>Tid</td>\n",
       "      <td>53</td>\n",
       "      <td>1971</td>\n",
       "      <td>1971</td>\n",
       "      <td>2023</td>\n",
       "      <td>2023</td>\n",
       "      <td>True</td>\n",
       "    </tr>\n",
       "  </tbody>\n",
       "</table>\n",
       "</div>"
      ],
      "text/plain": [
       "  variable name  # values First value First value label Last value  \\\n",
       "0           KØN         3         TOT             I alt          2   \n",
       "1         ALDER       101         TOT       Alder i alt        99-   \n",
       "2    CIVILSTAND         5         TOT             I alt          F   \n",
       "3           Tid        53        1971              1971       2023   \n",
       "\n",
       "   Last value label  Time variable  \n",
       "0           Kvinder          False  \n",
       "1  99 år og derover          False  \n",
       "2          Fraskilt          False  \n",
       "3              2023           True  "
      ]
     },
     "metadata": {},
     "output_type": "display_data"
    }
   ],
   "source": [
    "display(PopulationAge.tablesummary())"
   ]
  },
  {
   "cell_type": "code",
   "execution_count": 10,
   "metadata": {},
   "outputs": [
    {
     "data": {
      "text/html": [
       "<div>\n",
       "<style scoped>\n",
       "    .dataframe tbody tr th:only-of-type {\n",
       "        vertical-align: middle;\n",
       "    }\n",
       "\n",
       "    .dataframe tbody tr th {\n",
       "        vertical-align: top;\n",
       "    }\n",
       "\n",
       "    .dataframe thead th {\n",
       "        text-align: right;\n",
       "    }\n",
       "</style>\n",
       "<table border=\"1\" class=\"dataframe\">\n",
       "  <thead>\n",
       "    <tr style=\"text-align: right;\">\n",
       "      <th></th>\n",
       "      <th>KØN</th>\n",
       "      <th>ALDER</th>\n",
       "      <th>CIVILSTAND</th>\n",
       "      <th>TID</th>\n",
       "      <th>INDHOLD</th>\n",
       "    </tr>\n",
       "  </thead>\n",
       "  <tbody>\n",
       "    <tr>\n",
       "      <th>0</th>\n",
       "      <td>Total</td>\n",
       "      <td>22 years</td>\n",
       "      <td>Total</td>\n",
       "      <td>2001</td>\n",
       "      <td>66342</td>\n",
       "    </tr>\n",
       "    <tr>\n",
       "      <th>1</th>\n",
       "      <td>Total</td>\n",
       "      <td>23 years</td>\n",
       "      <td>Total</td>\n",
       "      <td>2001</td>\n",
       "      <td>66431</td>\n",
       "    </tr>\n",
       "    <tr>\n",
       "      <th>2</th>\n",
       "      <td>Total</td>\n",
       "      <td>24 years</td>\n",
       "      <td>Total</td>\n",
       "      <td>2001</td>\n",
       "      <td>69752</td>\n",
       "    </tr>\n",
       "    <tr>\n",
       "      <th>3</th>\n",
       "      <td>Total</td>\n",
       "      <td>25 years</td>\n",
       "      <td>Total</td>\n",
       "      <td>2001</td>\n",
       "      <td>76210</td>\n",
       "    </tr>\n",
       "    <tr>\n",
       "      <th>4</th>\n",
       "      <td>Total</td>\n",
       "      <td>26 years</td>\n",
       "      <td>Total</td>\n",
       "      <td>2001</td>\n",
       "      <td>75418</td>\n",
       "    </tr>\n",
       "  </tbody>\n",
       "</table>\n",
       "</div>"
      ],
      "text/plain": [
       "     KØN     ALDER CIVILSTAND   TID  INDHOLD\n",
       "0  Total  22 years      Total  2001    66342\n",
       "1  Total  23 years      Total  2001    66431\n",
       "2  Total  24 years      Total  2001    69752\n",
       "3  Total  25 years      Total  2001    76210\n",
       "4  Total  26 years      Total  2001    75418"
      ]
     },
     "metadata": {},
     "output_type": "display_data"
    }
   ],
   "source": [
    "params = {\n",
    "    'table': 'BEFOLK1',\n",
    "    'format': 'BULK',\n",
    "    'lang': 'en',\n",
    "    'variables': [\n",
    "        {'code': 'KØN', 'values': ['TOT']},\n",
    "        {'code': 'ALDER', 'values': [f'>={par.age_ini}<={par.age_ini+par.life_span}']},     # variables of interest\n",
    "        {'code': 'CIVILSTAND', 'values': ['TOT']},\n",
    "        {'code': 'Tid', 'values': [f'>={FirstYear}<']}      # specified years\n",
    "        ]\n",
    "    }\n",
    "PopulationAgeVar = PopulationAge.get_data(params=params)\n",
    "display(PopulationAgeVar.head())"
   ]
  },
  {
   "attachments": {},
   "cell_type": "markdown",
   "metadata": {},
   "source": [
    "**Capital:**"
   ]
  },
  {
   "cell_type": "code",
   "execution_count": 11,
   "metadata": {
    "execution": {
     "iopub.execute_input": "2023-09-04T12:55:16.144163Z",
     "iopub.status.busy": "2023-09-04T12:55:16.143166Z",
     "iopub.status.idle": "2023-09-04T12:55:16.514293Z",
     "shell.execute_reply": "2023-09-04T12:55:16.514293Z"
    }
   },
   "outputs": [
    {
     "name": "stdout",
     "output_type": "stream",
     "text": [
      "Table NABK10: Accumulation account and balance sheets, fixed assets (10a3-grouping) by stock / flow, assets, industry, price unit and time\n",
      "Last update: 2023-06-30T08:00:00\n"
     ]
    },
    {
     "data": {
      "text/html": [
       "<div>\n",
       "<style scoped>\n",
       "    .dataframe tbody tr th:only-of-type {\n",
       "        vertical-align: middle;\n",
       "    }\n",
       "\n",
       "    .dataframe tbody tr th {\n",
       "        vertical-align: top;\n",
       "    }\n",
       "\n",
       "    .dataframe thead th {\n",
       "        text-align: right;\n",
       "    }\n",
       "</style>\n",
       "<table border=\"1\" class=\"dataframe\">\n",
       "  <thead>\n",
       "    <tr style=\"text-align: right;\">\n",
       "      <th></th>\n",
       "      <th>variable name</th>\n",
       "      <th># values</th>\n",
       "      <th>First value</th>\n",
       "      <th>First value label</th>\n",
       "      <th>Last value</th>\n",
       "      <th>Last value label</th>\n",
       "      <th>Time variable</th>\n",
       "    </tr>\n",
       "  </thead>\n",
       "  <tbody>\n",
       "    <tr>\n",
       "      <th>0</th>\n",
       "      <td>BEHOLD</td>\n",
       "      <td>9</td>\n",
       "      <td>LSN</td>\n",
       "      <td>AN.11 Fixed assets, net capital stock, opening...</td>\n",
       "      <td>LEG</td>\n",
       "      <td>Fixed assets, gross capital stock, closing bal...</td>\n",
       "      <td>False</td>\n",
       "    </tr>\n",
       "    <tr>\n",
       "      <th>1</th>\n",
       "      <td>AKTIV</td>\n",
       "      <td>8</td>\n",
       "      <td>N11</td>\n",
       "      <td>Fixed assets</td>\n",
       "      <td>N117</td>\n",
       "      <td>Intellectual property products</td>\n",
       "      <td>False</td>\n",
       "    </tr>\n",
       "    <tr>\n",
       "      <th>2</th>\n",
       "      <td>BRANCHE</td>\n",
       "      <td>15</td>\n",
       "      <td>V</td>\n",
       "      <td>Total</td>\n",
       "      <td>VR_S</td>\n",
       "      <td>R_S Arts, entertainment and other services</td>\n",
       "      <td>False</td>\n",
       "    </tr>\n",
       "    <tr>\n",
       "      <th>3</th>\n",
       "      <td>PRISENHED</td>\n",
       "      <td>2</td>\n",
       "      <td>V</td>\n",
       "      <td>Current prices</td>\n",
       "      <td>LAN</td>\n",
       "      <td>2010-prices, chained values</td>\n",
       "      <td>False</td>\n",
       "    </tr>\n",
       "    <tr>\n",
       "      <th>4</th>\n",
       "      <td>Tid</td>\n",
       "      <td>57</td>\n",
       "      <td>1966</td>\n",
       "      <td>1966</td>\n",
       "      <td>2022</td>\n",
       "      <td>2022</td>\n",
       "      <td>True</td>\n",
       "    </tr>\n",
       "  </tbody>\n",
       "</table>\n",
       "</div>"
      ],
      "text/plain": [
       "  variable name  # values First value  \\\n",
       "0        BEHOLD         9         LSN   \n",
       "1         AKTIV         8         N11   \n",
       "2       BRANCHE        15           V   \n",
       "3     PRISENHED         2           V   \n",
       "4           Tid        57        1966   \n",
       "\n",
       "                                   First value label Last value  \\\n",
       "0  AN.11 Fixed assets, net capital stock, opening...        LEG   \n",
       "1                                       Fixed assets       N117   \n",
       "2                                              Total       VR_S   \n",
       "3                                     Current prices        LAN   \n",
       "4                                               1966       2022   \n",
       "\n",
       "                                    Last value label  Time variable  \n",
       "0  Fixed assets, gross capital stock, closing bal...          False  \n",
       "1                     Intellectual property products          False  \n",
       "2         R_S Arts, entertainment and other services          False  \n",
       "3                        2010-prices, chained values          False  \n",
       "4                                               2022           True  "
      ]
     },
     "metadata": {},
     "output_type": "display_data"
    }
   ],
   "source": [
    "display(Capital.tablesummary(language='en'))\n",
    "# display(Capital.variable_levels('BEHOLD', language='en'))\n",
    "# display(Capital.variable_levels('AKTIV', language='en'))"
   ]
  },
  {
   "cell_type": "code",
   "execution_count": 12,
   "metadata": {
    "execution": {
     "iopub.execute_input": "2023-09-04T12:55:16.517290Z",
     "iopub.status.busy": "2023-09-04T12:55:16.516293Z",
     "iopub.status.idle": "2023-09-04T12:55:16.716623Z",
     "shell.execute_reply": "2023-09-04T12:55:16.716623Z"
    }
   },
   "outputs": [],
   "source": [
    "params = {\n",
    "    'table': 'NABK10',\n",
    "    'format': 'BULK',\n",
    "    'lang': 'en',\n",
    "    'variables': [\n",
    "        {'code': 'BEHOLD', 'values': ['LSG']},          # gross capital => before depreciation\n",
    "        {'code': 'AKTIV', 'values': ['N11']},           # fixed assets\n",
    "        {'code': 'BRANCHE', 'values': ['V']},           # total level\n",
    "        {'code': 'PRISENHED', 'values': ['V']},         # current prices\n",
    "        {'code': 'Tid', 'values': [f'>={FirstYear}<']}  # specified years    \n",
    "        ]\n",
    "    }\n",
    "CapitalVar = Capital.get_data(params=params).sort_values(['TID'])"
   ]
  },
  {
   "attachments": {},
   "cell_type": "markdown",
   "metadata": {},
   "source": [
    "**Create dataframe:**"
   ]
  },
  {
   "cell_type": "code",
   "execution_count": 13,
   "metadata": {
    "execution": {
     "iopub.execute_input": "2023-09-04T12:55:16.720612Z",
     "iopub.status.busy": "2023-09-04T12:55:16.719617Z",
     "iopub.status.idle": "2023-09-04T12:55:16.734605Z",
     "shell.execute_reply": "2023-09-04T12:55:16.734605Z"
    }
   },
   "outputs": [
    {
     "data": {
      "text/html": [
       "<div>\n",
       "<style scoped>\n",
       "    .dataframe tbody tr th:only-of-type {\n",
       "        vertical-align: middle;\n",
       "    }\n",
       "\n",
       "    .dataframe tbody tr th {\n",
       "        vertical-align: top;\n",
       "    }\n",
       "\n",
       "    .dataframe thead th {\n",
       "        text-align: right;\n",
       "    }\n",
       "</style>\n",
       "<table border=\"1\" class=\"dataframe\">\n",
       "  <thead>\n",
       "    <tr style=\"text-align: right;\">\n",
       "      <th></th>\n",
       "      <th>K_ratio</th>\n",
       "      <th>L_ratio</th>\n",
       "    </tr>\n",
       "    <tr>\n",
       "      <th>TID</th>\n",
       "      <th></th>\n",
       "      <th></th>\n",
       "    </tr>\n",
       "  </thead>\n",
       "  <tbody>\n",
       "    <tr>\n",
       "      <th>2000</th>\n",
       "      <td>5.233344</td>\n",
       "      <td>0.744882</td>\n",
       "    </tr>\n",
       "    <tr>\n",
       "      <th>2001</th>\n",
       "      <td>5.253046</td>\n",
       "      <td>0.750498</td>\n",
       "    </tr>\n",
       "    <tr>\n",
       "      <th>2002</th>\n",
       "      <td>5.398142</td>\n",
       "      <td>0.749064</td>\n",
       "    </tr>\n",
       "    <tr>\n",
       "      <th>2003</th>\n",
       "      <td>5.459494</td>\n",
       "      <td>0.741013</td>\n",
       "    </tr>\n",
       "    <tr>\n",
       "      <th>2004</th>\n",
       "      <td>5.400718</td>\n",
       "      <td>0.736863</td>\n",
       "    </tr>\n",
       "    <tr>\n",
       "      <th>2005</th>\n",
       "      <td>5.304156</td>\n",
       "      <td>0.746910</td>\n",
       "    </tr>\n",
       "    <tr>\n",
       "      <th>2006</th>\n",
       "      <td>5.223147</td>\n",
       "      <td>0.763028</td>\n",
       "    </tr>\n",
       "    <tr>\n",
       "      <th>2007</th>\n",
       "      <td>5.433788</td>\n",
       "      <td>0.779278</td>\n",
       "    </tr>\n",
       "    <tr>\n",
       "      <th>2008</th>\n",
       "      <td>5.530440</td>\n",
       "      <td>0.785027</td>\n",
       "    </tr>\n",
       "    <tr>\n",
       "      <th>2009</th>\n",
       "      <td>5.927325</td>\n",
       "      <td>0.755691</td>\n",
       "    </tr>\n",
       "    <tr>\n",
       "      <th>2010</th>\n",
       "      <td>5.340092</td>\n",
       "      <td>0.735072</td>\n",
       "    </tr>\n",
       "    <tr>\n",
       "      <th>2011</th>\n",
       "      <td>5.466945</td>\n",
       "      <td>0.730715</td>\n",
       "    </tr>\n",
       "    <tr>\n",
       "      <th>2012</th>\n",
       "      <td>5.521566</td>\n",
       "      <td>0.721822</td>\n",
       "    </tr>\n",
       "    <tr>\n",
       "      <th>2013</th>\n",
       "      <td>5.562851</td>\n",
       "      <td>0.716917</td>\n",
       "    </tr>\n",
       "    <tr>\n",
       "      <th>2014</th>\n",
       "      <td>5.508139</td>\n",
       "      <td>0.717839</td>\n",
       "    </tr>\n",
       "    <tr>\n",
       "      <th>2015</th>\n",
       "      <td>5.446217</td>\n",
       "      <td>0.721294</td>\n",
       "    </tr>\n",
       "    <tr>\n",
       "      <th>2016</th>\n",
       "      <td>5.416257</td>\n",
       "      <td>0.725709</td>\n",
       "    </tr>\n",
       "    <tr>\n",
       "      <th>2017</th>\n",
       "      <td>5.399998</td>\n",
       "      <td>0.729876</td>\n",
       "    </tr>\n",
       "    <tr>\n",
       "      <th>2018</th>\n",
       "      <td>5.445289</td>\n",
       "      <td>0.735026</td>\n",
       "    </tr>\n",
       "    <tr>\n",
       "      <th>2019</th>\n",
       "      <td>5.504567</td>\n",
       "      <td>0.741175</td>\n",
       "    </tr>\n",
       "  </tbody>\n",
       "</table>\n",
       "</div>"
      ],
      "text/plain": [
       "       K_ratio   L_ratio\n",
       "TID                     \n",
       "2000  5.233344  0.744882\n",
       "2001  5.253046  0.750498\n",
       "2002  5.398142  0.749064\n",
       "2003  5.459494  0.741013\n",
       "2004  5.400718  0.736863\n",
       "2005  5.304156  0.746910\n",
       "2006  5.223147  0.763028\n",
       "2007  5.433788  0.779278\n",
       "2008  5.530440  0.785027\n",
       "2009  5.927325  0.755691\n",
       "2010  5.340092  0.735072\n",
       "2011  5.466945  0.730715\n",
       "2012  5.521566  0.721822\n",
       "2013  5.562851  0.716917\n",
       "2014  5.508139  0.717839\n",
       "2015  5.446217  0.721294\n",
       "2016  5.416257  0.725709\n",
       "2017  5.399998  0.729876\n",
       "2018  5.445289  0.735026\n",
       "2019  5.504567  0.741175"
      ]
     },
     "metadata": {},
     "output_type": "display_data"
    }
   ],
   "source": [
    "# a. employment and population\n",
    "L = EmploymentPopuplationVar[['TID','INDHOLD']].loc[EmploymentPopuplationVar['SOCIO'] == 'Employment (number)'].copy().set_index(['TID']).apply(pd.to_numeric)\n",
    "N_all = EmploymentPopuplationVar[['TID','INDHOLD']].loc[EmploymentPopuplationVar['SOCIO'] == 'Population'].copy().set_index(['TID']).apply(pd.to_numeric)\n",
    "N_adult = PopulationAgeVar[['TID','INDHOLD']].copy().groupby('TID').sum()\n",
    "K = CapitalVar[['TID','INDHOLD']].copy().set_index(['TID']).apply(pd.to_numeric)\n",
    "\n",
    "\n",
    "# b. capital and employment ratio\n",
    "CapitalEmploymentPopuplationDF = pd.DataFrame()\n",
    "CapitalEmploymentPopuplationDF['K_ratio'] = K/Y/1000\n",
    "CapitalEmploymentPopuplationDF['L_ratio'] = L/N_adult\n",
    "\n",
    "display(CapitalEmploymentPopuplationDF.head(20))\n"
   ]
  },
  {
   "attachments": {},
   "cell_type": "markdown",
   "metadata": {},
   "source": [
    "## 4. <a id='toc4_'></a>[Unemployment rate](#toc0_)"
   ]
  },
  {
   "cell_type": "code",
   "execution_count": 14,
   "metadata": {
    "execution": {
     "iopub.execute_input": "2023-09-04T12:55:16.736606Z",
     "iopub.status.busy": "2023-09-04T12:55:16.735606Z",
     "iopub.status.idle": "2023-09-04T12:55:17.018342Z",
     "shell.execute_reply": "2023-09-04T12:55:17.018342Z"
    }
   },
   "outputs": [],
   "source": [
    "params = {\n",
    "    'table': 'AULAAR',\n",
    "    'format': 'BULK',\n",
    "    'lang': 'en',\n",
    "    'variables': [\n",
    "        {'code': 'KØN', 'values': ['TOT']},                # men and women in total\n",
    "        {'code': 'PERPCT', 'values': ['L10']},             # percent of the labour force \n",
    "        {'code': 'Tid', 'values':[f'>={FirstYear}<']}      # specified years\n",
    "        ]\n",
    "    }\n",
    "UnemploymentVar = Unemployment.get_data(params=params).set_index(['TID']).sort_values(['TID'])"
   ]
  },
  {
   "cell_type": "code",
   "execution_count": 15,
   "metadata": {
    "execution": {
     "iopub.execute_input": "2023-09-04T12:55:17.021335Z",
     "iopub.status.busy": "2023-09-04T12:55:17.021335Z",
     "iopub.status.idle": "2023-09-04T12:55:17.030189Z",
     "shell.execute_reply": "2023-09-04T12:55:17.030189Z"
    }
   },
   "outputs": [
    {
     "data": {
      "text/html": [
       "<div>\n",
       "<style scoped>\n",
       "    .dataframe tbody tr th:only-of-type {\n",
       "        vertical-align: middle;\n",
       "    }\n",
       "\n",
       "    .dataframe tbody tr th {\n",
       "        vertical-align: top;\n",
       "    }\n",
       "\n",
       "    .dataframe thead th {\n",
       "        text-align: right;\n",
       "    }\n",
       "</style>\n",
       "<table border=\"1\" class=\"dataframe\">\n",
       "  <thead>\n",
       "    <tr style=\"text-align: right;\">\n",
       "      <th></th>\n",
       "      <th>U</th>\n",
       "    </tr>\n",
       "    <tr>\n",
       "      <th>TID</th>\n",
       "      <th></th>\n",
       "    </tr>\n",
       "  </thead>\n",
       "  <tbody>\n",
       "    <tr>\n",
       "      <th>2000</th>\n",
       "      <td>4.9</td>\n",
       "    </tr>\n",
       "    <tr>\n",
       "      <th>2001</th>\n",
       "      <td>4.7</td>\n",
       "    </tr>\n",
       "    <tr>\n",
       "      <th>2002</th>\n",
       "      <td>4.8</td>\n",
       "    </tr>\n",
       "    <tr>\n",
       "      <th>2003</th>\n",
       "      <td>5.8</td>\n",
       "    </tr>\n",
       "    <tr>\n",
       "      <th>2004</th>\n",
       "      <td>5.8</td>\n",
       "    </tr>\n",
       "  </tbody>\n",
       "</table>\n",
       "</div>"
      ],
      "text/plain": [
       "        U\n",
       "TID      \n",
       "2000  4.9\n",
       "2001  4.7\n",
       "2002  4.8\n",
       "2003  5.8\n",
       "2004  5.8"
      ]
     },
     "metadata": {},
     "output_type": "display_data"
    }
   ],
   "source": [
    "UnemploymentDF = pd.DataFrame()\n",
    "UnemploymentDF['U'] = UnemploymentVar[['INDHOLD']].loc[UnemploymentVar['PERPCT'] == 'Per cent of the labour force'].copy()\n",
    "UnemploymentDF = UnemploymentDF.apply(pd.to_numeric)\n",
    "\n",
    "display(UnemploymentDF.head())"
   ]
  },
  {
   "attachments": {},
   "cell_type": "markdown",
   "metadata": {},
   "source": [
    "## 5. <a id='toc5_'></a>[Steady state - aggregate](#toc0_)"
   ]
  },
  {
   "cell_type": "code",
   "execution_count": 16,
   "metadata": {
    "execution": {
     "iopub.execute_input": "2023-09-04T12:55:17.033182Z",
     "iopub.status.busy": "2023-09-04T12:55:17.032185Z",
     "iopub.status.idle": "2023-09-04T12:55:17.035169Z",
     "shell.execute_reply": "2023-09-04T12:55:17.035169Z"
    }
   },
   "outputs": [],
   "source": [
    "frames = [SupplyBalanceDF, CapitalEmploymentPopuplationDF, UnemploymentDF]"
   ]
  },
  {
   "cell_type": "code",
   "execution_count": 17,
   "metadata": {
    "execution": {
     "iopub.execute_input": "2023-09-04T12:55:17.036167Z",
     "iopub.status.busy": "2023-09-04T12:55:17.036167Z",
     "iopub.status.idle": "2023-09-04T12:55:17.041755Z",
     "shell.execute_reply": "2023-09-04T12:55:17.041755Z"
    }
   },
   "outputs": [
    {
     "data": {
      "text/html": [
       "<div>\n",
       "<style scoped>\n",
       "    .dataframe tbody tr th:only-of-type {\n",
       "        vertical-align: middle;\n",
       "    }\n",
       "\n",
       "    .dataframe tbody tr th {\n",
       "        vertical-align: top;\n",
       "    }\n",
       "\n",
       "    .dataframe thead th {\n",
       "        text-align: right;\n",
       "    }\n",
       "</style>\n",
       "<table border=\"1\" class=\"dataframe\">\n",
       "  <thead>\n",
       "    <tr style=\"text-align: right;\">\n",
       "      <th></th>\n",
       "      <th>M_ratio</th>\n",
       "      <th>X_ratio</th>\n",
       "      <th>C_ratio</th>\n",
       "      <th>G_ratio</th>\n",
       "      <th>I_ratio</th>\n",
       "      <th>K_ratio</th>\n",
       "      <th>L_ratio</th>\n",
       "      <th>U</th>\n",
       "    </tr>\n",
       "    <tr>\n",
       "      <th>TID</th>\n",
       "      <th></th>\n",
       "      <th></th>\n",
       "      <th></th>\n",
       "      <th></th>\n",
       "      <th></th>\n",
       "      <th></th>\n",
       "      <th></th>\n",
       "      <th></th>\n",
       "    </tr>\n",
       "  </thead>\n",
       "  <tbody>\n",
       "    <tr>\n",
       "      <th>2000</th>\n",
       "      <td>0.381792</td>\n",
       "      <td>0.448866</td>\n",
       "      <td>0.470646</td>\n",
       "      <td>0.238752</td>\n",
       "      <td>0.223529</td>\n",
       "      <td>5.233344</td>\n",
       "      <td>0.744882</td>\n",
       "      <td>4.9</td>\n",
       "    </tr>\n",
       "    <tr>\n",
       "      <th>2001</th>\n",
       "      <td>0.384542</td>\n",
       "      <td>0.455997</td>\n",
       "      <td>0.467080</td>\n",
       "      <td>0.243237</td>\n",
       "      <td>0.218228</td>\n",
       "      <td>5.253046</td>\n",
       "      <td>0.750498</td>\n",
       "      <td>4.7</td>\n",
       "    </tr>\n",
       "    <tr>\n",
       "      <th>2002</th>\n",
       "      <td>0.388924</td>\n",
       "      <td>0.457420</td>\n",
       "      <td>0.469333</td>\n",
       "      <td>0.248670</td>\n",
       "      <td>0.213430</td>\n",
       "      <td>5.398142</td>\n",
       "      <td>0.749064</td>\n",
       "      <td>4.8</td>\n",
       "    </tr>\n",
       "    <tr>\n",
       "      <th>2003</th>\n",
       "      <td>0.370824</td>\n",
       "      <td>0.438753</td>\n",
       "      <td>0.472439</td>\n",
       "      <td>0.250348</td>\n",
       "      <td>0.209215</td>\n",
       "      <td>5.459494</td>\n",
       "      <td>0.741013</td>\n",
       "      <td>5.8</td>\n",
       "    </tr>\n",
       "    <tr>\n",
       "      <th>2004</th>\n",
       "      <td>0.383134</td>\n",
       "      <td>0.439641</td>\n",
       "      <td>0.477224</td>\n",
       "      <td>0.249336</td>\n",
       "      <td>0.216932</td>\n",
       "      <td>5.400718</td>\n",
       "      <td>0.736863</td>\n",
       "      <td>5.8</td>\n",
       "    </tr>\n",
       "  </tbody>\n",
       "</table>\n",
       "</div>"
      ],
      "text/plain": [
       "       M_ratio   X_ratio   C_ratio   G_ratio   I_ratio   K_ratio   L_ratio  \\\n",
       "TID                                                                          \n",
       "2000  0.381792  0.448866  0.470646  0.238752  0.223529  5.233344  0.744882   \n",
       "2001  0.384542  0.455997  0.467080  0.243237  0.218228  5.253046  0.750498   \n",
       "2002  0.388924  0.457420  0.469333  0.248670  0.213430  5.398142  0.749064   \n",
       "2003  0.370824  0.438753  0.472439  0.250348  0.209215  5.459494  0.741013   \n",
       "2004  0.383134  0.439641  0.477224  0.249336  0.216932  5.400718  0.736863   \n",
       "\n",
       "        U  \n",
       "TID        \n",
       "2000  4.9  \n",
       "2001  4.7  \n",
       "2002  4.8  \n",
       "2003  5.8  \n",
       "2004  5.8  "
      ]
     },
     "metadata": {},
     "output_type": "display_data"
    }
   ],
   "source": [
    "all_variables =  pd.concat(frames, axis=1)\n",
    "display(all_variables.head())"
   ]
  },
  {
   "attachments": {},
   "cell_type": "markdown",
   "metadata": {},
   "source": [
    "### 5.1. <a id='toc5_1_'></a>[Save to disc](#toc0_)"
   ]
  },
  {
   "cell_type": "code",
   "execution_count": 18,
   "metadata": {
    "execution": {
     "iopub.execute_input": "2023-09-04T12:55:17.043750Z",
     "iopub.status.busy": "2023-09-04T12:55:17.043750Z",
     "iopub.status.idle": "2023-09-04T12:55:17.047616Z",
     "shell.execute_reply": "2023-09-04T12:55:17.047616Z"
    }
   },
   "outputs": [
    {
     "name": "stdout",
     "output_type": "stream",
     "text": [
      "M_ratio: 0.46\n",
      "X_ratio: 0.52\n",
      "C_ratio: 0.47\n",
      "G_ratio: 0.25\n",
      "I_ratio: 0.22\n",
      "K_ratio: 5.44\n",
      "L_ratio: 0.74\n",
      "U: 3.93\n"
     ]
    }
   ],
   "source": [
    "# a. aggregate steady state values\n",
    "ss_aggregate = {}\n",
    "means = all_variables.mean()\n",
    "for i,mean in enumerate(means):\n",
    "    print(f'{means.index[i]}: {mean:.2f}')\n",
    "    ss_aggregate[str(means.index[i])] = mean\n",
    "\n",
    "# b. save to dsic\n",
    "with open('data/ss_aggregate.pickle', 'wb') as fp:\n",
    "    pickle.dump(ss_aggregate, fp)"
   ]
  },
  {
   "attachments": {},
   "cell_type": "markdown",
   "metadata": {},
   "source": [
    "## 6. <a id='toc6_'></a>[Income and wealth over life-cycle](#toc0_)"
   ]
  },
  {
   "attachments": {},
   "cell_type": "markdown",
   "metadata": {},
   "source": [
    "**Income:**"
   ]
  },
  {
   "cell_type": "code",
   "execution_count": 19,
   "metadata": {
    "execution": {
     "iopub.execute_input": "2023-09-04T12:55:17.049611Z",
     "iopub.status.busy": "2023-09-04T12:55:17.048614Z",
     "iopub.status.idle": "2023-09-04T12:55:17.488475Z",
     "shell.execute_reply": "2023-09-04T12:55:17.488475Z"
    }
   },
   "outputs": [
    {
     "name": "stdout",
     "output_type": "stream",
     "text": [
      "Table INDKP201: Main table for personal income statistics by type of income, sex, age, population, price unit, unit and time\n",
      "Last update: 2023-09-18T08:00:00\n"
     ]
    },
    {
     "data": {
      "text/html": [
       "<div>\n",
       "<style scoped>\n",
       "    .dataframe tbody tr th:only-of-type {\n",
       "        vertical-align: middle;\n",
       "    }\n",
       "\n",
       "    .dataframe tbody tr th {\n",
       "        vertical-align: top;\n",
       "    }\n",
       "\n",
       "    .dataframe thead th {\n",
       "        text-align: right;\n",
       "    }\n",
       "</style>\n",
       "<table border=\"1\" class=\"dataframe\">\n",
       "  <thead>\n",
       "    <tr style=\"text-align: right;\">\n",
       "      <th></th>\n",
       "      <th>variable name</th>\n",
       "      <th># values</th>\n",
       "      <th>First value</th>\n",
       "      <th>First value label</th>\n",
       "      <th>Last value</th>\n",
       "      <th>Last value label</th>\n",
       "      <th>Time variable</th>\n",
       "    </tr>\n",
       "  </thead>\n",
       "  <tbody>\n",
       "    <tr>\n",
       "      <th>0</th>\n",
       "      <td>INDKOMSTTYPE</td>\n",
       "      <td>39</td>\n",
       "      <td>100</td>\n",
       "      <td>1 Disposable income (2+30-31-32-35)</td>\n",
       "      <td>290</td>\n",
       "      <td>Taxable income</td>\n",
       "      <td>False</td>\n",
       "    </tr>\n",
       "    <tr>\n",
       "      <th>1</th>\n",
       "      <td>KOEN</td>\n",
       "      <td>3</td>\n",
       "      <td>MOK</td>\n",
       "      <td>Men and women, total</td>\n",
       "      <td>K</td>\n",
       "      <td>Women</td>\n",
       "      <td>False</td>\n",
       "    </tr>\n",
       "    <tr>\n",
       "      <th>2</th>\n",
       "      <td>ALDER</td>\n",
       "      <td>15</td>\n",
       "      <td>14TOT</td>\n",
       "      <td>Total, 15 years and over</td>\n",
       "      <td>80-00</td>\n",
       "      <td>80 years and over</td>\n",
       "      <td>False</td>\n",
       "    </tr>\n",
       "    <tr>\n",
       "      <th>3</th>\n",
       "      <td>POPU</td>\n",
       "      <td>2</td>\n",
       "      <td>5000</td>\n",
       "      <td>All regardless of having the type of income</td>\n",
       "      <td>5020</td>\n",
       "      <td>Only people with the type of income</td>\n",
       "      <td>False</td>\n",
       "    </tr>\n",
       "    <tr>\n",
       "      <th>4</th>\n",
       "      <td>PRISENHED</td>\n",
       "      <td>2</td>\n",
       "      <td>005</td>\n",
       "      <td>Constant prices</td>\n",
       "      <td>006</td>\n",
       "      <td>Nominal prices</td>\n",
       "      <td>False</td>\n",
       "    </tr>\n",
       "    <tr>\n",
       "      <th>5</th>\n",
       "      <td>ENHED</td>\n",
       "      <td>5</td>\n",
       "      <td>0050</td>\n",
       "      <td>Mean (DKK)</td>\n",
       "      <td>105</td>\n",
       "      <td>People (Number)</td>\n",
       "      <td>False</td>\n",
       "    </tr>\n",
       "    <tr>\n",
       "      <th>6</th>\n",
       "      <td>Tid</td>\n",
       "      <td>27</td>\n",
       "      <td>1996</td>\n",
       "      <td>1996</td>\n",
       "      <td>2022</td>\n",
       "      <td>2022</td>\n",
       "      <td>True</td>\n",
       "    </tr>\n",
       "  </tbody>\n",
       "</table>\n",
       "</div>"
      ],
      "text/plain": [
       "  variable name  # values First value  \\\n",
       "0  INDKOMSTTYPE        39         100   \n",
       "1          KOEN         3         MOK   \n",
       "2         ALDER        15       14TOT   \n",
       "3          POPU         2        5000   \n",
       "4     PRISENHED         2         005   \n",
       "5         ENHED         5        0050   \n",
       "6           Tid        27        1996   \n",
       "\n",
       "                             First value label Last value  \\\n",
       "0          1 Disposable income (2+30-31-32-35)        290   \n",
       "1                         Men and women, total          K   \n",
       "2                     Total, 15 years and over      80-00   \n",
       "3  All regardless of having the type of income       5020   \n",
       "4                              Constant prices        006   \n",
       "5                                   Mean (DKK)        105   \n",
       "6                                         1996       2022   \n",
       "\n",
       "                      Last value label  Time variable  \n",
       "0                       Taxable income          False  \n",
       "1                                Women          False  \n",
       "2                    80 years and over          False  \n",
       "3  Only people with the type of income          False  \n",
       "4                       Nominal prices          False  \n",
       "5                      People (Number)          False  \n",
       "6                                 2022           True  "
      ]
     },
     "execution_count": 19,
     "metadata": {},
     "output_type": "execute_result"
    }
   ],
   "source": [
    "Income.tablesummary(language='en')"
   ]
  },
  {
   "attachments": {},
   "cell_type": "markdown",
   "metadata": {},
   "source": [
    "**Income in fixed prices (for income profile):**"
   ]
  },
  {
   "cell_type": "code",
   "execution_count": 20,
   "metadata": {
    "execution": {
     "iopub.execute_input": "2023-09-04T12:55:17.491472Z",
     "iopub.status.busy": "2023-09-04T12:55:17.491472Z",
     "iopub.status.idle": "2023-09-04T12:55:17.784693Z",
     "shell.execute_reply": "2023-09-04T12:55:17.784693Z"
    }
   },
   "outputs": [],
   "source": [
    "params = {\n",
    "    'table': 'INDKP201',\n",
    "    'format': 'BULK',\n",
    "    'lang': 'en',\n",
    "    'variables': [\n",
    "        {'code': 'INDKOMSTTYPE', 'values': ['100']},                        # disposable income (pre-tax income is 105) \n",
    "        {'code': 'KOEN', 'values': ['MOK']},                                # men and women in total\n",
    "        {'code': 'ALDER', 'values': ['*']},\t                                # all ages\n",
    "        {'code': 'POPU', 'values': ['5000']},\t                            # all regardless of having the type of income\n",
    "        {'code': 'PRISENHED', 'values': ['005']},                           # fixed prices\n",
    "        {'code': 'ENHED', 'values': ['0050']},                              # average DKK\n",
    "        {'code': 'Tid', 'values':[f'>={FirstYear}<']}\n",
    "        ]\n",
    "    }\n",
    "DisposableIncomeVar = Income.get_data(params=params).sort_values(['TID'])\n",
    "DisposableIncomeVar = DisposableIncomeVar[DisposableIncomeVar['INDHOLD'] != 0]"
   ]
  },
  {
   "attachments": {},
   "cell_type": "markdown",
   "metadata": {},
   "source": [
    "**Income in nominal prices (for wealth-income ratio):**"
   ]
  },
  {
   "cell_type": "code",
   "execution_count": 21,
   "metadata": {
    "execution": {
     "iopub.execute_input": "2023-09-04T12:55:17.786692Z",
     "iopub.status.busy": "2023-09-04T12:55:17.786692Z",
     "iopub.status.idle": "2023-09-04T12:55:18.064388Z",
     "shell.execute_reply": "2023-09-04T12:55:18.064388Z"
    }
   },
   "outputs": [],
   "source": [
    "params = {\n",
    "    'table': 'INDKP201',\n",
    "    'format': 'BULK',\n",
    "    'lang': 'en',\n",
    "    'variables': [\n",
    "        {'code': 'INDKOMSTTYPE', 'values': ['100']},                        # disposable income (pre-tax income is 105) \n",
    "        {'code': 'KOEN', 'values': ['MOK']},                                # men and women in total\n",
    "        {'code': 'ALDER', 'values': ['*']},\t                                # all ages\n",
    "        {'code': 'POPU', 'values': ['5000']},\t                            # all regardless of having the type of income\n",
    "        {'code': 'PRISENHED', 'values': ['006']},                           # current prices\n",
    "        {'code': 'ENHED', 'values': ['0050']},                              # average DKK\n",
    "        {'code': 'Tid', 'values':[f'>={FirstYear}<']}\n",
    "        ]\n",
    "    }\n",
    "DisposableIncomeVar_cprice = Income.get_data(params=params).sort_values(['TID']) # cprice = current prices\n",
    "DisposableIncomeVar_cprice = DisposableIncomeVar_cprice[DisposableIncomeVar_cprice['INDHOLD'] != 0]"
   ]
  },
  {
   "attachments": {},
   "cell_type": "markdown",
   "metadata": {},
   "source": [
    "**Wealth:**"
   ]
  },
  {
   "cell_type": "code",
   "execution_count": 22,
   "metadata": {
    "execution": {
     "iopub.execute_input": "2023-09-04T12:55:18.067382Z",
     "iopub.status.busy": "2023-09-04T12:55:18.067382Z",
     "iopub.status.idle": "2023-09-04T12:55:18.477305Z",
     "shell.execute_reply": "2023-09-04T12:55:18.477305Z"
    }
   },
   "outputs": [
    {
     "name": "stdout",
     "output_type": "stream",
     "text": [
      "Table FORMUE11: Wealth by type of wealth, unit, age, sex, population and time\n",
      "Last update: 2022-12-20T08:00:00\n"
     ]
    },
    {
     "data": {
      "text/html": [
       "<div>\n",
       "<style scoped>\n",
       "    .dataframe tbody tr th:only-of-type {\n",
       "        vertical-align: middle;\n",
       "    }\n",
       "\n",
       "    .dataframe tbody tr th {\n",
       "        vertical-align: top;\n",
       "    }\n",
       "\n",
       "    .dataframe thead th {\n",
       "        text-align: right;\n",
       "    }\n",
       "</style>\n",
       "<table border=\"1\" class=\"dataframe\">\n",
       "  <thead>\n",
       "    <tr style=\"text-align: right;\">\n",
       "      <th></th>\n",
       "      <th>variable name</th>\n",
       "      <th># values</th>\n",
       "      <th>First value</th>\n",
       "      <th>First value label</th>\n",
       "      <th>Last value</th>\n",
       "      <th>Last value label</th>\n",
       "      <th>Time variable</th>\n",
       "    </tr>\n",
       "  </thead>\n",
       "  <tbody>\n",
       "    <tr>\n",
       "      <th>0</th>\n",
       "      <td>FORM1</td>\n",
       "      <td>46</td>\n",
       "      <td>FGNF2020</td>\n",
       "      <td>Net Wealth, (2020-definition A+B+CX-D-E-F)</td>\n",
       "      <td>FGF4</td>\n",
       "      <td>F.4. Other debt to the public sector</td>\n",
       "      <td>False</td>\n",
       "    </tr>\n",
       "    <tr>\n",
       "      <th>1</th>\n",
       "      <td>ENHED</td>\n",
       "      <td>9</td>\n",
       "      <td>200</td>\n",
       "      <td>Median (Constant prices 2021-level)</td>\n",
       "      <td>240</td>\n",
       "      <td>Number of people in population 31.12</td>\n",
       "      <td>False</td>\n",
       "    </tr>\n",
       "    <tr>\n",
       "      <th>2</th>\n",
       "      <td>ALDER</td>\n",
       "      <td>16</td>\n",
       "      <td>1802</td>\n",
       "      <td>18 years and over</td>\n",
       "      <td>9099</td>\n",
       "      <td>90 years and over</td>\n",
       "      <td>False</td>\n",
       "    </tr>\n",
       "    <tr>\n",
       "      <th>3</th>\n",
       "      <td>KØN</td>\n",
       "      <td>3</td>\n",
       "      <td>MOK</td>\n",
       "      <td>Men and women, total</td>\n",
       "      <td>K</td>\n",
       "      <td>Women</td>\n",
       "      <td>False</td>\n",
       "    </tr>\n",
       "    <tr>\n",
       "      <th>4</th>\n",
       "      <td>POPU</td>\n",
       "      <td>2</td>\n",
       "      <td>5005</td>\n",
       "      <td>Entire population</td>\n",
       "      <td>5025</td>\n",
       "      <td>Only people with the selected type of wealth</td>\n",
       "      <td>False</td>\n",
       "    </tr>\n",
       "    <tr>\n",
       "      <th>5</th>\n",
       "      <td>Tid</td>\n",
       "      <td>8</td>\n",
       "      <td>2014</td>\n",
       "      <td>2014</td>\n",
       "      <td>2021</td>\n",
       "      <td>2021</td>\n",
       "      <td>True</td>\n",
       "    </tr>\n",
       "  </tbody>\n",
       "</table>\n",
       "</div>"
      ],
      "text/plain": [
       "  variable name  # values First value  \\\n",
       "0         FORM1        46    FGNF2020   \n",
       "1         ENHED         9         200   \n",
       "2         ALDER        16        1802   \n",
       "3           KØN         3         MOK   \n",
       "4          POPU         2        5005   \n",
       "5           Tid         8        2014   \n",
       "\n",
       "                            First value label Last value  \\\n",
       "0  Net Wealth, (2020-definition A+B+CX-D-E-F)       FGF4   \n",
       "1         Median (Constant prices 2021-level)        240   \n",
       "2                           18 years and over       9099   \n",
       "3                        Men and women, total          K   \n",
       "4                           Entire population       5025   \n",
       "5                                        2014       2021   \n",
       "\n",
       "                               Last value label  Time variable  \n",
       "0          F.4. Other debt to the public sector          False  \n",
       "1          Number of people in population 31.12          False  \n",
       "2                             90 years and over          False  \n",
       "3                                         Women          False  \n",
       "4  Only people with the selected type of wealth          False  \n",
       "5                                          2021           True  "
      ]
     },
     "execution_count": 22,
     "metadata": {},
     "output_type": "execute_result"
    }
   ],
   "source": [
    "Wealth.tablesummary(language='en')"
   ]
  },
  {
   "cell_type": "code",
   "execution_count": 23,
   "metadata": {
    "execution": {
     "iopub.execute_input": "2023-09-04T12:55:18.480300Z",
     "iopub.status.busy": "2023-09-04T12:55:18.480300Z",
     "iopub.status.idle": "2023-09-04T12:55:18.486626Z",
     "shell.execute_reply": "2023-09-04T12:55:18.486626Z"
    }
   },
   "outputs": [
    {
     "data": {
      "text/html": [
       "<div>\n",
       "<style scoped>\n",
       "    .dataframe tbody tr th:only-of-type {\n",
       "        vertical-align: middle;\n",
       "    }\n",
       "\n",
       "    .dataframe tbody tr th {\n",
       "        vertical-align: top;\n",
       "    }\n",
       "\n",
       "    .dataframe thead th {\n",
       "        text-align: right;\n",
       "    }\n",
       "</style>\n",
       "<table border=\"1\" class=\"dataframe\">\n",
       "  <thead>\n",
       "    <tr style=\"text-align: right;\">\n",
       "      <th></th>\n",
       "      <th>id</th>\n",
       "      <th>text</th>\n",
       "    </tr>\n",
       "  </thead>\n",
       "  <tbody>\n",
       "    <tr>\n",
       "      <th>0</th>\n",
       "      <td>200</td>\n",
       "      <td>Median (Constant prices 2021-level)</td>\n",
       "    </tr>\n",
       "    <tr>\n",
       "      <th>1</th>\n",
       "      <td>205</td>\n",
       "      <td>Lower quartile (Constant prices 2021-leel)</td>\n",
       "    </tr>\n",
       "    <tr>\n",
       "      <th>2</th>\n",
       "      <td>210</td>\n",
       "      <td>Upper quartile (Constant prices 2021-level)</td>\n",
       "    </tr>\n",
       "    <tr>\n",
       "      <th>3</th>\n",
       "      <td>215</td>\n",
       "      <td>Average (Constant prices 2021-level)</td>\n",
       "    </tr>\n",
       "    <tr>\n",
       "      <th>4</th>\n",
       "      <td>220</td>\n",
       "      <td>Median (Nominal prices)</td>\n",
       "    </tr>\n",
       "    <tr>\n",
       "      <th>5</th>\n",
       "      <td>225</td>\n",
       "      <td>Lower quartile (Nominal prices)</td>\n",
       "    </tr>\n",
       "    <tr>\n",
       "      <th>6</th>\n",
       "      <td>230</td>\n",
       "      <td>Upper quartile (Nominal prices)</td>\n",
       "    </tr>\n",
       "    <tr>\n",
       "      <th>7</th>\n",
       "      <td>235</td>\n",
       "      <td>Average (Nominal prices)</td>\n",
       "    </tr>\n",
       "    <tr>\n",
       "      <th>8</th>\n",
       "      <td>240</td>\n",
       "      <td>Number of people in population 31.12</td>\n",
       "    </tr>\n",
       "  </tbody>\n",
       "</table>\n",
       "</div>"
      ],
      "text/plain": [
       "    id                                         text\n",
       "0  200          Median (Constant prices 2021-level)\n",
       "1  205   Lower quartile (Constant prices 2021-leel)\n",
       "2  210  Upper quartile (Constant prices 2021-level)\n",
       "3  215         Average (Constant prices 2021-level)\n",
       "4  220                      Median (Nominal prices)\n",
       "5  225              Lower quartile (Nominal prices)\n",
       "6  230              Upper quartile (Nominal prices)\n",
       "7  235                     Average (Nominal prices)\n",
       "8  240         Number of people in population 31.12"
      ]
     },
     "metadata": {},
     "output_type": "display_data"
    }
   ],
   "source": [
    "display(Wealth.variable_levels('ENHED', language='en'))"
   ]
  },
  {
   "cell_type": "code",
   "execution_count": 24,
   "metadata": {
    "execution": {
     "iopub.execute_input": "2023-09-04T12:55:18.488623Z",
     "iopub.status.busy": "2023-09-04T12:55:18.488623Z",
     "iopub.status.idle": "2023-09-04T12:55:18.741630Z",
     "shell.execute_reply": "2023-09-04T12:55:18.740573Z"
    }
   },
   "outputs": [],
   "source": [
    "params = {\n",
    "    'table': 'FORMUE11',\n",
    "    'format': 'BULK',\n",
    "    'lang': 'en',\n",
    "    'variables': [\n",
    "        {'code': 'FORM1', 'values': ['FGNF2014']},              # net wealth (2014 definition)\n",
    "        {'code': 'ENHED', 'values': ['235']},                   # current prices\n",
    "        {'code': 'ALDER', 'values': ['*']},\t                    # all ages\n",
    "        {'code': 'KØN', 'values': ['MOK']},                     # men and women\n",
    "        {'code': 'POPU', 'values': ['5005']},\t                # entire population\t\n",
    "        {'code': 'Tid', 'values':[f'>=2014<']}                  # first year for the data set is 2014\n",
    "        ]\n",
    "    }\n",
    "WealthVar = Wealth.get_data(params=params).sort_values(['TID'])"
   ]
  },
  {
   "attachments": {},
   "cell_type": "markdown",
   "metadata": {},
   "source": [
    "**Create dataframes:**"
   ]
  },
  {
   "cell_type": "code",
   "execution_count": 25,
   "metadata": {
    "execution": {
     "iopub.execute_input": "2023-09-04T12:55:18.744625Z",
     "iopub.status.busy": "2023-09-04T12:55:18.744625Z",
     "iopub.status.idle": "2023-09-04T12:55:18.767837Z",
     "shell.execute_reply": "2023-09-04T12:55:18.767451Z"
    }
   },
   "outputs": [],
   "source": [
    "# a. income data - current prices\n",
    "IncomeDF_cprice = pd.crosstab(index=[DisposableIncomeVar_cprice['TID']],\n",
    "                              values = DisposableIncomeVar_cprice['INDHOLD'], \n",
    "                              aggfunc = sum, columns = str('DisInc: ') + DisposableIncomeVar_cprice['ALDER'])  # convert unique ages as columns for income\n",
    "\n",
    "# b. income data - fixed prices\n",
    "IncomeDF = pd.crosstab(index=[DisposableIncomeVar['TID']],\n",
    "                       values = DisposableIncomeVar['INDHOLD'], \n",
    "                       aggfunc = sum, columns = str('DisInc: ') + DisposableIncomeVar['ALDER'])  # convert unique ages as columns for income\n",
    "\n",
    "# c. wealth data - current prices\n",
    "WealthDF = pd.crosstab(index=[WealthVar['TID']],\n",
    "                       values = WealthVar['INDHOLD'], \n",
    "                       aggfunc = sum, columns = str('Wealth: ') + WealthVar['ALDER']) # convert unique ages as columns for wealth\n",
    "\n",
    "IncomeWealthDF =  pd.concat([IncomeDF,WealthDF], axis=1)                # concatenate dataframes - fixed prices\n",
    "IncomeWealthDF_cprice =  pd.concat([IncomeDF_cprice,WealthDF], axis=1)  # concatenate dataframes - current prices"
   ]
  },
  {
   "attachments": {},
   "cell_type": "markdown",
   "metadata": {},
   "source": [
    "## 7. <a id='toc7_'></a>[Life-cyle profile of income](#toc0_)"
   ]
  },
  {
   "attachments": {},
   "cell_type": "markdown",
   "metadata": {},
   "source": [
    "**Set up data for regression:**"
   ]
  },
  {
   "cell_type": "code",
   "execution_count": 26,
   "metadata": {
    "execution": {
     "iopub.execute_input": "2023-09-04T12:55:18.770830Z",
     "iopub.status.busy": "2023-09-04T12:55:18.769863Z",
     "iopub.status.idle": "2023-09-04T12:55:18.774926Z",
     "shell.execute_reply": "2023-09-04T12:55:18.774926Z"
    }
   },
   "outputs": [],
   "source": [
    "# a. log income for regression\n",
    "log_IncomeDF = np.log(IncomeDF)\n",
    "\n",
    "# b. drop total income column\n",
    "log_IncomeDF.drop('DisInc: Total, 15 years and over', axis=1, inplace=True)\n",
    "\n",
    "# c. rename columns\n",
    "col_dict = {f'DisInc: {i}-{i+4} years' : f'age{i}-{i+4}' for i in range(15,75+1,5)}\n",
    "log_IncomeDF = log_IncomeDF.rename(columns = {'DisInc: 80 years and over':'age80>='})\n",
    "log_IncomeDF.rename(columns = col_dict, inplace=True)"
   ]
  },
  {
   "attachments": {},
   "cell_type": "markdown",
   "metadata": {},
   "source": [
    "**Long format:**"
   ]
  },
  {
   "cell_type": "code",
   "execution_count": 27,
   "metadata": {
    "execution": {
     "iopub.execute_input": "2023-09-04T12:55:18.775929Z",
     "iopub.status.busy": "2023-09-04T12:55:18.775929Z",
     "iopub.status.idle": "2023-09-04T12:55:18.780373Z",
     "shell.execute_reply": "2023-09-04T12:55:18.780373Z"
    }
   },
   "outputs": [],
   "source": [
    "log_IncomeDF = log_IncomeDF.reset_index()\n",
    "long_df = pd.melt(log_IncomeDF, id_vars=\"TID\", var_name=\"age_group\", value_name=\"log_income\")"
   ]
  },
  {
   "attachments": {},
   "cell_type": "markdown",
   "metadata": {},
   "source": [
    "**Add variables:**\n",
    "- Age \n",
    "- Birth year\n",
    "- Age squared  "
   ]
  },
  {
   "cell_type": "code",
   "execution_count": 28,
   "metadata": {
    "execution": {
     "iopub.execute_input": "2023-09-04T12:55:18.783365Z",
     "iopub.status.busy": "2023-09-04T12:55:18.782368Z",
     "iopub.status.idle": "2023-09-04T12:55:18.811360Z",
     "shell.execute_reply": "2023-09-04T12:55:18.810359Z"
    }
   },
   "outputs": [],
   "source": [
    "# new variables\n",
    "long_df['median_birth_year'] = 0\n",
    "long_df['median_age_squared'] = 0\n",
    "long_df['median_age'] = 0\n",
    "long_df['id'] = 0\n",
    "\n",
    "a = range(0,308+22,22)\n",
    "b = range(17,82+5,5)\n",
    "\n",
    "# the age of a group is the median age of that group, i.e. 17 for group age15-19\n",
    "for i,j in zip(a,b):\n",
    "    long_df.loc[i:i+22,['median_birth_year']] = long_df['TID'] - j\n",
    "    long_df.loc[i:i+22,['median_age_squared']] = j**2\n",
    "    long_df.loc[i:i+22,['median_age']] = j\n",
    "    long_df.loc[i:i+22,['id']] = j\n",
    "\n",
    "long_df.set_index(['id', 'TID'], inplace=True)"
   ]
  },
  {
   "attachments": {},
   "cell_type": "markdown",
   "metadata": {},
   "source": [
    "**Run regression:**"
   ]
  },
  {
   "cell_type": "code",
   "execution_count": 29,
   "metadata": {
    "execution": {
     "iopub.execute_input": "2023-09-04T12:55:18.812357Z",
     "iopub.status.busy": "2023-09-04T12:55:18.812357Z",
     "iopub.status.idle": "2023-09-04T12:55:18.816180Z",
     "shell.execute_reply": "2023-09-04T12:55:18.816180Z"
    }
   },
   "outputs": [],
   "source": [
    "# dependent variable\n",
    "dependent = long_df.log_income\n",
    "\n",
    "# exogenous variables\n",
    "exog = sm.add_constant(long_df[['median_birth_year','median_age_squared','median_age']])"
   ]
  },
  {
   "cell_type": "code",
   "execution_count": 30,
   "metadata": {
    "execution": {
     "iopub.execute_input": "2023-09-04T12:55:18.817178Z",
     "iopub.status.busy": "2023-09-04T12:55:18.817178Z",
     "iopub.status.idle": "2023-09-04T12:55:18.884714Z",
     "shell.execute_reply": "2023-09-04T12:55:18.884714Z"
    }
   },
   "outputs": [
    {
     "data": {
      "text/html": [
       "<table class=\"simpletable\">\n",
       "<caption>PanelOLS Estimation Summary</caption>\n",
       "<tr>\n",
       "  <th>Dep. Variable:</th>       <td>log_income</td>    <th>  R-squared:         </th>    <td>0.7842</td> \n",
       "</tr>\n",
       "<tr>\n",
       "  <th>Estimator:</th>            <td>PanelOLS</td>     <th>  R-squared (Between):</th>   <td>0.7893</td> \n",
       "</tr>\n",
       "<tr>\n",
       "  <th>No. Observations:</th>        <td>308</td>       <th>  R-squared (Within):</th>    <td>0.6605</td> \n",
       "</tr>\n",
       "<tr>\n",
       "  <th>Date:</th>             <td>Mon, Sep 18 2023</td> <th>  R-squared (Overall):</th>   <td>0.7842</td> \n",
       "</tr>\n",
       "<tr>\n",
       "  <th>Time:</th>                 <td>10:12:21</td>     <th>  Log-likelihood     </th>    <td>-10.148</td>\n",
       "</tr>\n",
       "<tr>\n",
       "  <th>Cov. Estimator:</th>      <td>Unadjusted</td>    <th>                     </th>       <td></td>    \n",
       "</tr>\n",
       "<tr>\n",
       "  <th></th>                          <td></td>         <th>  F-statistic:       </th>    <td>368.16</td> \n",
       "</tr>\n",
       "<tr>\n",
       "  <th>Entities:</th>                <td>14</td>        <th>  P-value            </th>    <td>0.0000</td> \n",
       "</tr>\n",
       "<tr>\n",
       "  <th>Avg Obs:</th>               <td>22.000</td>      <th>  Distribution:      </th>   <td>F(3,304)</td>\n",
       "</tr>\n",
       "<tr>\n",
       "  <th>Min Obs:</th>               <td>22.000</td>      <th>                     </th>       <td></td>    \n",
       "</tr>\n",
       "<tr>\n",
       "  <th>Max Obs:</th>               <td>22.000</td>      <th>  F-statistic (robust):</th>  <td>368.16</td> \n",
       "</tr>\n",
       "<tr>\n",
       "  <th></th>                          <td></td>         <th>  P-value            </th>    <td>0.0000</td> \n",
       "</tr>\n",
       "<tr>\n",
       "  <th>Time periods:</th>            <td>22</td>        <th>  Distribution:      </th>   <td>F(3,304)</td>\n",
       "</tr>\n",
       "<tr>\n",
       "  <th>Avg Obs:</th>               <td>14.000</td>      <th>                     </th>       <td></td>    \n",
       "</tr>\n",
       "<tr>\n",
       "  <th>Min Obs:</th>               <td>14.000</td>      <th>                     </th>       <td></td>    \n",
       "</tr>\n",
       "<tr>\n",
       "  <th>Max Obs:</th>               <td>14.000</td>      <th>                     </th>       <td></td>    \n",
       "</tr>\n",
       "<tr>\n",
       "  <th></th>                          <td></td>         <th>                     </th>       <td></td>    \n",
       "</tr>\n",
       "</table>\n",
       "<table class=\"simpletable\">\n",
       "<caption>Parameter Estimates</caption>\n",
       "<tr>\n",
       "           <td></td>          <th>Parameter</th> <th>Std. Err.</th> <th>T-stat</th>  <th>P-value</th> <th>Lower CI</th> <th>Upper CI</th>\n",
       "</tr>\n",
       "<tr>\n",
       "  <th>const</th>               <td>-18.365</td>   <td>4.5461</td>   <td>-4.0396</td> <td>0.0001</td>   <td>-27.310</td>  <td>-9.4187</td>\n",
       "</tr>\n",
       "<tr>\n",
       "  <th>median_birth_year</th>   <td>0.0138</td>    <td>0.0023</td>   <td>6.1025</td>  <td>0.0000</td>   <td>0.0093</td>   <td>0.0182</td> \n",
       "</tr>\n",
       "<tr>\n",
       "  <th>median_age_squared</th>  <td>-0.0011</td>  <td>3.978e-05</td> <td>-28.375</td> <td>0.0000</td>   <td>-0.0012</td>  <td>-0.0011</td>\n",
       "</tr>\n",
       "<tr>\n",
       "  <th>median_age</th>          <td>0.1371</td>    <td>0.0046</td>   <td>29.820</td>  <td>0.0000</td>   <td>0.1280</td>   <td>0.1461</td> \n",
       "</tr>\n",
       "</table><br/><br/><br/>id: 0x1fe2af1e080"
      ],
      "text/plain": [
       "                          PanelOLS Estimation Summary                           \n",
       "================================================================================\n",
       "Dep. Variable:             log_income   R-squared:                        0.7842\n",
       "Estimator:                   PanelOLS   R-squared (Between):              0.7893\n",
       "No. Observations:                 308   R-squared (Within):               0.6605\n",
       "Date:                Mon, Sep 18 2023   R-squared (Overall):              0.7842\n",
       "Time:                        10:12:21   Log-likelihood                   -10.148\n",
       "Cov. Estimator:            Unadjusted                                           \n",
       "                                        F-statistic:                      368.16\n",
       "Entities:                          14   P-value                           0.0000\n",
       "Avg Obs:                       22.000   Distribution:                   F(3,304)\n",
       "Min Obs:                       22.000                                           \n",
       "Max Obs:                       22.000   F-statistic (robust):             368.16\n",
       "                                        P-value                           0.0000\n",
       "Time periods:                      22   Distribution:                   F(3,304)\n",
       "Avg Obs:                       14.000                                           \n",
       "Min Obs:                       14.000                                           \n",
       "Max Obs:                       14.000                                           \n",
       "                                                                                \n",
       "                                 Parameter Estimates                                  \n",
       "======================================================================================\n",
       "                    Parameter  Std. Err.     T-stat    P-value    Lower CI    Upper CI\n",
       "--------------------------------------------------------------------------------------\n",
       "const                 -18.365     4.5461    -4.0396     0.0001     -27.310     -9.4187\n",
       "median_birth_year      0.0138     0.0023     6.1025     0.0000      0.0093      0.0182\n",
       "median_age_squared    -0.0011  3.978e-05    -28.375     0.0000     -0.0012     -0.0011\n",
       "median_age             0.1371     0.0046     29.820     0.0000      0.1280      0.1461\n",
       "======================================================================================\n",
       "\n",
       "\n",
       "PanelEffectsResults, id: 0x1fe2af1e080"
      ]
     },
     "execution_count": 30,
     "metadata": {},
     "output_type": "execute_result"
    }
   ],
   "source": [
    "mod = PanelOLS(dependent, exog, drop_absorbed=True)\n",
    "res = mod.fit(cov_type='unadjusted')\n",
    "res"
   ]
  },
  {
   "attachments": {},
   "cell_type": "markdown",
   "metadata": {},
   "source": [
    "### 7.1. <a id='toc7_1_'></a>[Predicted vs. observed income in year](#toc0_)"
   ]
  },
  {
   "cell_type": "code",
   "execution_count": 31,
   "metadata": {
    "execution": {
     "iopub.execute_input": "2023-09-04T12:55:18.886712Z",
     "iopub.status.busy": "2023-09-04T12:55:18.885716Z",
     "iopub.status.idle": "2023-09-04T12:55:18.888291Z",
     "shell.execute_reply": "2023-09-04T12:55:18.888291Z"
    }
   },
   "outputs": [],
   "source": [
    "year = 2010 # must be a year in the data, i.e. 2000-2021"
   ]
  },
  {
   "attachments": {},
   "cell_type": "markdown",
   "metadata": {},
   "source": [
    "**Predicted income:**"
   ]
  },
  {
   "cell_type": "code",
   "execution_count": 32,
   "metadata": {
    "execution": {
     "iopub.execute_input": "2023-09-04T12:55:18.889295Z",
     "iopub.status.busy": "2023-09-04T12:55:18.889295Z",
     "iopub.status.idle": "2023-09-04T12:55:18.902175Z",
     "shell.execute_reply": "2023-09-04T12:55:18.902175Z"
    }
   },
   "outputs": [],
   "source": [
    "pred_income = []\n",
    "age = []\n",
    "\n",
    "# loop over years with income\n",
    "for i in range(15,82+1):\n",
    "    age.append(i)\n",
    "    pred_income.append(np.exp((year-i)*res.params.median_birth_year + \n",
    "                              res.params.const + \n",
    "                              res.params.median_age*i + \n",
    "                              res.params.median_age_squared*i**2))"
   ]
  },
  {
   "attachments": {},
   "cell_type": "markdown",
   "metadata": {},
   "source": [
    "**Observed income:**"
   ]
  },
  {
   "cell_type": "code",
   "execution_count": 33,
   "metadata": {
    "execution": {
     "iopub.execute_input": "2023-09-04T12:55:18.904171Z",
     "iopub.status.busy": "2023-09-04T12:55:18.904171Z",
     "iopub.status.idle": "2023-09-04T12:55:18.910655Z",
     "shell.execute_reply": "2023-09-04T12:55:18.910655Z"
    }
   },
   "outputs": [
    {
     "data": {
      "text/html": [
       "<div>\n",
       "<style scoped>\n",
       "    .dataframe tbody tr th:only-of-type {\n",
       "        vertical-align: middle;\n",
       "    }\n",
       "\n",
       "    .dataframe tbody tr th {\n",
       "        vertical-align: top;\n",
       "    }\n",
       "\n",
       "    .dataframe thead th {\n",
       "        text-align: right;\n",
       "    }\n",
       "</style>\n",
       "<table border=\"1\" class=\"dataframe\">\n",
       "  <thead>\n",
       "    <tr style=\"text-align: right;\">\n",
       "      <th></th>\n",
       "      <th></th>\n",
       "      <th>age_group</th>\n",
       "      <th>log_income</th>\n",
       "      <th>median_birth_year</th>\n",
       "      <th>median_age_squared</th>\n",
       "      <th>median_age</th>\n",
       "      <th>income</th>\n",
       "    </tr>\n",
       "    <tr>\n",
       "      <th>id</th>\n",
       "      <th>TID</th>\n",
       "      <th></th>\n",
       "      <th></th>\n",
       "      <th></th>\n",
       "      <th></th>\n",
       "      <th></th>\n",
       "      <th></th>\n",
       "    </tr>\n",
       "  </thead>\n",
       "  <tbody>\n",
       "    <tr>\n",
       "      <th>17</th>\n",
       "      <th>2010</th>\n",
       "      <td>age15-19</td>\n",
       "      <td>10.534759</td>\n",
       "      <td>1993</td>\n",
       "      <td>289</td>\n",
       "      <td>17</td>\n",
       "      <td>37600.0</td>\n",
       "    </tr>\n",
       "    <tr>\n",
       "      <th>22</th>\n",
       "      <th>2010</th>\n",
       "      <td>age20-24</td>\n",
       "      <td>11.776827</td>\n",
       "      <td>1988</td>\n",
       "      <td>484</td>\n",
       "      <td>22</td>\n",
       "      <td>130200.0</td>\n",
       "    </tr>\n",
       "    <tr>\n",
       "      <th>27</th>\n",
       "      <th>2010</th>\n",
       "      <td>age25-29</td>\n",
       "      <td>12.183827</td>\n",
       "      <td>1983</td>\n",
       "      <td>729</td>\n",
       "      <td>27</td>\n",
       "      <td>195600.0</td>\n",
       "    </tr>\n",
       "    <tr>\n",
       "      <th>32</th>\n",
       "      <th>2010</th>\n",
       "      <td>age30-34</td>\n",
       "      <td>12.449803</td>\n",
       "      <td>1978</td>\n",
       "      <td>1024</td>\n",
       "      <td>32</td>\n",
       "      <td>255200.0</td>\n",
       "    </tr>\n",
       "    <tr>\n",
       "      <th>37</th>\n",
       "      <th>2010</th>\n",
       "      <td>age35-39</td>\n",
       "      <td>12.581766</td>\n",
       "      <td>1973</td>\n",
       "      <td>1369</td>\n",
       "      <td>37</td>\n",
       "      <td>291200.0</td>\n",
       "    </tr>\n",
       "    <tr>\n",
       "      <th>42</th>\n",
       "      <th>2010</th>\n",
       "      <td>age40-44</td>\n",
       "      <td>12.635580</td>\n",
       "      <td>1968</td>\n",
       "      <td>1764</td>\n",
       "      <td>42</td>\n",
       "      <td>307300.0</td>\n",
       "    </tr>\n",
       "    <tr>\n",
       "      <th>47</th>\n",
       "      <th>2010</th>\n",
       "      <td>age45-49</td>\n",
       "      <td>12.643359</td>\n",
       "      <td>1963</td>\n",
       "      <td>2209</td>\n",
       "      <td>47</td>\n",
       "      <td>309700.0</td>\n",
       "    </tr>\n",
       "    <tr>\n",
       "      <th>52</th>\n",
       "      <th>2010</th>\n",
       "      <td>age50-54</td>\n",
       "      <td>12.630032</td>\n",
       "      <td>1958</td>\n",
       "      <td>2704</td>\n",
       "      <td>52</td>\n",
       "      <td>305600.0</td>\n",
       "    </tr>\n",
       "    <tr>\n",
       "      <th>57</th>\n",
       "      <th>2010</th>\n",
       "      <td>age55-59</td>\n",
       "      <td>12.607195</td>\n",
       "      <td>1953</td>\n",
       "      <td>3249</td>\n",
       "      <td>57</td>\n",
       "      <td>298700.0</td>\n",
       "    </tr>\n",
       "    <tr>\n",
       "      <th>62</th>\n",
       "      <th>2010</th>\n",
       "      <td>age60-64</td>\n",
       "      <td>12.505807</td>\n",
       "      <td>1948</td>\n",
       "      <td>3844</td>\n",
       "      <td>62</td>\n",
       "      <td>269900.0</td>\n",
       "    </tr>\n",
       "    <tr>\n",
       "      <th>67</th>\n",
       "      <th>2010</th>\n",
       "      <td>age65-69</td>\n",
       "      <td>12.317614</td>\n",
       "      <td>1943</td>\n",
       "      <td>4489</td>\n",
       "      <td>67</td>\n",
       "      <td>223600.0</td>\n",
       "    </tr>\n",
       "    <tr>\n",
       "      <th>72</th>\n",
       "      <th>2010</th>\n",
       "      <td>age70-74</td>\n",
       "      <td>12.233201</td>\n",
       "      <td>1938</td>\n",
       "      <td>5184</td>\n",
       "      <td>72</td>\n",
       "      <td>205500.0</td>\n",
       "    </tr>\n",
       "    <tr>\n",
       "      <th>77</th>\n",
       "      <th>2010</th>\n",
       "      <td>age75-79</td>\n",
       "      <td>12.191974</td>\n",
       "      <td>1933</td>\n",
       "      <td>5929</td>\n",
       "      <td>77</td>\n",
       "      <td>197200.0</td>\n",
       "    </tr>\n",
       "    <tr>\n",
       "      <th>82</th>\n",
       "      <th>2010</th>\n",
       "      <td>age80&gt;=</td>\n",
       "      <td>12.207572</td>\n",
       "      <td>1928</td>\n",
       "      <td>6724</td>\n",
       "      <td>82</td>\n",
       "      <td>200300.0</td>\n",
       "    </tr>\n",
       "  </tbody>\n",
       "</table>\n",
       "</div>"
      ],
      "text/plain": [
       "        age_group  log_income  median_birth_year  median_age_squared  \\\n",
       "id TID                                                                 \n",
       "17 2010  age15-19   10.534759               1993                 289   \n",
       "22 2010  age20-24   11.776827               1988                 484   \n",
       "27 2010  age25-29   12.183827               1983                 729   \n",
       "32 2010  age30-34   12.449803               1978                1024   \n",
       "37 2010  age35-39   12.581766               1973                1369   \n",
       "42 2010  age40-44   12.635580               1968                1764   \n",
       "47 2010  age45-49   12.643359               1963                2209   \n",
       "52 2010  age50-54   12.630032               1958                2704   \n",
       "57 2010  age55-59   12.607195               1953                3249   \n",
       "62 2010  age60-64   12.505807               1948                3844   \n",
       "67 2010  age65-69   12.317614               1943                4489   \n",
       "72 2010  age70-74   12.233201               1938                5184   \n",
       "77 2010  age75-79   12.191974               1933                5929   \n",
       "82 2010   age80>=   12.207572               1928                6724   \n",
       "\n",
       "         median_age    income  \n",
       "id TID                         \n",
       "17 2010          17   37600.0  \n",
       "22 2010          22  130200.0  \n",
       "27 2010          27  195600.0  \n",
       "32 2010          32  255200.0  \n",
       "37 2010          37  291200.0  \n",
       "42 2010          42  307300.0  \n",
       "47 2010          47  309700.0  \n",
       "52 2010          52  305600.0  \n",
       "57 2010          57  298700.0  \n",
       "62 2010          62  269900.0  \n",
       "67 2010          67  223600.0  \n",
       "72 2010          72  205500.0  \n",
       "77 2010          77  197200.0  \n",
       "82 2010          82  200300.0  "
      ]
     },
     "metadata": {},
     "output_type": "display_data"
    }
   ],
   "source": [
    "warnings.filterwarnings('ignore')\n",
    "\n",
    "obs_income = long_df.loc[long_df.index.get_level_values(1) == year, :]\n",
    "obs_income['income'] = np.exp(obs_income['log_income'])\n",
    "display(obs_income)\n",
    "\n",
    "warnings.filterwarnings('default')"
   ]
  },
  {
   "attachments": {},
   "cell_type": "markdown",
   "metadata": {},
   "source": [
    "**Plot:**"
   ]
  },
  {
   "cell_type": "code",
   "execution_count": 34,
   "metadata": {
    "execution": {
     "iopub.execute_input": "2023-09-04T12:55:18.912651Z",
     "iopub.status.busy": "2023-09-04T12:55:18.912651Z",
     "iopub.status.idle": "2023-09-04T12:55:19.120486Z",
     "shell.execute_reply": "2023-09-04T12:55:19.120486Z"
    }
   },
   "outputs": [
    {
     "data": {
      "image/png": "[encoded data removed]",
      "text/plain": [
       "<Figure size 640x480 with 1 Axes>"
      ]
     },
     "metadata": {},
     "output_type": "display_data"
    }
   ],
   "source": [
    "plt.plot(age, pred_income, label='Predicted')\n",
    "obs_income.plot(kind='scatter', x='median_age', y='income', label='Observed', color='red', ax=plt.gca())\n",
    "\n",
    "plt.title('Life cycle income in year ' + str(year))\n",
    "plt.ylabel('income')\n",
    "plt.xlabel('age')\n",
    "plt.legend()\n",
    "plt.show()"
   ]
  },
  {
   "attachments": {},
   "cell_type": "markdown",
   "metadata": {},
   "source": [
    "### 7.2. <a id='toc7_2_'></a>[Save to disc](#toc0_)"
   ]
  },
  {
   "cell_type": "code",
   "execution_count": 35,
   "metadata": {
    "execution": {
     "iopub.execute_input": "2023-09-04T12:55:19.122483Z",
     "iopub.status.busy": "2023-09-04T12:55:19.122483Z",
     "iopub.status.idle": "2023-09-04T12:55:19.126788Z",
     "shell.execute_reply": "2023-09-04T12:55:19.126788Z"
    }
   },
   "outputs": [],
   "source": [
    "## a. household income\n",
    "ss_households_income = {}\n",
    "ss_households_income['age'] = obs_income['median_age'].to_numpy()[1:13] # drop the first element and last element\n",
    "ss_households_income['income'] = obs_income['income'].to_numpy()[1:13] # drop the first element and last element\n",
    "ss_households_income['income'] /= ss_households_income['income'][0] # normalization\n",
    "\n",
    "# b. save to disc\n",
    "with open('data/ss_households_income.pickle', 'wb') as f:\n",
    "    pickle.dump(ss_households_income, f)"
   ]
  },
  {
   "attachments": {},
   "cell_type": "markdown",
   "metadata": {},
   "source": [
    "### 7.3. <a id='toc7_3_'></a>[Predicted vs. observed income for cohort 1983](#toc0_)"
   ]
  },
  {
   "attachments": {},
   "cell_type": "markdown",
   "metadata": {},
   "source": [
    "**Predicted income for cohort 1983:**"
   ]
  },
  {
   "cell_type": "code",
   "execution_count": 36,
   "metadata": {
    "execution": {
     "iopub.execute_input": "2023-09-04T12:55:19.128785Z",
     "iopub.status.busy": "2023-09-04T12:55:19.128785Z",
     "iopub.status.idle": "2023-09-04T12:55:19.142439Z",
     "shell.execute_reply": "2023-09-04T12:55:19.142439Z"
    }
   },
   "outputs": [],
   "source": [
    "pred_income = []\n",
    "age = []\n",
    "\n",
    "# loop over years with income\n",
    "for i in range(15,82+1):\n",
    "    age.append(i)\n",
    "    pred_income.append(np.exp((1983)*res.params.median_birth_year + \n",
    "                              res.params.const + \n",
    "                              res.params.median_age*i + \n",
    "                              res.params.median_age_squared*i**2)) # birth year, 1983, remains constant"
   ]
  },
  {
   "attachments": {},
   "cell_type": "markdown",
   "metadata": {},
   "source": [
    "**Observed income for cohort 1983:**"
   ]
  },
  {
   "cell_type": "code",
   "execution_count": 37,
   "metadata": {
    "execution": {
     "iopub.execute_input": "2023-09-04T12:55:19.144439Z",
     "iopub.status.busy": "2023-09-04T12:55:19.144439Z",
     "iopub.status.idle": "2023-09-04T12:55:19.150982Z",
     "shell.execute_reply": "2023-09-04T12:55:19.150982Z"
    }
   },
   "outputs": [
    {
     "data": {
      "text/html": [
       "<div>\n",
       "<style scoped>\n",
       "    .dataframe tbody tr th:only-of-type {\n",
       "        vertical-align: middle;\n",
       "    }\n",
       "\n",
       "    .dataframe tbody tr th {\n",
       "        vertical-align: top;\n",
       "    }\n",
       "\n",
       "    .dataframe thead th {\n",
       "        text-align: right;\n",
       "    }\n",
       "</style>\n",
       "<table border=\"1\" class=\"dataframe\">\n",
       "  <thead>\n",
       "    <tr style=\"text-align: right;\">\n",
       "      <th></th>\n",
       "      <th></th>\n",
       "      <th>age_group</th>\n",
       "      <th>log_income</th>\n",
       "      <th>median_birth_year</th>\n",
       "      <th>median_age_squared</th>\n",
       "      <th>median_age</th>\n",
       "      <th>income</th>\n",
       "    </tr>\n",
       "    <tr>\n",
       "      <th>id</th>\n",
       "      <th>TID</th>\n",
       "      <th></th>\n",
       "      <th></th>\n",
       "      <th></th>\n",
       "      <th></th>\n",
       "      <th></th>\n",
       "      <th></th>\n",
       "    </tr>\n",
       "  </thead>\n",
       "  <tbody>\n",
       "    <tr>\n",
       "      <th>17</th>\n",
       "      <th>2000</th>\n",
       "      <td>age15-19</td>\n",
       "      <td>10.594132</td>\n",
       "      <td>1983</td>\n",
       "      <td>289</td>\n",
       "      <td>17</td>\n",
       "      <td>39900.0</td>\n",
       "    </tr>\n",
       "    <tr>\n",
       "      <th>22</th>\n",
       "      <th>2005</th>\n",
       "      <td>age20-24</td>\n",
       "      <td>11.795092</td>\n",
       "      <td>1983</td>\n",
       "      <td>484</td>\n",
       "      <td>22</td>\n",
       "      <td>132600.0</td>\n",
       "    </tr>\n",
       "    <tr>\n",
       "      <th>27</th>\n",
       "      <th>2010</th>\n",
       "      <td>age25-29</td>\n",
       "      <td>12.183827</td>\n",
       "      <td>1983</td>\n",
       "      <td>729</td>\n",
       "      <td>27</td>\n",
       "      <td>195600.0</td>\n",
       "    </tr>\n",
       "    <tr>\n",
       "      <th>32</th>\n",
       "      <th>2015</th>\n",
       "      <td>age30-34</td>\n",
       "      <td>12.443908</td>\n",
       "      <td>1983</td>\n",
       "      <td>1024</td>\n",
       "      <td>32</td>\n",
       "      <td>253700.0</td>\n",
       "    </tr>\n",
       "    <tr>\n",
       "      <th>37</th>\n",
       "      <th>2020</th>\n",
       "      <td>age35-39</td>\n",
       "      <td>12.697715</td>\n",
       "      <td>1983</td>\n",
       "      <td>1369</td>\n",
       "      <td>37</td>\n",
       "      <td>327000.0</td>\n",
       "    </tr>\n",
       "  </tbody>\n",
       "</table>\n",
       "</div>"
      ],
      "text/plain": [
       "        age_group  log_income  median_birth_year  median_age_squared  \\\n",
       "id TID                                                                 \n",
       "17 2000  age15-19   10.594132               1983                 289   \n",
       "22 2005  age20-24   11.795092               1983                 484   \n",
       "27 2010  age25-29   12.183827               1983                 729   \n",
       "32 2015  age30-34   12.443908               1983                1024   \n",
       "37 2020  age35-39   12.697715               1983                1369   \n",
       "\n",
       "         median_age    income  \n",
       "id TID                         \n",
       "17 2000          17   39900.0  \n",
       "22 2005          22  132600.0  \n",
       "27 2010          27  195600.0  \n",
       "32 2015          32  253700.0  \n",
       "37 2020          37  327000.0  "
      ]
     },
     "metadata": {},
     "output_type": "display_data"
    }
   ],
   "source": [
    "warnings.filterwarnings('ignore')\n",
    "\n",
    "obs_income = long_df.loc[long_df['median_birth_year'] == 1983, :]\n",
    "obs_income['income'] = np.exp(obs_income['log_income'])\n",
    "display(obs_income)\n",
    "\n",
    "warnings.filterwarnings('default')"
   ]
  },
  {
   "attachments": {},
   "cell_type": "markdown",
   "metadata": {},
   "source": [
    "**Plot:**"
   ]
  },
  {
   "cell_type": "code",
   "execution_count": 38,
   "metadata": {
    "execution": {
     "iopub.execute_input": "2023-09-04T12:55:19.152982Z",
     "iopub.status.busy": "2023-09-04T12:55:19.151988Z",
     "iopub.status.idle": "2023-09-04T12:55:19.243804Z",
     "shell.execute_reply": "2023-09-04T12:55:19.243804Z"
    }
   },
   "outputs": [
    {
     "data": {
      "image/png": "[encoded data removed]",
      "text/plain": [
       "<Figure size 640x480 with 1 Axes>"
      ]
     },
     "metadata": {},
     "output_type": "display_data"
    }
   ],
   "source": [
    "plt.plot(age, pred_income, label='Predicted')\n",
    "obs_income.plot(kind='scatter', x='median_age', y='income', label='Observed', color='red', ax=plt.gca())\n",
    "\n",
    "plt.title('Life cycle income for cohort 1983')\n",
    "plt.ylabel('Income')\n",
    "plt.xlabel('Age')\n",
    "plt.legend()\n",
    "plt.show()"
   ]
  },
  {
   "attachments": {},
   "cell_type": "markdown",
   "metadata": {},
   "source": [
    "## 8. <a id='toc8_'></a>[Wealth-income ratio:](#toc0_)"
   ]
  },
  {
   "attachments": {},
   "cell_type": "markdown",
   "metadata": {},
   "source": [
    "**Calculate the wealth-income ratio based on the raw data:**"
   ]
  },
  {
   "cell_type": "code",
   "execution_count": 39,
   "metadata": {
    "execution": {
     "iopub.execute_input": "2023-09-04T12:55:19.249737Z",
     "iopub.status.busy": "2023-09-04T12:55:19.248743Z",
     "iopub.status.idle": "2023-09-04T12:55:19.258542Z",
     "shell.execute_reply": "2023-09-04T12:55:19.258542Z"
    }
   },
   "outputs": [
    {
     "name": "stdout",
     "output_type": "stream",
     "text": [
      "ALDER\n",
      "age_20-24     0.766505\n",
      "age_25-29     0.890354\n",
      "age_30-34     1.353119\n",
      "age_35-39     2.105508\n",
      "age_40-44     3.002049\n",
      "age_45-49     3.944616\n",
      "age_50-54     5.090512\n",
      "age_55-59     6.610468\n",
      "age_60-64     8.626078\n",
      "age_65-69    10.807956\n",
      "age_70-74    10.705477\n",
      "age_75-79     9.617599\n",
      "dtype: float64\n"
     ]
    }
   ],
   "source": [
    "# a. get the relevant data frame\n",
    "IncomeWealthDF =  pd.concat([IncomeDF_cprice,WealthDF], axis=1)\n",
    "\n",
    "ages = []\n",
    "\n",
    "# b. loop over age groups common to income and wealth data\n",
    "for i in range(25,75+1,5):\n",
    "    IncomeWealthDF['age_'+str(i)+'-'+str(i+4)] = IncomeWealthDF['Wealth: '+str(i)+'-'+str(i+4)+' years']/IncomeWealthDF['DisInc: '+str(i)+'-'+str(i+4)+' years']\n",
    "    ages.append(i+2)\n",
    "\n",
    "# c. the first age group, age_15-24. Assuming no wealth for 15-17 years - no data ...\n",
    "IncomeWealthDF['age_20-24'] = IncomeWealthDF['Wealth: 18-24 years']/IncomeWealthDF['DisInc: 20-24 years']\n",
    "ages = [22] + ages\n",
    "\n",
    "# d. wealth-income ratio for all age groups\n",
    "IncomeWealthDF = IncomeWealthDF[['age_' + str(i) + '-' + str(i+4) for i in range(20,75+1,5)]]\n",
    "IncomeWealthDF = IncomeWealthDF.dropna() # drop NANs - wealth data only available for 2014-2021\n",
    "\n",
    "# e. take the mean over time for each age group\n",
    "wealth_income_ratio = IncomeWealthDF.mean()\n",
    "print(wealth_income_ratio)"
   ]
  },
  {
   "attachments": {},
   "cell_type": "markdown",
   "metadata": {},
   "source": [
    "**Linear interpolation of the observed wealth-income ratio:**"
   ]
  },
  {
   "cell_type": "code",
   "execution_count": 40,
   "metadata": {
    "execution": {
     "iopub.execute_input": "2023-09-04T12:55:19.259543Z",
     "iopub.status.busy": "2023-09-04T12:55:19.259543Z",
     "iopub.status.idle": "2023-09-04T12:55:19.328565Z",
     "shell.execute_reply": "2023-09-04T12:55:19.328565Z"
    }
   },
   "outputs": [
    {
     "data": {
      "image/png": "[encoded data removed]",
      "text/plain": [
       "<Figure size 640x480 with 1 Axes>"
      ]
     },
     "metadata": {},
     "output_type": "display_data"
    }
   ],
   "source": [
    "wealth_income_ratio_list = wealth_income_ratio.tolist()\n",
    "\n",
    "ages_ = min(ages) + np.arange(max(ages)-min(ages)+1)\n",
    "wealth_inc_interp = np.interp(ages_,ages,wealth_income_ratio_list)\n",
    "\n",
    "plt.title('Wealth-income ratio interpolated')\n",
    "plt.plot(ages,wealth_income_ratio_list,'bo')\n",
    "plt.plot(ages_,wealth_inc_interp)\n",
    "plt.xlabel('Age')\n",
    "plt.show()"
   ]
  },
  {
   "attachments": {},
   "cell_type": "markdown",
   "metadata": {},
   "source": [
    "### 8.1. <a id='toc8_1_'></a>[Save to disc](#toc0_)"
   ]
  },
  {
   "cell_type": "code",
   "execution_count": 41,
   "metadata": {
    "execution": {
     "iopub.execute_input": "2023-09-04T12:55:19.336162Z",
     "iopub.status.busy": "2023-09-04T12:55:19.336162Z",
     "iopub.status.idle": "2023-09-04T12:55:19.338920Z",
     "shell.execute_reply": "2023-09-04T12:55:19.338920Z"
    }
   },
   "outputs": [],
   "source": [
    "## a. household income\n",
    "ss_households_wealth = {}\n",
    "ss_households_wealth['age'] = ages_[2:]\n",
    "ss_households_wealth['wealth_income_ratio'] = wealth_inc_interp[2:]\n",
    "\n",
    "# b. save to disc\n",
    "with open('data/ss_households_wealth.pickle', 'wb') as f:\n",
    "    pickle.dump(ss_households_wealth, f)"
   ]
  }
 ],
 "metadata": {
  "kernelspec": {
   "display_name": "base",
   "language": "python",
   "name": "python3"
  },
  "language_info": {
   "codemirror_mode": {
    "name": "ipython",
    "version": 3
   },
   "file_extension": ".py",
   "mimetype": "text/x-python",
   "name": "python",
   "nbconvert_exporter": "python",
   "pygments_lexer": "ipython3",
   "version": "3.11.4"
  },
  "vscode": {
   "interpreter": {
    "hash": "9c70007ae2ab7a7a37fedd7506c3ac6922537c13d0b7541085c8698d1f7946d8"
   }
  }
 },
 "nbformat": 4,
 "nbformat_minor": 2
}
