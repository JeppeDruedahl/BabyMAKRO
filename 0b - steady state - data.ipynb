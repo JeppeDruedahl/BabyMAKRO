{
 "cells": [
  {
   "attachments": {},
   "cell_type": "markdown",
   "metadata": {},
   "source": [
    "# Data for calibration\n"
   ]
  },
  {
   "attachments": {},
   "cell_type": "markdown",
   "metadata": {},
   "source": [
    "**Table of contents**<a id='toc0_'></a>    \n",
    "- 1. [Download data](#toc1_)    \n",
    "- 2. [National account](#toc2_)    \n",
    "- 3. [Capital, employment and population](#toc3_)    \n",
    "- 4. [Unemployment rate](#toc4_)    \n",
    "- 5. [Steady state - aggregate](#toc5_)    \n",
    "  - 5.1. [Save to disc](#toc5_1_)    \n",
    "- 6. [Income and wealth over life-cycle](#toc6_)    \n",
    "- 7. [Life-cyle profile of income](#toc7_)    \n",
    "  - 7.1. [Predicted vs. observed income in year](#toc7_1_)    \n",
    "  - 7.2. [Save to disc](#toc7_2_)    \n",
    "  - 7.3. [Predicted vs. observed income for cohort 1983](#toc7_3_)    \n",
    "- 8. [Wealth-income ratio:](#toc8_)    \n",
    "  - 8.1. [Save to disc](#toc8_1_)    \n",
    "\n",
    "<!-- vscode-jupyter-toc-config\n",
    "\tnumbering=true\n",
    "\tanchor=true\n",
    "\tflat=false\n",
    "\tminLevel=2\n",
    "\tmaxLevel=6\n",
    "\t/vscode-jupyter-toc-config -->\n",
    "<!-- THIS CELL WILL BE REPLACED ON TOC UPDATE. DO NOT WRITE YOUR TEXT IN THIS CELL -->"
   ]
  },
  {
   "cell_type": "code",
   "execution_count": 693,
   "metadata": {
    "execution": {
     "iopub.execute_input": "2023-05-14T18:39:06.295209Z",
     "iopub.status.busy": "2023-05-14T18:39:06.295209Z",
     "iopub.status.idle": "2023-05-14T18:39:08.955796Z",
     "shell.execute_reply": "2023-05-14T18:39:08.954837Z"
    }
   },
   "outputs": [],
   "source": [
    "import warnings\n",
    "\n",
    "import numpy as np\n",
    "import pandas as pd\n",
    "import statsmodels.api as sm\n",
    "import pickle\n",
    "\n",
    "from linearmodels import PanelOLS # pip install linearmodels\n",
    "from IPython.display import display\n",
    "from dstapi import DstApi # the helper class. pip install git+https://github.com/alemartinello/dstapi\n",
    "\n",
    "import matplotlib.pyplot as plt   \n",
    "plt.rcParams.update({\"axes.grid\":True,\"grid.color\":\"black\",\"grid.alpha\":\"0.25\",\"grid.linestyle\":\"--\"})\n",
    "prop_cycle = plt.rcParams['axes.prop_cycle']\n",
    "colors = prop_cycle.by_key()['color']"
   ]
  },
  {
   "attachments": {},
   "cell_type": "markdown",
   "metadata": {},
   "source": [
    "## 1. <a id='toc1_'></a>[Download data](#toc0_)"
   ]
  },
  {
   "cell_type": "code",
   "execution_count": 694,
   "metadata": {
    "execution": {
     "iopub.execute_input": "2023-05-14T18:39:08.959821Z",
     "iopub.status.busy": "2023-05-14T18:39:08.958790Z",
     "iopub.status.idle": "2023-05-14T18:39:08.972038Z",
     "shell.execute_reply": "2023-05-14T18:39:08.970913Z"
    }
   },
   "outputs": [],
   "source": [
    "NationalAccount = DstApi('NAN1')         # Unit : current prices, bill. DKK\n",
    "EmploymentPopuplation = DstApi('NAHB')   # Unit : total number of people\n",
    "Unemployment = DstApi('AULAAR')          # Unit : % of labour force\n",
    "Capital = DstApi('NABK10')               # Unit : current prices, bill. DKK\n",
    "\n",
    "Income = DstApi('INDKP201')              # Unit : fixed and current prices, DKK\n",
    "Wealth = DstApi('FORMUE11')              # Unit : current prices, DKK / Using 2014-defintion of net-wealth\n",
    "\n",
    "FirstYear = 2000                         # Define first year of data (in cases where prior data exists)"
   ]
  },
  {
   "attachments": {},
   "cell_type": "markdown",
   "metadata": {},
   "source": [
    "## 2. <a id='toc2_'></a>[National account](#toc0_)"
   ]
  },
  {
   "cell_type": "code",
   "execution_count": 695,
   "metadata": {
    "execution": {
     "iopub.execute_input": "2023-05-14T18:39:08.974069Z",
     "iopub.status.busy": "2023-05-14T18:39:08.974069Z",
     "iopub.status.idle": "2023-05-14T18:39:09.303468Z",
     "shell.execute_reply": "2023-05-14T18:39:09.302436Z"
    }
   },
   "outputs": [
    {
     "name": "stdout",
     "output_type": "stream",
     "text": [
      "Table NAN1: Demand and supply by transaction, price unit and time\n",
      "Last update: 2023-03-31T08:00:00\n"
     ]
    },
    {
     "data": {
      "text/html": [
       "<div>\n",
       "<style scoped>\n",
       "    .dataframe tbody tr th:only-of-type {\n",
       "        vertical-align: middle;\n",
       "    }\n",
       "\n",
       "    .dataframe tbody tr th {\n",
       "        vertical-align: top;\n",
       "    }\n",
       "\n",
       "    .dataframe thead th {\n",
       "        text-align: right;\n",
       "    }\n",
       "</style>\n",
       "<table border=\"1\" class=\"dataframe\">\n",
       "  <thead>\n",
       "    <tr style=\"text-align: right;\">\n",
       "      <th></th>\n",
       "      <th>variable name</th>\n",
       "      <th># values</th>\n",
       "      <th>First value</th>\n",
       "      <th>First value label</th>\n",
       "      <th>Last value</th>\n",
       "      <th>Last value label</th>\n",
       "      <th>Time variable</th>\n",
       "    </tr>\n",
       "  </thead>\n",
       "  <tbody>\n",
       "    <tr>\n",
       "      <th>0</th>\n",
       "      <td>TRANSAKT</td>\n",
       "      <td>31</td>\n",
       "      <td>B1GQK</td>\n",
       "      <td>B.1*g Gross domestic product</td>\n",
       "      <td>EMPM_DC</td>\n",
       "      <td>Total employment (1,000 persons)</td>\n",
       "      <td>False</td>\n",
       "    </tr>\n",
       "    <tr>\n",
       "      <th>1</th>\n",
       "      <td>PRISENHED</td>\n",
       "      <td>6</td>\n",
       "      <td>V_M</td>\n",
       "      <td>Current prices, (bill. DKK.)</td>\n",
       "      <td>LAN_C</td>\n",
       "      <td>Pr. capita, 2010-prices, chained values, (1000...</td>\n",
       "      <td>False</td>\n",
       "    </tr>\n",
       "    <tr>\n",
       "      <th>2</th>\n",
       "      <td>Tid</td>\n",
       "      <td>57</td>\n",
       "      <td>1966</td>\n",
       "      <td>1966</td>\n",
       "      <td>2022</td>\n",
       "      <td>2022</td>\n",
       "      <td>True</td>\n",
       "    </tr>\n",
       "  </tbody>\n",
       "</table>\n",
       "</div>"
      ],
      "text/plain": [
       "  variable name  # values First value             First value label   \n",
       "0      TRANSAKT        31       B1GQK  B.1*g Gross domestic product  \\\n",
       "1     PRISENHED         6         V_M  Current prices, (bill. DKK.)   \n",
       "2           Tid        57        1966                          1966   \n",
       "\n",
       "  Last value                                   Last value label  Time variable  \n",
       "0    EMPM_DC                   Total employment (1,000 persons)          False  \n",
       "1      LAN_C  Pr. capita, 2010-prices, chained values, (1000...          False  \n",
       "2       2022                                               2022           True  "
      ]
     },
     "metadata": {},
     "output_type": "display_data"
    }
   ],
   "source": [
    "display(NationalAccount.tablesummary(language='en'))\n",
    "# display(NationalAccount.variable_levels('PRISENHED', language='en'))\n",
    "# display(NationalAccount.variable_levels('TRANSAKT', language='en'))"
   ]
  },
  {
   "attachments": {},
   "cell_type": "markdown",
   "metadata": {},
   "source": [
    "**Create dataframe:**"
   ]
  },
  {
   "cell_type": "code",
   "execution_count": 696,
   "metadata": {
    "execution": {
     "iopub.execute_input": "2023-05-14T18:39:09.340247Z",
     "iopub.status.busy": "2023-05-14T18:39:09.340247Z",
     "iopub.status.idle": "2023-05-14T18:39:09.597354Z",
     "shell.execute_reply": "2023-05-14T18:39:09.597354Z"
    }
   },
   "outputs": [],
   "source": [
    "params = {\n",
    "    'table': 'NAN1',\n",
    "    'format': 'BULK',\n",
    "    'lang': 'en',\n",
    "    'variables': [\n",
    "        {'code': 'TRANSAKT', 'values': ['B1GQK','P7K','P6D','P31S1MD','P3S13D','P5GD']},    # variables of interest\n",
    "        {'code': 'PRISENHED', 'values': ['V_M']},                                           # current prices\n",
    "        {'code': 'Tid', 'values': [f'>={FirstYear}<']}                                      # specified years    \n",
    "        ]\n",
    "    }\n",
    "SupplyBalanceVar = NationalAccount.get_data(params=params).set_index(['TID']).sort_values(['TID'])"
   ]
  },
  {
   "cell_type": "code",
   "execution_count": 697,
   "metadata": {
    "execution": {
     "iopub.execute_input": "2023-05-14T18:39:09.597354Z",
     "iopub.status.busy": "2023-05-14T18:39:09.597354Z",
     "iopub.status.idle": "2023-05-14T18:39:09.642111Z",
     "shell.execute_reply": "2023-05-14T18:39:09.641294Z"
    }
   },
   "outputs": [
    {
     "data": {
      "text/html": [
       "<div>\n",
       "<style scoped>\n",
       "    .dataframe tbody tr th:only-of-type {\n",
       "        vertical-align: middle;\n",
       "    }\n",
       "\n",
       "    .dataframe tbody tr th {\n",
       "        vertical-align: top;\n",
       "    }\n",
       "\n",
       "    .dataframe thead th {\n",
       "        text-align: right;\n",
       "    }\n",
       "</style>\n",
       "<table border=\"1\" class=\"dataframe\">\n",
       "  <thead>\n",
       "    <tr style=\"text-align: right;\">\n",
       "      <th></th>\n",
       "      <th>M_ratio</th>\n",
       "      <th>X_ratio</th>\n",
       "      <th>C_ratio</th>\n",
       "      <th>G_ratio</th>\n",
       "      <th>I_ratio</th>\n",
       "    </tr>\n",
       "    <tr>\n",
       "      <th>TID</th>\n",
       "      <th></th>\n",
       "      <th></th>\n",
       "      <th></th>\n",
       "      <th></th>\n",
       "      <th></th>\n",
       "    </tr>\n",
       "  </thead>\n",
       "  <tbody>\n",
       "    <tr>\n",
       "      <th>2000</th>\n",
       "      <td>0.381792</td>\n",
       "      <td>0.448866</td>\n",
       "      <td>0.470646</td>\n",
       "      <td>0.238752</td>\n",
       "      <td>0.223529</td>\n",
       "    </tr>\n",
       "    <tr>\n",
       "      <th>2001</th>\n",
       "      <td>0.384542</td>\n",
       "      <td>0.455997</td>\n",
       "      <td>0.467080</td>\n",
       "      <td>0.243237</td>\n",
       "      <td>0.218228</td>\n",
       "    </tr>\n",
       "    <tr>\n",
       "      <th>2002</th>\n",
       "      <td>0.388924</td>\n",
       "      <td>0.457420</td>\n",
       "      <td>0.469333</td>\n",
       "      <td>0.248670</td>\n",
       "      <td>0.213430</td>\n",
       "    </tr>\n",
       "    <tr>\n",
       "      <th>2003</th>\n",
       "      <td>0.370824</td>\n",
       "      <td>0.438753</td>\n",
       "      <td>0.472439</td>\n",
       "      <td>0.250348</td>\n",
       "      <td>0.209215</td>\n",
       "    </tr>\n",
       "    <tr>\n",
       "      <th>2004</th>\n",
       "      <td>0.383134</td>\n",
       "      <td>0.439641</td>\n",
       "      <td>0.477224</td>\n",
       "      <td>0.249336</td>\n",
       "      <td>0.216932</td>\n",
       "    </tr>\n",
       "  </tbody>\n",
       "</table>\n",
       "</div>"
      ],
      "text/plain": [
       "       M_ratio   X_ratio   C_ratio   G_ratio   I_ratio\n",
       "TID                                                   \n",
       "2000  0.381792  0.448866  0.470646  0.238752  0.223529\n",
       "2001  0.384542  0.455997  0.467080  0.243237  0.218228\n",
       "2002  0.388924  0.457420  0.469333  0.248670  0.213430\n",
       "2003  0.370824  0.438753  0.472439  0.250348  0.209215\n",
       "2004  0.383134  0.439641  0.477224  0.249336  0.216932"
      ]
     },
     "metadata": {},
     "output_type": "display_data"
    }
   ],
   "source": [
    "# a. components of GDP\n",
    "C = SupplyBalanceVar[['INDHOLD']].loc[SupplyBalanceVar['TRANSAKT'] == 'P.31 Private consumption'].apply(pd.to_numeric)\n",
    "Y = SupplyBalanceVar[['INDHOLD']].loc[SupplyBalanceVar['TRANSAKT'] == 'B.1*g Gross domestic product'].apply(pd.to_numeric)\n",
    "M = SupplyBalanceVar[['INDHOLD']].loc[SupplyBalanceVar['TRANSAKT'] == 'P.7 Imports of goods and services'].apply(pd.to_numeric)\n",
    "X = SupplyBalanceVar[['INDHOLD']].loc[SupplyBalanceVar['TRANSAKT'] == 'P.6 Exports of goods and services'].apply(pd.to_numeric)\n",
    "G = SupplyBalanceVar[['INDHOLD']].loc[SupplyBalanceVar['TRANSAKT'] == 'P.3 Government consumption expenditure'].apply(pd.to_numeric)\n",
    "I = SupplyBalanceVar[['INDHOLD']].loc[SupplyBalanceVar['TRANSAKT'] == 'P.5g Gross capital formation'].apply(pd.to_numeric)\n",
    "\n",
    "# b. ratio of each component to GDP\n",
    "SupplyBalanceDF = pd.DataFrame()\n",
    "SupplyBalanceDF['M_ratio'] = M/Y\n",
    "SupplyBalanceDF['X_ratio'] = X/Y\n",
    "SupplyBalanceDF['C_ratio'] = C/Y\n",
    "SupplyBalanceDF['G_ratio'] = G/Y\n",
    "SupplyBalanceDF['I_ratio'] = I/Y\n",
    "\n",
    "display(SupplyBalanceDF.head())"
   ]
  },
  {
   "attachments": {},
   "cell_type": "markdown",
   "metadata": {},
   "source": [
    "## 3. <a id='toc3_'></a>[Capital, employment and population](#toc0_)"
   ]
  },
  {
   "attachments": {},
   "cell_type": "markdown",
   "metadata": {},
   "source": [
    "**Employment and population:**"
   ]
  },
  {
   "cell_type": "code",
   "execution_count": 698,
   "metadata": {
    "execution": {
     "iopub.execute_input": "2023-05-14T18:39:09.646099Z",
     "iopub.status.busy": "2023-05-14T18:39:09.645102Z",
     "iopub.status.idle": "2023-05-14T18:39:09.896454Z",
     "shell.execute_reply": "2023-05-14T18:39:09.895616Z"
    }
   },
   "outputs": [
    {
     "name": "stdout",
     "output_type": "stream",
     "text": [
      "Table NAHB: Beskæftigelse og befolkning efter socioøkonomisk status og tid\n",
      "Last update: 2023-04-21T08:00:00\n"
     ]
    },
    {
     "data": {
      "text/html": [
       "<div>\n",
       "<style scoped>\n",
       "    .dataframe tbody tr th:only-of-type {\n",
       "        vertical-align: middle;\n",
       "    }\n",
       "\n",
       "    .dataframe tbody tr th {\n",
       "        vertical-align: top;\n",
       "    }\n",
       "\n",
       "    .dataframe thead th {\n",
       "        text-align: right;\n",
       "    }\n",
       "</style>\n",
       "<table border=\"1\" class=\"dataframe\">\n",
       "  <thead>\n",
       "    <tr style=\"text-align: right;\">\n",
       "      <th></th>\n",
       "      <th>variable name</th>\n",
       "      <th># values</th>\n",
       "      <th>First value</th>\n",
       "      <th>First value label</th>\n",
       "      <th>Last value</th>\n",
       "      <th>Last value label</th>\n",
       "      <th>Time variable</th>\n",
       "    </tr>\n",
       "  </thead>\n",
       "  <tbody>\n",
       "    <tr>\n",
       "      <th>0</th>\n",
       "      <td>SOCIO</td>\n",
       "      <td>3</td>\n",
       "      <td>EMPM_DC</td>\n",
       "      <td>Samlet antal beskæftigede (antal)</td>\n",
       "      <td>POP</td>\n",
       "      <td>Gennemsnitsbefolkning</td>\n",
       "      <td>False</td>\n",
       "    </tr>\n",
       "    <tr>\n",
       "      <th>1</th>\n",
       "      <td>Tid</td>\n",
       "      <td>57</td>\n",
       "      <td>1966</td>\n",
       "      <td>1966</td>\n",
       "      <td>2022</td>\n",
       "      <td>2022</td>\n",
       "      <td>True</td>\n",
       "    </tr>\n",
       "  </tbody>\n",
       "</table>\n",
       "</div>"
      ],
      "text/plain": [
       "  variable name  # values First value                  First value label   \n",
       "0         SOCIO         3     EMPM_DC  Samlet antal beskæftigede (antal)  \\\n",
       "1           Tid        57        1966                               1966   \n",
       "\n",
       "  Last value       Last value label  Time variable  \n",
       "0        POP  Gennemsnitsbefolkning          False  \n",
       "1       2022                   2022           True  "
      ]
     },
     "metadata": {},
     "output_type": "display_data"
    },
    {
     "data": {
      "text/html": [
       "<div>\n",
       "<style scoped>\n",
       "    .dataframe tbody tr th:only-of-type {\n",
       "        vertical-align: middle;\n",
       "    }\n",
       "\n",
       "    .dataframe tbody tr th {\n",
       "        vertical-align: top;\n",
       "    }\n",
       "\n",
       "    .dataframe thead th {\n",
       "        text-align: right;\n",
       "    }\n",
       "</style>\n",
       "<table border=\"1\" class=\"dataframe\">\n",
       "  <thead>\n",
       "    <tr style=\"text-align: right;\">\n",
       "      <th></th>\n",
       "      <th>id</th>\n",
       "      <th>text</th>\n",
       "    </tr>\n",
       "  </thead>\n",
       "  <tbody>\n",
       "    <tr>\n",
       "      <th>0</th>\n",
       "      <td>EMPM_DC</td>\n",
       "      <td>Samlet antal beskæftigede (antal)</td>\n",
       "    </tr>\n",
       "    <tr>\n",
       "      <th>1</th>\n",
       "      <td>EMPM_NC</td>\n",
       "      <td>Beskæftigede med bopæl i Danmark</td>\n",
       "    </tr>\n",
       "    <tr>\n",
       "      <th>2</th>\n",
       "      <td>POP</td>\n",
       "      <td>Gennemsnitsbefolkning</td>\n",
       "    </tr>\n",
       "  </tbody>\n",
       "</table>\n",
       "</div>"
      ],
      "text/plain": [
       "        id                               text\n",
       "0  EMPM_DC  Samlet antal beskæftigede (antal)\n",
       "1  EMPM_NC   Beskæftigede med bopæl i Danmark\n",
       "2      POP              Gennemsnitsbefolkning"
      ]
     },
     "metadata": {},
     "output_type": "display_data"
    }
   ],
   "source": [
    "display(EmploymentPopuplation.tablesummary())\n",
    "display(EmploymentPopuplation.variable_levels('SOCIO', language='en'))"
   ]
  },
  {
   "cell_type": "code",
   "execution_count": 699,
   "metadata": {
    "execution": {
     "iopub.execute_input": "2023-05-14T18:39:09.899196Z",
     "iopub.status.busy": "2023-05-14T18:39:09.899196Z",
     "iopub.status.idle": "2023-05-14T18:39:10.175234Z",
     "shell.execute_reply": "2023-05-14T18:39:10.174427Z"
    }
   },
   "outputs": [],
   "source": [
    "params = {\n",
    "    'table': 'NAHB',\n",
    "    'format': 'BULK',\n",
    "    'lang': 'en',\n",
    "    'variables': [\n",
    "        {'code': 'SOCIO', 'values': ['EMPM_DC','POP']},     # variables of interest\n",
    "        {'code': 'Tid', 'values': [f'>={FirstYear}<']}      # specified years\n",
    "        ]\n",
    "    }\n",
    "EmploymentPopuplationVar = EmploymentPopuplation.get_data(params=params).sort_values(['TID'])"
   ]
  },
  {
   "attachments": {},
   "cell_type": "markdown",
   "metadata": {},
   "source": [
    "**Capital:**"
   ]
  },
  {
   "cell_type": "code",
   "execution_count": 700,
   "metadata": {
    "execution": {
     "iopub.execute_input": "2023-05-14T18:39:10.178223Z",
     "iopub.status.busy": "2023-05-14T18:39:10.178223Z",
     "iopub.status.idle": "2023-05-14T18:39:10.423533Z",
     "shell.execute_reply": "2023-05-14T18:39:10.422536Z"
    }
   },
   "outputs": [
    {
     "name": "stdout",
     "output_type": "stream",
     "text": [
      "Table NABK10: Accumulation account and balance sheets, fixed assets (10a3-grouping) by stock / flow, assets, industry, price unit and time\n",
      "Last update: 2022-06-30T08:00:00\n"
     ]
    },
    {
     "data": {
      "text/html": [
       "<div>\n",
       "<style scoped>\n",
       "    .dataframe tbody tr th:only-of-type {\n",
       "        vertical-align: middle;\n",
       "    }\n",
       "\n",
       "    .dataframe tbody tr th {\n",
       "        vertical-align: top;\n",
       "    }\n",
       "\n",
       "    .dataframe thead th {\n",
       "        text-align: right;\n",
       "    }\n",
       "</style>\n",
       "<table border=\"1\" class=\"dataframe\">\n",
       "  <thead>\n",
       "    <tr style=\"text-align: right;\">\n",
       "      <th></th>\n",
       "      <th>variable name</th>\n",
       "      <th># values</th>\n",
       "      <th>First value</th>\n",
       "      <th>First value label</th>\n",
       "      <th>Last value</th>\n",
       "      <th>Last value label</th>\n",
       "      <th>Time variable</th>\n",
       "    </tr>\n",
       "  </thead>\n",
       "  <tbody>\n",
       "    <tr>\n",
       "      <th>0</th>\n",
       "      <td>BEHOLD</td>\n",
       "      <td>9</td>\n",
       "      <td>LSN</td>\n",
       "      <td>AN.11 Fixed assets, net capital stock, opening...</td>\n",
       "      <td>LEG</td>\n",
       "      <td>Fixed assets, gross capital stock, closing bal...</td>\n",
       "      <td>False</td>\n",
       "    </tr>\n",
       "    <tr>\n",
       "      <th>1</th>\n",
       "      <td>AKTIV</td>\n",
       "      <td>8</td>\n",
       "      <td>N11</td>\n",
       "      <td>Fixed assets</td>\n",
       "      <td>N117</td>\n",
       "      <td>Intellectual property products</td>\n",
       "      <td>False</td>\n",
       "    </tr>\n",
       "    <tr>\n",
       "      <th>2</th>\n",
       "      <td>BRANCHE</td>\n",
       "      <td>15</td>\n",
       "      <td>V</td>\n",
       "      <td>Total</td>\n",
       "      <td>VR_S</td>\n",
       "      <td>R_S Arts, entertainment and other services</td>\n",
       "      <td>False</td>\n",
       "    </tr>\n",
       "    <tr>\n",
       "      <th>3</th>\n",
       "      <td>PRISENHED</td>\n",
       "      <td>2</td>\n",
       "      <td>V</td>\n",
       "      <td>Current prices</td>\n",
       "      <td>LAN</td>\n",
       "      <td>2010-prices, chained values</td>\n",
       "      <td>False</td>\n",
       "    </tr>\n",
       "    <tr>\n",
       "      <th>4</th>\n",
       "      <td>Tid</td>\n",
       "      <td>56</td>\n",
       "      <td>1966</td>\n",
       "      <td>1966</td>\n",
       "      <td>2021</td>\n",
       "      <td>2021</td>\n",
       "      <td>True</td>\n",
       "    </tr>\n",
       "  </tbody>\n",
       "</table>\n",
       "</div>"
      ],
      "text/plain": [
       "  variable name  # values First value   \n",
       "0        BEHOLD         9         LSN  \\\n",
       "1         AKTIV         8         N11   \n",
       "2       BRANCHE        15           V   \n",
       "3     PRISENHED         2           V   \n",
       "4           Tid        56        1966   \n",
       "\n",
       "                                   First value label Last value   \n",
       "0  AN.11 Fixed assets, net capital stock, opening...        LEG  \\\n",
       "1                                       Fixed assets       N117   \n",
       "2                                              Total       VR_S   \n",
       "3                                     Current prices        LAN   \n",
       "4                                               1966       2021   \n",
       "\n",
       "                                    Last value label  Time variable  \n",
       "0  Fixed assets, gross capital stock, closing bal...          False  \n",
       "1                     Intellectual property products          False  \n",
       "2         R_S Arts, entertainment and other services          False  \n",
       "3                        2010-prices, chained values          False  \n",
       "4                                               2021           True  "
      ]
     },
     "metadata": {},
     "output_type": "display_data"
    }
   ],
   "source": [
    "display(Capital.tablesummary(language='en'))\n",
    "# display(Capital.variable_levels('BEHOLD', language='en'))\n",
    "# display(Capital.variable_levels('AKTIV', language='en'))"
   ]
  },
  {
   "cell_type": "code",
   "execution_count": 701,
   "metadata": {},
   "outputs": [],
   "source": [
    "params = {\n",
    "    'table': 'NABK10',\n",
    "    'format': 'BULK',\n",
    "    'lang': 'en',\n",
    "    'variables': [\n",
    "        {'code': 'BEHOLD', 'values': ['LSG']},          # gross capital => before depreciation\n",
    "        {'code': 'AKTIV', 'values': ['N11']},           # fixed assets\n",
    "        {'code': 'BRANCHE', 'values': ['V']},           # total level\n",
    "        {'code': 'PRISENHED', 'values': ['V']},         # current prices\n",
    "        {'code': 'Tid', 'values': [f'>={FirstYear}<']}  # specified years    \n",
    "        ]\n",
    "    }\n",
    "CapitalVar = Capital.get_data(params=params).sort_values(['TID'])"
   ]
  },
  {
   "attachments": {},
   "cell_type": "markdown",
   "metadata": {},
   "source": [
    "**Create dataframe:**"
   ]
  },
  {
   "cell_type": "code",
   "execution_count": 702,
   "metadata": {},
   "outputs": [
    {
     "data": {
      "text/html": [
       "<div>\n",
       "<style scoped>\n",
       "    .dataframe tbody tr th:only-of-type {\n",
       "        vertical-align: middle;\n",
       "    }\n",
       "\n",
       "    .dataframe tbody tr th {\n",
       "        vertical-align: top;\n",
       "    }\n",
       "\n",
       "    .dataframe thead th {\n",
       "        text-align: right;\n",
       "    }\n",
       "</style>\n",
       "<table border=\"1\" class=\"dataframe\">\n",
       "  <thead>\n",
       "    <tr style=\"text-align: right;\">\n",
       "      <th></th>\n",
       "      <th>K</th>\n",
       "      <th>L_ratio</th>\n",
       "    </tr>\n",
       "    <tr>\n",
       "      <th>TID</th>\n",
       "      <th></th>\n",
       "      <th></th>\n",
       "    </tr>\n",
       "  </thead>\n",
       "  <tbody>\n",
       "    <tr>\n",
       "      <th>2000</th>\n",
       "      <td>6944124</td>\n",
       "      <td>0.516091</td>\n",
       "    </tr>\n",
       "    <tr>\n",
       "      <th>2001</th>\n",
       "      <td>7204553</td>\n",
       "      <td>0.519381</td>\n",
       "    </tr>\n",
       "    <tr>\n",
       "      <th>2002</th>\n",
       "      <td>7612999</td>\n",
       "      <td>0.517935</td>\n",
       "    </tr>\n",
       "    <tr>\n",
       "      <th>2003</th>\n",
       "      <td>7844201</td>\n",
       "      <td>0.511855</td>\n",
       "    </tr>\n",
       "    <tr>\n",
       "      <th>2004</th>\n",
       "      <td>8133481</td>\n",
       "      <td>0.507891</td>\n",
       "    </tr>\n",
       "  </tbody>\n",
       "</table>\n",
       "</div>"
      ],
      "text/plain": [
       "            K   L_ratio\n",
       "TID                    \n",
       "2000  6944124  0.516091\n",
       "2001  7204553  0.519381\n",
       "2002  7612999  0.517935\n",
       "2003  7844201  0.511855\n",
       "2004  8133481  0.507891"
      ]
     },
     "metadata": {},
     "output_type": "display_data"
    }
   ],
   "source": [
    "# a. employment and population\n",
    "L = EmploymentPopuplationVar[['TID','INDHOLD']].loc[EmploymentPopuplationVar['SOCIO'] == 'Employment (number)'].copy().set_index(['TID']).apply(pd.to_numeric)\n",
    "N = EmploymentPopuplationVar[['TID','INDHOLD']].loc[EmploymentPopuplationVar['SOCIO'] == 'Population'].copy().set_index(['TID']).apply(pd.to_numeric)\n",
    "\n",
    "# b. capital and employment ratio\n",
    "CapitalEmploymentPopuplationDF = pd.DataFrame()\n",
    "CapitalEmploymentPopuplationDF['K'] = CapitalVar[['TID','INDHOLD']].copy().set_index(['TID']).apply(pd.to_numeric)\n",
    "CapitalEmploymentPopuplationDF['L_ratio'] = L/N \n",
    "\n",
    "display(CapitalEmploymentPopuplationDF.head())"
   ]
  },
  {
   "attachments": {},
   "cell_type": "markdown",
   "metadata": {},
   "source": [
    "## 4. <a id='toc4_'></a>[Unemployment rate](#toc0_)"
   ]
  },
  {
   "cell_type": "code",
   "execution_count": 703,
   "metadata": {
    "execution": {
     "iopub.execute_input": "2023-05-14T18:39:10.613885Z",
     "iopub.status.busy": "2023-05-14T18:39:10.613885Z",
     "iopub.status.idle": "2023-05-14T18:39:10.912122Z",
     "shell.execute_reply": "2023-05-14T18:39:10.912122Z"
    }
   },
   "outputs": [],
   "source": [
    "params = {\n",
    "    'table': 'AULAAR',\n",
    "    'format': 'BULK',\n",
    "    'lang': 'en',\n",
    "    'variables': [\n",
    "        {'code': 'KØN', 'values': ['TOT']},                # men and women in total\n",
    "        {'code': 'PERPCT', 'values': ['L10']},             # percent of the labour force \n",
    "        {'code': 'Tid', 'values':[f'>={FirstYear}<']}      # specified years\n",
    "        ]\n",
    "    }\n",
    "UnemploymentVar = Unemployment.get_data(params=params).set_index(['TID']).sort_values(['TID'])"
   ]
  },
  {
   "cell_type": "code",
   "execution_count": 704,
   "metadata": {
    "execution": {
     "iopub.execute_input": "2023-05-14T18:39:10.912122Z",
     "iopub.status.busy": "2023-05-14T18:39:10.912122Z",
     "iopub.status.idle": "2023-05-14T18:39:10.928868Z",
     "shell.execute_reply": "2023-05-14T18:39:10.928176Z"
    }
   },
   "outputs": [
    {
     "data": {
      "text/html": [
       "<div>\n",
       "<style scoped>\n",
       "    .dataframe tbody tr th:only-of-type {\n",
       "        vertical-align: middle;\n",
       "    }\n",
       "\n",
       "    .dataframe tbody tr th {\n",
       "        vertical-align: top;\n",
       "    }\n",
       "\n",
       "    .dataframe thead th {\n",
       "        text-align: right;\n",
       "    }\n",
       "</style>\n",
       "<table border=\"1\" class=\"dataframe\">\n",
       "  <thead>\n",
       "    <tr style=\"text-align: right;\">\n",
       "      <th></th>\n",
       "      <th>U</th>\n",
       "    </tr>\n",
       "    <tr>\n",
       "      <th>TID</th>\n",
       "      <th></th>\n",
       "    </tr>\n",
       "  </thead>\n",
       "  <tbody>\n",
       "    <tr>\n",
       "      <th>2000</th>\n",
       "      <td>4.9</td>\n",
       "    </tr>\n",
       "    <tr>\n",
       "      <th>2001</th>\n",
       "      <td>4.7</td>\n",
       "    </tr>\n",
       "    <tr>\n",
       "      <th>2002</th>\n",
       "      <td>4.8</td>\n",
       "    </tr>\n",
       "    <tr>\n",
       "      <th>2003</th>\n",
       "      <td>5.8</td>\n",
       "    </tr>\n",
       "    <tr>\n",
       "      <th>2004</th>\n",
       "      <td>5.8</td>\n",
       "    </tr>\n",
       "  </tbody>\n",
       "</table>\n",
       "</div>"
      ],
      "text/plain": [
       "        U\n",
       "TID      \n",
       "2000  4.9\n",
       "2001  4.7\n",
       "2002  4.8\n",
       "2003  5.8\n",
       "2004  5.8"
      ]
     },
     "metadata": {},
     "output_type": "display_data"
    }
   ],
   "source": [
    "UnemploymentDF = pd.DataFrame()\n",
    "UnemploymentDF['U'] = UnemploymentVar[['INDHOLD']].loc[UnemploymentVar['PERPCT'] == 'Per cent of the labour force'].copy()\n",
    "UnemploymentDF = UnemploymentDF.apply(pd.to_numeric)\n",
    "\n",
    "display(UnemploymentDF.head())"
   ]
  },
  {
   "attachments": {},
   "cell_type": "markdown",
   "metadata": {},
   "source": [
    "## 5. <a id='toc5_'></a>[Steady state - aggregate](#toc0_)"
   ]
  },
  {
   "cell_type": "code",
   "execution_count": 705,
   "metadata": {
    "execution": {
     "iopub.execute_input": "2023-05-14T18:39:10.932856Z",
     "iopub.status.busy": "2023-05-14T18:39:10.932856Z",
     "iopub.status.idle": "2023-05-14T18:39:10.944399Z",
     "shell.execute_reply": "2023-05-14T18:39:10.943373Z"
    }
   },
   "outputs": [],
   "source": [
    "frames = [SupplyBalanceDF, CapitalEmploymentPopuplationDF, UnemploymentDF]"
   ]
  },
  {
   "cell_type": "code",
   "execution_count": 706,
   "metadata": {
    "execution": {
     "iopub.execute_input": "2023-05-14T18:39:10.946430Z",
     "iopub.status.busy": "2023-05-14T18:39:10.946430Z",
     "iopub.status.idle": "2023-05-14T18:39:10.965413Z",
     "shell.execute_reply": "2023-05-14T18:39:10.965413Z"
    }
   },
   "outputs": [
    {
     "data": {
      "text/html": [
       "<div>\n",
       "<style scoped>\n",
       "    .dataframe tbody tr th:only-of-type {\n",
       "        vertical-align: middle;\n",
       "    }\n",
       "\n",
       "    .dataframe tbody tr th {\n",
       "        vertical-align: top;\n",
       "    }\n",
       "\n",
       "    .dataframe thead th {\n",
       "        text-align: right;\n",
       "    }\n",
       "</style>\n",
       "<table border=\"1\" class=\"dataframe\">\n",
       "  <thead>\n",
       "    <tr style=\"text-align: right;\">\n",
       "      <th></th>\n",
       "      <th>M_ratio</th>\n",
       "      <th>X_ratio</th>\n",
       "      <th>C_ratio</th>\n",
       "      <th>G_ratio</th>\n",
       "      <th>I_ratio</th>\n",
       "      <th>K</th>\n",
       "      <th>L_ratio</th>\n",
       "      <th>U</th>\n",
       "    </tr>\n",
       "    <tr>\n",
       "      <th>TID</th>\n",
       "      <th></th>\n",
       "      <th></th>\n",
       "      <th></th>\n",
       "      <th></th>\n",
       "      <th></th>\n",
       "      <th></th>\n",
       "      <th></th>\n",
       "      <th></th>\n",
       "    </tr>\n",
       "  </thead>\n",
       "  <tbody>\n",
       "    <tr>\n",
       "      <th>2000</th>\n",
       "      <td>0.381792</td>\n",
       "      <td>0.448866</td>\n",
       "      <td>0.470646</td>\n",
       "      <td>0.238752</td>\n",
       "      <td>0.223529</td>\n",
       "      <td>6944124.0</td>\n",
       "      <td>0.516091</td>\n",
       "      <td>4.9</td>\n",
       "    </tr>\n",
       "    <tr>\n",
       "      <th>2001</th>\n",
       "      <td>0.384542</td>\n",
       "      <td>0.455997</td>\n",
       "      <td>0.467080</td>\n",
       "      <td>0.243237</td>\n",
       "      <td>0.218228</td>\n",
       "      <td>7204553.0</td>\n",
       "      <td>0.519381</td>\n",
       "      <td>4.7</td>\n",
       "    </tr>\n",
       "    <tr>\n",
       "      <th>2002</th>\n",
       "      <td>0.388924</td>\n",
       "      <td>0.457420</td>\n",
       "      <td>0.469333</td>\n",
       "      <td>0.248670</td>\n",
       "      <td>0.213430</td>\n",
       "      <td>7612999.0</td>\n",
       "      <td>0.517935</td>\n",
       "      <td>4.8</td>\n",
       "    </tr>\n",
       "    <tr>\n",
       "      <th>2003</th>\n",
       "      <td>0.370824</td>\n",
       "      <td>0.438753</td>\n",
       "      <td>0.472439</td>\n",
       "      <td>0.250348</td>\n",
       "      <td>0.209215</td>\n",
       "      <td>7844201.0</td>\n",
       "      <td>0.511855</td>\n",
       "      <td>5.8</td>\n",
       "    </tr>\n",
       "    <tr>\n",
       "      <th>2004</th>\n",
       "      <td>0.383134</td>\n",
       "      <td>0.439641</td>\n",
       "      <td>0.477224</td>\n",
       "      <td>0.249336</td>\n",
       "      <td>0.216932</td>\n",
       "      <td>8133481.0</td>\n",
       "      <td>0.507891</td>\n",
       "      <td>5.8</td>\n",
       "    </tr>\n",
       "  </tbody>\n",
       "</table>\n",
       "</div>"
      ],
      "text/plain": [
       "       M_ratio   X_ratio   C_ratio   G_ratio   I_ratio          K   L_ratio   \n",
       "TID                                                                           \n",
       "2000  0.381792  0.448866  0.470646  0.238752  0.223529  6944124.0  0.516091  \\\n",
       "2001  0.384542  0.455997  0.467080  0.243237  0.218228  7204553.0  0.519381   \n",
       "2002  0.388924  0.457420  0.469333  0.248670  0.213430  7612999.0  0.517935   \n",
       "2003  0.370824  0.438753  0.472439  0.250348  0.209215  7844201.0  0.511855   \n",
       "2004  0.383134  0.439641  0.477224  0.249336  0.216932  8133481.0  0.507891   \n",
       "\n",
       "        U  \n",
       "TID        \n",
       "2000  4.9  \n",
       "2001  4.7  \n",
       "2002  4.8  \n",
       "2003  5.8  \n",
       "2004  5.8  "
      ]
     },
     "metadata": {},
     "output_type": "display_data"
    }
   ],
   "source": [
    "all_variables =  pd.concat(frames, axis=1)\n",
    "display(all_variables.head())"
   ]
  },
  {
   "attachments": {},
   "cell_type": "markdown",
   "metadata": {},
   "source": [
    "### 5.1. <a id='toc5_1_'></a>[Save to disc](#toc0_)"
   ]
  },
  {
   "cell_type": "code",
   "execution_count": 707,
   "metadata": {
    "execution": {
     "iopub.execute_input": "2023-05-14T18:39:10.965413Z",
     "iopub.status.busy": "2023-05-14T18:39:10.965413Z",
     "iopub.status.idle": "2023-05-14T18:39:10.980739Z",
     "shell.execute_reply": "2023-05-14T18:39:10.980739Z"
    }
   },
   "outputs": [
    {
     "name": "stdout",
     "output_type": "stream",
     "text": [
      "M_ratio: 0.46\n",
      "X_ratio: 0.52\n",
      "C_ratio: 0.47\n",
      "G_ratio: 0.25\n",
      "I_ratio: 0.22\n",
      "K: 10133800.59\n",
      "L_ratio: 0.51\n",
      "U: 3.93\n"
     ]
    }
   ],
   "source": [
    "# a. aggregate steady state values\n",
    "ss_aggregate = {}\n",
    "means = all_variables.mean()\n",
    "for i,mean in enumerate(means):\n",
    "    print(f'{means.index[i]}: {mean:.2f}')\n",
    "    ss_aggregate[str(means.index[i])] = mean\n",
    "\n",
    "# b. save to dsic\n",
    "with open('data/ss_aggregate.pickle', 'wb') as fp:\n",
    "    pickle.dump(ss_aggregate, fp)"
   ]
  },
  {
   "attachments": {},
   "cell_type": "markdown",
   "metadata": {},
   "source": [
    "## 6. <a id='toc6_'></a>[Income and wealth over life-cycle](#toc0_)"
   ]
  },
  {
   "attachments": {},
   "cell_type": "markdown",
   "metadata": {},
   "source": [
    "**Income:**"
   ]
  },
  {
   "cell_type": "code",
   "execution_count": 708,
   "metadata": {
    "execution": {
     "iopub.execute_input": "2023-05-14T18:39:10.984189Z",
     "iopub.status.busy": "2023-05-14T18:39:10.984189Z",
     "iopub.status.idle": "2023-05-14T18:39:11.398148Z",
     "shell.execute_reply": "2023-05-14T18:39:11.397146Z"
    }
   },
   "outputs": [
    {
     "name": "stdout",
     "output_type": "stream",
     "text": [
      "Table INDKP201: Main table for personal income statistics by type of income, sex, age, population, price unit, unit and time\n",
      "Last update: 2022-11-24T08:00:00\n"
     ]
    },
    {
     "data": {
      "text/html": [
       "<div>\n",
       "<style scoped>\n",
       "    .dataframe tbody tr th:only-of-type {\n",
       "        vertical-align: middle;\n",
       "    }\n",
       "\n",
       "    .dataframe tbody tr th {\n",
       "        vertical-align: top;\n",
       "    }\n",
       "\n",
       "    .dataframe thead th {\n",
       "        text-align: right;\n",
       "    }\n",
       "</style>\n",
       "<table border=\"1\" class=\"dataframe\">\n",
       "  <thead>\n",
       "    <tr style=\"text-align: right;\">\n",
       "      <th></th>\n",
       "      <th>variable name</th>\n",
       "      <th># values</th>\n",
       "      <th>First value</th>\n",
       "      <th>First value label</th>\n",
       "      <th>Last value</th>\n",
       "      <th>Last value label</th>\n",
       "      <th>Time variable</th>\n",
       "    </tr>\n",
       "  </thead>\n",
       "  <tbody>\n",
       "    <tr>\n",
       "      <th>0</th>\n",
       "      <td>INDKOMSTTYPE</td>\n",
       "      <td>39</td>\n",
       "      <td>100</td>\n",
       "      <td>1 Disposable income (2+30-31-32-35)</td>\n",
       "      <td>290</td>\n",
       "      <td>Taxable income</td>\n",
       "      <td>False</td>\n",
       "    </tr>\n",
       "    <tr>\n",
       "      <th>1</th>\n",
       "      <td>KOEN</td>\n",
       "      <td>3</td>\n",
       "      <td>MOK</td>\n",
       "      <td>Men and women, total</td>\n",
       "      <td>K</td>\n",
       "      <td>Women</td>\n",
       "      <td>False</td>\n",
       "    </tr>\n",
       "    <tr>\n",
       "      <th>2</th>\n",
       "      <td>ALDER</td>\n",
       "      <td>15</td>\n",
       "      <td>14TOT</td>\n",
       "      <td>Total, 15 years and over</td>\n",
       "      <td>80-00</td>\n",
       "      <td>80 years and over</td>\n",
       "      <td>False</td>\n",
       "    </tr>\n",
       "    <tr>\n",
       "      <th>3</th>\n",
       "      <td>POPU</td>\n",
       "      <td>2</td>\n",
       "      <td>5000</td>\n",
       "      <td>All regardless of having the type of income</td>\n",
       "      <td>5020</td>\n",
       "      <td>Only people with the type of income</td>\n",
       "      <td>False</td>\n",
       "    </tr>\n",
       "    <tr>\n",
       "      <th>4</th>\n",
       "      <td>PRISENHED</td>\n",
       "      <td>2</td>\n",
       "      <td>005</td>\n",
       "      <td>Constant prices</td>\n",
       "      <td>006</td>\n",
       "      <td>Nominal prices</td>\n",
       "      <td>False</td>\n",
       "    </tr>\n",
       "    <tr>\n",
       "      <th>5</th>\n",
       "      <td>ENHED</td>\n",
       "      <td>5</td>\n",
       "      <td>0050</td>\n",
       "      <td>Mean (DKK)</td>\n",
       "      <td>105</td>\n",
       "      <td>People (Number)</td>\n",
       "      <td>False</td>\n",
       "    </tr>\n",
       "    <tr>\n",
       "      <th>6</th>\n",
       "      <td>Tid</td>\n",
       "      <td>26</td>\n",
       "      <td>1996</td>\n",
       "      <td>1996</td>\n",
       "      <td>2021</td>\n",
       "      <td>2021</td>\n",
       "      <td>True</td>\n",
       "    </tr>\n",
       "  </tbody>\n",
       "</table>\n",
       "</div>"
      ],
      "text/plain": [
       "  variable name  # values First value   \n",
       "0  INDKOMSTTYPE        39         100  \\\n",
       "1          KOEN         3         MOK   \n",
       "2         ALDER        15       14TOT   \n",
       "3          POPU         2        5000   \n",
       "4     PRISENHED         2         005   \n",
       "5         ENHED         5        0050   \n",
       "6           Tid        26        1996   \n",
       "\n",
       "                             First value label Last value   \n",
       "0          1 Disposable income (2+30-31-32-35)        290  \\\n",
       "1                         Men and women, total          K   \n",
       "2                     Total, 15 years and over      80-00   \n",
       "3  All regardless of having the type of income       5020   \n",
       "4                              Constant prices        006   \n",
       "5                                   Mean (DKK)        105   \n",
       "6                                         1996       2021   \n",
       "\n",
       "                      Last value label  Time variable  \n",
       "0                       Taxable income          False  \n",
       "1                                Women          False  \n",
       "2                    80 years and over          False  \n",
       "3  Only people with the type of income          False  \n",
       "4                       Nominal prices          False  \n",
       "5                      People (Number)          False  \n",
       "6                                 2021           True  "
      ]
     },
     "execution_count": 708,
     "metadata": {},
     "output_type": "execute_result"
    }
   ],
   "source": [
    "Income.tablesummary(language='en')"
   ]
  },
  {
   "attachments": {},
   "cell_type": "markdown",
   "metadata": {},
   "source": [
    "**Income in fixed prices (for income profile):**"
   ]
  },
  {
   "cell_type": "code",
   "execution_count": 709,
   "metadata": {
    "execution": {
     "iopub.execute_input": "2023-05-14T18:39:11.399854Z",
     "iopub.status.busy": "2023-05-14T18:39:11.399854Z",
     "iopub.status.idle": "2023-05-14T18:39:11.730690Z",
     "shell.execute_reply": "2023-05-14T18:39:11.729743Z"
    }
   },
   "outputs": [],
   "source": [
    "params = {\n",
    "    'table': 'INDKP201',\n",
    "    'format': 'BULK',\n",
    "    'lang': 'en',\n",
    "    'variables': [\n",
    "        {'code': 'INDKOMSTTYPE', 'values': ['100']},                        # disposable income (pre-tax income is 105) \n",
    "        {'code': 'KOEN', 'values': ['MOK']},                                # men and women in total\n",
    "        {'code': 'ALDER', 'values': ['*']},\t                                # all ages\n",
    "        {'code': 'POPU', 'values': ['5000']},\t                            # all regardless of having the type of income\n",
    "        {'code': 'PRISENHED', 'values': ['005']},                           # fixed prices\n",
    "        {'code': 'ENHED', 'values': ['0050']},                              # average DKK\n",
    "        {'code': 'Tid', 'values':[f'>={FirstYear}<']}\n",
    "        ]\n",
    "    }\n",
    "DisposableIncomeVar = Income.get_data(params=params).sort_values(['TID'])"
   ]
  },
  {
   "attachments": {},
   "cell_type": "markdown",
   "metadata": {},
   "source": [
    "**Income in nominal prices (for wealth-income ratio):**"
   ]
  },
  {
   "cell_type": "code",
   "execution_count": 710,
   "metadata": {},
   "outputs": [],
   "source": [
    "params = {\n",
    "    'table': 'INDKP201',\n",
    "    'format': 'BULK',\n",
    "    'lang': 'en',\n",
    "    'variables': [\n",
    "        {'code': 'INDKOMSTTYPE', 'values': ['100']},                        # disposable income (pre-tax income is 105) \n",
    "        {'code': 'KOEN', 'values': ['MOK']},                                # men and women in total\n",
    "        {'code': 'ALDER', 'values': ['*']},\t                                # all ages\n",
    "        {'code': 'POPU', 'values': ['5000']},\t                            # all regardless of having the type of income\n",
    "        {'code': 'PRISENHED', 'values': ['006']},                           # current prices\n",
    "        {'code': 'ENHED', 'values': ['0050']},                              # average DKK\n",
    "        {'code': 'Tid', 'values':[f'>={FirstYear}<']}\n",
    "        ]\n",
    "    }\n",
    "DisposableIncomeVar_cprice = Income.get_data(params=params).sort_values(['TID']) # cprice = current prices"
   ]
  },
  {
   "attachments": {},
   "cell_type": "markdown",
   "metadata": {},
   "source": [
    "**Wealth:**"
   ]
  },
  {
   "cell_type": "code",
   "execution_count": 711,
   "metadata": {
    "execution": {
     "iopub.execute_input": "2023-05-14T18:39:11.733686Z",
     "iopub.status.busy": "2023-05-14T18:39:11.733686Z",
     "iopub.status.idle": "2023-05-14T18:39:12.110859Z",
     "shell.execute_reply": "2023-05-14T18:39:12.109951Z"
    }
   },
   "outputs": [
    {
     "name": "stdout",
     "output_type": "stream",
     "text": [
      "Table FORMUE11: Wealth by type of wealth, unit, age, sex, population and time\n",
      "Last update: 2022-12-20T08:00:00\n"
     ]
    },
    {
     "data": {
      "text/html": [
       "<div>\n",
       "<style scoped>\n",
       "    .dataframe tbody tr th:only-of-type {\n",
       "        vertical-align: middle;\n",
       "    }\n",
       "\n",
       "    .dataframe tbody tr th {\n",
       "        vertical-align: top;\n",
       "    }\n",
       "\n",
       "    .dataframe thead th {\n",
       "        text-align: right;\n",
       "    }\n",
       "</style>\n",
       "<table border=\"1\" class=\"dataframe\">\n",
       "  <thead>\n",
       "    <tr style=\"text-align: right;\">\n",
       "      <th></th>\n",
       "      <th>variable name</th>\n",
       "      <th># values</th>\n",
       "      <th>First value</th>\n",
       "      <th>First value label</th>\n",
       "      <th>Last value</th>\n",
       "      <th>Last value label</th>\n",
       "      <th>Time variable</th>\n",
       "    </tr>\n",
       "  </thead>\n",
       "  <tbody>\n",
       "    <tr>\n",
       "      <th>0</th>\n",
       "      <td>FORM1</td>\n",
       "      <td>46</td>\n",
       "      <td>FGNF2020</td>\n",
       "      <td>Net Wealth, (2020-definition A+B+CX-D-E-F)</td>\n",
       "      <td>FGF4</td>\n",
       "      <td>F.4. Other debt to the public sector</td>\n",
       "      <td>False</td>\n",
       "    </tr>\n",
       "    <tr>\n",
       "      <th>1</th>\n",
       "      <td>ENHED</td>\n",
       "      <td>9</td>\n",
       "      <td>200</td>\n",
       "      <td>Median (Constant prices 2021-level)</td>\n",
       "      <td>240</td>\n",
       "      <td>Number of people in population 31.12</td>\n",
       "      <td>False</td>\n",
       "    </tr>\n",
       "    <tr>\n",
       "      <th>2</th>\n",
       "      <td>ALDER</td>\n",
       "      <td>16</td>\n",
       "      <td>1802</td>\n",
       "      <td>18 years and over</td>\n",
       "      <td>9099</td>\n",
       "      <td>90 years and over</td>\n",
       "      <td>False</td>\n",
       "    </tr>\n",
       "    <tr>\n",
       "      <th>3</th>\n",
       "      <td>KØN</td>\n",
       "      <td>3</td>\n",
       "      <td>MOK</td>\n",
       "      <td>Men and women, total</td>\n",
       "      <td>K</td>\n",
       "      <td>Women</td>\n",
       "      <td>False</td>\n",
       "    </tr>\n",
       "    <tr>\n",
       "      <th>4</th>\n",
       "      <td>POPU</td>\n",
       "      <td>2</td>\n",
       "      <td>5005</td>\n",
       "      <td>Entire population</td>\n",
       "      <td>5025</td>\n",
       "      <td>Only people with the selected type of wealth</td>\n",
       "      <td>False</td>\n",
       "    </tr>\n",
       "    <tr>\n",
       "      <th>5</th>\n",
       "      <td>Tid</td>\n",
       "      <td>8</td>\n",
       "      <td>2014</td>\n",
       "      <td>2014</td>\n",
       "      <td>2021</td>\n",
       "      <td>2021</td>\n",
       "      <td>True</td>\n",
       "    </tr>\n",
       "  </tbody>\n",
       "</table>\n",
       "</div>"
      ],
      "text/plain": [
       "  variable name  # values First value   \n",
       "0         FORM1        46    FGNF2020  \\\n",
       "1         ENHED         9         200   \n",
       "2         ALDER        16        1802   \n",
       "3           KØN         3         MOK   \n",
       "4          POPU         2        5005   \n",
       "5           Tid         8        2014   \n",
       "\n",
       "                            First value label Last value   \n",
       "0  Net Wealth, (2020-definition A+B+CX-D-E-F)       FGF4  \\\n",
       "1         Median (Constant prices 2021-level)        240   \n",
       "2                           18 years and over       9099   \n",
       "3                        Men and women, total          K   \n",
       "4                           Entire population       5025   \n",
       "5                                        2014       2021   \n",
       "\n",
       "                               Last value label  Time variable  \n",
       "0          F.4. Other debt to the public sector          False  \n",
       "1          Number of people in population 31.12          False  \n",
       "2                             90 years and over          False  \n",
       "3                                         Women          False  \n",
       "4  Only people with the selected type of wealth          False  \n",
       "5                                          2021           True  "
      ]
     },
     "execution_count": 711,
     "metadata": {},
     "output_type": "execute_result"
    }
   ],
   "source": [
    "Wealth.tablesummary(language='en')"
   ]
  },
  {
   "cell_type": "code",
   "execution_count": 712,
   "metadata": {},
   "outputs": [
    {
     "data": {
      "text/html": [
       "<div>\n",
       "<style scoped>\n",
       "    .dataframe tbody tr th:only-of-type {\n",
       "        vertical-align: middle;\n",
       "    }\n",
       "\n",
       "    .dataframe tbody tr th {\n",
       "        vertical-align: top;\n",
       "    }\n",
       "\n",
       "    .dataframe thead th {\n",
       "        text-align: right;\n",
       "    }\n",
       "</style>\n",
       "<table border=\"1\" class=\"dataframe\">\n",
       "  <thead>\n",
       "    <tr style=\"text-align: right;\">\n",
       "      <th></th>\n",
       "      <th>id</th>\n",
       "      <th>text</th>\n",
       "    </tr>\n",
       "  </thead>\n",
       "  <tbody>\n",
       "    <tr>\n",
       "      <th>0</th>\n",
       "      <td>200</td>\n",
       "      <td>Median (Constant prices 2021-level)</td>\n",
       "    </tr>\n",
       "    <tr>\n",
       "      <th>1</th>\n",
       "      <td>205</td>\n",
       "      <td>Lower quartile (Constant prices 2021-leel)</td>\n",
       "    </tr>\n",
       "    <tr>\n",
       "      <th>2</th>\n",
       "      <td>210</td>\n",
       "      <td>Upper quartile (Constant prices 2021-level)</td>\n",
       "    </tr>\n",
       "    <tr>\n",
       "      <th>3</th>\n",
       "      <td>215</td>\n",
       "      <td>Average (Constant prices 2021-level)</td>\n",
       "    </tr>\n",
       "    <tr>\n",
       "      <th>4</th>\n",
       "      <td>220</td>\n",
       "      <td>Median (Nominal prices)</td>\n",
       "    </tr>\n",
       "    <tr>\n",
       "      <th>5</th>\n",
       "      <td>225</td>\n",
       "      <td>Lower quartile (Nominal prices)</td>\n",
       "    </tr>\n",
       "    <tr>\n",
       "      <th>6</th>\n",
       "      <td>230</td>\n",
       "      <td>Upper quartile (Nominal prices)</td>\n",
       "    </tr>\n",
       "    <tr>\n",
       "      <th>7</th>\n",
       "      <td>235</td>\n",
       "      <td>Average (Nominal prices)</td>\n",
       "    </tr>\n",
       "    <tr>\n",
       "      <th>8</th>\n",
       "      <td>240</td>\n",
       "      <td>Number of people in population 31.12</td>\n",
       "    </tr>\n",
       "  </tbody>\n",
       "</table>\n",
       "</div>"
      ],
      "text/plain": [
       "    id                                         text\n",
       "0  200          Median (Constant prices 2021-level)\n",
       "1  205   Lower quartile (Constant prices 2021-leel)\n",
       "2  210  Upper quartile (Constant prices 2021-level)\n",
       "3  215         Average (Constant prices 2021-level)\n",
       "4  220                      Median (Nominal prices)\n",
       "5  225              Lower quartile (Nominal prices)\n",
       "6  230              Upper quartile (Nominal prices)\n",
       "7  235                     Average (Nominal prices)\n",
       "8  240         Number of people in population 31.12"
      ]
     },
     "metadata": {},
     "output_type": "display_data"
    }
   ],
   "source": [
    "display(Wealth.variable_levels('ENHED', language='en'))"
   ]
  },
  {
   "cell_type": "code",
   "execution_count": 713,
   "metadata": {
    "execution": {
     "iopub.execute_input": "2023-05-14T18:39:12.113854Z",
     "iopub.status.busy": "2023-05-14T18:39:12.112890Z",
     "iopub.status.idle": "2023-05-14T18:39:12.407066Z",
     "shell.execute_reply": "2023-05-14T18:39:12.406013Z"
    }
   },
   "outputs": [],
   "source": [
    "params = {\n",
    "    'table': 'FORMUE11',\n",
    "    'format': 'BULK',\n",
    "    'lang': 'en',\n",
    "    'variables': [\n",
    "        {'code': 'FORM1', 'values': ['FGNF2014']},              # net wealth (2014 definition)\n",
    "        {'code': 'ENHED', 'values': ['235']},                   # current prices\n",
    "        {'code': 'ALDER', 'values': ['*']},\t                    # all ages\n",
    "        {'code': 'KØN', 'values': ['MOK']},                     # men and women\n",
    "        {'code': 'POPU', 'values': ['5005']},\t                # entire population\t\n",
    "        {'code': 'Tid', 'values':[f'>=2014<']}                  # first year for the data set is 2014\n",
    "        ]\n",
    "    }\n",
    "WealthVar = Wealth.get_data(params=params).sort_values(['TID'])"
   ]
  },
  {
   "attachments": {},
   "cell_type": "markdown",
   "metadata": {},
   "source": [
    "**Create dataframes:**"
   ]
  },
  {
   "cell_type": "code",
   "execution_count": 714,
   "metadata": {
    "execution": {
     "iopub.execute_input": "2023-05-14T18:39:12.411004Z",
     "iopub.status.busy": "2023-05-14T18:39:12.410039Z",
     "iopub.status.idle": "2023-05-14T18:39:12.454194Z",
     "shell.execute_reply": "2023-05-14T18:39:12.453197Z"
    }
   },
   "outputs": [],
   "source": [
    "# a. income data - current prices\n",
    "IncomeDF_cprice = pd.crosstab(index=[DisposableIncomeVar_cprice['TID']],\n",
    "                              values = DisposableIncomeVar_cprice['INDHOLD'], \n",
    "                              aggfunc = sum, columns = str('DisInc: ') + DisposableIncomeVar_cprice['ALDER'])  # convert unique ages as columns for income\n",
    "\n",
    "# b. income data - fixed prices\n",
    "IncomeDF = pd.crosstab(index=[DisposableIncomeVar['TID']],\n",
    "                       values = DisposableIncomeVar['INDHOLD'], \n",
    "                       aggfunc = sum, columns = str('DisInc: ') + DisposableIncomeVar['ALDER'])  # convert unique ages as columns for income\n",
    "\n",
    "# c. wealth data - current prices\n",
    "WealthDF = pd.crosstab(index=[WealthVar['TID']],\n",
    "                       values = WealthVar['INDHOLD'], \n",
    "                       aggfunc = sum, columns = str('Wealth: ') + WealthVar['ALDER']) # convert unique ages as columns for wealth\n",
    "\n",
    "IncomeWealthDF =  pd.concat([IncomeDF,WealthDF], axis=1)                # concatenate dataframes - fixed prices\n",
    "IncomeWealthDF_cprice =  pd.concat([IncomeDF_cprice,WealthDF], axis=1)  # concatenate dataframes - current prices"
   ]
  },
  {
   "attachments": {},
   "cell_type": "markdown",
   "metadata": {},
   "source": [
    "## 7. <a id='toc7_'></a>[Life-cyle profile of income](#toc0_)"
   ]
  },
  {
   "attachments": {},
   "cell_type": "markdown",
   "metadata": {},
   "source": [
    "**Set up data for regression:**"
   ]
  },
  {
   "cell_type": "code",
   "execution_count": 715,
   "metadata": {
    "execution": {
     "iopub.execute_input": "2023-05-14T18:39:12.457188Z",
     "iopub.status.busy": "2023-05-14T18:39:12.457188Z",
     "iopub.status.idle": "2023-05-14T18:39:12.469201Z",
     "shell.execute_reply": "2023-05-14T18:39:12.469201Z"
    }
   },
   "outputs": [],
   "source": [
    "# a. log income for regression\n",
    "log_IncomeDF = np.log(IncomeDF)\n",
    "\n",
    "# b. drop total income column\n",
    "log_IncomeDF.drop('DisInc: Total, 15 years and over', axis=1, inplace=True)\n",
    "\n",
    "# c. rename columns\n",
    "col_dict = {f'DisInc: {i}-{i+4} years' : f'age{i}-{i+4}' for i in range(15,75+1,5)}\n",
    "log_IncomeDF = log_IncomeDF.rename(columns = {'DisInc: 80 years and over':'age80>='})\n",
    "log_IncomeDF.rename(columns = col_dict, inplace=True)"
   ]
  },
  {
   "attachments": {},
   "cell_type": "markdown",
   "metadata": {},
   "source": [
    "**Long format:**"
   ]
  },
  {
   "cell_type": "code",
   "execution_count": 716,
   "metadata": {
    "execution": {
     "iopub.execute_input": "2023-05-14T18:39:12.472193Z",
     "iopub.status.busy": "2023-05-14T18:39:12.472193Z",
     "iopub.status.idle": "2023-05-14T18:39:12.485972Z",
     "shell.execute_reply": "2023-05-14T18:39:12.485014Z"
    }
   },
   "outputs": [],
   "source": [
    "log_IncomeDF = log_IncomeDF.reset_index()\n",
    "long_df = pd.melt(log_IncomeDF, id_vars=\"TID\", var_name=\"age_group\", value_name=\"log_income\")"
   ]
  },
  {
   "attachments": {},
   "cell_type": "markdown",
   "metadata": {},
   "source": [
    "**Add variables:**\n",
    "- Age \n",
    "- Birth year\n",
    "- Age squared  "
   ]
  },
  {
   "cell_type": "code",
   "execution_count": 717,
   "metadata": {
    "execution": {
     "iopub.execute_input": "2023-05-14T18:39:12.488335Z",
     "iopub.status.busy": "2023-05-14T18:39:12.488335Z",
     "iopub.status.idle": "2023-05-14T18:39:12.549271Z",
     "shell.execute_reply": "2023-05-14T18:39:12.548181Z"
    }
   },
   "outputs": [],
   "source": [
    "# new variables\n",
    "long_df['median_birth_year'] = 0\n",
    "long_df['median_age_squared'] = 0\n",
    "long_df['median_age'] = 0\n",
    "long_df['id'] = 0\n",
    "\n",
    "a = range(0,308+22,22)\n",
    "b = range(17,82+5,5)\n",
    "\n",
    "# the age of a group is the median age of that group, i.e. 17 for group age15-19\n",
    "for i,j in zip(a,b):\n",
    "    long_df.loc[i:i+22,['median_birth_year']] = long_df['TID'] - j\n",
    "    long_df.loc[i:i+22,['median_age_squared']] = j**2\n",
    "    long_df.loc[i:i+22,['median_age']] = j\n",
    "    long_df.loc[i:i+22,['id']] = j\n",
    "\n",
    "long_df.set_index(['id', 'TID'], inplace=True)"
   ]
  },
  {
   "attachments": {},
   "cell_type": "markdown",
   "metadata": {},
   "source": [
    "**Run regression:**"
   ]
  },
  {
   "cell_type": "code",
   "execution_count": 718,
   "metadata": {
    "execution": {
     "iopub.execute_input": "2023-05-14T18:39:12.552299Z",
     "iopub.status.busy": "2023-05-14T18:39:12.552299Z",
     "iopub.status.idle": "2023-05-14T18:39:12.565028Z",
     "shell.execute_reply": "2023-05-14T18:39:12.563897Z"
    }
   },
   "outputs": [],
   "source": [
    "# dependent variable\n",
    "dependent = long_df.log_income\n",
    "\n",
    "# exogenous variables\n",
    "exog = sm.add_constant(long_df[['median_birth_year','median_age_squared','median_age']])"
   ]
  },
  {
   "cell_type": "code",
   "execution_count": 719,
   "metadata": {
    "execution": {
     "iopub.execute_input": "2023-05-14T18:39:12.567061Z",
     "iopub.status.busy": "2023-05-14T18:39:12.567061Z",
     "iopub.status.idle": "2023-05-14T18:39:12.626947Z",
     "shell.execute_reply": "2023-05-14T18:39:12.626309Z"
    }
   },
   "outputs": [
    {
     "data": {
      "text/html": [
       "<table class=\"simpletable\">\n",
       "<caption>PanelOLS Estimation Summary</caption>\n",
       "<tr>\n",
       "  <th>Dep. Variable:</th>       <td>log_income</td>    <th>  R-squared:         </th>    <td>0.7842</td> \n",
       "</tr>\n",
       "<tr>\n",
       "  <th>Estimator:</th>            <td>PanelOLS</td>     <th>  R-squared (Between):</th>   <td>0.7893</td> \n",
       "</tr>\n",
       "<tr>\n",
       "  <th>No. Observations:</th>        <td>308</td>       <th>  R-squared (Within):</th>    <td>0.6612</td> \n",
       "</tr>\n",
       "<tr>\n",
       "  <th>Date:</th>             <td>Mon, May 22 2023</td> <th>  R-squared (Overall):</th>   <td>0.7842</td> \n",
       "</tr>\n",
       "<tr>\n",
       "  <th>Time:</th>                 <td>15:27:37</td>     <th>  Log-likelihood     </th>    <td>-10.099</td>\n",
       "</tr>\n",
       "<tr>\n",
       "  <th>Cov. Estimator:</th>      <td>Unadjusted</td>    <th>                     </th>       <td></td>    \n",
       "</tr>\n",
       "<tr>\n",
       "  <th></th>                          <td></td>         <th>  F-statistic:       </th>    <td>368.29</td> \n",
       "</tr>\n",
       "<tr>\n",
       "  <th>Entities:</th>                <td>14</td>        <th>  P-value            </th>    <td>0.0000</td> \n",
       "</tr>\n",
       "<tr>\n",
       "  <th>Avg Obs:</th>               <td>22.000</td>      <th>  Distribution:      </th>   <td>F(3,304)</td>\n",
       "</tr>\n",
       "<tr>\n",
       "  <th>Min Obs:</th>               <td>22.000</td>      <th>                     </th>       <td></td>    \n",
       "</tr>\n",
       "<tr>\n",
       "  <th>Max Obs:</th>               <td>22.000</td>      <th>  F-statistic (robust):</th>  <td>368.29</td> \n",
       "</tr>\n",
       "<tr>\n",
       "  <th></th>                          <td></td>         <th>  P-value            </th>    <td>0.0000</td> \n",
       "</tr>\n",
       "<tr>\n",
       "  <th>Time periods:</th>            <td>22</td>        <th>  Distribution:      </th>   <td>F(3,304)</td>\n",
       "</tr>\n",
       "<tr>\n",
       "  <th>Avg Obs:</th>               <td>14.000</td>      <th>                     </th>       <td></td>    \n",
       "</tr>\n",
       "<tr>\n",
       "  <th>Min Obs:</th>               <td>14.000</td>      <th>                     </th>       <td></td>    \n",
       "</tr>\n",
       "<tr>\n",
       "  <th>Max Obs:</th>               <td>14.000</td>      <th>                     </th>       <td></td>    \n",
       "</tr>\n",
       "<tr>\n",
       "  <th></th>                          <td></td>         <th>                     </th>       <td></td>    \n",
       "</tr>\n",
       "</table>\n",
       "<table class=\"simpletable\">\n",
       "<caption>Parameter Estimates</caption>\n",
       "<tr>\n",
       "           <td></td>          <th>Parameter</th> <th>Std. Err.</th> <th>T-stat</th>  <th>P-value</th> <th>Lower CI</th> <th>Upper CI</th>\n",
       "</tr>\n",
       "<tr>\n",
       "  <th>const</th>               <td>-18.451</td>   <td>4.5454</td>   <td>-4.0593</td> <td>0.0001</td>   <td>-27.395</td>  <td>-9.5066</td>\n",
       "</tr>\n",
       "<tr>\n",
       "  <th>median_birth_year</th>   <td>0.0138</td>    <td>0.0023</td>   <td>6.1061</td>  <td>0.0000</td>   <td>0.0094</td>   <td>0.0183</td> \n",
       "</tr>\n",
       "<tr>\n",
       "  <th>median_age_squared</th>  <td>-0.0011</td>  <td>3.977e-05</td> <td>-28.380</td> <td>0.0000</td>   <td>-0.0012</td>  <td>-0.0011</td>\n",
       "</tr>\n",
       "<tr>\n",
       "  <th>median_age</th>          <td>0.1371</td>    <td>0.0046</td>   <td>29.826</td>  <td>0.0000</td>   <td>0.1280</td>   <td>0.1461</td> \n",
       "</tr>\n",
       "</table><br/><br/><br/>id: 0x217512312d0"
      ],
      "text/plain": [
       "                          PanelOLS Estimation Summary                           \n",
       "================================================================================\n",
       "Dep. Variable:             log_income   R-squared:                        0.7842\n",
       "Estimator:                   PanelOLS   R-squared (Between):              0.7893\n",
       "No. Observations:                 308   R-squared (Within):               0.6612\n",
       "Date:                Mon, May 22 2023   R-squared (Overall):              0.7842\n",
       "Time:                        15:27:37   Log-likelihood                   -10.099\n",
       "Cov. Estimator:            Unadjusted                                           \n",
       "                                        F-statistic:                      368.29\n",
       "Entities:                          14   P-value                           0.0000\n",
       "Avg Obs:                       22.000   Distribution:                   F(3,304)\n",
       "Min Obs:                       22.000                                           \n",
       "Max Obs:                       22.000   F-statistic (robust):             368.29\n",
       "                                        P-value                           0.0000\n",
       "Time periods:                      22   Distribution:                   F(3,304)\n",
       "Avg Obs:                       14.000                                           \n",
       "Min Obs:                       14.000                                           \n",
       "Max Obs:                       14.000                                           \n",
       "                                                                                \n",
       "                                 Parameter Estimates                                  \n",
       "======================================================================================\n",
       "                    Parameter  Std. Err.     T-stat    P-value    Lower CI    Upper CI\n",
       "--------------------------------------------------------------------------------------\n",
       "const                 -18.451     4.5454    -4.0593     0.0001     -27.395     -9.5066\n",
       "median_birth_year      0.0138     0.0023     6.1061     0.0000      0.0094      0.0183\n",
       "median_age_squared    -0.0011  3.977e-05    -28.380     0.0000     -0.0012     -0.0011\n",
       "median_age             0.1371     0.0046     29.826     0.0000      0.1280      0.1461\n",
       "======================================================================================\n",
       "\n",
       "\n",
       "PanelEffectsResults, id: 0x217512312d0"
      ]
     },
     "execution_count": 719,
     "metadata": {},
     "output_type": "execute_result"
    }
   ],
   "source": [
    "mod = PanelOLS(dependent, exog, drop_absorbed=True)\n",
    "res = mod.fit(cov_type='unadjusted')\n",
    "res"
   ]
  },
  {
   "attachments": {},
   "cell_type": "markdown",
   "metadata": {},
   "source": [
    "### 7.1. <a id='toc7_1_'></a>[Predicted vs. observed income in year](#toc0_)"
   ]
  },
  {
   "cell_type": "code",
   "execution_count": 720,
   "metadata": {
    "execution": {
     "iopub.execute_input": "2023-05-14T18:39:12.629973Z",
     "iopub.status.busy": "2023-05-14T18:39:12.629973Z",
     "iopub.status.idle": "2023-05-14T18:39:12.642622Z",
     "shell.execute_reply": "2023-05-14T18:39:12.641620Z"
    }
   },
   "outputs": [],
   "source": [
    "year = 2010 # must be a year in the data, i.e. 2000-2021"
   ]
  },
  {
   "attachments": {},
   "cell_type": "markdown",
   "metadata": {},
   "source": [
    "**Predicted income:**"
   ]
  },
  {
   "cell_type": "code",
   "execution_count": 721,
   "metadata": {
    "execution": {
     "iopub.execute_input": "2023-05-14T18:39:12.645612Z",
     "iopub.status.busy": "2023-05-14T18:39:12.645612Z",
     "iopub.status.idle": "2023-05-14T18:39:12.689945Z",
     "shell.execute_reply": "2023-05-14T18:39:12.689945Z"
    }
   },
   "outputs": [],
   "source": [
    "pred_income = []\n",
    "age = []\n",
    "\n",
    "# loop over years with income\n",
    "for i in range(15,82+1):\n",
    "    age.append(i)\n",
    "    pred_income.append(np.exp((year-i)*res.params.median_birth_year + \n",
    "                              res.params.const + \n",
    "                              res.params.median_age*i + \n",
    "                              res.params.median_age_squared*i**2))"
   ]
  },
  {
   "attachments": {},
   "cell_type": "markdown",
   "metadata": {},
   "source": [
    "**Observed income:**"
   ]
  },
  {
   "cell_type": "code",
   "execution_count": 722,
   "metadata": {
    "execution": {
     "iopub.execute_input": "2023-05-14T18:39:12.692976Z",
     "iopub.status.busy": "2023-05-14T18:39:12.692976Z",
     "iopub.status.idle": "2023-05-14T18:39:12.705906Z",
     "shell.execute_reply": "2023-05-14T18:39:12.705237Z"
    }
   },
   "outputs": [
    {
     "data": {
      "text/html": [
       "<div>\n",
       "<style scoped>\n",
       "    .dataframe tbody tr th:only-of-type {\n",
       "        vertical-align: middle;\n",
       "    }\n",
       "\n",
       "    .dataframe tbody tr th {\n",
       "        vertical-align: top;\n",
       "    }\n",
       "\n",
       "    .dataframe thead th {\n",
       "        text-align: right;\n",
       "    }\n",
       "</style>\n",
       "<table border=\"1\" class=\"dataframe\">\n",
       "  <thead>\n",
       "    <tr style=\"text-align: right;\">\n",
       "      <th></th>\n",
       "      <th></th>\n",
       "      <th>age_group</th>\n",
       "      <th>log_income</th>\n",
       "      <th>median_birth_year</th>\n",
       "      <th>median_age_squared</th>\n",
       "      <th>median_age</th>\n",
       "      <th>income</th>\n",
       "    </tr>\n",
       "    <tr>\n",
       "      <th>id</th>\n",
       "      <th>TID</th>\n",
       "      <th></th>\n",
       "      <th></th>\n",
       "      <th></th>\n",
       "      <th></th>\n",
       "      <th></th>\n",
       "      <th></th>\n",
       "    </tr>\n",
       "  </thead>\n",
       "  <tbody>\n",
       "    <tr>\n",
       "      <th>17</th>\n",
       "      <th>2010</th>\n",
       "      <td>age15-19</td>\n",
       "      <td>10.460242</td>\n",
       "      <td>1993</td>\n",
       "      <td>289</td>\n",
       "      <td>17</td>\n",
       "      <td>34900.0</td>\n",
       "    </tr>\n",
       "    <tr>\n",
       "      <th>22</th>\n",
       "      <th>2010</th>\n",
       "      <td>age20-24</td>\n",
       "      <td>11.702719</td>\n",
       "      <td>1988</td>\n",
       "      <td>484</td>\n",
       "      <td>22</td>\n",
       "      <td>120900.0</td>\n",
       "    </tr>\n",
       "    <tr>\n",
       "      <th>27</th>\n",
       "      <th>2010</th>\n",
       "      <td>age25-29</td>\n",
       "      <td>12.109562</td>\n",
       "      <td>1983</td>\n",
       "      <td>729</td>\n",
       "      <td>27</td>\n",
       "      <td>181600.0</td>\n",
       "    </tr>\n",
       "    <tr>\n",
       "      <th>32</th>\n",
       "      <th>2010</th>\n",
       "      <td>age30-34</td>\n",
       "      <td>12.375815</td>\n",
       "      <td>1978</td>\n",
       "      <td>1024</td>\n",
       "      <td>32</td>\n",
       "      <td>237000.0</td>\n",
       "    </tr>\n",
       "    <tr>\n",
       "      <th>37</th>\n",
       "      <th>2010</th>\n",
       "      <td>age35-39</td>\n",
       "      <td>12.507658</td>\n",
       "      <td>1973</td>\n",
       "      <td>1369</td>\n",
       "      <td>37</td>\n",
       "      <td>270400.0</td>\n",
       "    </tr>\n",
       "    <tr>\n",
       "      <th>42</th>\n",
       "      <th>2010</th>\n",
       "      <td>age40-44</td>\n",
       "      <td>12.561297</td>\n",
       "      <td>1968</td>\n",
       "      <td>1764</td>\n",
       "      <td>42</td>\n",
       "      <td>285300.0</td>\n",
       "    </tr>\n",
       "    <tr>\n",
       "      <th>47</th>\n",
       "      <th>2010</th>\n",
       "      <td>age45-49</td>\n",
       "      <td>12.569326</td>\n",
       "      <td>1963</td>\n",
       "      <td>2209</td>\n",
       "      <td>47</td>\n",
       "      <td>287600.0</td>\n",
       "    </tr>\n",
       "    <tr>\n",
       "      <th>52</th>\n",
       "      <th>2010</th>\n",
       "      <td>age50-54</td>\n",
       "      <td>12.555673</td>\n",
       "      <td>1958</td>\n",
       "      <td>2704</td>\n",
       "      <td>52</td>\n",
       "      <td>283700.0</td>\n",
       "    </tr>\n",
       "    <tr>\n",
       "      <th>57</th>\n",
       "      <th>2010</th>\n",
       "      <td>age55-59</td>\n",
       "      <td>12.532855</td>\n",
       "      <td>1953</td>\n",
       "      <td>3249</td>\n",
       "      <td>57</td>\n",
       "      <td>277300.0</td>\n",
       "    </tr>\n",
       "    <tr>\n",
       "      <th>62</th>\n",
       "      <th>2010</th>\n",
       "      <td>age60-64</td>\n",
       "      <td>12.431613</td>\n",
       "      <td>1948</td>\n",
       "      <td>3844</td>\n",
       "      <td>62</td>\n",
       "      <td>250600.0</td>\n",
       "    </tr>\n",
       "    <tr>\n",
       "      <th>67</th>\n",
       "      <th>2010</th>\n",
       "      <td>age65-69</td>\n",
       "      <td>12.243368</td>\n",
       "      <td>1943</td>\n",
       "      <td>4489</td>\n",
       "      <td>67</td>\n",
       "      <td>207600.0</td>\n",
       "    </tr>\n",
       "    <tr>\n",
       "      <th>72</th>\n",
       "      <th>2010</th>\n",
       "      <td>age70-74</td>\n",
       "      <td>12.158981</td>\n",
       "      <td>1938</td>\n",
       "      <td>5184</td>\n",
       "      <td>72</td>\n",
       "      <td>190800.0</td>\n",
       "    </tr>\n",
       "    <tr>\n",
       "      <th>77</th>\n",
       "      <th>2010</th>\n",
       "      <td>age75-79</td>\n",
       "      <td>12.117788</td>\n",
       "      <td>1933</td>\n",
       "      <td>5929</td>\n",
       "      <td>77</td>\n",
       "      <td>183100.0</td>\n",
       "    </tr>\n",
       "    <tr>\n",
       "      <th>82</th>\n",
       "      <th>2010</th>\n",
       "      <td>age80&gt;=</td>\n",
       "      <td>12.133502</td>\n",
       "      <td>1928</td>\n",
       "      <td>6724</td>\n",
       "      <td>82</td>\n",
       "      <td>186000.0</td>\n",
       "    </tr>\n",
       "  </tbody>\n",
       "</table>\n",
       "</div>"
      ],
      "text/plain": [
       "        age_group  log_income  median_birth_year  median_age_squared   \n",
       "id TID                                                                 \n",
       "17 2010  age15-19   10.460242               1993                 289  \\\n",
       "22 2010  age20-24   11.702719               1988                 484   \n",
       "27 2010  age25-29   12.109562               1983                 729   \n",
       "32 2010  age30-34   12.375815               1978                1024   \n",
       "37 2010  age35-39   12.507658               1973                1369   \n",
       "42 2010  age40-44   12.561297               1968                1764   \n",
       "47 2010  age45-49   12.569326               1963                2209   \n",
       "52 2010  age50-54   12.555673               1958                2704   \n",
       "57 2010  age55-59   12.532855               1953                3249   \n",
       "62 2010  age60-64   12.431613               1948                3844   \n",
       "67 2010  age65-69   12.243368               1943                4489   \n",
       "72 2010  age70-74   12.158981               1938                5184   \n",
       "77 2010  age75-79   12.117788               1933                5929   \n",
       "82 2010   age80>=   12.133502               1928                6724   \n",
       "\n",
       "         median_age    income  \n",
       "id TID                         \n",
       "17 2010          17   34900.0  \n",
       "22 2010          22  120900.0  \n",
       "27 2010          27  181600.0  \n",
       "32 2010          32  237000.0  \n",
       "37 2010          37  270400.0  \n",
       "42 2010          42  285300.0  \n",
       "47 2010          47  287600.0  \n",
       "52 2010          52  283700.0  \n",
       "57 2010          57  277300.0  \n",
       "62 2010          62  250600.0  \n",
       "67 2010          67  207600.0  \n",
       "72 2010          72  190800.0  \n",
       "77 2010          77  183100.0  \n",
       "82 2010          82  186000.0  "
      ]
     },
     "metadata": {},
     "output_type": "display_data"
    }
   ],
   "source": [
    "warnings.filterwarnings('ignore')\n",
    "\n",
    "obs_income = long_df.loc[long_df.index.get_level_values(1) == year, :]\n",
    "obs_income['income'] = np.exp(obs_income['log_income'])\n",
    "display(obs_income)\n",
    "\n",
    "warnings.filterwarnings('default')"
   ]
  },
  {
   "attachments": {},
   "cell_type": "markdown",
   "metadata": {},
   "source": [
    "**Plot:**"
   ]
  },
  {
   "cell_type": "code",
   "execution_count": 723,
   "metadata": {
    "execution": {
     "iopub.execute_input": "2023-05-14T18:39:12.708861Z",
     "iopub.status.busy": "2023-05-14T18:39:12.708861Z",
     "iopub.status.idle": "2023-05-14T18:39:12.942910Z",
     "shell.execute_reply": "2023-05-14T18:39:12.940998Z"
    }
   },
   "outputs": [
    {
     "data": {
      "image/png": "[encoded data removed]",
      "text/plain": [
       "<Figure size 640x480 with 1 Axes>"
      ]
     },
     "metadata": {},
     "output_type": "display_data"
    }
   ],
   "source": [
    "plt.plot(age, pred_income, label='Predicted')\n",
    "obs_income.plot(kind='scatter', x='median_age', y='income', label='Observed', color='red', ax=plt.gca())\n",
    "\n",
    "plt.title('Life cycle income in year ' + str(year))\n",
    "plt.ylabel('income')\n",
    "plt.xlabel('age')\n",
    "plt.legend()\n",
    "plt.show()"
   ]
  },
  {
   "attachments": {},
   "cell_type": "markdown",
   "metadata": {},
   "source": [
    "### 7.2. <a id='toc7_2_'></a>[Save to disc](#toc0_)"
   ]
  },
  {
   "cell_type": "code",
   "execution_count": 724,
   "metadata": {
    "execution": {
     "iopub.execute_input": "2023-05-14T18:39:12.949941Z",
     "iopub.status.busy": "2023-05-14T18:39:12.948939Z",
     "iopub.status.idle": "2023-05-14T18:39:12.972990Z",
     "shell.execute_reply": "2023-05-14T18:39:12.972990Z"
    }
   },
   "outputs": [],
   "source": [
    "## a. household income\n",
    "ss_households_income = {}\n",
    "ss_households_income['age'] = obs_income['median_age'].to_numpy()[1:13] # drop the first element and last element\n",
    "ss_households_income['income'] = obs_income['income'].to_numpy()[1:13] # drop the first element and last element\n",
    "ss_households_income['income'] /= ss_households_income['income'][0] # normalization\n",
    "\n",
    "# b. save to disc\n",
    "with open('data/ss_households_income.pickle', 'wb') as f:\n",
    "    pickle.dump(ss_households_income, f)"
   ]
  },
  {
   "attachments": {},
   "cell_type": "markdown",
   "metadata": {},
   "source": [
    "### 7.3. <a id='toc7_3_'></a>[Predicted vs. observed income for cohort 1983](#toc0_)"
   ]
  },
  {
   "attachments": {},
   "cell_type": "markdown",
   "metadata": {},
   "source": [
    "**Predicted income for cohort 1983:**"
   ]
  },
  {
   "cell_type": "code",
   "execution_count": 725,
   "metadata": {
    "execution": {
     "iopub.execute_input": "2023-05-14T18:39:12.977977Z",
     "iopub.status.busy": "2023-05-14T18:39:12.977977Z",
     "iopub.status.idle": "2023-05-14T18:39:13.021697Z",
     "shell.execute_reply": "2023-05-14T18:39:13.020695Z"
    }
   },
   "outputs": [],
   "source": [
    "pred_income = []\n",
    "age = []\n",
    "\n",
    "# loop over years with income\n",
    "for i in range(15,82+1):\n",
    "    age.append(i)\n",
    "    pred_income.append(np.exp((1983)*res.params.median_birth_year + \n",
    "                              res.params.const + \n",
    "                              res.params.median_age*i + \n",
    "                              res.params.median_age_squared*i**2)) # birth year, 1983, remains constant"
   ]
  },
  {
   "attachments": {},
   "cell_type": "markdown",
   "metadata": {},
   "source": [
    "**Observed income for cohort 1983:**"
   ]
  },
  {
   "cell_type": "code",
   "execution_count": 726,
   "metadata": {
    "execution": {
     "iopub.execute_input": "2023-05-14T18:39:13.024713Z",
     "iopub.status.busy": "2023-05-14T18:39:13.024713Z",
     "iopub.status.idle": "2023-05-14T18:39:13.036658Z",
     "shell.execute_reply": "2023-05-14T18:39:13.036009Z"
    }
   },
   "outputs": [
    {
     "data": {
      "text/html": [
       "<div>\n",
       "<style scoped>\n",
       "    .dataframe tbody tr th:only-of-type {\n",
       "        vertical-align: middle;\n",
       "    }\n",
       "\n",
       "    .dataframe tbody tr th {\n",
       "        vertical-align: top;\n",
       "    }\n",
       "\n",
       "    .dataframe thead th {\n",
       "        text-align: right;\n",
       "    }\n",
       "</style>\n",
       "<table border=\"1\" class=\"dataframe\">\n",
       "  <thead>\n",
       "    <tr style=\"text-align: right;\">\n",
       "      <th></th>\n",
       "      <th></th>\n",
       "      <th>age_group</th>\n",
       "      <th>log_income</th>\n",
       "      <th>median_birth_year</th>\n",
       "      <th>median_age_squared</th>\n",
       "      <th>median_age</th>\n",
       "      <th>income</th>\n",
       "    </tr>\n",
       "    <tr>\n",
       "      <th>id</th>\n",
       "      <th>TID</th>\n",
       "      <th></th>\n",
       "      <th></th>\n",
       "      <th></th>\n",
       "      <th></th>\n",
       "      <th></th>\n",
       "      <th></th>\n",
       "    </tr>\n",
       "  </thead>\n",
       "  <tbody>\n",
       "    <tr>\n",
       "      <th>17</th>\n",
       "      <th>2000</th>\n",
       "      <td>age15-19</td>\n",
       "      <td>10.518673</td>\n",
       "      <td>1983</td>\n",
       "      <td>289</td>\n",
       "      <td>17</td>\n",
       "      <td>37000.0</td>\n",
       "    </tr>\n",
       "    <tr>\n",
       "      <th>22</th>\n",
       "      <th>2005</th>\n",
       "      <td>age20-24</td>\n",
       "      <td>11.720752</td>\n",
       "      <td>1983</td>\n",
       "      <td>484</td>\n",
       "      <td>22</td>\n",
       "      <td>123100.0</td>\n",
       "    </tr>\n",
       "    <tr>\n",
       "      <th>27</th>\n",
       "      <th>2010</th>\n",
       "      <td>age25-29</td>\n",
       "      <td>12.109562</td>\n",
       "      <td>1983</td>\n",
       "      <td>729</td>\n",
       "      <td>27</td>\n",
       "      <td>181600.0</td>\n",
       "    </tr>\n",
       "    <tr>\n",
       "      <th>32</th>\n",
       "      <th>2015</th>\n",
       "      <td>age30-34</td>\n",
       "      <td>12.369466</td>\n",
       "      <td>1983</td>\n",
       "      <td>1024</td>\n",
       "      <td>32</td>\n",
       "      <td>235500.0</td>\n",
       "    </tr>\n",
       "    <tr>\n",
       "      <th>37</th>\n",
       "      <th>2020</th>\n",
       "      <td>age35-39</td>\n",
       "      <td>12.623796</td>\n",
       "      <td>1983</td>\n",
       "      <td>1369</td>\n",
       "      <td>37</td>\n",
       "      <td>303700.0</td>\n",
       "    </tr>\n",
       "  </tbody>\n",
       "</table>\n",
       "</div>"
      ],
      "text/plain": [
       "        age_group  log_income  median_birth_year  median_age_squared   \n",
       "id TID                                                                 \n",
       "17 2000  age15-19   10.518673               1983                 289  \\\n",
       "22 2005  age20-24   11.720752               1983                 484   \n",
       "27 2010  age25-29   12.109562               1983                 729   \n",
       "32 2015  age30-34   12.369466               1983                1024   \n",
       "37 2020  age35-39   12.623796               1983                1369   \n",
       "\n",
       "         median_age    income  \n",
       "id TID                         \n",
       "17 2000          17   37000.0  \n",
       "22 2005          22  123100.0  \n",
       "27 2010          27  181600.0  \n",
       "32 2015          32  235500.0  \n",
       "37 2020          37  303700.0  "
      ]
     },
     "metadata": {},
     "output_type": "display_data"
    }
   ],
   "source": [
    "warnings.filterwarnings('ignore')\n",
    "\n",
    "obs_income = long_df.loc[long_df['median_birth_year'] == 1983, :]\n",
    "obs_income['income'] = np.exp(obs_income['log_income'])\n",
    "display(obs_income)\n",
    "\n",
    "warnings.filterwarnings('default')"
   ]
  },
  {
   "attachments": {},
   "cell_type": "markdown",
   "metadata": {},
   "source": [
    "**Plot:**"
   ]
  },
  {
   "cell_type": "code",
   "execution_count": 727,
   "metadata": {
    "execution": {
     "iopub.execute_input": "2023-05-14T18:39:13.040645Z",
     "iopub.status.busy": "2023-05-14T18:39:13.040645Z",
     "iopub.status.idle": "2023-05-14T18:39:13.225171Z",
     "shell.execute_reply": "2023-05-14T18:39:13.224249Z"
    }
   },
   "outputs": [
    {
     "data": {
      "image/png": "[encoded data removed]",
      "text/plain": [
       "<Figure size 640x480 with 1 Axes>"
      ]
     },
     "metadata": {},
     "output_type": "display_data"
    }
   ],
   "source": [
    "plt.plot(age, pred_income, label='Predicted')\n",
    "obs_income.plot(kind='scatter', x='median_age', y='income', label='Observed', color='red', ax=plt.gca())\n",
    "\n",
    "plt.title('Life cycle income for cohort 1983')\n",
    "plt.ylabel('Income')\n",
    "plt.xlabel('Age')\n",
    "plt.legend()\n",
    "plt.show()"
   ]
  },
  {
   "cell_type": "code",
   "execution_count": 728,
   "metadata": {},
   "outputs": [],
   "source": [
    "## a. household income\n",
    "# ss_households_income = {}\n",
    "# ss_households_income['age'] = age[7:79] # drop the first element and last element\n",
    "# ss_households_income['income'] = pred_income[7:79] # drop the first element and last element\n",
    "# ss_households_income['income'] /= ss_households_income['income'][0] # normalization\n",
    "\n",
    "# b. save to disc\n",
    "# with open('data/ss_households_income.pickle', 'wb') as f:\n",
    "#     pickle.dump(ss_households_income, f)"
   ]
  },
  {
   "attachments": {},
   "cell_type": "markdown",
   "metadata": {},
   "source": [
    "## 8. <a id='toc8_'></a>[Wealth-income ratio:](#toc0_)"
   ]
  },
  {
   "attachments": {},
   "cell_type": "markdown",
   "metadata": {},
   "source": [
    "**Calculate the wealth-income ratio based on the raw data:**"
   ]
  },
  {
   "cell_type": "code",
   "execution_count": 729,
   "metadata": {
    "execution": {
     "iopub.execute_input": "2023-05-14T18:39:13.230157Z",
     "iopub.status.busy": "2023-05-14T18:39:13.230157Z",
     "iopub.status.idle": "2023-05-14T18:39:13.255454Z",
     "shell.execute_reply": "2023-05-14T18:39:13.254430Z"
    }
   },
   "outputs": [
    {
     "name": "stdout",
     "output_type": "stream",
     "text": [
      "ALDER\n",
      "age_15-24     1.707939\n",
      "age_25-29     0.890354\n",
      "age_30-34     1.353119\n",
      "age_35-39     2.105508\n",
      "age_40-44     3.002049\n",
      "age_45-49     3.944616\n",
      "age_50-54     5.090512\n",
      "age_55-59     6.610468\n",
      "age_60-64     8.626078\n",
      "age_65-69    10.807956\n",
      "age_70-74    10.705477\n",
      "age_75-79     9.617599\n",
      "dtype: float64\n"
     ]
    }
   ],
   "source": [
    "# a. get the relevant data frame\n",
    "IncomeWealthDF =  pd.concat([IncomeDF_cprice,WealthDF], axis=1)\n",
    "\n",
    "ages = []\n",
    "\n",
    "# b. loop over age groups common to income and wealth data\n",
    "for i in range(25,75+1,5):\n",
    "    IncomeWealthDF['age_'+str(i)+'-'+str(i+4)] = IncomeWealthDF['Wealth: '+str(i)+'-'+str(i+4)+' years']/IncomeWealthDF['DisInc: '+str(i)+'-'+str(i+4)+' years']\n",
    "    ages.append(i+2)\n",
    "\n",
    "# c. the first age group, age_15-24. Assuming no wealth for 15-17 years - no data ...\n",
    "IncomeWealthDF['age_15-24'] = (IncomeWealthDF['DisInc: 15-19 years']+IncomeWealthDF['DisInc: 20-24 years'])/IncomeWealthDF['Wealth: 18-24 years']\n",
    "ages = [20] + ages\n",
    "\n",
    "# d. wealth-income ratio for all age groups\n",
    "IncomeWealthDF = IncomeWealthDF[['age_15-24']+['age_' + str(i) + '-' + str(i+4) for i in range(25,75+1,5)]]\n",
    "IncomeWealthDF = IncomeWealthDF.dropna() # drop NANs - wealth data only available for 2014-2021\n",
    "\n",
    "# e. take the mean over time for each age group\n",
    "wealth_income_ratio = IncomeWealthDF.mean()\n",
    "print(wealth_income_ratio)"
   ]
  },
  {
   "attachments": {},
   "cell_type": "markdown",
   "metadata": {},
   "source": [
    "**Linear interpolation of the observed wealth-income ratio:**"
   ]
  },
  {
   "cell_type": "code",
   "execution_count": 730,
   "metadata": {
    "execution": {
     "iopub.execute_input": "2023-05-14T18:39:13.260471Z",
     "iopub.status.busy": "2023-05-14T18:39:13.260471Z",
     "iopub.status.idle": "2023-05-14T18:39:13.398465Z",
     "shell.execute_reply": "2023-05-14T18:39:13.397401Z"
    }
   },
   "outputs": [
    {
     "data": {
      "image/png": "[encoded data removed]",
      "text/plain": [
       "<Figure size 640x480 with 1 Axes>"
      ]
     },
     "metadata": {},
     "output_type": "display_data"
    }
   ],
   "source": [
    "wealth_income_ratio_list = wealth_income_ratio.tolist()\n",
    "\n",
    "ages_ = min(ages) + np.arange(max(ages)-min(ages)+1)\n",
    "wealth_inc_interp = np.interp(ages_,ages,wealth_income_ratio_list)\n",
    "\n",
    "plt.title('Wealth-income ratio interpolated')\n",
    "plt.plot(ages,wealth_income_ratio_list,'bo')\n",
    "plt.plot(ages_,wealth_inc_interp)\n",
    "plt.xlabel('Age')\n",
    "plt.show()"
   ]
  },
  {
   "attachments": {},
   "cell_type": "markdown",
   "metadata": {},
   "source": [
    "### 8.1. <a id='toc8_1_'></a>[Save to disc](#toc0_)"
   ]
  },
  {
   "cell_type": "code",
   "execution_count": 731,
   "metadata": {
    "execution": {
     "iopub.execute_input": "2023-05-14T18:39:13.403441Z",
     "iopub.status.busy": "2023-05-14T18:39:13.403441Z",
     "iopub.status.idle": "2023-05-14T18:39:13.414457Z",
     "shell.execute_reply": "2023-05-14T18:39:13.413399Z"
    }
   },
   "outputs": [
    {
     "data": {
      "text/plain": [
       "array(['age_15-24', 'age_25-29', 'age_30-34', 'age_35-39', 'age_40-44',\n",
       "       'age_45-49', 'age_50-54', 'age_55-59', 'age_60-64', 'age_65-69',\n",
       "       'age_70-74', 'age_75-79'], dtype=object)"
      ]
     },
     "execution_count": 731,
     "metadata": {},
     "output_type": "execute_result"
    }
   ],
   "source": [
    "wealth_income_ratio.index.to_numpy()"
   ]
  },
  {
   "cell_type": "code",
   "execution_count": 732,
   "metadata": {
    "execution": {
     "iopub.execute_input": "2023-05-14T18:39:13.419439Z",
     "iopub.status.busy": "2023-05-14T18:39:13.419439Z",
     "iopub.status.idle": "2023-05-14T18:39:13.430379Z",
     "shell.execute_reply": "2023-05-14T18:39:13.429380Z"
    }
   },
   "outputs": [],
   "source": [
    "## a. household income\n",
    "ss_households_wealth = {}\n",
    "ss_households_wealth['age'] = ages_[2:]\n",
    "ss_households_wealth['wealth_income_ratio'] = wealth_inc_interp[2:]\n",
    "\n",
    "# b. save to disc\n",
    "with open('data/ss_households_wealth.pickle', 'wb') as f:\n",
    "    pickle.dump(ss_households_wealth, f)"
   ]
  },
  {
   "cell_type": "code",
   "execution_count": null,
   "metadata": {},
   "outputs": [],
   "source": []
  }
 ],
 "metadata": {
  "kernelspec": {
   "display_name": "base",
   "language": "python",
   "name": "python3"
  },
  "language_info": {
   "codemirror_mode": {
    "name": "ipython",
    "version": 3
   },
   "file_extension": ".py",
   "mimetype": "text/x-python",
   "name": "python",
   "nbconvert_exporter": "python",
   "pygments_lexer": "ipython3",
   "version": "3.10.11"
  },
  "vscode": {
   "interpreter": {
    "hash": "9c70007ae2ab7a7a37fedd7506c3ac6922537c13d0b7541085c8698d1f7946d8"
   }
  }
 },
 "nbformat": 4,
 "nbformat_minor": 2
}
