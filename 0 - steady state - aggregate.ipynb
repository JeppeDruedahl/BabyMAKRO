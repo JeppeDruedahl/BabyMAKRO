{
 "cells": [
  {
   "cell_type": "markdown",
   "id": "35e2072b",
   "metadata": {},
   "source": [
    "# Steady State - Aggregate"
   ]
  },
  {
   "cell_type": "markdown",
   "id": "7f90c9d0",
   "metadata": {},
   "source": [
    "**Table of contents**<a id='toc0_'></a>    \n",
    "- 1. [Setup](#toc1_)    \n",
    "- 2. [Find steady state](#toc2_)    \n",
    "- 3. [Speed and error tests](#toc3_)    \n",
    "\n",
    "<!-- vscode-jupyter-toc-config\n",
    "\tnumbering=true\n",
    "\tanchor=true\n",
    "\tflat=false\n",
    "\tminLevel=2\n",
    "\tmaxLevel=6\n",
    "\t/vscode-jupyter-toc-config -->\n",
    "<!-- THIS CELL WILL BE REPLACED ON TOC UPDATE. DO NOT WRITE YOUR TEXT IN THIS CELL -->"
   ]
  },
  {
   "cell_type": "code",
   "execution_count": 1,
   "id": "b05f230e",
   "metadata": {
    "execution": {
     "iopub.execute_input": "2023-03-02T12:00:24.891439Z",
     "iopub.status.busy": "2023-03-02T12:00:24.891439Z",
     "iopub.status.idle": "2023-03-02T12:00:26.072791Z",
     "shell.execute_reply": "2023-03-02T12:00:26.072791Z"
    }
   },
   "outputs": [],
   "source": [
    "%load_ext autoreload\n",
    "%autoreload 2\n",
    "\n",
    "import time\n",
    "import pickle\n",
    "import numpy as np\n",
    "from scipy import optimize\n",
    "\n",
    "import matplotlib.pyplot as plt   \n",
    "plt.rcParams.update({\"axes.grid\":True,\"grid.color\":\"black\",\"grid.alpha\":\"0.25\",\"grid.linestyle\":\"--\"})\n",
    "prop_cycle = plt.rcParams['axes.prop_cycle']\n",
    "colors = prop_cycle.by_key()['color']\n",
    "\n",
    "from BabyMAKROModel import BabyMAKROModelClass"
   ]
  },
  {
   "cell_type": "markdown",
   "id": "dc2ce3d5",
   "metadata": {},
   "source": [
    "## 1. <a id='toc1_'></a>[Setup](#toc0_)"
   ]
  },
  {
   "cell_type": "code",
   "execution_count": 2,
   "id": "69981f4f-beca-4e00-8373-d7392662625b",
   "metadata": {
    "execution": {
     "iopub.execute_input": "2023-03-02T12:00:26.075786Z",
     "iopub.status.busy": "2023-03-02T12:00:26.075786Z",
     "iopub.status.idle": "2023-03-02T12:00:26.169295Z",
     "shell.execute_reply": "2023-03-02T12:00:26.168292Z"
    }
   },
   "outputs": [],
   "source": [
    "model = BabyMAKROModelClass(name='baseline') # create an instance of the model"
   ]
  },
  {
   "cell_type": "markdown",
   "id": "0ff86939",
   "metadata": {},
   "source": [
    "## 2. <a id='toc2_'></a>[Find steady state](#toc0_)"
   ]
  },
  {
   "cell_type": "code",
   "execution_count": 3,
   "id": "1326777e",
   "metadata": {
    "execution": {
     "iopub.execute_input": "2023-03-02T12:00:26.175311Z",
     "iopub.status.busy": "2023-03-02T12:00:26.175311Z",
     "iopub.status.idle": "2023-03-02T12:00:26.813636Z",
     "shell.execute_reply": "2023-03-02T12:00:26.813636Z"
    }
   },
   "outputs": [
    {
     "name": "stdout",
     "output_type": "stream",
     "text": [
      "\u001b[1m\u001b[94mLabor supply, search and matching:\u001b[0m\n",
      "ss.S/par.N_work = 0.15, ss.L/par.N_work = 0.96, ss.U/par.N_work = 0.04\n",
      "ss.delta_L = 0.12, ss.m_s = 0.75, ss.m_v = 0.75, ss.v = 6.93\n",
      "par.sigma_m = 0.42\n",
      "\u001b[1m\u001b[94mCapital agency FOC:\u001b[0m\n",
      "ss.r_K = 0.12\n",
      "\u001b[1m\u001b[94mLabor agency FOC:\u001b[0m\n",
      "ss.r_ell = 1.01, (ss.L-ss.ell)/par.N_work*100 = 0.77\n",
      "\u001b[1m\u001b[94mProduction firm:\u001b[0m\n",
      "ss.P_Y_0 = 0.91, ss.Gamma = 0.54, ss.Y = 71.99, ss.K = 184.37\n",
      "\u001b[1m\u001b[94mCapital accumulation:\u001b[0m\n",
      "ss.iota = 18.44, ss.I = 18.44\n",
      "\u001b[1m\u001b[94mGovernment:\u001b[0m\n",
      "ss.B = 0.00, ss.G = 21.60, ss.tau = 0.60\n",
      "\u001b[1m\u001b[94mHouseholds:\u001b[0m\n",
      "ss.Aq/par.N = 0.02, ss.real_W = 1.00, ss.C = 21.92, ss.A = 12.44, ss.r_hh = 0.02\n",
      "\u001b[1m\u001b[94mMarket clearing:\u001b[0m\n",
      "ss.C_Y/ss.C = 0.70, ss.G_Y/ss.G = 0.90, ss.I_Y/ss.I = 0.65, ss.X_Y/ss.X = 0.60\n",
      "ss.X/ss.Y = 0.58, ss.M/ss.Y = 0.44\n"
     ]
    }
   ],
   "source": [
    "par = model.par\n",
    "model.find_ss(do_print=True)    "
   ]
  },
  {
   "cell_type": "markdown",
   "id": "fa0e2b4b",
   "metadata": {},
   "source": [
    "## 3. <a id='toc3_'></a>[Speed and error tests](#toc0_)"
   ]
  },
  {
   "cell_type": "code",
   "execution_count": 4,
   "id": "cf9f7d25-b165-47da-9019-db87b56eeb18",
   "metadata": {
    "execution": {
     "iopub.execute_input": "2023-03-02T12:00:26.816665Z",
     "iopub.status.busy": "2023-03-02T12:00:26.816665Z",
     "iopub.status.idle": "2023-03-02T12:00:26.906773Z",
     "shell.execute_reply": "2023-03-02T12:00:26.906773Z"
    }
   },
   "outputs": [],
   "source": [
    "model.set_exo_ss()          \n",
    "model.set_unknowns_ss()     "
   ]
  },
  {
   "cell_type": "markdown",
   "id": "b57d0b23-f96b-41bc-96be-22871ee741db",
   "metadata": {},
   "source": [
    "**Python evaluation:**"
   ]
  },
  {
   "cell_type": "code",
   "execution_count": 5,
   "id": "00944cf1-30aa-49bd-a5de-30d0bf40bc9d",
   "metadata": {
    "execution": {
     "iopub.execute_input": "2023-03-02T12:00:26.909736Z",
     "iopub.status.busy": "2023-03-02T12:00:26.909736Z",
     "iopub.status.idle": "2023-03-02T12:00:29.305646Z",
     "shell.execute_reply": "2023-03-02T12:00:29.305646Z"
    }
   },
   "outputs": [
    {
     "name": "stdout",
     "output_type": "stream",
     "text": [
      "CPU times: total: 2.97 s\n",
      "Wall time: 2.99 s\n"
     ]
    }
   ],
   "source": [
    "%time model.evaluate_blocks(py=True)"
   ]
  },
  {
   "cell_type": "markdown",
   "id": "a4a03dad-8ff7-433b-a102-d056347960be",
   "metadata": {},
   "source": [
    "**Check errors:**"
   ]
  },
  {
   "cell_type": "code",
   "execution_count": 6,
   "id": "00c35c58-9a95-4e47-bb81-5bdccef9c2f6",
   "metadata": {
    "execution": {
     "iopub.execute_input": "2023-03-02T12:00:29.308641Z",
     "iopub.status.busy": "2023-03-02T12:00:29.308641Z",
     "iopub.status.idle": "2023-03-02T12:00:29.400661Z",
     "shell.execute_reply": "2023-03-02T12:00:29.400661Z"
    }
   },
   "outputs": [
    {
     "name": "stdout",
     "output_type": "stream",
     "text": [
      "A_R_ini_error       : abs. max = 1.90e-14\n",
      "Aq_diff             : abs. max = 3.73e-15\n",
      "FOC_capital_agency  : abs. max = 2.22e-16\n",
      "FOC_K_ell           : abs. max = 2.66e-15\n",
      "mkt_clearing        : abs. max = 0.00e+00\n",
      "PC                  : abs. max = 0.00e+00\n"
     ]
    }
   ],
   "source": [
    "errors = model.get_errors(do_print=True)"
   ]
  },
  {
   "cell_type": "code",
   "execution_count": 7,
   "id": "5091fc38-ae2c-42cf-a9dc-35da2ac13f5f",
   "metadata": {
    "execution": {
     "iopub.execute_input": "2023-03-02T12:00:29.403656Z",
     "iopub.status.busy": "2023-03-02T12:00:29.403656Z",
     "iopub.status.idle": "2023-03-02T12:00:29.497526Z",
     "shell.execute_reply": "2023-03-02T12:00:29.496530Z"
    }
   },
   "outputs": [
    {
     "name": "stdout",
     "output_type": "stream",
     "text": [
      "errors are zero\n"
     ]
    }
   ],
   "source": [
    "if np.allclose(errors,0.0):\n",
    "    print('errors are zero')\n",
    "else:\n",
    "    raise ValueError('errors are NOT zero')"
   ]
  },
  {
   "cell_type": "markdown",
   "id": "2388d71e-8088-4722-97cc-cf6276051313",
   "metadata": {},
   "source": [
    "**First numba evaluation:**"
   ]
  },
  {
   "cell_type": "code",
   "execution_count": 8,
   "id": "cd1c0060-534a-4329-9d7f-4336d746e699",
   "metadata": {
    "execution": {
     "iopub.execute_input": "2023-03-02T12:00:29.501516Z",
     "iopub.status.busy": "2023-03-02T12:00:29.501516Z",
     "iopub.status.idle": "2023-03-02T12:01:03.056163Z",
     "shell.execute_reply": "2023-03-02T12:01:03.056163Z"
    }
   },
   "outputs": [
    {
     "name": "stdout",
     "output_type": "stream",
     "text": [
      "CPU times: total: 35.6 s\n",
      "Wall time: 35.7 s\n"
     ]
    }
   ],
   "source": [
    "%time model.evaluate_blocks()"
   ]
  },
  {
   "attachments": {},
   "cell_type": "markdown",
   "id": "7d76c91e-051f-4a54-b143-5758dd7a3eaa",
   "metadata": {},
   "source": [
    "**Time:**"
   ]
  },
  {
   "cell_type": "code",
   "execution_count": 9,
   "id": "876cc0fb-5f7b-413a-8cf8-e085d9256d3b",
   "metadata": {
    "execution": {
     "iopub.execute_input": "2023-03-02T12:01:03.059157Z",
     "iopub.status.busy": "2023-03-02T12:01:03.059157Z",
     "iopub.status.idle": "2023-03-02T12:01:13.958174Z",
     "shell.execute_reply": "2023-03-02T12:01:13.958174Z"
    }
   },
   "outputs": [
    {
     "name": "stdout",
     "output_type": "stream",
     "text": [
      "32.6 ms ± 924 µs per loop (mean ± std. dev. of 7 runs, 10 loops each)\n",
      "13 µs ± 139 ns per loop (mean ± std. dev. of 7 runs, 100,000 loops each)\n"
     ]
    }
   ],
   "source": [
    "%timeit model.evaluate_blocks()\n",
    "%timeit model.get_errors()"
   ]
  },
  {
   "cell_type": "code",
   "execution_count": 10,
   "id": "65b6c0ac-41de-4c7d-9f71-f8222b933e88",
   "metadata": {
    "execution": {
     "iopub.execute_input": "2023-03-02T12:01:13.961138Z",
     "iopub.status.busy": "2023-03-02T12:01:13.961138Z",
     "iopub.status.idle": "2023-03-02T12:01:15.685108Z",
     "shell.execute_reply": "2023-03-02T12:01:15.684362Z"
    }
   },
   "outputs": [
    {
     "name": "stdout",
     "output_type": "stream",
     "text": [
      "1.3 s ± 17.3 ms per loop (mean ± std. dev. of 7 runs, 1 loop each)\n"
     ]
    }
   ],
   "source": [
    "%timeit model.evaluate_blocks(py=True)"
   ]
  }
 ],
 "metadata": {
  "kernelspec": {
   "display_name": "base",
   "language": "python",
   "name": "python3"
  },
  "language_info": {
   "codemirror_mode": {
    "name": "ipython",
    "version": 3
   },
   "file_extension": ".py",
   "mimetype": "text/x-python",
   "name": "python",
   "nbconvert_exporter": "python",
   "pygments_lexer": "ipython3",
   "version": "3.9.16"
  },
  "toc-autonumbering": true,
  "vscode": {
   "interpreter": {
    "hash": "8e46095560128379321b1ce69ff92c6b7a45fc7d9b830ea022fe373b05aa9725"
   }
  }
 },
 "nbformat": 4,
 "nbformat_minor": 5
}
