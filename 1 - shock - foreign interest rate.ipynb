{
 "cells": [
  {
   "cell_type": "markdown",
   "id": "e33d27a3",
   "metadata": {},
   "source": [
    "**Table of contents**<a id='toc0_'></a>    \n",
    "- 1. [Setup](#toc1_)    \n",
    "- 2. [Find steady state and Jacobian](#toc2_)    \n",
    "- 3. [Find IRF](#toc3_)    \n",
    "- 4. [Figures](#toc4_)    \n",
    "  - 4.1. [National accouting - quantities](#toc4_1_)    \n",
    "  - 4.2. [National accouting - prices](#toc4_2_)    \n",
    "  - 4.3. [Labor market](#toc4_3_)    \n",
    "  - 4.4. [Capital accumulation](#toc4_4_)    \n",
    "  - 4.5. [Production firms](#toc4_5_)    \n",
    "  - 4.6. [Phillips curve](#toc4_6_)    \n",
    "  - 4.7. [Government](#toc4_7_)    \n",
    "  - 4.8. [Households - aggregate](#toc4_8_)    \n",
    "  - 4.9. [Households - life-cycle](#toc4_9_)    \n",
    "\n",
    "<!-- vscode-jupyter-toc-config\n",
    "\tnumbering=true\n",
    "\tanchor=true\n",
    "\tflat=false\n",
    "\tminLevel=2\n",
    "\tmaxLevel=6\n",
    "\t/vscode-jupyter-toc-config -->\n",
    "<!-- THIS CELL WILL BE REPLACED ON TOC UPDATE. DO NOT WRITE YOUR TEXT IN THIS CELL -->"
   ]
  },
  {
   "cell_type": "markdown",
   "id": "bedf3aa4",
   "metadata": {},
   "source": [
    "# Foreign Interest Rate shock"
   ]
  },
  {
   "cell_type": "code",
   "execution_count": 1,
   "id": "467afe92",
   "metadata": {},
   "outputs": [],
   "source": [
    "%load_ext autoreload\n",
    "%autoreload 2\n",
    "\n",
    "import numpy as np\n",
    "import matplotlib.pyplot as plt   \n",
    "plt.style.use('seaborn-v0_8-whitegrid')\n",
    "prop_cycle = plt.rcParams['axes.prop_cycle']\n",
    "colors = prop_cycle.by_key()['color']\n",
    "\n",
    "from BabyMAKROModel import BabyMAKROModelClass"
   ]
  },
  {
   "cell_type": "markdown",
   "id": "1ec93a10",
   "metadata": {},
   "source": [
    "## 1. <a id='toc1_'></a>[Setup](#toc0_)"
   ]
  },
  {
   "cell_type": "code",
   "execution_count": 2,
   "id": "69981f4f-beca-4e00-8373-d7392662625b",
   "metadata": {},
   "outputs": [],
   "source": [
    "model = BabyMAKROModelClass(name='baseline')            #create baseline model"
   ]
  },
  {
   "cell_type": "code",
   "execution_count": 3,
   "id": "669ac154",
   "metadata": {},
   "outputs": [],
   "source": [
    "par = model.par                 #set model parameters\n",
    "ss = model.ss                   #create namespace for steady state\n",
    "sol = model.sol                 #create namespace for solution"
   ]
  },
  {
   "cell_type": "code",
   "execution_count": 4,
   "id": "d95340fa",
   "metadata": {},
   "outputs": [],
   "source": [
    "par.t_b = 0                     #flexible tax rate\n",
    "par.delta_B = 0                 #flexible tax rate\n",
    "model.set_constant_wage(True)   #set constant wage"
   ]
  },
  {
   "cell_type": "markdown",
   "id": "1e7f3c9c",
   "metadata": {},
   "source": [
    "## 2. <a id='toc2_'></a>[Find steady state and Jacobian](#toc0_)"
   ]
  },
  {
   "cell_type": "code",
   "execution_count": 5,
   "id": "3c6630c8-ca58-4e1b-8dc2-d8816431d506",
   "metadata": {},
   "outputs": [],
   "source": [
    "model.find_ss()                 #find steady state "
   ]
  },
  {
   "cell_type": "code",
   "execution_count": 6,
   "id": "33cc3ea3",
   "metadata": {},
   "outputs": [],
   "source": [
    "model.calc_jac(do_print=True)   #calculate jacobian"
   ]
  },
  {
   "cell_type": "markdown",
   "id": "0a6a2c69",
   "metadata": {},
   "source": [
    "## 3. <a id='toc3_'></a>[Find IRF](#toc0_)"
   ]
  },
  {
   "cell_type": "code",
   "execution_count": null,
   "id": "c8384bfc-725e-4c67-9bc2-3012b2230c12",
   "metadata": {},
   "outputs": [],
   "source": [
    "model.set_exo_ss()              #set steady state exogenous variables"
   ]
  },
  {
   "cell_type": "code",
   "execution_count": null,
   "id": "6b757ecc-6b62-4e94-bab1-3d1cf48fc2e9",
   "metadata": {},
   "outputs": [],
   "source": [
    "Tshock = 50                                                     #length of shock\n",
    "persistence = 0.80**np.arange(Tshock)                           #persistence of shock         \n",
    "model.sol.r_hh[:Tshock] = model.ss.r_hh*(1+0.01*persistence)    #Shock to the foreign interest rate"
   ]
  },
  {
   "cell_type": "code",
   "execution_count": null,
   "id": "de162a9d",
   "metadata": {},
   "outputs": [],
   "source": [
    "model.find_IRF()                #find impulse response functions "
   ]
  },
  {
   "cell_type": "markdown",
   "id": "5d83949f",
   "metadata": {},
   "source": [
    "## 4. <a id='toc4_'></a>[Figures](#toc0_)"
   ]
  },
  {
   "attachments": {},
   "cell_type": "markdown",
   "id": "c63fd24d",
   "metadata": {},
   "source": [
    "### Households - consumption & saving"
   ]
  },
  {
   "attachments": {},
   "cell_type": "markdown",
   "id": "a664ae38",
   "metadata": {},
   "source": [
    "### Effect on consumption"
   ]
  },
  {
   "cell_type": "code",
   "execution_count": null,
   "id": "2082688f",
   "metadata": {},
   "outputs": [],
   "source": [
    "model.plot_IRF(varlist=['C','C_HtM','C_R','P_C','inc','real_inc'],ncol=3)"
   ]
  },
  {
   "attachments": {},
   "cell_type": "markdown",
   "id": "ee0de8dd",
   "metadata": {},
   "source": [
    "#### Effect on bequest and savings"
   ]
  },
  {
   "cell_type": "code",
   "execution_count": null,
   "id": "e82253e0",
   "metadata": {},
   "outputs": [],
   "source": [
    "model.plot_IRF(varlist=['real_r_hh','A','Aq'],ncol=3,abs=['real_r_hh'])"
   ]
  },
  {
   "attachments": {},
   "cell_type": "markdown",
   "id": "d61a44cb",
   "metadata": {},
   "source": [
    "### Effect on Production firms, Phillips-curve and Investments"
   ]
  },
  {
   "attachments": {},
   "cell_type": "markdown",
   "id": "1a9b77db",
   "metadata": {},
   "source": [
    "### Production firms"
   ]
  },
  {
   "cell_type": "code",
   "execution_count": null,
   "id": "4dcd1536",
   "metadata": {},
   "outputs": [],
   "source": [
    "model.plot_IRF(varlist=['Y','K','ell','r_K','r_ell','real_MPK','real_MPL'])"
   ]
  },
  {
   "attachments": {},
   "cell_type": "markdown",
   "id": "925146c6",
   "metadata": {},
   "source": [
    "### Phillips-curve"
   ]
  },
  {
   "cell_type": "code",
   "execution_count": null,
   "id": "0a01ed7b",
   "metadata": {},
   "outputs": [],
   "source": [
    "model.plot_IRF(varlist=['Y','P_Y_0','P_Y'])"
   ]
  },
  {
   "attachments": {},
   "cell_type": "markdown",
   "id": "e5230289",
   "metadata": {},
   "source": [
    "### Investments"
   ]
  },
  {
   "cell_type": "code",
   "execution_count": null,
   "id": "ff0a7ee1",
   "metadata": {},
   "outputs": [],
   "source": [
    "model.plot_IRF(varlist=['I','K','P_I','r_K'],ncol=2)"
   ]
  },
  {
   "attachments": {},
   "cell_type": "markdown",
   "id": "61a98349",
   "metadata": {},
   "source": [
    "### Effect on Labor market"
   ]
  },
  {
   "cell_type": "code",
   "execution_count": null,
   "id": "a50eb86b",
   "metadata": {},
   "outputs": [],
   "source": [
    "model.plot_IRF(varlist=['S','L_ubar','v','curlyM','m_v','m_s','delta_L','W','real_W'],abs=['m_v','m_s'])"
   ]
  },
  {
   "attachments": {},
   "cell_type": "markdown",
   "id": "42e374de",
   "metadata": {},
   "source": [
    "### Effect on Government"
   ]
  },
  {
   "cell_type": "code",
   "execution_count": null,
   "id": "1cace9c4",
   "metadata": {},
   "outputs": [],
   "source": [
    "model.plot_IRF(varlist=['G','B','P_G','tau'],abs=['tau'],Y_share=['B'], ncol=2)"
   ]
  },
  {
   "attachments": {},
   "cell_type": "markdown",
   "id": "f76ea1cc",
   "metadata": {},
   "source": [
    "### Effect on Foreign Economy"
   ]
  },
  {
   "cell_type": "code",
   "execution_count": null,
   "id": "6998f72d",
   "metadata": {},
   "outputs": [],
   "source": [
    "model.plot_IRF(varlist=['X','P_X','M'], ncol=2)"
   ]
  },
  {
   "attachments": {},
   "cell_type": "markdown",
   "id": "64ebca6b",
   "metadata": {},
   "source": [
    "### Other"
   ]
  },
  {
   "attachments": {},
   "cell_type": "markdown",
   "id": "990c5fe9",
   "metadata": {},
   "source": [
    "#### Households - life-cycle"
   ]
  },
  {
   "cell_type": "code",
   "execution_count": null,
   "id": "ac73c54d-1f8e-46c0-91ea-8a680266db48",
   "metadata": {},
   "outputs": [],
   "source": [
    "model.plot_IRF_hh(varlist=['L_a','L_ubar_a','S_a','inc_a','C_a','A_a'],t0_list=[-20,-10,0,10,20])"
   ]
  }
 ],
 "metadata": {
  "kernelspec": {
   "display_name": "Python 3 (ipykernel)",
   "language": "python",
   "name": "python3"
  },
  "language_info": {
   "codemirror_mode": {
    "name": "ipython",
    "version": 3
   },
   "file_extension": ".py",
   "mimetype": "text/x-python",
   "name": "python",
   "nbconvert_exporter": "python",
   "pygments_lexer": "ipython3",
   "version": "3.9.15"
  },
  "toc-autonumbering": true,
  "vscode": {
   "interpreter": {
    "hash": "8e46095560128379321b1ce69ff92c6b7a45fc7d9b830ea022fe373b05aa9725"
   }
  }
 },
 "nbformat": 4,
 "nbformat_minor": 5
}
