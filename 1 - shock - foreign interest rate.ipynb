{
 "cells": [
  {
   "cell_type": "markdown",
   "id": "e33d27a3",
   "metadata": {},
   "source": [
    "**Table of contents**<a id='toc0_'></a>    \n",
    "- 1. [Setup](#toc1_)    \n",
    "- 2. [Find steady state and Jacobian](#toc2_)    \n",
    "- 3. [Find IRF](#toc3_)    \n",
    "- 4. [Figures](#toc4_)    \n",
    "  - 4.1. [National accouting - quantities](#toc4_1_)    \n",
    "  - 4.2. [National accouting - prices](#toc4_2_)    \n",
    "  - 4.3. [Labor market](#toc4_3_)    \n",
    "  - 4.4. [Capital accumulation](#toc4_4_)    \n",
    "  - 4.5. [Production firms](#toc4_5_)    \n",
    "  - 4.6. [Phillips curve](#toc4_6_)    \n",
    "  - 4.7. [Government](#toc4_7_)    \n",
    "  - 4.8. [Households - aggregate](#toc4_8_)    \n",
    "  - 4.9. [Households - life-cycle](#toc4_9_)    \n",
    "\n",
    "<!-- vscode-jupyter-toc-config\n",
    "\tnumbering=true\n",
    "\tanchor=true\n",
    "\tflat=false\n",
    "\tminLevel=2\n",
    "\tmaxLevel=6\n",
    "\t/vscode-jupyter-toc-config -->\n",
    "<!-- THIS CELL WILL BE REPLACED ON TOC UPDATE. DO NOT WRITE YOUR TEXT IN THIS CELL -->"
   ]
  },
  {
   "cell_type": "markdown",
   "id": "bedf3aa4",
   "metadata": {},
   "source": [
    "# Foreign Interest Rate shock"
   ]
  },
  {
   "cell_type": "code",
   "execution_count": null,
   "id": "467afe92",
   "metadata": {},
   "outputs": [],
   "source": [
    "%load_ext autoreload\n",
    "%autoreload 2\n",
    "\n",
    "import numpy as np\n",
    "import matplotlib.pyplot as plt   \n",
    "plt.style.use('seaborn-whitegrid')\n",
    "prop_cycle = plt.rcParams['axes.prop_cycle']\n",
    "colors = prop_cycle.by_key()['color']\n",
    "\n",
    "from BabyMAKROModel import BabyMAKROModelClass"
   ]
  },
  {
   "cell_type": "markdown",
   "id": "1ec93a10",
   "metadata": {},
   "source": [
    "## 1. <a id='toc1_'></a>[Setup](#toc0_)"
   ]
  },
  {
   "cell_type": "code",
   "execution_count": null,
   "id": "69981f4f-beca-4e00-8373-d7392662625b",
   "metadata": {},
   "outputs": [],
   "source": [
    "model = BabyMAKROModelClass(name='baseline')            #create baseline model"
   ]
  },
  {
   "cell_type": "code",
   "execution_count": null,
   "id": "669ac154",
   "metadata": {},
   "outputs": [],
   "source": [
    "par = model.par                 #set model parameters\n",
    "ss = model.ss                   #create namespace for steady state\n",
    "sol = model.sol                 #create namespace for solution"
   ]
  },
  {
   "cell_type": "markdown",
   "id": "1e7f3c9c",
   "metadata": {},
   "source": [
    "## 2. <a id='toc2_'></a>[Find steady state and Jacobian](#toc0_)"
   ]
  },
  {
   "cell_type": "code",
   "execution_count": null,
   "id": "3c6630c8-ca58-4e1b-8dc2-d8816431d506",
   "metadata": {},
   "outputs": [],
   "source": [
    "model.find_ss()                 #find steady state "
   ]
  },
  {
   "cell_type": "code",
   "execution_count": null,
   "id": "33cc3ea3",
   "metadata": {},
   "outputs": [],
   "source": [
    "model.calc_jac(do_print=True)   #calculate jacobian"
   ]
  },
  {
   "cell_type": "markdown",
   "id": "0a6a2c69",
   "metadata": {},
   "source": [
    "## 3. <a id='toc3_'></a>[Find IRF](#toc0_)"
   ]
  },
  {
   "cell_type": "code",
   "execution_count": null,
   "id": "c8384bfc-725e-4c67-9bc2-3012b2230c12",
   "metadata": {},
   "outputs": [],
   "source": [
    "model.set_exo_ss()              #set steady state exogenous variables"
   ]
  },
  {
   "cell_type": "code",
   "execution_count": null,
   "id": "6b757ecc-6b62-4e94-bab1-3d1cf48fc2e9",
   "metadata": {},
   "outputs": [],
   "source": [
    "Tshock = 50                                                     #length of shock\n",
    "persistence = 0.80**np.arange(Tshock)                           #persistence of shock         \n",
    "model.sol.r_hh[:Tshock] = model.ss.r_hh*(1+0.01*persistence)    #Shock to the foreign interest rate"
   ]
  },
  {
   "cell_type": "code",
   "execution_count": null,
   "id": "de162a9d",
   "metadata": {},
   "outputs": [],
   "source": [
    "model.find_IRF()                #find impulse response functions "
   ]
  },
  {
   "cell_type": "markdown",
   "id": "5d83949f",
   "metadata": {},
   "source": [
    "## 4. <a id='toc4_'></a>[Figures](#toc0_)"
   ]
  },
  {
   "cell_type": "code",
   "execution_count": null,
   "id": "2082688f",
   "metadata": {},
   "outputs": [],
   "source": [
    "model.plot_IRF(varlist=['real_r_hh','K','A','B'],T_IRF=par.T,ncol=2)"
   ]
  },
  {
   "cell_type": "markdown",
   "id": "e5f48d9e",
   "metadata": {},
   "source": [
    "### 4.1. <a id='toc4_1_'></a>[National accouting - quantities](#toc0_)"
   ]
  },
  {
   "cell_type": "code",
   "execution_count": null,
   "id": "d72481d1",
   "metadata": {},
   "outputs": [],
   "source": [
    "model.plot_IRF(varlist=['Y','C','G','I','X','M'])"
   ]
  },
  {
   "cell_type": "markdown",
   "id": "fb071e5b",
   "metadata": {},
   "source": [
    "### 4.2. <a id='toc4_2_'></a>[National accouting - prices](#toc0_)"
   ]
  },
  {
   "cell_type": "code",
   "execution_count": null,
   "id": "35974af7",
   "metadata": {},
   "outputs": [],
   "source": [
    "model.plot_IRF(varlist=['P_Y','P_C','P_G','P_I','P_X'])"
   ]
  },
  {
   "cell_type": "markdown",
   "id": "bd1b0922",
   "metadata": {},
   "source": [
    "### 4.3. <a id='toc4_3_'></a>[Labor market](#toc0_)"
   ]
  },
  {
   "cell_type": "code",
   "execution_count": null,
   "id": "97c2b304",
   "metadata": {},
   "outputs": [],
   "source": [
    "model.plot_IRF(varlist=['S','L_ubar','v','curlyM','m_v','m_s','delta_L','W','real_W'],abs=['m_v','m_s'])"
   ]
  },
  {
   "cell_type": "markdown",
   "id": "aa87774b",
   "metadata": {},
   "source": [
    "### 4.4. <a id='toc4_4_'></a>[Capital accumulation](#toc0_)"
   ]
  },
  {
   "cell_type": "code",
   "execution_count": null,
   "id": "dfd7d3ea",
   "metadata": {},
   "outputs": [],
   "source": [
    "model.plot_IRF(varlist=['K','I','r_K','P_I'],ncol=2)"
   ]
  },
  {
   "cell_type": "markdown",
   "id": "692f2826",
   "metadata": {},
   "source": [
    "### 4.5. <a id='toc4_5_'></a>[Production firms](#toc0_)"
   ]
  },
  {
   "cell_type": "code",
   "execution_count": null,
   "id": "22b20c6f",
   "metadata": {},
   "outputs": [],
   "source": [
    "model.plot_IRF(varlist=['K','ell','Gamma','Y','r_K','r_ell'],ncol=2)"
   ]
  },
  {
   "cell_type": "markdown",
   "id": "31d10eaf",
   "metadata": {},
   "source": [
    "### 4.6. <a id='toc4_6_'></a>[Phillips curve](#toc0_)"
   ]
  },
  {
   "cell_type": "code",
   "execution_count": null,
   "id": "d32d099e",
   "metadata": {},
   "outputs": [],
   "source": [
    "model.plot_IRF(varlist=['Y','P_Y_0','P_Y'],ncol=2)"
   ]
  },
  {
   "cell_type": "markdown",
   "id": "71ed7876",
   "metadata": {},
   "source": [
    "### 4.7. <a id='toc4_7_'></a>[Government](#toc0_)"
   ]
  },
  {
   "cell_type": "code",
   "execution_count": null,
   "id": "3fa00b06",
   "metadata": {},
   "outputs": [],
   "source": [
    "model.plot_IRF(varlist=['G','B','tau'],abs=['tau'],Y_share=['B'])"
   ]
  },
  {
   "cell_type": "markdown",
   "id": "6db2b973",
   "metadata": {},
   "source": [
    "### 4.8. <a id='toc4_8_'></a>[Households - aggregate](#toc0_)"
   ]
  },
  {
   "cell_type": "code",
   "execution_count": null,
   "id": "20b18a45-d15c-4b90-b3b1-c820fad862cf",
   "metadata": {},
   "outputs": [],
   "source": [
    "model.plot_IRF(varlist=['L','U','inc','W','real_W','real_r_hh','C','A','Aq'],ncol=3,abs=['real_r_hh'])"
   ]
  },
  {
   "cell_type": "code",
   "execution_count": null,
   "id": "29ab8217",
   "metadata": {},
   "outputs": [],
   "source": [
    "model.plot_IRF(varlist=['C_HtM','C_R'],ncol=2)"
   ]
  },
  {
   "cell_type": "markdown",
   "id": "990c5fe9",
   "metadata": {},
   "source": [
    "### 4.9. <a id='toc4_9_'></a>[Households - life-cycle](#toc0_)"
   ]
  },
  {
   "cell_type": "code",
   "execution_count": null,
   "id": "ac73c54d-1f8e-46c0-91ea-8a680266db48",
   "metadata": {},
   "outputs": [],
   "source": [
    "model.plot_IRF_hh(varlist=['L_a','L_ubar_a','S_a','inc_a','C_a','A_a'],t0_list=[-20,-10,0,10,20])"
   ]
  }
 ],
 "metadata": {
  "kernelspec": {
   "display_name": "Python 3 (ipykernel)",
   "language": "python",
   "name": "python3"
  },
  "language_info": {
   "codemirror_mode": {
    "name": "ipython",
    "version": 3
   },
   "file_extension": ".py",
   "mimetype": "text/x-python",
   "name": "python",
   "nbconvert_exporter": "python",
   "pygments_lexer": "ipython3",
   "version": "3.9.15"
  },
  "toc-autonumbering": true,
  "vscode": {
   "interpreter": {
    "hash": "8e46095560128379321b1ce69ff92c6b7a45fc7d9b830ea022fe373b05aa9725"
   }
  }
 },
 "nbformat": 4,
 "nbformat_minor": 5
}
