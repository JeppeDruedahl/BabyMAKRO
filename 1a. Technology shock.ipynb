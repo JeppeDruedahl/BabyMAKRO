{
 "cells": [
  {
   "cell_type": "code",
   "execution_count": 1,
   "id": "4b9ffaa1-2f71-40c9-9ec0-2b1a66545d46",
   "metadata": {},
   "outputs": [],
   "source": [
    "%load_ext autoreload\n",
    "%autoreload 2\n",
    "\n",
    "import numpy as np\n",
    "import matplotlib.pyplot as plt   \n",
    "plt.style.use('seaborn-whitegrid')\n",
    "prop_cycle = plt.rcParams['axes.prop_cycle']\n",
    "colors = prop_cycle.by_key()['color']\n",
    "\n",
    "from BabyMAKROModel import BabyMAKROModelClass"
   ]
  },
  {
   "cell_type": "markdown",
   "id": "263e2c2f-b5b3-45a5-9f2d-e04f335c0900",
   "metadata": {
    "tags": []
   },
   "source": [
    "# Setup"
   ]
  },
  {
   "cell_type": "code",
   "execution_count": 2,
   "id": "69981f4f-beca-4e00-8373-d7392662625b",
   "metadata": {},
   "outputs": [],
   "source": [
    "model = BabyMAKROModelClass(name='baseline')"
   ]
  },
  {
   "cell_type": "code",
   "execution_count": 3,
   "id": "b6a42e14-a303-4d94-9afa-b5a6e9d98a48",
   "metadata": {},
   "outputs": [],
   "source": [
    "par = model.par\n",
    "ss = model.ss\n",
    "sol = model.sol"
   ]
  },
  {
   "cell_type": "markdown",
   "id": "ecfdc724-acd2-4d62-856a-af3e4fbc64e0",
   "metadata": {},
   "source": [
    "# Find steady state and Jacobian"
   ]
  },
  {
   "cell_type": "code",
   "execution_count": 4,
   "id": "3c6630c8-ca58-4e1b-8dc2-d8816431d506",
   "metadata": {},
   "outputs": [],
   "source": [
    "model.find_ss()"
   ]
  },
  {
   "cell_type": "code",
   "execution_count": 5,
   "id": "ec999c19-feb4-40a4-a233-8e4602274660",
   "metadata": {},
   "outputs": [],
   "source": [
    "model.calc_jac(do_print=True)"
   ]
  },
  {
   "cell_type": "markdown",
   "id": "512ad1c6-9cdb-49ea-a835-f4db81925347",
   "metadata": {},
   "source": [
    "# Find IRF"
   ]
  },
  {
   "cell_type": "code",
   "execution_count": null,
   "id": "c8384bfc-725e-4c67-9bc2-3012b2230c12",
   "metadata": {},
   "outputs": [],
   "source": [
    "model.set_exo_ss()"
   ]
  },
  {
   "cell_type": "code",
   "execution_count": null,
   "id": "6b757ecc-6b62-4e94-bab1-3d1cf48fc2e9",
   "metadata": {},
   "outputs": [],
   "source": [
    "Tshock = 50\n",
    "shock = 0.01*ss.Gamma\n",
    "persistence = 0.80**np.arange(Tshock)\n",
    "sol.Gamma[:Tshock] = ss.Gamma + shock*persistence"
   ]
  },
  {
   "cell_type": "code",
   "execution_count": null,
   "id": "7fca48fb-f09c-4672-a410-980b798fa40c",
   "metadata": {},
   "outputs": [],
   "source": [
    "model.find_IRF()\n"
   ]
  },
  {
   "cell_type": "code",
   "execution_count": null,
   "id": "24f83eef",
   "metadata": {},
   "outputs": [],
   "source": [
    "model2 = model.find_IRF_sparse()"
   ]
  },
  {
   "cell_type": "markdown",
   "id": "505252f8-52b9-4e1b-8e3e-e94f856be19a",
   "metadata": {},
   "source": [
    "## Figures"
   ]
  },
  {
   "cell_type": "markdown",
   "id": "523ee313-89a8-4ccb-81eb-2805cf6783ef",
   "metadata": {},
   "source": [
    "### Long-view"
   ]
  },
  {
   "cell_type": "code",
   "execution_count": null,
   "id": "bc1f7f49-c34f-434d-929a-80a4be3b0f64",
   "metadata": {},
   "outputs": [],
   "source": [
    "model.plot_IRF(varlist=['Gamma','K','A','B'],T_IRF=par.T,ncol=2)"
   ]
  },
  {
   "cell_type": "markdown",
   "id": "20c30273-b98b-4b99-8fa9-f98a952a8f49",
   "metadata": {},
   "source": [
    "### National accouting - quantities"
   ]
  },
  {
   "cell_type": "code",
   "execution_count": null,
   "id": "8dc3d1fb-b1be-4d27-9f6a-a2648d31fbf8",
   "metadata": {},
   "outputs": [],
   "source": [
    "model.plot_IRF(varlist=['Y','C','G','I','X','M'])"
   ]
  },
  {
   "cell_type": "markdown",
   "id": "d63a7c8d-139d-43d3-b3f1-08e274f1a24f",
   "metadata": {},
   "source": [
    "### National accouting - prices"
   ]
  },
  {
   "cell_type": "code",
   "execution_count": null,
   "id": "df04993c-f17b-48a9-afaf-62994b38fef7",
   "metadata": {},
   "outputs": [],
   "source": [
    "model.plot_IRF(varlist=['P_Y','P_C','P_G','P_I','P_X'])"
   ]
  },
  {
   "cell_type": "markdown",
   "id": "da47f97d-e203-4d68-be44-159925b16e48",
   "metadata": {},
   "source": [
    "### Labor market"
   ]
  },
  {
   "cell_type": "code",
   "execution_count": null,
   "id": "3dae8d0f-13c5-457f-a105-3c792612b353",
   "metadata": {},
   "outputs": [],
   "source": [
    "model.plot_IRF(varlist=['S','L_ubar','v','curlyM','m_v','m_s','delta_L','W','real_W'],abs=['m_v','m_s'])"
   ]
  },
  {
   "cell_type": "markdown",
   "id": "a4ccf3da-3c84-4fdf-a7b4-a33107141c87",
   "metadata": {},
   "source": [
    "### Capital accumulation"
   ]
  },
  {
   "cell_type": "code",
   "execution_count": null,
   "id": "08088e6d-ec58-4915-bd4a-e033527b628d",
   "metadata": {},
   "outputs": [],
   "source": [
    "model.plot_IRF(varlist=['K','I','r_K','P_I'],ncol=2)"
   ]
  },
  {
   "cell_type": "markdown",
   "id": "6d214758-9b52-4670-8a25-87830fd3981e",
   "metadata": {},
   "source": [
    "### Production firms"
   ]
  },
  {
   "cell_type": "code",
   "execution_count": null,
   "id": "b5a54587-cb5f-423a-90b1-60ffb010bcff",
   "metadata": {},
   "outputs": [],
   "source": [
    "model.plot_IRF(varlist=['K','ell','Gamma','Y','r_K','r_ell'],ncol=2)"
   ]
  },
  {
   "cell_type": "markdown",
   "id": "83ebce44-d155-4182-b592-547aec1bd9e1",
   "metadata": {},
   "source": [
    "### Phillips curve"
   ]
  },
  {
   "cell_type": "code",
   "execution_count": null,
   "id": "96abbeee-6399-44c7-a33d-2367f9556b73",
   "metadata": {},
   "outputs": [],
   "source": [
    "model.plot_IRF(varlist=['Y','P_Y_0','P_Y'],ncol=2)"
   ]
  },
  {
   "cell_type": "markdown",
   "id": "ecd7d2bf-0574-4ad7-961b-408e2bb3582e",
   "metadata": {
    "tags": []
   },
   "source": [
    "### Government"
   ]
  },
  {
   "cell_type": "code",
   "execution_count": null,
   "id": "c3202773-6cfb-4a6e-bbfb-495b9f1f4cef",
   "metadata": {},
   "outputs": [],
   "source": [
    "model.plot_IRF(varlist=['G','B','tau'],abs=['tau'],Y_share=['B'])"
   ]
  },
  {
   "cell_type": "markdown",
   "id": "c86ab2bd-3daf-4db0-9c24-ce32995c2e8c",
   "metadata": {},
   "source": [
    "### Households - aggregate"
   ]
  },
  {
   "cell_type": "code",
   "execution_count": null,
   "id": "20b18a45-d15c-4b90-b3b1-c820fad862cf",
   "metadata": {},
   "outputs": [],
   "source": [
    "model.plot_IRF(varlist=['L','U','inc','W','real_W','real_r_hh','C','A','Aq'],ncol=3,abs=['real_r_hh'])"
   ]
  },
  {
   "cell_type": "code",
   "execution_count": null,
   "id": "22758c42-161f-4f5b-956f-4c9cb5399067",
   "metadata": {},
   "outputs": [],
   "source": [
    "model.plot_IRF(varlist=['C_HtM','C_R'],ncol=2)"
   ]
  },
  {
   "cell_type": "markdown",
   "id": "ba385e3b-0beb-411e-926b-f10107f93607",
   "metadata": {},
   "source": [
    "### Households - life-cycle"
   ]
  },
  {
   "cell_type": "code",
   "execution_count": null,
   "id": "ac73c54d-1f8e-46c0-91ea-8a680266db48",
   "metadata": {},
   "outputs": [],
   "source": [
    "model.plot_IRF_hh(varlist=['L_a','L_ubar_a','S_a','inc_a','C_a','A_a'],t0_list=[-50,-40,-30,-20,-10,0])"
   ]
  },
  {
   "cell_type": "code",
   "execution_count": null,
   "id": "d8274ba9",
   "metadata": {},
   "outputs": [],
   "source": [
    "sol.L_a[:,1]"
   ]
  },
  {
   "cell_type": "code",
   "execution_count": null,
   "id": "b30a731f",
   "metadata": {},
   "outputs": [],
   "source": []
  }
 ],
 "metadata": {
  "kernelspec": {
   "display_name": "Python 3 (ipykernel)",
   "language": "python",
   "name": "python3"
  },
  "language_info": {
   "codemirror_mode": {
    "name": "ipython",
    "version": 3
   },
   "file_extension": ".py",
   "mimetype": "text/x-python",
   "name": "python",
   "nbconvert_exporter": "python",
   "pygments_lexer": "ipython3",
   "version": "3.9.13"
  },
  "toc-autonumbering": true,
  "vscode": {
   "interpreter": {
    "hash": "8e46095560128379321b1ce69ff92c6b7a45fc7d9b830ea022fe373b05aa9725"
   }
  }
 },
 "nbformat": 4,
 "nbformat_minor": 5
}
