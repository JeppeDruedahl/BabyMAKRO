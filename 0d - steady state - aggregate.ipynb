{
 "cells": [
  {
   "attachments": {},
   "cell_type": "markdown",
   "id": "6ad56dfa",
   "metadata": {},
   "source": [
    "# Steady State - Aggregate"
   ]
  },
  {
   "attachments": {},
   "cell_type": "markdown",
   "id": "88730dfa",
   "metadata": {},
   "source": [
    "**Table of contents**<a id='toc0_'></a>    \n",
    "- 1. [Setup](#toc1_)    \n",
    "- 2. [Find steady state](#toc2_)    \n",
    "  - 2.1. [Compare with data](#toc2_1_)    \n",
    "- 3. [Speed and error tests](#toc3_)    \n",
    "\n",
    "<!-- vscode-jupyter-toc-config\n",
    "\tnumbering=true\n",
    "\tanchor=true\n",
    "\tflat=false\n",
    "\tminLevel=2\n",
    "\tmaxLevel=6\n",
    "\t/vscode-jupyter-toc-config -->\n",
    "<!-- THIS CELL WILL BE REPLACED ON TOC UPDATE. DO NOT WRITE YOUR TEXT IN THIS CELL -->"
   ]
  },
  {
   "cell_type": "code",
   "execution_count": 1,
   "id": "b05f230e",
   "metadata": {
    "execution": {
     "iopub.execute_input": "2023-05-14T18:40:16.297481Z",
     "iopub.status.busy": "2023-05-14T18:40:16.297481Z",
     "iopub.status.idle": "2023-05-14T18:40:17.430578Z",
     "shell.execute_reply": "2023-05-14T18:40:17.430578Z"
    }
   },
   "outputs": [],
   "source": [
    "%load_ext autoreload\n",
    "%autoreload 2\n",
    "\n",
    "import time\n",
    "import pickle\n",
    "import numpy as np\n",
    "from scipy import optimize\n",
    "\n",
    "import matplotlib.pyplot as plt   \n",
    "plt.rcParams.update({\"axes.grid\":True,\"grid.color\":\"black\",\"grid.alpha\":\"0.25\",\"grid.linestyle\":\"--\"})\n",
    "prop_cycle = plt.rcParams['axes.prop_cycle']\n",
    "colors = prop_cycle.by_key()['color']\n",
    "\n",
    "from BabyMAKROModel import BabyMAKROModelClass"
   ]
  },
  {
   "attachments": {},
   "cell_type": "markdown",
   "id": "2696390a",
   "metadata": {},
   "source": [
    "## 1. <a id='toc1_'></a>[Setup](#toc0_)"
   ]
  },
  {
   "cell_type": "code",
   "execution_count": 2,
   "id": "69981f4f-beca-4e00-8373-d7392662625b",
   "metadata": {
    "execution": {
     "iopub.execute_input": "2023-05-14T18:40:17.432224Z",
     "iopub.status.busy": "2023-05-14T18:40:17.432224Z",
     "iopub.status.idle": "2023-05-14T18:40:17.525150Z",
     "shell.execute_reply": "2023-05-14T18:40:17.525150Z"
    }
   },
   "outputs": [],
   "source": [
    "model = BabyMAKROModelClass(name='baseline') # create an instance of the model"
   ]
  },
  {
   "attachments": {},
   "cell_type": "markdown",
   "id": "d60c9e95",
   "metadata": {},
   "source": [
    "## 2. <a id='toc2_'></a>[Find steady state](#toc0_)"
   ]
  },
  {
   "cell_type": "code",
   "execution_count": 3,
   "id": "1326777e",
   "metadata": {
    "execution": {
     "iopub.execute_input": "2023-05-14T18:40:17.525150Z",
     "iopub.status.busy": "2023-05-14T18:40:17.525150Z",
     "iopub.status.idle": "2023-05-14T18:40:18.207577Z",
     "shell.execute_reply": "2023-05-14T18:40:18.207577Z"
    }
   },
   "outputs": [
    {
     "name": "stdout",
     "output_type": "stream",
     "text": [
      "\u001b[1m\u001b[94mLabor supply, search and matching:\u001b[0m\n",
      "ss.S/par.N_work = 0.15, ss.L/par.N_work = 0.96, ss.U/par.N_work = 0.04\n",
      "ss.delta_L = 0.12, ss.m_s = 0.75, ss.m_v = 0.75, ss.v = 6.93\n",
      "par.sigma_m = 0.42\n",
      "\u001b[1m\u001b[94mCapital agency FOC:\u001b[0m\n",
      "ss.r_K = 0.12\n",
      "\u001b[1m\u001b[94mLabor agency FOC:\u001b[0m\n",
      "ss.r_ell = 1.01, (ss.L-ss.ell)/par.N_work*100 = 0.77\n",
      "\u001b[1m\u001b[94mProduction firm:\u001b[0m\n",
      "ss.P_Y_0 = 0.91, ss.Gamma = 0.54, ss.Y = 71.99, ss.K = 184.37\n",
      "\u001b[1m\u001b[94mCapital accumulation:\u001b[0m\n",
      "ss.iota = 18.44, ss.I = 18.44\n",
      "\u001b[1m\u001b[94mGovernment:\u001b[0m\n",
      "ss.B = 0.00, ss.G = 18.00, ss.tau = 0.48\n",
      "\u001b[1m\u001b[94mHouseholds:\u001b[0m\n",
      "ss.Aq/par.N = 0.07, ss.real_W = 1.00, ss.C = 45.28, ss.A = -7.97, ss.r_hh = 0.02\n",
      "\u001b[1m\u001b[94mMarket clearing:\u001b[0m\n",
      "ss.C/ss.Y = 0.63, ss.G/ss.Y = 0.25, ss.I/ss.Y = 0.26, ss.X/ss.Y = 0.28, ss.M/ss.Y = 0.42\n"
     ]
    }
   ],
   "source": [
    "par = model.par\n",
    "ss = model.ss\n",
    "model.find_ss(do_print=True)    "
   ]
  },
  {
   "attachments": {},
   "cell_type": "markdown",
   "id": "54756c2e",
   "metadata": {},
   "source": [
    "### 2.1. <a id='toc2_1_'></a>[Compare with data](#toc0_)"
   ]
  },
  {
   "cell_type": "code",
   "execution_count": 4,
   "id": "55378d88",
   "metadata": {
    "execution": {
     "iopub.execute_input": "2023-05-14T18:40:18.207577Z",
     "iopub.status.busy": "2023-05-14T18:40:18.207577Z",
     "iopub.status.idle": "2023-05-14T18:40:18.296945Z",
     "shell.execute_reply": "2023-05-14T18:40:18.296945Z"
    }
   },
   "outputs": [
    {
     "name": "stdout",
     "output_type": "stream",
     "text": [
      "M_ratio\n",
      "  From data: 0.46\n",
      "  From model: 0.42\n",
      "X_ratio\n",
      "  From data: 0.52\n",
      "  From model: 0.28\n",
      "C_ratio\n",
      "  From data: 0.47\n",
      "  From model: 0.63\n",
      "G_ratio\n",
      "  From data: 0.25\n",
      "  From model: 0.25\n",
      "I_ratio\n",
      "  From data: 0.22\n",
      "  From model: 0.26\n",
      "K_ratio\n",
      "  From data: 5.44\n",
      "  From model: 2.56\n",
      "L_ratio\n",
      "  From data: 0.74\n",
      "  From model: 0.81\n",
      "U\n",
      "  From data: 3.93\n",
      "  From model: 1.73\n"
     ]
    }
   ],
   "source": [
    "with open('data/ss_aggregate.pickle', 'rb') as f:\n",
    "    ss_aggregate = pickle.load(f)\n",
    "\n",
    "for k, v in ss_aggregate.items():\n",
    "    print(f'{k}')\n",
    "    print(f'  From data: {v:.2f}')\n",
    "    print(f'  From model: {getattr(ss, k):.2f}')"
   ]
  },
  {
   "attachments": {},
   "cell_type": "markdown",
   "id": "8f289164",
   "metadata": {},
   "source": [
    "## 3. <a id='toc3_'></a>[Speed and error tests](#toc0_)"
   ]
  },
  {
   "cell_type": "code",
   "execution_count": 5,
   "id": "cf9f7d25-b165-47da-9019-db87b56eeb18",
   "metadata": {
    "execution": {
     "iopub.execute_input": "2023-05-14T18:40:18.300344Z",
     "iopub.status.busy": "2023-05-14T18:40:18.300344Z",
     "iopub.status.idle": "2023-05-14T18:40:18.382771Z",
     "shell.execute_reply": "2023-05-14T18:40:18.382771Z"
    }
   },
   "outputs": [],
   "source": [
    "model.set_exo_ss()          \n",
    "model.set_unknowns_ss()     "
   ]
  },
  {
   "attachments": {},
   "cell_type": "markdown",
   "id": "b57d0b23-f96b-41bc-96be-22871ee741db",
   "metadata": {},
   "source": [
    "**Python evaluation:**"
   ]
  },
  {
   "cell_type": "code",
   "execution_count": 6,
   "id": "00944cf1-30aa-49bd-a5de-30d0bf40bc9d",
   "metadata": {
    "execution": {
     "iopub.execute_input": "2023-05-14T18:40:18.382771Z",
     "iopub.status.busy": "2023-05-14T18:40:18.382771Z",
     "iopub.status.idle": "2023-05-14T18:40:24.223296Z",
     "shell.execute_reply": "2023-05-14T18:40:24.221926Z"
    }
   },
   "outputs": [
    {
     "name": "stdout",
     "output_type": "stream",
     "text": [
      "CPU times: total: 8.44 s\n",
      "Wall time: 9.71 s\n"
     ]
    }
   ],
   "source": [
    "%time model.evaluate_blocks(py=True)"
   ]
  },
  {
   "attachments": {},
   "cell_type": "markdown",
   "id": "a4a03dad-8ff7-433b-a102-d056347960be",
   "metadata": {},
   "source": [
    "**Check errors:**"
   ]
  },
  {
   "cell_type": "code",
   "execution_count": 7,
   "id": "00c35c58-9a95-4e47-bb81-5bdccef9c2f6",
   "metadata": {
    "execution": {
     "iopub.execute_input": "2023-05-14T18:40:24.226324Z",
     "iopub.status.busy": "2023-05-14T18:40:24.225294Z",
     "iopub.status.idle": "2023-05-14T18:40:24.301273Z",
     "shell.execute_reply": "2023-05-14T18:40:24.300504Z"
    }
   },
   "outputs": [
    {
     "name": "stdout",
     "output_type": "stream",
     "text": [
      "A_R_ini_error       : abs. max = 2.61e-14\n",
      "Aq_diff             : abs. max = 1.05e-14\n",
      "FOC_capital_agency  : abs. max = 2.22e-16\n",
      "FOC_K_ell           : abs. max = 2.66e-15\n",
      "mkt_clearing        : abs. max = 2.84e-14\n",
      "PC                  : abs. max = 0.00e+00\n"
     ]
    }
   ],
   "source": [
    "errors = model.get_errors(do_print=True)"
   ]
  },
  {
   "cell_type": "code",
   "execution_count": 8,
   "id": "5091fc38-ae2c-42cf-a9dc-35da2ac13f5f",
   "metadata": {
    "execution": {
     "iopub.execute_input": "2023-05-14T18:40:24.305262Z",
     "iopub.status.busy": "2023-05-14T18:40:24.304263Z",
     "iopub.status.idle": "2023-05-14T18:40:24.407825Z",
     "shell.execute_reply": "2023-05-14T18:40:24.406920Z"
    }
   },
   "outputs": [
    {
     "name": "stdout",
     "output_type": "stream",
     "text": [
      "errors are zero\n"
     ]
    }
   ],
   "source": [
    "if np.allclose(errors,0.0):\n",
    "    print('errors are zero')\n",
    "else:\n",
    "    raise ValueError('errors are NOT zero')"
   ]
  },
  {
   "attachments": {},
   "cell_type": "markdown",
   "id": "2388d71e-8088-4722-97cc-cf6276051313",
   "metadata": {},
   "source": [
    "**First numba evaluation:**"
   ]
  },
  {
   "cell_type": "code",
   "execution_count": 9,
   "id": "cd1c0060-534a-4329-9d7f-4336d746e699",
   "metadata": {
    "execution": {
     "iopub.execute_input": "2023-05-14T18:40:24.411813Z",
     "iopub.status.busy": "2023-05-14T18:40:24.411813Z",
     "iopub.status.idle": "2023-05-14T18:41:42.749899Z",
     "shell.execute_reply": "2023-05-14T18:41:42.749027Z"
    }
   },
   "outputs": [
    {
     "name": "stdout",
     "output_type": "stream",
     "text": [
      "CPU times: total: 1min 40s\n",
      "Wall time: 1min 41s\n"
     ]
    }
   ],
   "source": [
    "%time model.evaluate_blocks()"
   ]
  },
  {
   "attachments": {},
   "cell_type": "markdown",
   "id": "7d76c91e-051f-4a54-b143-5758dd7a3eaa",
   "metadata": {},
   "source": [
    "**Time:**"
   ]
  },
  {
   "cell_type": "code",
   "execution_count": 10,
   "id": "876cc0fb-5f7b-413a-8cf8-e085d9256d3b",
   "metadata": {
    "execution": {
     "iopub.execute_input": "2023-05-14T18:41:42.753928Z",
     "iopub.status.busy": "2023-05-14T18:41:42.752951Z",
     "iopub.status.idle": "2023-05-14T18:41:50.014051Z",
     "shell.execute_reply": "2023-05-14T18:41:50.014051Z"
    }
   },
   "outputs": [
    {
     "name": "stdout",
     "output_type": "stream",
     "text": [
      "41.9 ms ± 876 µs per loop (mean ± std. dev. of 7 runs, 10 loops each)\n",
      "37.2 µs ± 1.56 µs per loop (mean ± std. dev. of 7 runs, 10,000 loops each)\n"
     ]
    }
   ],
   "source": [
    "%timeit model.evaluate_blocks()\n",
    "%timeit model.get_errors()"
   ]
  },
  {
   "cell_type": "code",
   "execution_count": 11,
   "id": "65b6c0ac-41de-4c7d-9f71-f8222b933e88",
   "metadata": {
    "execution": {
     "iopub.execute_input": "2023-05-14T18:41:50.014051Z",
     "iopub.status.busy": "2023-05-14T18:41:50.014051Z",
     "iopub.status.idle": "2023-05-14T18:42:12.203493Z",
     "shell.execute_reply": "2023-05-14T18:42:12.203493Z"
    }
   },
   "outputs": [
    {
     "name": "stdout",
     "output_type": "stream",
     "text": [
      "2.42 s ± 36.8 ms per loop (mean ± std. dev. of 7 runs, 1 loop each)\n"
     ]
    }
   ],
   "source": [
    "%timeit model.evaluate_blocks(py=True)"
   ]
  }
 ],
 "metadata": {
  "kernelspec": {
   "display_name": "base",
   "language": "python",
   "name": "python3"
  },
  "language_info": {
   "codemirror_mode": {
    "name": "ipython",
    "version": 3
   },
   "file_extension": ".py",
   "mimetype": "text/x-python",
   "name": "python",
   "nbconvert_exporter": "python",
   "pygments_lexer": "ipython3",
   "version": "3.10.11"
  },
  "toc-autonumbering": true,
  "vscode": {
   "interpreter": {
    "hash": "8e46095560128379321b1ce69ff92c6b7a45fc7d9b830ea022fe373b05aa9725"
   }
  }
 },
 "nbformat": 4,
 "nbformat_minor": 5
}
