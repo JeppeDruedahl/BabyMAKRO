{
 "cells": [
  {
   "attachments": {},
   "cell_type": "markdown",
   "id": "6ad56dfa",
   "metadata": {
    "papermill": {
     "duration": 0.0,
     "end_time": "2023-10-23T12:56:40.128371",
     "exception": false,
     "start_time": "2023-10-23T12:56:40.128371",
     "status": "completed"
    },
    "tags": []
   },
   "source": [
    "# Steady State - Aggregate"
   ]
  },
  {
   "attachments": {},
   "cell_type": "markdown",
   "id": "88730dfa",
   "metadata": {
    "papermill": {
     "duration": 0.015582,
     "end_time": "2023-10-23T12:56:40.143953",
     "exception": false,
     "start_time": "2023-10-23T12:56:40.128371",
     "status": "completed"
    },
    "tags": []
   },
   "source": [
    "**Table of contents**<a id='toc0_'></a>    \n",
    "- 1. [Setup](#toc1_)    \n",
    "- 2. [Find steady state](#toc2_)    \n",
    "  - 2.1. [Compare with data](#toc2_1_)    \n",
    "- 3. [Speed and error tests](#toc3_)    \n",
    "\n",
    "<!-- vscode-jupyter-toc-config\n",
    "\tnumbering=true\n",
    "\tanchor=true\n",
    "\tflat=false\n",
    "\tminLevel=2\n",
    "\tmaxLevel=6\n",
    "\t/vscode-jupyter-toc-config -->\n",
    "<!-- THIS CELL WILL BE REPLACED ON TOC UPDATE. DO NOT WRITE YOUR TEXT IN THIS CELL -->"
   ]
  },
  {
   "cell_type": "code",
   "execution_count": 1,
   "id": "b05f230e",
   "metadata": {
    "execution": {
     "iopub.execute_input": "2023-10-23T12:56:40.163429Z",
     "iopub.status.busy": "2023-10-23T12:56:40.163429Z",
     "iopub.status.idle": "2023-10-23T12:56:41.978574Z",
     "shell.execute_reply": "2023-10-23T12:56:41.977571Z"
    },
    "papermill": {
     "duration": 1.831443,
     "end_time": "2023-10-23T12:56:41.980571",
     "exception": false,
     "start_time": "2023-10-23T12:56:40.149128",
     "status": "completed"
    },
    "tags": []
   },
   "outputs": [],
   "source": [
    "%load_ext autoreload\n",
    "%autoreload 2\n",
    "\n",
    "import time\n",
    "import pickle\n",
    "import numpy as np\n",
    "from scipy import optimize\n",
    "\n",
    "import matplotlib.pyplot as plt   \n",
    "plt.rcParams.update({\"axes.grid\":True,\"grid.color\":\"black\",\"grid.alpha\":\"0.25\",\"grid.linestyle\":\"--\"})\n",
    "prop_cycle = plt.rcParams['axes.prop_cycle']\n",
    "colors = prop_cycle.by_key()['color']\n",
    "\n",
    "from BabyMAKROModel import BabyMAKROModelClass"
   ]
  },
  {
   "attachments": {},
   "cell_type": "markdown",
   "id": "2696390a",
   "metadata": {
    "papermill": {
     "duration": 0.0,
     "end_time": "2023-10-23T12:56:41.982637",
     "exception": false,
     "start_time": "2023-10-23T12:56:41.982637",
     "status": "completed"
    },
    "tags": []
   },
   "source": [
    "## 1. <a id='toc1_'></a>[Setup](#toc0_)"
   ]
  },
  {
   "cell_type": "code",
   "execution_count": 2,
   "id": "69981f4f-beca-4e00-8373-d7392662625b",
   "metadata": {
    "execution": {
     "iopub.execute_input": "2023-10-23T12:56:42.000514Z",
     "iopub.status.busy": "2023-10-23T12:56:42.000514Z",
     "iopub.status.idle": "2023-10-23T12:56:42.162532Z",
     "shell.execute_reply": "2023-10-23T12:56:42.162532Z"
    },
    "papermill": {
     "duration": 0.162018,
     "end_time": "2023-10-23T12:56:42.162532",
     "exception": false,
     "start_time": "2023-10-23T12:56:42.000514",
     "status": "completed"
    },
    "tags": []
   },
   "outputs": [],
   "source": [
    "model = BabyMAKROModelClass(name='baseline') # create an instance of the model"
   ]
  },
  {
   "attachments": {},
   "cell_type": "markdown",
   "id": "d60c9e95",
   "metadata": {
    "papermill": {
     "duration": 0.0,
     "end_time": "2023-10-23T12:56:42.162532",
     "exception": false,
     "start_time": "2023-10-23T12:56:42.162532",
     "status": "completed"
    },
    "tags": []
   },
   "source": [
    "## 2. <a id='toc2_'></a>[Find steady state](#toc0_)"
   ]
  },
  {
   "cell_type": "code",
   "execution_count": 3,
   "id": "1326777e",
   "metadata": {
    "execution": {
     "iopub.execute_input": "2023-10-23T12:56:42.184425Z",
     "iopub.status.busy": "2023-10-23T12:56:42.184425Z",
     "iopub.status.idle": "2023-10-23T12:56:43.179989Z",
     "shell.execute_reply": "2023-10-23T12:56:43.178689Z"
    },
    "papermill": {
     "duration": 0.997573,
     "end_time": "2023-10-23T12:56:43.181998",
     "exception": false,
     "start_time": "2023-10-23T12:56:42.184425",
     "status": "completed"
    },
    "tags": []
   },
   "outputs": [
    {
     "name": "stdout",
     "output_type": "stream",
     "text": [
      "\u001b[1m\u001b[94mLabor supply, search and matching:\u001b[0m\n",
      "ss.S/par.N_work = 0.16, ss.L/par.N_work = 0.96, ss.U/par.N_work = 0.04\n",
      "ss.delta_L = 0.12, ss.m_s = 0.75, ss.m_v = 0.75, ss.v = 6.67\n",
      "par.sigma_m = 0.42\n",
      "\u001b[1m\u001b[94mCapital agency FOC:\u001b[0m\n",
      "ss.r_K = 0.12\n",
      "\u001b[1m\u001b[94mLabor agency FOC:\u001b[0m\n",
      "ss.r_ell = 1.01, (ss.LH-ss.ell)/par.N_work*100 = 0.78\n"
     ]
    },
    {
     "name": "stdout",
     "output_type": "stream",
     "text": [
      "\u001b[1m\u001b[94mProduction firm:\u001b[0m\n",
      "ss.P_Y_0 = 0.91, ss.Gamma = 0.54, ss.Y = 125.59, ss.K = 321.66\n",
      "\u001b[1m\u001b[94mCapital accumulation:\u001b[0m\n",
      "ss.iota = 32.17, ss.I = 32.17\n",
      "\u001b[1m\u001b[94mGovernment:\u001b[0m\n",
      "ss.B = 0.00, ss.G = 31.40, ss.tau = 0.48\n",
      "\u001b[1m\u001b[94mHouseholds:\u001b[0m\n",
      "ss.Aq/par.N = 0.06, ss.real_W = 1.00, ss.C = 44.72, ss.A = 29.59, ss.r_hh = 0.02\n",
      "\u001b[1m\u001b[94mMarket clearing:\u001b[0m\n",
      "ss.C/ss.Y = 0.36, ss.G/ss.Y = 0.25, ss.I/ss.Y = 0.26, ss.X/ss.Y = 0.60, ss.M/ss.Y = 0.46\n"
     ]
    }
   ],
   "source": [
    "par = model.par\n",
    "ss = model.ss\n",
    "\n",
    "model.find_ss(do_print=True)    "
   ]
  },
  {
   "attachments": {},
   "cell_type": "markdown",
   "id": "54756c2e",
   "metadata": {
    "papermill": {
     "duration": 0.004996,
     "end_time": "2023-10-23T12:56:43.193978",
     "exception": false,
     "start_time": "2023-10-23T12:56:43.188982",
     "status": "completed"
    },
    "tags": []
   },
   "source": [
    "### 2.1. <a id='toc2_1_'></a>[Compare with data](#toc0_)"
   ]
  },
  {
   "cell_type": "code",
   "execution_count": 4,
   "id": "55378d88",
   "metadata": {
    "execution": {
     "iopub.execute_input": "2023-10-23T12:56:43.215895Z",
     "iopub.status.busy": "2023-10-23T12:56:43.214896Z",
     "iopub.status.idle": "2023-10-23T12:56:43.383889Z",
     "shell.execute_reply": "2023-10-23T12:56:43.382711Z"
    },
    "papermill": {
     "duration": 0.182748,
     "end_time": "2023-10-23T12:56:43.386720",
     "exception": false,
     "start_time": "2023-10-23T12:56:43.203972",
     "status": "completed"
    },
    "tags": []
   },
   "outputs": [
    {
     "name": "stdout",
     "output_type": "stream",
     "text": [
      "M_ratio\n",
      "  From data: 0.46\n",
      "  From model: 0.46\n",
      "X_ratio\n",
      "  From data: 0.52\n",
      "  From model: 0.60\n",
      "C_ratio\n",
      "  From data: 0.47\n",
      "  From model: 0.36\n",
      "G_ratio\n",
      "  From data: 0.25\n",
      "  From model: 0.25\n",
      "I_ratio\n",
      "  From data: 0.22\n",
      "  From model: 0.26\n",
      "K_ratio\n",
      "  From data: 5.44\n",
      "  From model: 2.56\n",
      "L_ratio\n",
      "  From data: 0.74\n",
      "  From model: 0.72\n",
      "U\n",
      "  From data: 3.93\n",
      "  From model: 1.67\n"
     ]
    }
   ],
   "source": [
    "with open('data/ss_aggregate.pickle', 'rb') as f:\n",
    "    ss_aggregate = pickle.load(f)\n",
    "\n",
    "for k, v in ss_aggregate.items():\n",
    "    print(f'{k}')\n",
    "    print(f'  From data: {v:.2f}')\n",
    "    print(f'  From model: {getattr(ss, k):.2f}')"
   ]
  },
  {
   "attachments": {},
   "cell_type": "markdown",
   "id": "8f289164",
   "metadata": {
    "papermill": {
     "duration": 0.010991,
     "end_time": "2023-10-23T12:56:43.403696",
     "exception": false,
     "start_time": "2023-10-23T12:56:43.392705",
     "status": "completed"
    },
    "tags": []
   },
   "source": [
    "## 3. <a id='toc3_'></a>[Speed and error tests](#toc0_)"
   ]
  },
  {
   "cell_type": "code",
   "execution_count": 5,
   "id": "cf9f7d25-b165-47da-9019-db87b56eeb18",
   "metadata": {
    "execution": {
     "iopub.execute_input": "2023-10-23T12:56:43.426378Z",
     "iopub.status.busy": "2023-10-23T12:56:43.425377Z",
     "iopub.status.idle": "2023-10-23T12:56:43.601509Z",
     "shell.execute_reply": "2023-10-23T12:56:43.599509Z"
    },
    "papermill": {
     "duration": 0.189122,
     "end_time": "2023-10-23T12:56:43.603506",
     "exception": false,
     "start_time": "2023-10-23T12:56:43.414384",
     "status": "completed"
    },
    "tags": []
   },
   "outputs": [],
   "source": [
    "model.set_exo_ss()          \n",
    "model.set_unknowns_ss()     "
   ]
  },
  {
   "attachments": {},
   "cell_type": "markdown",
   "id": "b57d0b23-f96b-41bc-96be-22871ee741db",
   "metadata": {
    "papermill": {
     "duration": 0.010223,
     "end_time": "2023-10-23T12:56:43.620723",
     "exception": false,
     "start_time": "2023-10-23T12:56:43.610500",
     "status": "completed"
    },
    "tags": []
   },
   "source": [
    "**Python evaluation:**"
   ]
  },
  {
   "cell_type": "code",
   "execution_count": 6,
   "id": "00944cf1-30aa-49bd-a5de-30d0bf40bc9d",
   "metadata": {
    "execution": {
     "iopub.execute_input": "2023-10-23T12:56:43.654683Z",
     "iopub.status.busy": "2023-10-23T12:56:43.653683Z",
     "iopub.status.idle": "2023-10-23T12:56:50.975720Z",
     "shell.execute_reply": "2023-10-23T12:56:50.974714Z"
    },
    "papermill": {
     "duration": 7.344895,
     "end_time": "2023-10-23T12:56:50.978700",
     "exception": false,
     "start_time": "2023-10-23T12:56:43.633805",
     "status": "completed"
    },
    "tags": []
   },
   "outputs": [
    {
     "name": "stdout",
     "output_type": "stream",
     "text": [
      "CPU times: total: 6.91 s\n",
      "Wall time: 7.12 s\n"
     ]
    }
   ],
   "source": [
    "%time model.evaluate_blocks(py=True)"
   ]
  },
  {
   "attachments": {},
   "cell_type": "markdown",
   "id": "a4a03dad-8ff7-433b-a102-d056347960be",
   "metadata": {
    "papermill": {
     "duration": 0.007039,
     "end_time": "2023-10-23T12:56:50.996134",
     "exception": false,
     "start_time": "2023-10-23T12:56:50.989095",
     "status": "completed"
    },
    "tags": []
   },
   "source": [
    "**Check errors:**"
   ]
  },
  {
   "cell_type": "code",
   "execution_count": 7,
   "id": "00c35c58-9a95-4e47-bb81-5bdccef9c2f6",
   "metadata": {
    "execution": {
     "iopub.execute_input": "2023-10-23T12:56:51.019408Z",
     "iopub.status.busy": "2023-10-23T12:56:51.019408Z",
     "iopub.status.idle": "2023-10-23T12:56:51.186247Z",
     "shell.execute_reply": "2023-10-23T12:56:51.185246Z"
    },
    "papermill": {
     "duration": 0.180485,
     "end_time": "2023-10-23T12:56:51.189257",
     "exception": false,
     "start_time": "2023-10-23T12:56:51.008772",
     "status": "completed"
    },
    "tags": []
   },
   "outputs": [
    {
     "name": "stdout",
     "output_type": "stream",
     "text": [
      "A_R_ini_error       : abs. max = 8.93e-15\n",
      "Aq_diff             : abs. max = 2.47e-14\n",
      "FOC_capital_agency  : abs. max = 2.22e-16\n",
      "FOC_K_ell           : abs. max = 5.33e-15\n",
      "mkt_clearing        : abs. max = 2.84e-14\n",
      "PC                  : abs. max = 0.00e+00\n"
     ]
    }
   ],
   "source": [
    "errors = model.get_errors(do_print=True)"
   ]
  },
  {
   "cell_type": "code",
   "execution_count": 8,
   "id": "5091fc38-ae2c-42cf-a9dc-35da2ac13f5f",
   "metadata": {
    "execution": {
     "iopub.execute_input": "2023-10-23T12:56:51.203237Z",
     "iopub.status.busy": "2023-10-23T12:56:51.202236Z",
     "iopub.status.idle": "2023-10-23T12:56:51.352045Z",
     "shell.execute_reply": "2023-10-23T12:56:51.352045Z"
    },
    "papermill": {
     "duration": 0.159768,
     "end_time": "2023-10-23T12:56:51.355044",
     "exception": false,
     "start_time": "2023-10-23T12:56:51.195276",
     "status": "completed"
    },
    "tags": []
   },
   "outputs": [
    {
     "name": "stdout",
     "output_type": "stream",
     "text": [
      "errors are zero\n"
     ]
    }
   ],
   "source": [
    "if np.allclose(errors,0.0):\n",
    "    print('errors are zero')\n",
    "else:\n",
    "    raise ValueError('errors are NOT zero')"
   ]
  },
  {
   "attachments": {},
   "cell_type": "markdown",
   "id": "2388d71e-8088-4722-97cc-cf6276051313",
   "metadata": {
    "papermill": {
     "duration": 0.007994,
     "end_time": "2023-10-23T12:56:51.370035",
     "exception": false,
     "start_time": "2023-10-23T12:56:51.362041",
     "status": "completed"
    },
    "tags": []
   },
   "source": [
    "**First numba evaluation:**"
   ]
  },
  {
   "cell_type": "code",
   "execution_count": 9,
   "id": "cd1c0060-534a-4329-9d7f-4336d746e699",
   "metadata": {
    "execution": {
     "iopub.execute_input": "2023-10-23T12:56:51.396304Z",
     "iopub.status.busy": "2023-10-23T12:56:51.395305Z",
     "iopub.status.idle": "2023-10-23T12:58:43.518218Z",
     "shell.execute_reply": "2023-10-23T12:58:43.517200Z"
    },
    "papermill": {
     "duration": 112.141911,
     "end_time": "2023-10-23T12:58:43.521225",
     "exception": false,
     "start_time": "2023-10-23T12:56:51.379314",
     "status": "completed"
    },
    "tags": []
   },
   "outputs": [
    {
     "name": "stdout",
     "output_type": "stream",
     "text": [
      "CPU times: total: 1min 50s\n",
      "Wall time: 1min 51s\n"
     ]
    }
   ],
   "source": [
    "%time model.evaluate_blocks()"
   ]
  },
  {
   "cell_type": "code",
   "execution_count": 10,
   "id": "d5d2e118",
   "metadata": {
    "execution": {
     "iopub.execute_input": "2023-10-23T12:58:43.556384Z",
     "iopub.status.busy": "2023-10-23T12:58:43.555381Z",
     "iopub.status.idle": "2023-10-23T12:58:43.731090Z",
     "shell.execute_reply": "2023-10-23T12:58:43.731090Z"
    },
    "papermill": {
     "duration": 0.199733,
     "end_time": "2023-10-23T12:58:43.731090",
     "exception": false,
     "start_time": "2023-10-23T12:58:43.531357",
     "status": "completed"
    },
    "tags": []
   },
   "outputs": [
    {
     "name": "stdout",
     "output_type": "stream",
     "text": [
      "A_R_ini_error       : abs. max = 8.93e-15\n",
      "Aq_diff             : abs. max = 2.47e-14\n",
      "FOC_capital_agency  : abs. max = 2.22e-16\n",
      "FOC_K_ell           : abs. max = 5.33e-15\n",
      "mkt_clearing        : abs. max = 2.84e-14\n",
      "PC                  : abs. max = 0.00e+00\n"
     ]
    }
   ],
   "source": [
    "errors = model.get_errors(do_print=True)"
   ]
  },
  {
   "attachments": {},
   "cell_type": "markdown",
   "id": "7d76c91e-051f-4a54-b143-5758dd7a3eaa",
   "metadata": {
    "papermill": {
     "duration": 0.0,
     "end_time": "2023-10-23T12:58:43.748376",
     "exception": false,
     "start_time": "2023-10-23T12:58:43.748376",
     "status": "completed"
    },
    "tags": []
   },
   "source": [
    "**Time:**"
   ]
  },
  {
   "cell_type": "code",
   "execution_count": 11,
   "id": "876cc0fb-5f7b-413a-8cf8-e085d9256d3b",
   "metadata": {
    "execution": {
     "iopub.execute_input": "2023-10-23T12:58:43.779752Z",
     "iopub.status.busy": "2023-10-23T12:58:43.766340Z",
     "iopub.status.idle": "2023-10-23T12:58:50.169364Z",
     "shell.execute_reply": "2023-10-23T12:58:50.169364Z"
    },
    "papermill": {
     "duration": 6.403024,
     "end_time": "2023-10-23T12:58:50.169364",
     "exception": false,
     "start_time": "2023-10-23T12:58:43.766340",
     "status": "completed"
    },
    "tags": []
   },
   "outputs": [
    {
     "name": "stdout",
     "output_type": "stream",
     "text": [
      "40.2 ms ± 2.64 ms per loop (mean ± std. dev. of 7 runs, 10 loops each)\n"
     ]
    },
    {
     "name": "stdout",
     "output_type": "stream",
     "text": [
      "36.5 µs ± 1.25 µs per loop (mean ± std. dev. of 7 runs, 10,000 loops each)\n"
     ]
    }
   ],
   "source": [
    "%timeit model.evaluate_blocks()\n",
    "%timeit model.get_errors()"
   ]
  },
  {
   "cell_type": "code",
   "execution_count": 12,
   "id": "65b6c0ac-41de-4c7d-9f71-f8222b933e88",
   "metadata": {
    "execution": {
     "iopub.execute_input": "2023-10-23T12:58:50.189964Z",
     "iopub.status.busy": "2023-10-23T12:58:50.189656Z",
     "iopub.status.idle": "2023-10-23T12:59:09.934987Z",
     "shell.execute_reply": "2023-10-23T12:59:09.934987Z"
    },
    "papermill": {
     "duration": 19.76764,
     "end_time": "2023-10-23T12:59:09.937004",
     "exception": false,
     "start_time": "2023-10-23T12:58:50.169364",
     "status": "completed"
    },
    "tags": []
   },
   "outputs": [
    {
     "name": "stdout",
     "output_type": "stream",
     "text": [
      "2.44 s ± 28.4 ms per loop (mean ± std. dev. of 7 runs, 1 loop each)\n"
     ]
    }
   ],
   "source": [
    "%timeit model.evaluate_blocks(py=True)"
   ]
  }
 ],
 "metadata": {
  "kernelspec": {
   "display_name": "base",
   "language": "python",
   "name": "python3"
  },
  "language_info": {
   "codemirror_mode": {
    "name": "ipython",
    "version": 3
   },
   "file_extension": ".py",
   "mimetype": "text/x-python",
   "name": "python",
   "nbconvert_exporter": "python",
   "pygments_lexer": "ipython3",
   "version": "3.10.11"
  },
  "papermill": {
   "default_parameters": {},
   "duration": 153.319279,
   "end_time": "2023-10-23T12:59:10.921071",
   "environment_variables": {},
   "exception": null,
   "input_path": "0d - steady state - aggregate.ipynb",
   "output_path": "temp_notebooks/0d - steady state - aggregate.ipynb",
   "parameters": {},
   "start_time": "2023-10-23T12:56:37.601792",
   "version": "2.4.0"
  },
  "toc-autonumbering": true,
  "vscode": {
   "interpreter": {
    "hash": "8e46095560128379321b1ce69ff92c6b7a45fc7d9b830ea022fe373b05aa9725"
   }
  }
 },
 "nbformat": 4,
 "nbformat_minor": 5
}