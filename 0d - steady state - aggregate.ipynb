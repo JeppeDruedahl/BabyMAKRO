{
 "cells": [
  {
   "attachments": {},
   "cell_type": "markdown",
   "id": "6ad56dfa",
   "metadata": {},
   "source": [
    "# Steady State - Aggregate"
   ]
  },
  {
   "attachments": {},
   "cell_type": "markdown",
   "id": "88730dfa",
   "metadata": {},
   "source": [
    "**Table of contents**<a id='toc0_'></a>    \n",
    "- 1. [Setup](#toc1_)    \n",
    "- 2. [Find steady state](#toc2_)    \n",
    "  - 2.1. [Compare with data](#toc2_1_)    \n",
    "- 3. [Speed and error tests](#toc3_)    \n",
    "\n",
    "<!-- vscode-jupyter-toc-config\n",
    "\tnumbering=true\n",
    "\tanchor=true\n",
    "\tflat=false\n",
    "\tminLevel=2\n",
    "\tmaxLevel=6\n",
    "\t/vscode-jupyter-toc-config -->\n",
    "<!-- THIS CELL WILL BE REPLACED ON TOC UPDATE. DO NOT WRITE YOUR TEXT IN THIS CELL -->"
   ]
  },
  {
   "cell_type": "code",
   "execution_count": 330,
   "id": "b05f230e",
   "metadata": {
    "execution": {
     "iopub.execute_input": "2023-05-14T18:40:16.297481Z",
     "iopub.status.busy": "2023-05-14T18:40:16.297481Z",
     "iopub.status.idle": "2023-05-14T18:40:17.430578Z",
     "shell.execute_reply": "2023-05-14T18:40:17.430578Z"
    }
   },
   "outputs": [
    {
     "name": "stdout",
     "output_type": "stream",
     "text": [
      "The autoreload extension is already loaded. To reload it, use:\n",
      "  %reload_ext autoreload\n"
     ]
    }
   ],
   "source": [
    "%load_ext autoreload\n",
    "%autoreload 2\n",
    "\n",
    "import time\n",
    "import pickle\n",
    "import numpy as np\n",
    "from scipy import optimize\n",
    "\n",
    "import matplotlib.pyplot as plt   \n",
    "plt.rcParams.update({\"axes.grid\":True,\"grid.color\":\"black\",\"grid.alpha\":\"0.25\",\"grid.linestyle\":\"--\"})\n",
    "prop_cycle = plt.rcParams['axes.prop_cycle']\n",
    "colors = prop_cycle.by_key()['color']\n",
    "\n",
    "from BabyMAKROModel import BabyMAKROModelClass"
   ]
  },
  {
   "attachments": {},
   "cell_type": "markdown",
   "id": "2696390a",
   "metadata": {},
   "source": [
    "## 1. <a id='toc1_'></a>[Setup](#toc0_)"
   ]
  },
  {
   "cell_type": "code",
   "execution_count": 331,
   "id": "69981f4f-beca-4e00-8373-d7392662625b",
   "metadata": {
    "execution": {
     "iopub.execute_input": "2023-05-14T18:40:17.432224Z",
     "iopub.status.busy": "2023-05-14T18:40:17.432224Z",
     "iopub.status.idle": "2023-05-14T18:40:17.525150Z",
     "shell.execute_reply": "2023-05-14T18:40:17.525150Z"
    }
   },
   "outputs": [],
   "source": [
    "model = BabyMAKROModelClass(name='baseline') # create an instance of the model"
   ]
  },
  {
   "attachments": {},
   "cell_type": "markdown",
   "id": "d60c9e95",
   "metadata": {},
   "source": [
    "## 2. <a id='toc2_'></a>[Find steady state](#toc0_)"
   ]
  },
  {
   "cell_type": "code",
   "execution_count": 332,
   "id": "1326777e",
   "metadata": {
    "execution": {
     "iopub.execute_input": "2023-05-14T18:40:17.525150Z",
     "iopub.status.busy": "2023-05-14T18:40:17.525150Z",
     "iopub.status.idle": "2023-05-14T18:40:18.207577Z",
     "shell.execute_reply": "2023-05-14T18:40:18.207577Z"
    }
   },
   "outputs": [
    {
     "name": "stdout",
     "output_type": "stream",
     "text": [
      "\u001b[1m\u001b[94mLabor supply, search and matching:\u001b[0m\n",
      "ss.S/par.N_work = 0.16, ss.L/par.N_work = 0.96, ss.U/par.N_work = 0.04\n",
      "ss.delta_L = 0.12, ss.m_s = 0.75, ss.m_v = 0.75, ss.v = 6.67\n",
      "par.sigma_m = 0.42\n",
      "\u001b[1m\u001b[94mCapital agency FOC:\u001b[0m\n",
      "ss.r_K = 0.12\n",
      "\u001b[1m\u001b[94mLabor agency FOC:\u001b[0m\n",
      "ss.r_ell = 1.01, (ss.LH-ss.ell)/par.N_work*100 = 0.78\n",
      "\u001b[1m\u001b[94mProduction firm:\u001b[0m\n",
      "ss.P_Y_0 = 0.91, ss.Gamma = 0.54, ss.Y = 68.77, ss.K = 176.13\n",
      "\u001b[1m\u001b[94mCapital accumulation:\u001b[0m\n",
      "ss.iota = 17.61, ss.I = 17.61\n",
      "\u001b[1m\u001b[94mGovernment:\u001b[0m\n",
      "ss.B = 0.00, ss.G = 17.19, ss.tau = 0.52\n",
      "\u001b[1m\u001b[94mHouseholds:\u001b[0m\n",
      "ss.Aq/par.N = 0.03, ss.real_W = 1.00, ss.C = 24.53, ss.A = 19.73, ss.r_hh = 0.02\n",
      "\u001b[1m\u001b[94mMarket clearing:\u001b[0m\n",
      "ss.C/ss.Y = 0.36, ss.G/ss.Y = 0.25, ss.I/ss.Y = 0.26, ss.X/ss.Y = 0.60, ss.M/ss.Y = 0.46\n"
     ]
    }
   ],
   "source": [
    "par = model.par\n",
    "ss = model.ss\n",
    "\n",
    "model.find_ss(do_print=True)    \n",
    "\n"
   ]
  },
  {
   "attachments": {},
   "cell_type": "markdown",
   "id": "54756c2e",
   "metadata": {},
   "source": [
    "### 2.1. <a id='toc2_1_'></a>[Compare with data](#toc0_)"
   ]
  },
  {
   "cell_type": "code",
   "execution_count": 333,
   "id": "55378d88",
   "metadata": {
    "execution": {
     "iopub.execute_input": "2023-05-14T18:40:18.207577Z",
     "iopub.status.busy": "2023-05-14T18:40:18.207577Z",
     "iopub.status.idle": "2023-05-14T18:40:18.296945Z",
     "shell.execute_reply": "2023-05-14T18:40:18.296945Z"
    }
   },
   "outputs": [
    {
     "name": "stdout",
     "output_type": "stream",
     "text": [
      "M_ratio\n",
      "  From data: 0.46\n",
      "  From model: 0.46\n",
      "X_ratio\n",
      "  From data: 0.52\n",
      "  From model: 0.60\n",
      "C_ratio\n",
      "  From data: 0.47\n",
      "  From model: 0.36\n",
      "G_ratio\n",
      "  From data: 0.25\n",
      "  From model: 0.25\n",
      "I_ratio\n",
      "  From data: 0.22\n",
      "  From model: 0.26\n",
      "K_ratio\n",
      "  From data: 5.44\n",
      "  From model: 2.56\n",
      "L_ratio\n",
      "  From data: 0.74\n",
      "  From model: 0.72\n",
      "U\n",
      "  From data: 3.93\n",
      "  From model: 1.67\n"
     ]
    }
   ],
   "source": [
    "with open('data/ss_aggregate.pickle', 'rb') as f:\n",
    "    ss_aggregate = pickle.load(f)\n",
    "\n",
    "for k, v in ss_aggregate.items():\n",
    "    print(f'{k}')\n",
    "    print(f'  From data: {v:.2f}')\n",
    "    print(f'  From model: {getattr(ss, k):.2f}')"
   ]
  },
  {
   "attachments": {},
   "cell_type": "markdown",
   "id": "8f289164",
   "metadata": {},
   "source": [
    "## 3. <a id='toc3_'></a>[Speed and error tests](#toc0_)"
   ]
  },
  {
   "cell_type": "code",
   "execution_count": 334,
   "id": "cf9f7d25-b165-47da-9019-db87b56eeb18",
   "metadata": {
    "execution": {
     "iopub.execute_input": "2023-05-14T18:40:18.300344Z",
     "iopub.status.busy": "2023-05-14T18:40:18.300344Z",
     "iopub.status.idle": "2023-05-14T18:40:18.382771Z",
     "shell.execute_reply": "2023-05-14T18:40:18.382771Z"
    }
   },
   "outputs": [],
   "source": [
    "model.set_exo_ss()          \n",
    "model.set_unknowns_ss()     "
   ]
  },
  {
   "attachments": {},
   "cell_type": "markdown",
   "id": "b57d0b23-f96b-41bc-96be-22871ee741db",
   "metadata": {},
   "source": [
    "**Python evaluation:**"
   ]
  },
  {
   "cell_type": "code",
   "execution_count": 335,
   "id": "00944cf1-30aa-49bd-a5de-30d0bf40bc9d",
   "metadata": {
    "execution": {
     "iopub.execute_input": "2023-05-14T18:40:18.382771Z",
     "iopub.status.busy": "2023-05-14T18:40:18.382771Z",
     "iopub.status.idle": "2023-05-14T18:40:24.223296Z",
     "shell.execute_reply": "2023-05-14T18:40:24.221926Z"
    }
   },
   "outputs": [
    {
     "name": "stdout",
     "output_type": "stream",
     "text": [
      "[40.99833507]\n",
      "[1.00930623]\n",
      "[68.76664875]\n",
      "CPU times: total: 1.38 s\n",
      "Wall time: 1.41 s\n"
     ]
    }
   ],
   "source": [
    "%time model.evaluate_blocks(py=True)"
   ]
  },
  {
   "attachments": {},
   "cell_type": "markdown",
   "id": "a4a03dad-8ff7-433b-a102-d056347960be",
   "metadata": {},
   "source": [
    "**Check errors:**"
   ]
  },
  {
   "cell_type": "code",
   "execution_count": 336,
   "id": "00c35c58-9a95-4e47-bb81-5bdccef9c2f6",
   "metadata": {
    "execution": {
     "iopub.execute_input": "2023-05-14T18:40:24.226324Z",
     "iopub.status.busy": "2023-05-14T18:40:24.225294Z",
     "iopub.status.idle": "2023-05-14T18:40:24.301273Z",
     "shell.execute_reply": "2023-05-14T18:40:24.300504Z"
    }
   },
   "outputs": [
    {
     "name": "stdout",
     "output_type": "stream",
     "text": [
      "A_R_ini_error       : abs. max = 5.65e-12\n",
      "Aq_diff             : abs. max = 2.70e-14\n",
      "FOC_capital_agency  : abs. max = 0.00e+00\n",
      "FOC_K_ell           : abs. max = 3.55e-15\n",
      "mkt_clearing        : abs. max = 1.42e-14\n",
      "PC                  : abs. max = 0.00e+00\n"
     ]
    }
   ],
   "source": [
    "errors = model.get_errors(do_print=True)"
   ]
  },
  {
   "cell_type": "code",
   "execution_count": 337,
   "id": "5091fc38-ae2c-42cf-a9dc-35da2ac13f5f",
   "metadata": {
    "execution": {
     "iopub.execute_input": "2023-05-14T18:40:24.305262Z",
     "iopub.status.busy": "2023-05-14T18:40:24.304263Z",
     "iopub.status.idle": "2023-05-14T18:40:24.407825Z",
     "shell.execute_reply": "2023-05-14T18:40:24.406920Z"
    }
   },
   "outputs": [
    {
     "name": "stdout",
     "output_type": "stream",
     "text": [
      "errors are zero\n"
     ]
    }
   ],
   "source": [
    "if np.allclose(errors,0.0):\n",
    "    print('errors are zero')\n",
    "else:\n",
    "    raise ValueError('errors are NOT zero')"
   ]
  },
  {
   "attachments": {},
   "cell_type": "markdown",
   "id": "2388d71e-8088-4722-97cc-cf6276051313",
   "metadata": {},
   "source": [
    "**First numba evaluation:**"
   ]
  },
  {
   "cell_type": "code",
   "execution_count": 338,
   "id": "cd1c0060-534a-4329-9d7f-4336d746e699",
   "metadata": {
    "execution": {
     "iopub.execute_input": "2023-05-14T18:40:24.411813Z",
     "iopub.status.busy": "2023-05-14T18:40:24.411813Z",
     "iopub.status.idle": "2023-05-14T18:41:42.749899Z",
     "shell.execute_reply": "2023-05-14T18:41:42.749027Z"
    }
   },
   "outputs": [
    {
     "name": "stdout",
     "output_type": "stream",
     "text": [
      "[82.33028096]\n",
      "[1.00930623]\n",
      "[109.15304584]\n",
      "CPU times: total: 55.4 s\n",
      "Wall time: 58.7 s\n"
     ]
    }
   ],
   "source": [
    "%time model.evaluate_blocks()"
   ]
  },
  {
   "attachments": {},
   "cell_type": "markdown",
   "id": "7d76c91e-051f-4a54-b143-5758dd7a3eaa",
   "metadata": {},
   "source": [
    "**Time:**"
   ]
  },
  {
   "cell_type": "code",
   "execution_count": 339,
   "id": "876cc0fb-5f7b-413a-8cf8-e085d9256d3b",
   "metadata": {
    "execution": {
     "iopub.execute_input": "2023-05-14T18:41:42.753928Z",
     "iopub.status.busy": "2023-05-14T18:41:42.752951Z",
     "iopub.status.idle": "2023-05-14T18:41:50.014051Z",
     "shell.execute_reply": "2023-05-14T18:41:50.014051Z"
    }
   },
   "outputs": [
    {
     "name": "stdout",
     "output_type": "stream",
     "text": [
      "[123.66222685]\n",
      "[1.00930623]\n",
      "[142.99927528]\n",
      "[164.99417274]\n",
      "[1.00930623]\n",
      "[173.2097975]\n",
      "[206.32611863]\n",
      "[1.00930623]\n",
      "[200.98234329]\n",
      "[247.65806452]\n",
      "[1.00930623]\n",
      "[226.95824386]\n",
      "[288.99001041]\n",
      "[1.00930623]\n",
      "[251.53143617]\n",
      "[330.3219563]\n",
      "[1.00930623]\n",
      "[274.96574426]\n",
      "[371.65390219]\n",
      "[1.00930623]\n",
      "[297.44875843]\n",
      "[412.98584807]\n",
      "[1.00930623]\n",
      "[319.1198762]\n",
      "[454.31779396]\n",
      "[1.00930623]\n",
      "[340.08625285]\n",
      "[495.64973985]\n",
      "[1.00930623]\n",
      "[360.43250283]\n",
      "[536.98168574]\n",
      "[1.00930623]\n",
      "[380.22691786]\n",
      "[578.31363163]\n",
      "[1.00930623]\n",
      "[399.52562417]\n",
      "[619.64557752]\n",
      "[1.00930623]\n",
      "[418.37546028]\n",
      "[660.97752341]\n",
      "[1.00930623]\n",
      "[436.8160281]\n",
      "[702.3094693]\n",
      "[1.00930623]\n",
      "[454.88119151]\n",
      "[743.64141519]\n",
      "[1.00930623]\n",
      "[472.600195]\n",
      "[784.97336108]\n",
      "[1.00930623]\n",
      "[489.99851437]\n",
      "[826.30530697]\n",
      "[1.00930623]\n",
      "[507.09851439]\n",
      "[867.63725286]\n",
      "[1.00930623]\n",
      "[523.91996465]\n",
      "[908.96919875]\n",
      "[1.00930623]\n",
      "[540.48044948]\n",
      "[950.30114464]\n",
      "[1.00930623]\n",
      "[556.79569745]\n",
      "[991.63309053]\n",
      "[1.00930623]\n",
      "[572.87984912]\n",
      "[1032.96503642]\n",
      "[1.00930623]\n",
      "[588.7456766]\n",
      "[1074.29698231]\n",
      "[1.00930623]\n",
      "[604.40476525]\n",
      "[1115.6289282]\n",
      "[1.00930623]\n",
      "[619.86766518]\n",
      "[1156.96087409]\n",
      "[1.00930623]\n",
      "[635.14401856]\n",
      "[1198.29281998]\n",
      "[1.00930623]\n",
      "[650.24266728]\n",
      "[1239.62476587]\n",
      "[1.00930623]\n",
      "[665.17174459]\n",
      "[1280.95671176]\n",
      "[1.00930623]\n",
      "[679.93875358]\n",
      "[1322.28865765]\n",
      "[1.00930623]\n",
      "[694.55063466]\n",
      "[1363.62060354]\n",
      "[1.00930623]\n",
      "[709.01382398]\n",
      "[1404.95254943]\n",
      "[1.00930623]\n",
      "[723.3343042]\n",
      "[1446.28449532]\n",
      "[1.00930623]\n",
      "[737.51764883]\n",
      "[1487.61644121]\n",
      "[1.00930623]\n",
      "[751.56906101]\n",
      "[1528.9483871]\n",
      "[1.00930623]\n",
      "[765.49340777]\n",
      "[1570.28033299]\n",
      "[1.00930623]\n",
      "[779.29525017]\n",
      "[1611.61227888]\n",
      "[1.00930623]\n",
      "[792.97887007]\n",
      "[1652.94422477]\n",
      "[1.00930623]\n",
      "[806.54829393]\n",
      "[1694.27617066]\n",
      "[1.00930623]\n",
      "[820.00731404]\n",
      "[1735.60811655]\n",
      "[1.00930623]\n",
      "[833.35950749]\n",
      "[1776.94006243]\n",
      "[1.00930623]\n",
      "[846.60825321]\n",
      "[1818.27200832]\n",
      "[1.00930623]\n",
      "[859.75674729]\n",
      "[1859.60395421]\n",
      "[1.00930623]\n",
      "[872.80801682]\n",
      "[1900.9359001]\n",
      "[1.00930623]\n",
      "[885.76493232]\n",
      "[1942.26784599]\n",
      "[1.00930623]\n",
      "[898.63021911]\n",
      "[1983.59979188]\n",
      "[1.00930623]\n",
      "[911.40646756]\n",
      "[2024.93173777]\n",
      "[1.00930623]\n",
      "[924.09614245]\n",
      "[2066.26368366]\n",
      "[1.00930623]\n",
      "[936.70159148]\n",
      "[2107.59562955]\n",
      "[1.00930623]\n",
      "[949.22505306]\n",
      "[2148.92757544]\n",
      "[1.00930623]\n",
      "[961.66866346]\n",
      "[2190.25952133]\n",
      "[1.00930623]\n",
      "[974.03446329]\n",
      "[2231.59146722]\n",
      "[1.00930623]\n",
      "[986.32440357]\n",
      "[2272.92341311]\n",
      "[1.00930623]\n",
      "[998.5403512]\n",
      "[2314.255359]\n",
      "[1.00930623]\n",
      "[1010.68409406]\n",
      "[2355.58730489]\n",
      "[1.00930623]\n",
      "[1022.75734571]\n",
      "[2396.91925078]\n",
      "[1.00930623]\n",
      "[1034.76174973]\n",
      "[2438.25119667]\n",
      "[1.00930623]\n",
      "[1046.69888372]\n",
      "[2479.58314256]\n",
      "[1.00930623]\n",
      "[1058.57026303]\n",
      "[2520.91508845]\n",
      "[1.00930623]\n",
      "[1070.3773442]\n",
      "[2562.24703434]\n",
      "[1.00930623]\n",
      "[1082.12152819]\n",
      "[2603.57898023]\n",
      "[1.00930623]\n",
      "[1093.80416334]\n",
      "[2644.91092612]\n",
      "[1.00930623]\n",
      "[1105.42654816]\n",
      "[2686.24287201]\n",
      "[1.00930623]\n",
      "[1116.98993392]\n",
      "[2727.5748179]\n",
      "[1.00930623]\n",
      "[1128.49552706]\n",
      "[2768.90676379]\n",
      "[1.00930623]\n",
      "[1139.94449147]\n",
      "[2810.23870968]\n",
      "[1.00930623]\n",
      "[1151.33795057]\n",
      "[2851.57065557]\n",
      "[1.00930623]\n",
      "[1162.67698931]\n",
      "[2892.90260146]\n",
      "[1.00930623]\n",
      "[1173.96265606]\n",
      "[2934.23454735]\n",
      "[1.00930623]\n",
      "[1185.19596426]\n",
      "[2975.56649324]\n",
      "[1.00930623]\n",
      "[1196.37789415]\n",
      "[3016.89843913]\n",
      "[1.00930623]\n",
      "[1207.50939425]\n",
      "[3058.23038502]\n",
      "[1.00930623]\n",
      "[1218.59138283]\n",
      "[3099.56233091]\n",
      "[1.00930623]\n",
      "[1229.62474925]\n",
      "[3140.8942768]\n",
      "[1.00930623]\n",
      "[1240.61035526]\n",
      "[3182.22622268]\n",
      "[1.00930623]\n",
      "[1251.54903619]\n",
      "[3223.55816857]\n",
      "[1.00930623]\n",
      "[1262.44160214]\n",
      "[3264.89011446]\n",
      "[1.00930623]\n",
      "[1273.28883898]\n",
      "[3306.22206035]\n",
      "[1.00930623]\n",
      "[1284.09150944]\n",
      "[3347.55400624]\n",
      "[1.00930623]\n",
      "[1294.85035403]\n",
      "[3388.88595213]\n",
      "[1.00930623]\n",
      "[1305.56609198]\n",
      "[3430.21789802]\n",
      "[1.00930623]\n",
      "[1316.23942207]\n",
      "63.5 ms ± 2 ms per loop (mean ± std. dev. of 7 runs, 10 loops each)\n",
      "16.4 µs ± 254 ns per loop (mean ± std. dev. of 7 runs, 100,000 loops each)\n"
     ]
    }
   ],
   "source": [
    "%timeit model.evaluate_blocks()\n",
    "%timeit model.get_errors()"
   ]
  },
  {
   "cell_type": "code",
   "execution_count": 340,
   "id": "65b6c0ac-41de-4c7d-9f71-f8222b933e88",
   "metadata": {
    "execution": {
     "iopub.execute_input": "2023-05-14T18:41:50.014051Z",
     "iopub.status.busy": "2023-05-14T18:41:50.014051Z",
     "iopub.status.idle": "2023-05-14T18:42:12.203493Z",
     "shell.execute_reply": "2023-05-14T18:42:12.203493Z"
    }
   },
   "outputs": [
    {
     "name": "stdout",
     "output_type": "stream",
     "text": [
      "[3471.54984391]\n",
      "[1.00930623]\n",
      "[1326.87102351]\n",
      "[3512.8817898]\n",
      "[1.00930623]\n",
      "[1337.46155663]\n",
      "[3554.21373569]\n",
      "[1.00930623]\n",
      "[1348.01166371]\n",
      "[3595.54568158]\n",
      "[1.00930623]\n",
      "[1358.5219696]\n",
      "[3636.87762747]\n",
      "[1.00930623]\n",
      "[1368.99308243]\n",
      "[3678.20957336]\n",
      "[1.00930623]\n",
      "[1379.42559426]\n",
      "[3719.54151925]\n",
      "[1.00930623]\n",
      "[1389.82008162]\n",
      "[3760.87346514]\n",
      "[1.00930623]\n",
      "[1400.17710614]\n",
      "1.32 s ± 26.1 ms per loop (mean ± std. dev. of 7 runs, 1 loop each)\n"
     ]
    }
   ],
   "source": [
    "%timeit model.evaluate_blocks(py=True)"
   ]
  }
 ],
 "metadata": {
  "kernelspec": {
   "display_name": "base",
   "language": "python",
   "name": "python3"
  },
  "language_info": {
   "codemirror_mode": {
    "name": "ipython",
    "version": 3
   },
   "file_extension": ".py",
   "mimetype": "text/x-python",
   "name": "python",
   "nbconvert_exporter": "python",
   "pygments_lexer": "ipython3",
   "version": "3.11.4"
  },
  "toc-autonumbering": true,
  "vscode": {
   "interpreter": {
    "hash": "8e46095560128379321b1ce69ff92c6b7a45fc7d9b830ea022fe373b05aa9725"
   }
  }
 },
 "nbformat": 4,
 "nbformat_minor": 5
}
