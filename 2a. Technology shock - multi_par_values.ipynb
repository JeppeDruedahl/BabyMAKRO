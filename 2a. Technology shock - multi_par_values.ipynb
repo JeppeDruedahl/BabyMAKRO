{
 "cells": [
  {
   "cell_type": "code",
   "execution_count": null,
   "id": "4b9ffaa1-2f71-40c9-9ec0-2b1a66545d46",
   "metadata": {},
   "outputs": [],
   "source": [
    "%load_ext autoreload\n",
    "%autoreload 2\n",
    "\n",
    "import time\n",
    "import pickle\n",
    "import numpy as np\n",
    "from scipy import optimize\n",
    "\n",
    "import matplotlib.pyplot as plt   \n",
    "plt.style.use('seaborn-whitegrid')\n",
    "prop_cycle = plt.rcParams['axes.prop_cycle']\n",
    "colors = prop_cycle.by_key()['color']\n",
    "\n",
    "from BabyMAKROModel import BabyMAKROModelClass"
   ]
  },
  {
   "cell_type": "markdown",
   "id": "263e2c2f-b5b3-45a5-9f2d-e04f335c0900",
   "metadata": {
    "tags": []
   },
   "source": [
    "# Setup"
   ]
  },
  {
   "cell_type": "code",
   "execution_count": null,
   "id": "69981f4f-beca-4e00-8373-d7392662625b",
   "metadata": {},
   "outputs": [],
   "source": [
    "model = BabyMAKROModelClass(name='baseline') # create an instance of the model\n",
    "\n",
    "par = model.par\n",
    "ss = model.ss\n",
    "paramesol = model.sol"
   ]
  },
  {
   "cell_type": "code",
   "execution_count": null,
   "id": "4148faf5",
   "metadata": {},
   "outputs": [],
   "source": [
    "parameter = 'Lambda'\n",
    "parvalues = [0.,0.25,0.5]\n",
    "ModelList = model.multi_model(parameter,parvalues)"
   ]
  },
  {
   "cell_type": "markdown",
   "id": "b51efb28-dfa3-4e1d-89cc-7fffaa4a53cd",
   "metadata": {},
   "source": [
    "# Find IRF"
   ]
  },
  {
   "cell_type": "code",
   "execution_count": null,
   "id": "cf9f7d25-b165-47da-9019-db87b56eeb18",
   "metadata": {},
   "outputs": [],
   "source": [
    "Tshock = 50\n",
    "persistence = 0.80**np.arange(Tshock)\n",
    "\n",
    "for i in range(len(ModelList)):\n",
    "    ModelList[i].set_exo_ss()\n",
    "    ModelList[i].set_unknowns_ss()\n",
    "\n",
    "    shock = 0.01*ModelList[i].ss.Gamma\n",
    "    ModelList[i].sol.Gamma[:Tshock] = ModelList[i].ss.Gamma + shock*persistence\n",
    "\n",
    "    ModelList[i].find_IRF()\n"
   ]
  },
  {
   "cell_type": "markdown",
   "id": "98182617",
   "metadata": {},
   "source": [
    "## Figures"
   ]
  },
  {
   "cell_type": "markdown",
   "id": "1944d9e9",
   "metadata": {},
   "source": [
    "### Long view"
   ]
  },
  {
   "cell_type": "code",
   "execution_count": null,
   "id": "76b44ec6",
   "metadata": {},
   "outputs": [],
   "source": [
    "model.plot_IRF_models(ModelList,varlist=['Gamma','K','A','B'],T_IRF=par.T,ncol=2,parameter=parameter,parvalues=parvalues)"
   ]
  },
  {
   "cell_type": "markdown",
   "id": "650202e1",
   "metadata": {},
   "source": [
    "### National accouting - quantities"
   ]
  },
  {
   "cell_type": "code",
   "execution_count": null,
   "id": "0fca7780",
   "metadata": {},
   "outputs": [],
   "source": [
    "model.plot_IRF_models(ModelList,varlist=['Y','C','G','I','X','M'],parameter=parameter,parvalues=parvalues)"
   ]
  },
  {
   "cell_type": "markdown",
   "id": "b8ab8a73",
   "metadata": {},
   "source": [
    "### National accouting - prices"
   ]
  },
  {
   "cell_type": "code",
   "execution_count": null,
   "id": "a9a48967",
   "metadata": {},
   "outputs": [],
   "source": [
    "model.plot_IRF_models(ModelList,varlist=['P_Y','P_C','P_G','P_I','P_X'],parameter=parameter,parvalues=parvalues)"
   ]
  },
  {
   "cell_type": "markdown",
   "id": "a612d792",
   "metadata": {},
   "source": [
    "### Labor market"
   ]
  },
  {
   "cell_type": "code",
   "execution_count": null,
   "id": "105bca31",
   "metadata": {},
   "outputs": [],
   "source": [
    "model.plot_IRF_models(ModelList,varlist=['S','v','curlyM','m_v','m_s','delta_L','W','real_W'],abs=['m_v','m_s'],parameter=parameter,parvalues=parvalues)"
   ]
  },
  {
   "cell_type": "markdown",
   "id": "870fdee8",
   "metadata": {},
   "source": [
    "### Capital accumulation"
   ]
  },
  {
   "cell_type": "code",
   "execution_count": null,
   "id": "96def6c2",
   "metadata": {},
   "outputs": [],
   "source": [
    "model.plot_IRF_models(ModelList,varlist=['K','I','r_K','P_I'],ncol=2,parameter=parameter,parvalues=parvalues)"
   ]
  },
  {
   "cell_type": "markdown",
   "id": "ccb625b3",
   "metadata": {},
   "source": [
    "### Production firms"
   ]
  },
  {
   "cell_type": "code",
   "execution_count": null,
   "id": "59faa6cc",
   "metadata": {},
   "outputs": [],
   "source": [
    "model.plot_IRF_models(ModelList,varlist=['K','ell','Gamma','Y','r_K','r_ell'],ncol=2,parameter=parameter,parvalues=parvalues)"
   ]
  },
  {
   "cell_type": "markdown",
   "id": "37357920",
   "metadata": {},
   "source": [
    "### Phillips curve"
   ]
  },
  {
   "cell_type": "code",
   "execution_count": null,
   "id": "4fa5bea1",
   "metadata": {},
   "outputs": [],
   "source": [
    "model.plot_IRF_models(ModelList,varlist=['Y','P_Y_0','P_Y'],ncol=2,parameter=parameter,parvalues=parvalues)"
   ]
  },
  {
   "cell_type": "markdown",
   "id": "b8b652f0",
   "metadata": {},
   "source": [
    "### Government"
   ]
  },
  {
   "cell_type": "code",
   "execution_count": null,
   "id": "7af36bde",
   "metadata": {},
   "outputs": [],
   "source": [
    "model.plot_IRF_models(ModelList,varlist=['G','B','tau'],abs=['tau'],Y_share=['B'],parameter=parameter,parvalues=parvalues)"
   ]
  },
  {
   "cell_type": "markdown",
   "id": "723b6a1a",
   "metadata": {},
   "source": [
    "### Households - aggregate"
   ]
  },
  {
   "cell_type": "code",
   "execution_count": null,
   "id": "37feb2a3",
   "metadata": {},
   "outputs": [],
   "source": [
    "model.plot_IRF_models(ModelList,varlist=['L','U','inc','W','real_W','real_r_hh','C','A','Aq'],abs=['real_r_hh'],parameter=parameter,parvalues=parvalues)"
   ]
  },
  {
   "cell_type": "code",
   "execution_count": null,
   "id": "dc4f9957",
   "metadata": {},
   "outputs": [],
   "source": [
    "model.plot_IRF_models(ModelList,varlist=['C_HtM','C_R'],ncol=2,parameter=parameter,parvalues=parvalues)"
   ]
  }
 ],
 "metadata": {
  "kernelspec": {
   "display_name": "Python 3 (ipykernel)",
   "language": "python",
   "name": "python3"
  },
  "language_info": {
   "codemirror_mode": {
    "name": "ipython",
    "version": 3
   },
   "file_extension": ".py",
   "mimetype": "text/x-python",
   "name": "python",
   "nbconvert_exporter": "python",
   "pygments_lexer": "ipython3",
   "version": "3.9.15 (main, Nov 24 2022, 14:39:17) [MSC v.1916 64 bit (AMD64)]"
  },
  "toc-autonumbering": true,
  "vscode": {
   "interpreter": {
    "hash": "8e46095560128379321b1ce69ff92c6b7a45fc7d9b830ea022fe373b05aa9725"
   }
  }
 },
 "nbformat": 4,
 "nbformat_minor": 5
}
