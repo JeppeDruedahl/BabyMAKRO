{
 "cells": [
  {
   "cell_type": "markdown",
   "id": "6ca088f1",
   "metadata": {},
   "source": [
    "## 1. <a id='toc1_'></a>[Imports](#toc0_)"
   ]
  },
  {
   "cell_type": "code",
   "execution_count": 1,
   "id": "01c78b35",
   "metadata": {},
   "outputs": [],
   "source": [
    "import os\n",
    "import glob\n",
    "import shutil\n",
    "import time\n",
    "\n",
    "from consav.misc import elapsed # pip install consav\n",
    "import papermill as pm # pip install papermill\n",
    "\n",
    "if not os.path.isdir('temp_notebooks'):\n",
    "    os.mkdir('temp_notebooks')"
   ]
  },
  {
   "cell_type": "markdown",
   "id": "fa48dd68",
   "metadata": {},
   "source": [
    "## 2. <a id='toc2_'></a>[Settings](#toc0_)"
   ]
  },
  {
   "cell_type": "code",
   "execution_count": 2,
   "id": "2a5e1adf",
   "metadata": {},
   "outputs": [],
   "source": [
    "def run_jupyter(filename,prepare_only=False):\n",
    "\n",
    "    try:\n",
    "        pm.execute_notebook(filename,f'temp_notebooks/{filename}',prepare_only=prepare_only)\n",
    "        shutil.copy(f'temp_notebooks/{filename}',f'{filename}')\n",
    "        time.sleep(1)\n",
    "        os.remove(f'temp_notebooks/{filename}')\n",
    "    except Exception as e:\n",
    "        print(f'failed, {e}',end='')\n",
    "        "
   ]
  },
  {
   "cell_type": "code",
   "execution_count": 3,
   "id": "9d9a58c6",
   "metadata": {},
   "outputs": [],
   "source": [
    "for filename in glob.glob('temp_notebooks/*.ipynb'):\n",
    "    os.remove(filename)   "
   ]
  },
  {
   "cell_type": "markdown",
   "id": "b36c8272",
   "metadata": {},
   "source": [
    "## 4. <a id='toc4_'></a>[Run](#toc0_)"
   ]
  },
  {
   "cell_type": "code",
   "execution_count": 4,
   "id": "2065ea14",
   "metadata": {},
   "outputs": [
    {
     "name": "stdout",
     "output_type": "stream",
     "text": [
      "0b - steady state - data.ipynb"
     ]
    },
    {
     "data": {
      "application/vnd.jupyter.widget-view+json": {
       "model_id": "2c5b4f3fac26409080bef17eb15cf97d",
       "version_major": 2,
       "version_minor": 0
      },
      "text/plain": [
       "Executing:   0%|          | 0/78 [00:00<?, ?cell/s]"
      ]
     },
     "metadata": {},
     "output_type": "display_data"
    },
    {
     "name": "stdout",
     "output_type": "stream",
     "text": [
      " [done in 29.1 secs secs]\n",
      "\n",
      "0c - steady state - households.ipynb"
     ]
    },
    {
     "data": {
      "application/vnd.jupyter.widget-view+json": {
       "model_id": "1398eabc124a461cb0c6b3e522a569c8",
       "version_major": 2,
       "version_minor": 0
      },
      "text/plain": [
       "Executing:   0%|          | 0/35 [00:00<?, ?cell/s]"
      ]
     },
     "metadata": {},
     "output_type": "display_data"
    },
    {
     "name": "stdout",
     "output_type": "stream",
     "text": [
      " [done in 1.0 mins 19 secs secs]\n",
      "\n",
      "0d - steady state - aggregate.ipynb"
     ]
    },
    {
     "data": {
      "application/vnd.jupyter.widget-view+json": {
       "model_id": "7a9290a48ef6409f8ee0e4789a4aba09",
       "version_major": 2,
       "version_minor": 0
      },
      "text/plain": [
       "Executing:   0%|          | 0/22 [00:00<?, ?cell/s]"
      ]
     },
     "metadata": {},
     "output_type": "display_data"
    },
    {
     "name": "stdout",
     "output_type": "stream",
     "text": [
      " [done in 2.0 mins 34 secs secs]\n",
      "\n",
      "1a - IRF export market.ipynb"
     ]
    },
    {
     "data": {
      "application/vnd.jupyter.widget-view+json": {
       "model_id": "a390f7064ff34b468438aca4e7862689",
       "version_major": 2,
       "version_minor": 0
      },
      "text/plain": [
       "Executing:   0%|          | 0/26 [00:00<?, ?cell/s]"
      ]
     },
     "metadata": {},
     "output_type": "display_data"
    },
    {
     "name": "stdout",
     "output_type": "stream",
     "text": [
      " [done in 2.0 mins 14 secs secs]\n",
      "\n",
      "1b - IRF government spening.ipynb"
     ]
    },
    {
     "data": {
      "application/vnd.jupyter.widget-view+json": {
       "model_id": "99f8190d2ad9423895cc3f6c5544f038",
       "version_major": 2,
       "version_minor": 0
      },
      "text/plain": [
       "Executing:   0%|          | 0/28 [00:00<?, ?cell/s]"
      ]
     },
     "metadata": {},
     "output_type": "display_data"
    },
    {
     "name": "stdout",
     "output_type": "stream",
     "text": [
      " [done in 2.0 mins 10 secs secs]\n",
      "\n",
      "1c - IRF interest rate.ipynb"
     ]
    },
    {
     "data": {
      "application/vnd.jupyter.widget-view+json": {
       "model_id": "4824d8d6adf14e1ab1198f1f51de3ae1",
       "version_major": 2,
       "version_minor": 0
      },
      "text/plain": [
       "Executing:   0%|          | 0/26 [00:00<?, ?cell/s]"
      ]
     },
     "metadata": {},
     "output_type": "display_data"
    },
    {
     "name": "stdout",
     "output_type": "stream",
     "text": [
      " [done in 2.0 mins 8 secs secs]\n",
      "\n",
      "2a - government spending - details.ipynb"
     ]
    },
    {
     "data": {
      "application/vnd.jupyter.widget-view+json": {
       "model_id": "1b8c9c4a12544533bc428bad1fa48d48",
       "version_major": 2,
       "version_minor": 0
      },
      "text/plain": [
       "Executing:   0%|          | 0/45 [00:00<?, ?cell/s]"
      ]
     },
     "metadata": {},
     "output_type": "display_data"
    },
    {
     "name": "stdout",
     "output_type": "stream",
     "text": [
      " [done in 2.0 mins 17 secs secs]\n",
      "\n",
      "2b - government spending - sensitivity.ipynb"
     ]
    },
    {
     "data": {
      "application/vnd.jupyter.widget-view+json": {
       "model_id": "2dcf736503394c398303e939693dc02b",
       "version_major": 2,
       "version_minor": 0
      },
      "text/plain": [
       "Executing:   0%|          | 0/28 [00:00<?, ?cell/s]"
      ]
     },
     "metadata": {},
     "output_type": "display_data"
    },
    {
     "name": "stdout",
     "output_type": "stream",
     "text": [
      " [done in 2.0 mins 26 secs secs]\n",
      "\n",
      "2c - government spending - long-term.ipynb"
     ]
    },
    {
     "data": {
      "application/vnd.jupyter.widget-view+json": {
       "model_id": "8e7c774656c8431d96e0a10cd617716f",
       "version_major": 2,
       "version_minor": 0
      },
      "text/plain": [
       "Executing:   0%|          | 0/11 [00:00<?, ?cell/s]"
      ]
     },
     "metadata": {},
     "output_type": "display_data"
    },
    {
     "name": "stdout",
     "output_type": "stream",
     "text": [
      " [done in 4.0 mins 58 secs secs]\n",
      "\n"
     ]
    }
   ],
   "source": [
    "for filename in glob.glob('*.ipynb'):\n",
    "    \n",
    "    if 'run all' in filename: continue\n",
    "\n",
    "    print(filename,end='')\n",
    "\n",
    "    t0 = time.time()\n",
    "    run_jupyter(filename) \n",
    "    print(f' [done in {elapsed(t0)} secs]\\n')\n"
   ]
  }
 ],
 "metadata": {
  "kernelspec": {
   "display_name": "base",
   "language": "python",
   "name": "python3"
  },
  "language_info": {
   "codemirror_mode": {
    "name": "ipython",
    "version": 3
   },
   "file_extension": ".py",
   "mimetype": "text/x-python",
   "name": "python",
   "nbconvert_exporter": "python",
   "pygments_lexer": "ipython3",
   "version": "3.10.11"
  },
  "vscode": {
   "interpreter": {
    "hash": "8e46095560128379321b1ce69ff92c6b7a45fc7d9b830ea022fe373b05aa9725"
   }
  }
 },
 "nbformat": 4,
 "nbformat_minor": 5
}
