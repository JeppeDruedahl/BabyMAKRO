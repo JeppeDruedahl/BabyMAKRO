{
 "cells": [
  {
   "cell_type": "code",
   "execution_count": 1,
   "id": "af33ddc5-87d5-4156-a416-25b702ad0063",
   "metadata": {},
   "outputs": [],
   "source": [
    "import os, glob"
   ]
  },
  {
   "cell_type": "code",
   "execution_count": 2,
   "id": "6f78489a-a06d-40b2-87c4-7e52f4b5279b",
   "metadata": {},
   "outputs": [],
   "source": [
    "def run_jupyter(filename):\n",
    "    out = os.system(f'jupyter nbconvert --to notebook --execute --ExecutePreprocessor.timeout=-1 --inplace \"{filename}\"')\n",
    "    assert out == 0 , f' -> failed'"
   ]
  },
  {
   "cell_type": "code",
   "execution_count": 3,
   "id": "f861947e",
   "metadata": {},
   "outputs": [],
   "source": [
    "no_extra = False"
   ]
  },
  {
   "cell_type": "code",
   "execution_count": 4,
   "id": "536e299d-d812-4fd8-9321-a143dd911542",
   "metadata": {},
   "outputs": [],
   "source": [
    "for filename in glob.glob('*.ipynb'):\n",
    "    \n",
    "    if 'run all' in filename: continue\n",
    "\n",
    "    print(filename,end='')\n",
    "\n",
    "    try:\n",
    "        run_jupyter(filename)\n",
    "    except Exception as e:\n",
    "        print(f': {e}',end='')\n",
    "\n",
    "    print('')"
   ]
  }
 ],
 "metadata": {
  "kernelspec": {
   "display_name": "base",
   "language": "python",
   "name": "python3"
  },
  "language_info": {
   "codemirror_mode": {
    "name": "ipython",
    "version": 3
   },
   "file_extension": ".py",
   "mimetype": "text/x-python",
   "name": "python",
   "nbconvert_exporter": "python",
   "pygments_lexer": "ipython3",
   "version": "3.9.15"
  },
  "vscode": {
   "interpreter": {
    "hash": "47ef90cdf3004d3f859f1fb202523c65c07ba7c22eefd261b181f4744e2d0403"
   }
  }
 },
 "nbformat": 4,
 "nbformat_minor": 5
}
