{
 "cells": [
  {
   "cell_type": "markdown",
   "id": "2c331790",
   "metadata": {},
   "source": [
    "# Government Spending shock"
   ]
  },
  {
   "cell_type": "markdown",
   "id": "d41b3d66",
   "metadata": {},
   "source": [
    "**Table of contents**<a id='toc0_'></a>    \n",
    "- 1. [Setup](#toc1_)    \n",
    "- 2. [Find steady state and Jacobian](#toc2_)    \n",
    "- 3. [Find IRF](#toc3_)    \n",
    "- 4. [Figures](#toc4_)    \n",
    "  - 4.1. [Effect on government](#toc4_1_)    \n",
    "  - 4.2. [Effect on production firms, Phillips-curve and investments](#toc4_2_)    \n",
    "    - 4.2.1. [Effect on production firms](#toc4_2_1_)    \n",
    "    - 4.2.2. [Effect on Phillips-curve](#toc4_2_2_)    \n",
    "    - 4.2.3. [Effect on investments](#toc4_2_3_)    \n",
    "  - 4.3. [Labor market](#toc4_3_)    \n",
    "  - 4.4. [Effect on consumption](#toc4_4_)    \n",
    "    - 4.4.1. [Effect on bequest and savings](#toc4_4_1_)    \n",
    "  - 4.5. [Effect on exports](#toc4_5_)    \n",
    "  - 4.6. [Other](#toc4_6_)    \n",
    "    - 4.6.1. [Households lifecycle](#toc4_6_1_)    \n",
    "    - 4.6.2. [Long-term](#toc4_6_2_)    \n",
    "    - 4.6.3. [National accouting - quantities](#toc4_6_3_)    \n",
    "\n",
    "<!-- vscode-jupyter-toc-config\n",
    "\tnumbering=true\n",
    "\tanchor=true\n",
    "\tflat=false\n",
    "\tminLevel=2\n",
    "\tmaxLevel=6\n",
    "\t/vscode-jupyter-toc-config -->\n",
    "<!-- THIS CELL WILL BE REPLACED ON TOC UPDATE. DO NOT WRITE YOUR TEXT IN THIS CELL -->"
   ]
  },
  {
   "cell_type": "code",
   "execution_count": 1,
   "id": "4b9ffaa1-2f71-40c9-9ec0-2b1a66545d46",
   "metadata": {
    "execution": {
     "iopub.execute_input": "2023-03-02T12:04:27.963335Z",
     "iopub.status.busy": "2023-03-02T12:04:27.962338Z",
     "iopub.status.idle": "2023-03-02T12:04:29.082315Z",
     "shell.execute_reply": "2023-03-02T12:04:29.081278Z"
    }
   },
   "outputs": [],
   "source": [
    "%load_ext autoreload\n",
    "%autoreload 2\n",
    "\n",
    "import numpy as np\n",
    "import matplotlib.pyplot as plt   \n",
    "plt.rcParams.update({\"axes.grid\":True,\"grid.color\":\"black\",\"grid.alpha\":\"0.25\",\"grid.linestyle\":\"--\"})\n",
    "prop_cycle = plt.rcParams['axes.prop_cycle']\n",
    "colors = prop_cycle.by_key()['color']\n",
    "\n",
    "from BabyMAKROModel import BabyMAKROModelClass"
   ]
  },
  {
   "attachments": {},
   "cell_type": "markdown",
   "id": "5ac74a55",
   "metadata": {},
   "source": [
    "## 1. <a id='toc1_'></a>[Setup](#toc0_)"
   ]
  },
  {
   "cell_type": "code",
   "execution_count": 2,
   "id": "69981f4f-beca-4e00-8373-d7392662625b",
   "metadata": {
    "execution": {
     "iopub.execute_input": "2023-03-02T12:04:29.087301Z",
     "iopub.status.busy": "2023-03-02T12:04:29.087301Z",
     "iopub.status.idle": "2023-03-02T12:04:29.176323Z",
     "shell.execute_reply": "2023-03-02T12:04:29.175280Z"
    }
   },
   "outputs": [],
   "source": [
    "model = BabyMAKROModelClass(name='baseline')"
   ]
  },
  {
   "attachments": {},
   "cell_type": "markdown",
   "id": "8e2bc568",
   "metadata": {},
   "source": [
    "**Unpack namespaces:**"
   ]
  },
  {
   "cell_type": "code",
   "execution_count": 3,
   "id": "b6a42e14-a303-4d94-9afa-b5a6e9d98a48",
   "metadata": {
    "execution": {
     "iopub.execute_input": "2023-03-02T12:04:29.181309Z",
     "iopub.status.busy": "2023-03-02T12:04:29.181309Z",
     "iopub.status.idle": "2023-03-02T12:04:29.270144Z",
     "shell.execute_reply": "2023-03-02T12:04:29.270144Z"
    }
   },
   "outputs": [],
   "source": [
    "par = model.par\n",
    "ss = model.ss\n",
    "sol = model.sol"
   ]
  },
  {
   "cell_type": "markdown",
   "id": "9ad746e7",
   "metadata": {},
   "source": [
    "## 2. <a id='toc2_'></a>[Find steady state and Jacobian](#toc0_)"
   ]
  },
  {
   "attachments": {},
   "cell_type": "markdown",
   "id": "a3fcc8bc",
   "metadata": {},
   "source": [
    "**Find SS:**"
   ]
  },
  {
   "cell_type": "code",
   "execution_count": 4,
   "id": "3c6630c8-ca58-4e1b-8dc2-d8816431d506",
   "metadata": {
    "execution": {
     "iopub.execute_input": "2023-03-02T12:04:29.273136Z",
     "iopub.status.busy": "2023-03-02T12:04:29.273136Z",
     "iopub.status.idle": "2023-03-02T12:04:29.903957Z",
     "shell.execute_reply": "2023-03-02T12:04:29.903957Z"
    }
   },
   "outputs": [],
   "source": [
    "model.find_ss()"
   ]
  },
  {
   "attachments": {},
   "cell_type": "markdown",
   "id": "c684e2dd",
   "metadata": {},
   "source": [
    "**Jacobian:**"
   ]
  },
  {
   "cell_type": "code",
   "execution_count": 5,
   "id": "1cb56f19",
   "metadata": {},
   "outputs": [
    {
     "name": "stdout",
     "output_type": "stream",
     "text": [
      "model compiled, 37.1 secs\n"
     ]
    }
   ],
   "source": [
    "model.compile(do_print=True)"
   ]
  },
  {
   "cell_type": "code",
   "execution_count": 6,
   "id": "ec999c19-feb4-40a4-a233-8e4602274660",
   "metadata": {
    "execution": {
     "iopub.execute_input": "2023-03-02T12:04:29.906948Z",
     "iopub.status.busy": "2023-03-02T12:04:29.906948Z",
     "iopub.status.idle": "2023-03-02T12:05:30.186171Z",
     "shell.execute_reply": "2023-03-02T12:05:30.184945Z"
    }
   },
   "outputs": [
    {
     "name": "stdout",
     "output_type": "stream",
     "text": [
      "Jacobian calculated in 2.0 secs\n"
     ]
    }
   ],
   "source": [
    "model.calc_jac(do_print=True)"
   ]
  },
  {
   "cell_type": "markdown",
   "id": "df2a7152",
   "metadata": {},
   "source": [
    "## 3. <a id='toc3_'></a>[Find IRF](#toc0_)"
   ]
  },
  {
   "attachments": {},
   "cell_type": "markdown",
   "id": "bb09e494",
   "metadata": {},
   "source": [
    "**Set exogenous variables:**"
   ]
  },
  {
   "cell_type": "code",
   "execution_count": null,
   "id": "c8384bfc-725e-4c67-9bc2-3012b2230c12",
   "metadata": {
    "execution": {
     "iopub.execute_input": "2023-03-02T12:05:30.188197Z",
     "iopub.status.busy": "2023-03-02T12:05:30.188197Z",
     "iopub.status.idle": "2023-03-02T12:05:30.268793Z",
     "shell.execute_reply": "2023-03-02T12:05:30.268018Z"
    }
   },
   "outputs": [],
   "source": [
    "model.set_exo_ss() "
   ]
  },
  {
   "attachments": {},
   "cell_type": "markdown",
   "id": "9afe03c0",
   "metadata": {},
   "source": [
    "**Define shock:**"
   ]
  },
  {
   "cell_type": "code",
   "execution_count": 9,
   "id": "6b757ecc-6b62-4e94-bab1-3d1cf48fc2e9",
   "metadata": {
    "execution": {
     "iopub.execute_input": "2023-03-02T12:05:30.270840Z",
     "iopub.status.busy": "2023-03-02T12:05:30.270840Z",
     "iopub.status.idle": "2023-03-02T12:05:30.355433Z",
     "shell.execute_reply": "2023-03-02T12:05:30.354404Z"
    }
   },
   "outputs": [],
   "source": [
    "Tshock = 50                                                    # length of shock\n",
    "persistence = np.array([0.80**np.arange(Tshock)])              # persistence of shock       \n",
    "persistence = persistence.reshape((Tshock,1)) \n",
    "model.sol.G[0:Tshock,:] = model.ss.G*(1 + 0.01*persistence)    # shock to government spending"
   ]
  },
  {
   "attachments": {},
   "cell_type": "markdown",
   "id": "f03ee75e",
   "metadata": {},
   "source": [
    "**Find IRF:**"
   ]
  },
  {
   "cell_type": "code",
   "execution_count": null,
   "id": "5dbcf35e",
   "metadata": {
    "execution": {
     "iopub.execute_input": "2023-03-02T12:05:30.357429Z",
     "iopub.status.busy": "2023-03-02T12:05:30.357429Z",
     "iopub.status.idle": "2023-03-02T12:05:30.960091Z",
     "shell.execute_reply": "2023-03-02T12:05:30.959985Z"
    }
   },
   "outputs": [],
   "source": [
    "model.find_IRF()"
   ]
  },
  {
   "cell_type": "markdown",
   "id": "87031f13",
   "metadata": {},
   "source": [
    "## 4. <a id='toc4_'></a>[Figures](#toc0_)"
   ]
  },
  {
   "cell_type": "markdown",
   "id": "9dbdf94c",
   "metadata": {},
   "source": [
    "### 4.1. <a id='toc4_1_'></a>[Effect on government](#toc0_)"
   ]
  },
  {
   "cell_type": "code",
   "execution_count": null,
   "id": "ec8b0059",
   "metadata": {
    "execution": {
     "iopub.execute_input": "2023-03-02T12:05:32.835271Z",
     "iopub.status.busy": "2023-03-02T12:05:32.835220Z",
     "iopub.status.idle": "2023-03-02T12:05:33.510617Z",
     "shell.execute_reply": "2023-03-02T12:05:33.509925Z"
    }
   },
   "outputs": [],
   "source": [
    "model.plot_IRF(varlist=['G','B','tau','P_G','Y','L','W'],abs=['tau'],Y_share=['B'], ncol=3)"
   ]
  },
  {
   "cell_type": "markdown",
   "id": "7f83b88a",
   "metadata": {},
   "source": [
    "### 4.2. <a id='toc4_2_'></a>[Effect on production firms, Phillips-curve and investments](#toc0_)"
   ]
  },
  {
   "cell_type": "markdown",
   "id": "075d9cba",
   "metadata": {},
   "source": [
    "#### 4.2.1. <a id='toc4_2_1_'></a>[Effect on production firms](#toc0_)"
   ]
  },
  {
   "cell_type": "code",
   "execution_count": null,
   "id": "bdcb4ffc",
   "metadata": {
    "execution": {
     "iopub.execute_input": "2023-03-02T12:05:33.512643Z",
     "iopub.status.busy": "2023-03-02T12:05:33.512643Z",
     "iopub.status.idle": "2023-03-02T12:05:34.619229Z",
     "shell.execute_reply": "2023-03-02T12:05:34.618051Z"
    }
   },
   "outputs": [],
   "source": [
    "model.plot_IRF(varlist=['Y','K','ell','r_K','r_ell','real_r_K','real_r_ell'])"
   ]
  },
  {
   "cell_type": "markdown",
   "id": "bcd4dda3",
   "metadata": {},
   "source": [
    "#### 4.2.2. <a id='toc4_2_2_'></a>[Effect on Phillips-curve](#toc0_)"
   ]
  },
  {
   "cell_type": "code",
   "execution_count": null,
   "id": "0d02def2",
   "metadata": {
    "execution": {
     "iopub.execute_input": "2023-03-02T12:05:34.621224Z",
     "iopub.status.busy": "2023-03-02T12:05:34.621224Z",
     "iopub.status.idle": "2023-03-02T12:05:35.139758Z",
     "shell.execute_reply": "2023-03-02T12:05:35.139758Z"
    }
   },
   "outputs": [],
   "source": [
    "model.plot_IRF(varlist=['Y','P_Y_0','P_Y'])"
   ]
  },
  {
   "cell_type": "markdown",
   "id": "d52cf516",
   "metadata": {},
   "source": [
    "#### 4.2.3. <a id='toc4_2_3_'></a>[Effect on investments](#toc0_)"
   ]
  },
  {
   "cell_type": "code",
   "execution_count": null,
   "id": "86b78a9e",
   "metadata": {
    "execution": {
     "iopub.execute_input": "2023-03-02T12:05:35.141807Z",
     "iopub.status.busy": "2023-03-02T12:05:35.141807Z",
     "iopub.status.idle": "2023-03-02T12:05:35.901321Z",
     "shell.execute_reply": "2023-03-02T12:05:35.899026Z"
    }
   },
   "outputs": [],
   "source": [
    "model.plot_IRF(varlist=['I','K','P_I','r_K'],ncol=2)"
   ]
  },
  {
   "cell_type": "markdown",
   "id": "e055b507",
   "metadata": {},
   "source": [
    "### 4.3. <a id='toc4_3_'></a>[Labor market](#toc0_)"
   ]
  },
  {
   "cell_type": "code",
   "execution_count": null,
   "id": "54ffdb78",
   "metadata": {
    "execution": {
     "iopub.execute_input": "2023-03-02T12:05:35.909325Z",
     "iopub.status.busy": "2023-03-02T12:05:35.909325Z",
     "iopub.status.idle": "2023-03-02T12:05:37.266825Z",
     "shell.execute_reply": "2023-03-02T12:05:37.266825Z"
    }
   },
   "outputs": [],
   "source": [
    "model.plot_IRF(varlist=['S','L_ubar','v','curlyM','m_v','m_s','delta_L','W','real_W'],abs=['m_v','m_s'])"
   ]
  },
  {
   "cell_type": "markdown",
   "id": "4c498e9b",
   "metadata": {},
   "source": [
    "### 4.4. <a id='toc4_4_'></a>[Effect on consumption](#toc0_)"
   ]
  },
  {
   "cell_type": "code",
   "execution_count": null,
   "id": "15ef95c5",
   "metadata": {
    "execution": {
     "iopub.execute_input": "2023-03-02T12:05:37.269933Z",
     "iopub.status.busy": "2023-03-02T12:05:37.269933Z",
     "iopub.status.idle": "2023-03-02T12:05:38.214395Z",
     "shell.execute_reply": "2023-03-02T12:05:38.214395Z"
    }
   },
   "outputs": [],
   "source": [
    "model.plot_IRF(varlist=['C','C_HtM','C_R','P_C','inc','real_inc'])"
   ]
  },
  {
   "cell_type": "markdown",
   "id": "cdcea515",
   "metadata": {},
   "source": [
    "#### 4.4.1. <a id='toc4_4_1_'></a>[Effect on bequest and savings](#toc0_)"
   ]
  },
  {
   "cell_type": "code",
   "execution_count": null,
   "id": "3381c887",
   "metadata": {
    "execution": {
     "iopub.execute_input": "2023-03-02T12:05:38.215517Z",
     "iopub.status.busy": "2023-03-02T12:05:38.215517Z",
     "iopub.status.idle": "2023-03-02T12:05:38.788309Z",
     "shell.execute_reply": "2023-03-02T12:05:38.788309Z"
    }
   },
   "outputs": [],
   "source": [
    "model.plot_IRF(varlist=['real_r_hh','A','Aq'],ncol=3,abs=['real_r_hh'])"
   ]
  },
  {
   "cell_type": "markdown",
   "id": "9c12691f",
   "metadata": {},
   "source": [
    "### 4.5. <a id='toc4_5_'></a>[Effect on exports](#toc0_)"
   ]
  },
  {
   "cell_type": "code",
   "execution_count": null,
   "id": "bbde50c5",
   "metadata": {
    "execution": {
     "iopub.execute_input": "2023-03-02T12:05:38.790360Z",
     "iopub.status.busy": "2023-03-02T12:05:38.790360Z",
     "iopub.status.idle": "2023-03-02T12:05:39.314459Z",
     "shell.execute_reply": "2023-03-02T12:05:39.314309Z"
    }
   },
   "outputs": [],
   "source": [
    "model.plot_IRF(varlist=['X','P_X','M'], ncol=2)"
   ]
  },
  {
   "cell_type": "markdown",
   "id": "025b2a35",
   "metadata": {},
   "source": [
    "### 4.6. <a id='toc4_6_'></a>[Other](#toc0_)"
   ]
  },
  {
   "cell_type": "markdown",
   "id": "5b4de4ea",
   "metadata": {},
   "source": [
    "#### 4.6.1. <a id='toc4_6_1_'></a>[Households lifecycle](#toc0_)"
   ]
  },
  {
   "cell_type": "code",
   "execution_count": null,
   "id": "5ebc9e1c",
   "metadata": {
    "execution": {
     "iopub.execute_input": "2023-03-02T12:05:39.317485Z",
     "iopub.status.busy": "2023-03-02T12:05:39.317485Z",
     "iopub.status.idle": "2023-03-02T12:05:40.544104Z",
     "shell.execute_reply": "2023-03-02T12:05:40.544104Z"
    }
   },
   "outputs": [],
   "source": [
    "model.plot_IRF_hh(varlist=['L_a','L_ubar_a','S_a','inc_a','C_a','A_a'],t0_list=[-20,-10,0,10,20])"
   ]
  },
  {
   "cell_type": "markdown",
   "id": "b0170e22",
   "metadata": {},
   "source": [
    "#### 4.6.2. <a id='toc4_6_2_'></a>[Long-term](#toc0_)"
   ]
  },
  {
   "cell_type": "code",
   "execution_count": null,
   "id": "d400bbfc",
   "metadata": {
    "execution": {
     "iopub.execute_input": "2023-03-02T12:05:40.546153Z",
     "iopub.status.busy": "2023-03-02T12:05:40.546153Z",
     "iopub.status.idle": "2023-03-02T12:05:41.579710Z",
     "shell.execute_reply": "2023-03-02T12:05:41.578844Z"
    }
   },
   "outputs": [],
   "source": [
    "model.plot_IRF(varlist=['G','K','Y','C','A','Aq'],Y_share=['G','C'],T_IRF=par.T)"
   ]
  },
  {
   "cell_type": "markdown",
   "id": "78772a72",
   "metadata": {},
   "source": [
    "#### 4.6.3. <a id='toc4_6_3_'></a>[National accouting - quantities](#toc0_)"
   ]
  },
  {
   "cell_type": "code",
   "execution_count": null,
   "id": "18d14ace",
   "metadata": {
    "execution": {
     "iopub.execute_input": "2023-03-02T12:05:41.580759Z",
     "iopub.status.busy": "2023-03-02T12:05:41.580759Z",
     "iopub.status.idle": "2023-03-02T12:05:42.506543Z",
     "shell.execute_reply": "2023-03-02T12:05:42.505544Z"
    }
   },
   "outputs": [],
   "source": [
    "model.plot_IRF(varlist=['Y','C','G','I','X','M'])"
   ]
  }
 ],
 "metadata": {
  "kernelspec": {
   "display_name": "base",
   "language": "python",
   "name": "python3"
  },
  "language_info": {
   "codemirror_mode": {
    "name": "ipython",
    "version": 3
   },
   "file_extension": ".py",
   "mimetype": "text/x-python",
   "name": "python",
   "nbconvert_exporter": "python",
   "pygments_lexer": "ipython3",
   "version": "3.9.16"
  },
  "toc-autonumbering": true,
  "vscode": {
   "interpreter": {
    "hash": "8e46095560128379321b1ce69ff92c6b7a45fc7d9b830ea022fe373b05aa9725"
   }
  }
 },
 "nbformat": 4,
 "nbformat_minor": 5
}
