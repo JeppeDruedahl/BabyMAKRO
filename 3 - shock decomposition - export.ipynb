{
 "cells": [
  {
   "cell_type": "markdown",
   "id": "a98308a9",
   "metadata": {},
   "source": [
    "# Export shock - Decomposition"
   ]
  },
  {
   "cell_type": "markdown",
   "id": "0a144afc",
   "metadata": {},
   "source": [
    "**Table of contents**<a id='toc0_'></a>    \n",
    "- 1. [Setup](#toc1_)    \n",
    "- 2. [Find IRF](#toc2_)    \n",
    "- 3. [Figures](#toc3_)    \n",
    "  - 3.1. [Effect on Foreign Economy and Prices](#toc3_1_)    \n",
    "  - 3.2. [Effect on Production firms, Phillips-curve and Investments](#toc3_2_)    \n",
    "    - 3.2.1. [Production firms](#toc3_2_1_)    \n",
    "    - 3.2.2. [Phillips-curve](#toc3_2_2_)    \n",
    "    - 3.2.3. [Investments](#toc3_2_3_)    \n",
    "  - 3.3. [Labor market](#toc3_3_)    \n",
    "  - 3.4. [Government](#toc3_4_)    \n",
    "  - 3.5. [Households - aggregate](#toc3_5_)    \n",
    "  - 3.6. [Households - life-cycle](#toc3_6_)    \n",
    "\n",
    "<!-- vscode-jupyter-toc-config\n",
    "\tnumbering=true\n",
    "\tanchor=true\n",
    "\tflat=false\n",
    "\tminLevel=2\n",
    "\tmaxLevel=6\n",
    "\t/vscode-jupyter-toc-config -->\n",
    "<!-- THIS CELL WILL BE REPLACED ON TOC UPDATE. DO NOT WRITE YOUR TEXT IN THIS CELL -->"
   ]
  },
  {
   "cell_type": "code",
   "execution_count": null,
   "id": "f5d1c45d",
   "metadata": {},
   "outputs": [],
   "source": [
    "%load_ext autoreload\n",
    "%autoreload 2\n",
    "\n",
    "import numpy as np\n",
    "import matplotlib.pyplot as plt   \n",
    "plt.style.use('seaborn-whitegrid')\n",
    "prop_cycle = plt.rcParams['axes.prop_cycle']\n",
    "colors = prop_cycle.by_key()['color']\n",
    "\n",
    "from BabyMAKROModel import BabyMAKROModelClass"
   ]
  },
  {
   "cell_type": "markdown",
   "id": "aa579015",
   "metadata": {},
   "source": [
    "## 1. <a id='toc1_'></a>[Setup](#toc0_)"
   ]
  },
  {
   "cell_type": "code",
   "execution_count": null,
   "id": "69981f4f-beca-4e00-8373-d7392662625b",
   "metadata": {},
   "outputs": [],
   "source": [
    "model = BabyMAKROModelClass(name='baseline')            #create baseline model"
   ]
  },
  {
   "cell_type": "code",
   "execution_count": null,
   "id": "b6a42e14-a303-4d94-9afa-b5a6e9d98a48",
   "metadata": {},
   "outputs": [],
   "source": [
    "par = model.par                 #set model parameters\n",
    "ss = model.ss                   #create namespace for steady state\n",
    "sol = model.sol                 #create namespace for solution"
   ]
  },
  {
   "cell_type": "code",
   "execution_count": null,
   "id": "ee29d93b",
   "metadata": {},
   "outputs": [],
   "source": [
    "par.t_b = 0\n",
    "par.delta_B = 0\n",
    "par.eta = 0.0"
   ]
  },
  {
   "cell_type": "markdown",
   "id": "45d68752",
   "metadata": {},
   "source": [
    "## 2. <a id='toc2_'></a>[Find IRF](#toc0_)"
   ]
  },
  {
   "cell_type": "code",
   "execution_count": null,
   "id": "73d68aed",
   "metadata": {},
   "outputs": [],
   "source": [
    "Tshock = 50                                             #length of shock\n",
    "persistence = 0.80**np.arange(Tshock)                   #persistence of shock\n",
    "shock1 = ['chi']                                        #set shock 1 - shock to chi\n",
    "shock2 = ['P_F','P_M_C','P_M_G','P_M_I','P_M_X']        #set shock 2 - shock to foreign and import prices\n",
    "shock_1_size = 0.01                                     #Size of shock 1 (shock 2 is set to half the size of shock 1)\n",
    "Modellist = model.multi_shock_model(Tshock,persistence,shock_1_size,shock1,0.5*shock_1_size,shock2,constant_wage= True)     #find IRFs for the model containing all shocks - as well as the individual shocks"
   ]
  },
  {
   "cell_type": "markdown",
   "id": "0d88ab66",
   "metadata": {},
   "source": [
    "## 3. <a id='toc3_'></a>[Figures](#toc0_)"
   ]
  },
  {
   "cell_type": "markdown",
   "id": "b8315047",
   "metadata": {},
   "source": [
    "### 3.1. <a id='toc3_1_'></a>[Effect on Foreign Economy and Prices](#toc0_)"
   ]
  },
  {
   "cell_type": "code",
   "execution_count": null,
   "id": "998dab49",
   "metadata": {},
   "outputs": [],
   "source": [
    "model.multi_shock_IRF(Modellist,['All',r'$\\chi$',r'$P^F$, $P^{M,*}$'],varlist=['chi','P_F','P_M_C','P_X','P_Y','P_C', 'X', 'Y', 'M'])"
   ]
  },
  {
   "cell_type": "markdown",
   "id": "d6172f70",
   "metadata": {},
   "source": [
    "### 3.2. <a id='toc3_2_'></a>[Effect on Production firms, Phillips-curve and Investments](#toc0_)"
   ]
  },
  {
   "cell_type": "markdown",
   "id": "310533bb",
   "metadata": {},
   "source": [
    "#### 3.2.1. <a id='toc3_2_1_'></a>[Production firms](#toc0_)"
   ]
  },
  {
   "cell_type": "code",
   "execution_count": null,
   "id": "3f112fab",
   "metadata": {},
   "outputs": [],
   "source": [
    "model.multi_shock_IRF(Modellist,['All',r'$\\chi$',r'$P^F$, $P^{M,*}$'],varlist=['Y','K','ell','r_K','r_ell','real_MPK','real_MPL'])"
   ]
  },
  {
   "cell_type": "markdown",
   "id": "473914d5",
   "metadata": {},
   "source": [
    "#### 3.2.2. <a id='toc3_2_2_'></a>[Phillips-curve](#toc0_)"
   ]
  },
  {
   "cell_type": "code",
   "execution_count": null,
   "id": "fa4416e4",
   "metadata": {},
   "outputs": [],
   "source": [
    "model.multi_shock_IRF(Modellist,['All',r'$\\chi$',r'$P^F$, $P^{M,*}$'],varlist=['Y','P_Y_0','P_Y'])"
   ]
  },
  {
   "cell_type": "markdown",
   "id": "6d62de6d",
   "metadata": {},
   "source": [
    "#### 3.2.3. <a id='toc3_2_3_'></a>[Investments](#toc0_)"
   ]
  },
  {
   "cell_type": "code",
   "execution_count": null,
   "id": "5ea5a15f",
   "metadata": {},
   "outputs": [],
   "source": [
    "model.multi_shock_IRF(Modellist,['All',r'$\\chi$',r'$P^F$, $P^{M,*}$'],varlist=['I','K','P_I','r_K'],ncol=2)"
   ]
  },
  {
   "cell_type": "markdown",
   "id": "7b746517",
   "metadata": {},
   "source": [
    "### 3.3. <a id='toc3_3_'></a>[Labor market](#toc0_)"
   ]
  },
  {
   "cell_type": "code",
   "execution_count": null,
   "id": "0de00d3c",
   "metadata": {},
   "outputs": [],
   "source": [
    "model.multi_shock_IRF(Modellist,['All',r'$\\chi$',r'$P^F$, $P^{M,*}$'],varlist=['S','L_ubar','v','curlyM','m_v','m_s','delta_L','W','real_W'],abs=['m_v','m_s'])"
   ]
  },
  {
   "cell_type": "markdown",
   "id": "e240687d",
   "metadata": {},
   "source": [
    "### 3.4. <a id='toc3_4_'></a>[Government](#toc0_)"
   ]
  },
  {
   "cell_type": "code",
   "execution_count": null,
   "id": "33a6e1d0",
   "metadata": {},
   "outputs": [],
   "source": [
    "model.multi_shock_IRF(Modellist,['All',r'$\\chi$',r'$P^F$, $P^{M,*}$'],varlist=['G','B','tau'],abs=['tau'],Y_share=['B'])"
   ]
  },
  {
   "cell_type": "markdown",
   "id": "a3d7ad88",
   "metadata": {},
   "source": [
    "### 3.5. <a id='toc3_5_'></a>[Households - aggregate](#toc0_)"
   ]
  },
  {
   "cell_type": "code",
   "execution_count": null,
   "id": "20b18a45-d15c-4b90-b3b1-c820fad862cf",
   "metadata": {},
   "outputs": [],
   "source": [
    "model.multi_shock_IRF(Modellist,['All',r'$\\chi$',r'$P^F$, $P^{M,*}$'],varlist=['L','U','inc','W','real_W','real_r_hh','C','A','Aq'],ncol=3,abs=['real_r_hh'])"
   ]
  },
  {
   "cell_type": "code",
   "execution_count": null,
   "id": "cd99178e",
   "metadata": {},
   "outputs": [],
   "source": [
    "model.multi_shock_IRF(Modellist,['All',r'$\\chi$',r'$P^F$, $P^{M,*}$'],varlist=['C_HtM','C_R'],ncol=2)"
   ]
  },
  {
   "cell_type": "markdown",
   "id": "4c4ce65d",
   "metadata": {},
   "source": [
    "### 3.6. <a id='toc3_6_'></a>[Households - life-cycle](#toc0_)"
   ]
  },
  {
   "cell_type": "code",
   "execution_count": null,
   "id": "ac73c54d-1f8e-46c0-91ea-8a680266db48",
   "metadata": {},
   "outputs": [],
   "source": [
    "model.plot_IRF_hh(varlist=['L_a','L_ubar_a','S_a','inc_a','C_a','A_a'],t0_list=[-20,-10,0,10,20])"
   ]
  }
 ],
 "metadata": {
  "kernelspec": {
   "display_name": "Python 3 (ipykernel)",
   "language": "python",
   "name": "python3"
  },
  "language_info": {
   "codemirror_mode": {
    "name": "ipython",
    "version": 3
   },
   "file_extension": ".py",
   "mimetype": "text/x-python",
   "name": "python",
   "nbconvert_exporter": "python",
   "pygments_lexer": "ipython3",
   "version": "3.9.15"
  },
  "toc-autonumbering": true,
  "vscode": {
   "interpreter": {
    "hash": "8e46095560128379321b1ce69ff92c6b7a45fc7d9b830ea022fe373b05aa9725"
   }
  }
 },
 "nbformat": 4,
 "nbformat_minor": 5
}
