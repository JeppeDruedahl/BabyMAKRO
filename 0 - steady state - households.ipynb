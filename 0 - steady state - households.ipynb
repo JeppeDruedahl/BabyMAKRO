{
 "cells": [
  {
   "attachments": {},
   "cell_type": "markdown",
   "id": "ca4b4da9",
   "metadata": {},
   "source": [
    "# Steady State - Households"
   ]
  },
  {
   "cell_type": "markdown",
   "id": "1778f1d6",
   "metadata": {},
   "source": [
    "**Table of contents**<a id='toc0_'></a>    \n",
    "- 1. [Setup](#toc1_)    \n",
    "- 2. [Mortality and population](#toc2_)    \n",
    "- 3. [Labor supply](#toc3_)    \n",
    "- 4. [Consumption-saving](#toc4_)    \n",
    "- 5. [Varying central inputs](#toc5_)    \n",
    "- 6. [Test household blocks](#toc6_)    \n",
    "\n",
    "<!-- vscode-jupyter-toc-config\n",
    "\tnumbering=true\n",
    "\tanchor=true\n",
    "\tflat=false\n",
    "\tminLevel=2\n",
    "\tmaxLevel=6\n",
    "\t/vscode-jupyter-toc-config -->\n",
    "<!-- THIS CELL WILL BE REPLACED ON TOC UPDATE. DO NOT WRITE YOUR TEXT IN THIS CELL -->"
   ]
  },
  {
   "cell_type": "code",
   "execution_count": 1,
   "id": "4b9ffaa1-2f71-40c9-9ec0-2b1a66545d46",
   "metadata": {},
   "outputs": [
    {
     "name": "stderr",
     "output_type": "stream",
     "text": [
      "C:\\Users\\nbk863\\AppData\\Local\\Temp\\ipykernel_6828\\3304960369.py:11: MatplotlibDeprecationWarning: The seaborn styles shipped by Matplotlib are deprecated since 3.6, as they no longer correspond to the styles shipped by seaborn. However, they will remain available as 'seaborn-v0_8-<style>'. Alternatively, directly use the seaborn API instead.\n",
      "  plt.style.use('seaborn-whitegrid')\n"
     ]
    }
   ],
   "source": [
    "%load_ext autoreload\n",
    "%autoreload 2\n",
    "\n",
    "import time\n",
    "import pickle\n",
    "import numpy as np\n",
    "from scipy import optimize\n",
    "import ipywidgets as widgets\n",
    "\n",
    "import matplotlib.pyplot as plt   \n",
    "plt.style.use('seaborn-v0_8-whitegrid')\n",
    "prop_cycle = plt.rcParams['axes.prop_cycle']\n",
    "colors = prop_cycle.by_key()['color']\n",
    "\n",
    "from BabyMAKROModel import BabyMAKROModelClass"
   ]
  },
  {
   "cell_type": "code",
   "execution_count": 2,
   "id": "ddfdf4e5",
   "metadata": {},
   "outputs": [],
   "source": [
    "from steady_state import household_search_ss, find_household_consumption_ss, find_Aq_ss     #import household steady state functions \n",
    "from blocks import search_and_match, household_consumption                                  #import household blocks functions"
   ]
  },
  {
   "cell_type": "markdown",
   "id": "9bc3cdc9",
   "metadata": {},
   "source": [
    "## 1. <a id='toc1_'></a>[Setup](#toc0_)"
   ]
  },
  {
   "cell_type": "code",
   "execution_count": 3,
   "id": "69981f4f-beca-4e00-8373-d7392662625b",
   "metadata": {},
   "outputs": [],
   "source": [
    "model = BabyMAKROModelClass(name='baseline')    #create an instance of the model"
   ]
  },
  {
   "cell_type": "code",
   "execution_count": 4,
   "id": "3aa40608",
   "metadata": {},
   "outputs": [],
   "source": [
    "par = model.par     #set model parameters\n",
    "ss = model.ss       #create namespace for steady state\n",
    "sol = model.sol     #create namespace for solution"
   ]
  },
  {
   "cell_type": "markdown",
   "id": "5af975e0",
   "metadata": {},
   "source": [
    "## 2. <a id='toc2_'></a>[Mortality and population](#toc0_)"
   ]
  },
  {
   "cell_type": "code",
   "execution_count": null,
   "id": "4be56af4-14f0-4ff4-aaff-564802e07bbc",
   "metadata": {},
   "outputs": [],
   "source": [
    "def Mortality_and_population_figure(zeta_pow):\n",
    "    model.mortality(zeta_pow)\n",
    "    model.demographic_structure(par.delta_L_a_fac)\n",
    "\n",
    "    \n",
    "    fig = plt.figure(figsize=(3*6,6/1.5))\n",
    "\n",
    "    ax = fig.add_subplot(1,3,1)\n",
    "    ax.plot(par.zeta_a*100)\n",
    "    ax.set_ylabel('%')\n",
    "    ax.set_title('Mortality rate, $\\zeta_a$')\n",
    "\n",
    "    ax = fig.add_subplot(1,3,2)\n",
    "    ax.plot(par.N_a)\n",
    "    RetirementAge = ax.vlines(par.work_life_span, 0, 1.05, colors='orange',linestyles='dashed', label='Retirement age')\n",
    "    ax.legend(handles = [RetirementAge])\n",
    "    ax.set_title('Population, $N_a$')\n",
    "\n",
    "    return print(f'Average life expectancy: {par.N = :.1f}'), print(f'Population size of the workforce: {par.N_work = :.1f}')"
   ]
  },
  {
   "cell_type": "code",
   "execution_count": null,
   "id": "f202a770",
   "metadata": {},
   "outputs": [],
   "source": [
    "widgets.interact(Mortality_and_population_figure,\n",
    "    zeta_pow=widgets.FloatText(description=\"Zeta_power\", value=par.zeta_pow));"
   ]
  },
  {
   "attachments": {},
   "cell_type": "markdown",
   "id": "1aefac06",
   "metadata": {},
   "source": [
    "**Reset demographic structure:**"
   ]
  },
  {
   "cell_type": "code",
   "execution_count": null,
   "id": "40c12887",
   "metadata": {},
   "outputs": [],
   "source": [
    "model.mortality(par.zeta_pow)                       #reset the mortaility rates\n",
    "model.demographic_structure(par.delta_L_a_fac)      #reset the demographic structure"
   ]
  },
  {
   "cell_type": "markdown",
   "id": "ee06e599",
   "metadata": {},
   "source": [
    "## 3. <a id='toc3_'></a>[Labor supply](#toc0_)"
   ]
  },
  {
   "cell_type": "markdown",
   "id": "51cf9fa8-dfe6-42d2-b692-052b7f254e6c",
   "metadata": {},
   "source": [
    "**Required inputs:**"
   ]
  },
  {
   "cell_type": "code",
   "execution_count": 5,
   "id": "f3d5a03b",
   "metadata": {},
   "outputs": [],
   "source": [
    "ss.m_s = par.m_v_ss                    #set steady state for the job-finding rate"
   ]
  },
  {
   "cell_type": "code",
   "execution_count": 6,
   "id": "7290e600-090c-4036-b43d-20ad3b5c33ba",
   "metadata": {},
   "outputs": [],
   "source": [
    "household_search_ss(par,ss)            #find the household search behavior in steady state"
   ]
  },
  {
   "cell_type": "code",
   "execution_count": null,
   "id": "53cfdd8a",
   "metadata": {},
   "outputs": [],
   "source": [
    "def household_search_figure(delta_L_a_fac):\n",
    "    model.demographic_structure(delta_L_a_fac)\n",
    "    household_search_ss(par,ss)   \n",
    "    fig = plt.figure(figsize=(3*6,6/1.5))\n",
    "\n",
    "    ax = fig.add_subplot(1,3,1)\n",
    "    ax.plot(par.delta_L_a*100)\n",
    "    ax.set_ylabel('%')\n",
    "    ax.set_ylim([0, 105])\n",
    "    ax.set_title('Separation rate, $\\delta^L_a$');\n",
    "\n",
    "    ax = fig.add_subplot(1,3,2)\n",
    "    ax.plot(ss.S_a)\n",
    "    ax.set_ylim([0, 1.05])\n",
    "    ax.set_title('Searchers, $S_a$')\n",
    "\n",
    "    ax = fig.add_subplot(1,3,3)\n",
    "    ax.plot(ss.L_a)\n",
    "    ax.set_ylim([0, 1.05])\n",
    "    employed = ax.fill_between(range(0,par.work_life_span),ss.L_a[0:par.work_life_span],color=\"b\",alpha=0.15, label='$L_a$')\n",
    "    unemployed = ax.fill_between(range(0,par.work_life_span),ss.L_a[0:par.work_life_span],1,color=\"r\",alpha=0.15, label='$U_a$')\n",
    "    m_s = ax.hlines(ss.m_s, 0, par.work_life_span, colors='orange',linestyles='dashed', label='$m^s$')\n",
    "    ax.legend(handles = [employed,unemployed,m_s], loc=1)\n",
    "    ax.set_title('Employed, $L_a$, and unemployed, $U_a$');"
   ]
  },
  {
   "cell_type": "code",
   "execution_count": null,
   "id": "d0bd7670",
   "metadata": {},
   "outputs": [],
   "source": [
    "widgets.interact(household_search_figure,\n",
    "    delta_L_a_fac=widgets.FloatSlider(description=\"delta_L_a_fac\", min=0.0, max=1, value=par.delta_L_a_fac));"
   ]
  },
  {
   "attachments": {},
   "cell_type": "markdown",
   "id": "5cee005e",
   "metadata": {},
   "source": [
    "**Reset demographic structure:**"
   ]
  },
  {
   "cell_type": "code",
   "execution_count": null,
   "id": "dd1fcae8",
   "metadata": {},
   "outputs": [],
   "source": [
    "model.demographic_structure(par.delta_L_a_fac)      #reset the demographic structure\n",
    "household_search_ss(par,ss)                         #find household search using default demographic structure "
   ]
  },
  {
   "cell_type": "markdown",
   "id": "08452a8d",
   "metadata": {},
   "source": [
    "## 4. <a id='toc4_'></a>[Consumption-saving](#toc0_)"
   ]
  },
  {
   "cell_type": "markdown",
   "id": "ff0eaa50-02c6-41b5-8b5b-267f11dd4622",
   "metadata": {},
   "source": [
    "**Required inputs:**"
   ]
  },
  {
   "cell_type": "code",
   "execution_count": 7,
   "id": "de9ba1e4-31b3-4a19-b4e4-a1c9c80c8bfa",
   "metadata": {},
   "outputs": [],
   "source": [
    "ss.W = par.W_ss                                 #Set steady state wage\n",
    "ss.pi_hh = par.pi_hh_ss                         #Set steady state inflation\n",
    "ss.P_C = 1.0                                    #Set steady state consumer price\n",
    "ss.tau = 0.40                                   #Set steady state tax rate\n",
    "ss.Aq = Aq_ini = 0.0                            #Set steady state bequests\n",
    "ss.r_hh = par.r_hh                              #Set steady state interest rate\n",
    "ss.real_r_hh = (1+ss.r_hh)/(1+ss.pi_hh)-1       #Set steady state real interest rate"
   ]
  },
  {
   "cell_type": "markdown",
   "id": "795ed019-300a-4b3d-a7f0-b1a3375710e9",
   "metadata": {},
   "source": [
    "**Solve:**"
   ]
  },
  {
   "cell_type": "code",
   "execution_count": 8,
   "id": "0c884dda-26da-4a5b-8a44-4166277bda5e",
   "metadata": {},
   "outputs": [],
   "source": [
    "find_household_consumption_ss(model)            #find household consumption behavior\n",
    "find_Aq_ss(ss.Aq,model)                         #find household bequests behavior"
   ]
  },
  {
   "cell_type": "code",
   "execution_count": null,
   "id": "7aa955d0-72f7-4fa3-b777-57c2e6db606c",
   "metadata": {},
   "outputs": [],
   "source": [
    "def plot_CA():\n",
    "    \n",
    "    fig = plt.figure(figsize=(3*6,1*6/1.5))\n",
    "\n",
    "    ax = fig.add_subplot(1,3,1)\n",
    "    ax.plot(ss.inc_a,label='all',color='black')\n",
    "    ax.set_title('Income');\n",
    "    ax.set_ylim([0,1.2])\n",
    "    \n",
    "    ax = fig.add_subplot(1,3,2)\n",
    "    ax.plot(ss.C_R_a,ls='--',label='Ricardian')\n",
    "    ax.plot(ss.C_HtM_a,ls='--',label='HtM')\n",
    "    ax.plot(ss.C_a,label='all',color='black')\n",
    "    ax.set_title('Consumption, $C_a$');\n",
    "    ax.set_ylim([0,1.2])\n",
    "    \n",
    "    ax = fig.add_subplot(1,3,3)\n",
    "    ax.plot(ss.A_R_a,ls='--',label='Ricardian')\n",
    "    ax.plot(ss.A_HtM_a,ls='--',label='HtM')\n",
    "    ax.plot(ss.A_a,label='all',color='black')\n",
    "    ax.set_title('Savings, $A_a$')\n",
    "    ax.set_ylim([-2,10])\n",
    "    ax.legend(frameon=True)\n",
    "    \n",
    "plot_CA()    "
   ]
  },
  {
   "cell_type": "markdown",
   "id": "daf5866d",
   "metadata": {},
   "source": [
    "## 5. <a id='toc5_'></a>[Varying central inputs](#toc0_)"
   ]
  },
  {
   "cell_type": "code",
   "execution_count": null,
   "id": "15b48c6e",
   "metadata": {},
   "outputs": [],
   "source": [
    "def compare_models(model,name,value,ns='ss'):\n",
    "\n",
    "    model_ = model.copy()\n",
    "    \n",
    "    if ns == 'ss':\n",
    "        model_.ss.__dict__[name] = value\n",
    "        oldvalue = model.ss.__dict__[name]\n",
    "    elif ns == 'par':\n",
    "        model_.par.__dict__[name] = value\n",
    "        oldvalue = model.par.__dict__[name]\n",
    "    else:\n",
    "        raise NotImplemented\n",
    "            \n",
    "    model_.ss.real_r_hh = (1+model_.par.r_hh)/(1+model_.ss.pi_hh)-1            \n",
    "    find_household_consumption_ss(model_)\n",
    "\n",
    "    fig = plt.figure(figsize=(3*6,1*6/1.5))\n",
    "\n",
    "\n",
    "    ax = fig.add_subplot(1,3,1)\n",
    "    ax.plot(ss.inc_a,ls='--',label=f'{name} = {oldvalue:.2f}')\n",
    "    ax.plot(model_.ss.inc_a,ls='--',label=f'{name} = {value:.2f}')\n",
    "    ax.set_title('Income');\n",
    "    ax.set_ylim([0,1.2])\n",
    "    ax.legend(frameon=True)\n",
    "    \n",
    "    ax = fig.add_subplot(1,3,2)\n",
    "    ax.plot(ss.C_a,ls='--',label=f'{name} = {oldvalue:.2f}')\n",
    "    ax.plot(model_.ss.C_a,ls='--',label=f'{name} = {value:.2f}')\n",
    "    ax.set_title('Consumption, $C_a$');\n",
    "    ax.set_ylim([0,1.2])\n",
    "    \n",
    "    ax = fig.add_subplot(1,3,3)\n",
    "    ax.plot(ss.A_a,ls='--',label=f'{name} = {oldvalue:.2f}')\n",
    "    ax.plot(model_.ss.A_a,ls='--',label=f'{name} = {value:.2f}')\n",
    "    ax.set_title('Savings, $A_a$')\n",
    "    ax.set_ylim([-2,10])\n",
    "    \n",
    "compare_models(model,'Aq',ss.Aq*0.0)\n",
    "compare_models(model,'mu_Aq',par.mu_Aq/2,ns='par')\n",
    "compare_models(model,'W',ss.W*1.1)\n",
    "compare_models(model,'W_U',par.W_U*1.1,ns='par')\n",
    "compare_models(model,'W_R',par.W_R*1.1,ns='par')\n",
    "compare_models(model,'tau',ss.tau*0.9)\n",
    "compare_models(model,'beta',par.beta+0.02,ns='par')\n",
    "compare_models(model,'r_hh',par.r_hh-0.02,ns='par')\n",
    "compare_models(model,'Lambda',par.Lambda/2,ns='par')"
   ]
  },
  {
   "cell_type": "markdown",
   "id": "030d9e61",
   "metadata": {},
   "source": [
    "## 6. <a id='toc6_'></a>[Test household blocks](#toc0_)"
   ]
  },
  {
   "cell_type": "code",
   "execution_count": 9,
   "id": "906cbcaf-9acb-4f50-91f9-457c587f6549",
   "metadata": {},
   "outputs": [],
   "source": [
    "sol.A_R_death[:] = ss.A_R_a[-1]                     #Set solution for last period assets\n",
    "sol.Aq[:] = ss.Aq                                   #Set solution for bequests\n",
    "sol.P_C[:] = ss.P_C                                 #Set solution for consumer price\n",
    "sol.W[:] = ss.W                                     #Set solution for wage\n",
    "sol.tau[:] = ss.tau                                 #Set solution for tax rate\n",
    "sol.L[:] = ss.L                                     #Set solution for labor supply\n",
    "sol.m_s[:] = ss.m_s                                 #Set solution for job-finding rate\n",
    "sol.r_hh[:] = ss.r_hh                               #Set solution for interest rate\n",
    "sol.real_r_hh[:] = ss.real_r_hh                     #Set solution for real interest rate"
   ]
  },
  {
   "cell_type": "code",
   "execution_count": 11,
   "id": "182e0e5f-027a-423a-bd40-18f2d115eb2b",
   "metadata": {},
   "outputs": [],
   "source": [
    "model.ini = ss                                      #Set model initial to steady state"
   ]
  },
  {
   "cell_type": "code",
   "execution_count": 12,
   "id": "0096dc0a-dc99-43bf-8102-dce34d0753c0",
   "metadata": {},
   "outputs": [],
   "source": [
    "model.evaluate_block('search_and_match')            #Evaluate the search and matching behavior"
   ]
  },
  {
   "cell_type": "code",
   "execution_count": null,
   "id": "6a90e813-b7b0-45c9-b200-bf54380b789b",
   "metadata": {},
   "outputs": [],
   "source": [
    "assert np.allclose(sol.S_a-ss.S_a[:,np.newaxis],0.0)\n",
    "assert np.allclose(sol.L_ubar_a-ss.L_ubar_a[:,np.newaxis],0.0)\n",
    "assert np.allclose(sol.L_a-ss.L_a[:,np.newaxis],0.0)\n",
    "assert np.allclose(sol.U_a-ss.U_a[:,np.newaxis],0.0)\n",
    "assert np.allclose(sol.S-ss.S,0.0)\n",
    "assert np.allclose(sol.L_ubar-ss.L_ubar,0.0)\n",
    "assert np.allclose(sol.U-ss.U,0.0)"
   ]
  },
  {
   "cell_type": "code",
   "execution_count": 13,
   "id": "a983340b-8d73-406e-bb24-da061fb12459",
   "metadata": {},
   "outputs": [],
   "source": [
    "model.evaluate_block('household_consumption')       #Evaluate the household consumption behavior"
   ]
  },
  {
   "cell_type": "code",
   "execution_count": null,
   "id": "af8b8104-d6bd-4987-8ec5-b5fef7fcf0b9",
   "metadata": {},
   "outputs": [],
   "source": [
    "assert np.allclose(sol.Aq_diff,0.0)\n",
    "assert np.allclose(sol.A_R_ini_error,0.0)"
   ]
  }
 ],
 "metadata": {
  "kernelspec": {
   "display_name": "Python 3 (ipykernel)",
   "language": "python",
   "name": "python3"
  },
  "language_info": {
   "codemirror_mode": {
    "name": "ipython",
    "version": 3
   },
   "file_extension": ".py",
   "mimetype": "text/x-python",
   "name": "python",
   "nbconvert_exporter": "python",
   "pygments_lexer": "ipython3",
   "version": "3.9.15"
  },
  "toc-autonumbering": true,
  "vscode": {
   "interpreter": {
    "hash": "8e46095560128379321b1ce69ff92c6b7a45fc7d9b830ea022fe373b05aa9725"
   }
  }
 },
 "nbformat": 4,
 "nbformat_minor": 5
}
