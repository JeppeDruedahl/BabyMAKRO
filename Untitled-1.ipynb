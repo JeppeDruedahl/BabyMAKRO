{
 "cells": [
  {
   "cell_type": "code",
   "execution_count": 1,
   "metadata": {
    "execution": {
     "iopub.execute_input": "2023-02-28T10:57:44.372851Z",
     "iopub.status.busy": "2023-02-28T10:57:44.372851Z",
     "iopub.status.idle": "2023-02-28T10:57:44.399408Z",
     "shell.execute_reply": "2023-02-28T10:57:44.398407Z"
    }
   },
   "outputs": [
    {
     "name": "stdout",
     "output_type": "stream",
     "text": [
      "[1, 2]\n",
      "[1, 2, 1, 2]\n",
      "[1, 2]\n",
      "[1, 2]\n"
     ]
    }
   ],
   "source": [
    "def f(a=[]):\n",
    "    a.append(1)\n",
    "    a.append(2)\n",
    "    print(a)\n",
    "\n",
    "f()\n",
    "f()\n",
    "\n",
    "def f(a=None):\n",
    "    if a is None: a = []\n",
    "    a.append(1)\n",
    "    a.append(2)\n",
    "    print(a)\n",
    "\n",
    "f()\n",
    "f()\n",
    "\n"
   ]
  }
 ],
 "metadata": {
  "kernelspec": {
   "display_name": "base",
   "language": "python",
   "name": "python3"
  },
  "language_info": {
   "codemirror_mode": {
    "name": "ipython",
    "version": 3
   },
   "file_extension": ".py",
   "mimetype": "text/x-python",
   "name": "python",
   "nbconvert_exporter": "python",
   "pygments_lexer": "ipython3",
   "version": "3.9.15"
  },
  "vscode": {
   "interpreter": {
    "hash": "47ef90cdf3004d3f859f1fb202523c65c07ba7c22eefd261b181f4744e2d0403"
   }
  }
 },
 "nbformat": 4,
 "nbformat_minor": 2
}
